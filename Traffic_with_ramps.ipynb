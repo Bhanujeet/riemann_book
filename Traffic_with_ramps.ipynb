{
 "cells": [
  {
   "cell_type": "code",
   "execution_count": null,
   "metadata": {
    "collapsed": true
   },
   "outputs": [],
   "source": [
    "%matplotlib inline\n",
    "import numpy as np\n",
    "import matplotlib.pyplot as plt\n",
    "from clawpack import pyclaw\n",
    "from clawpack import riemann\n",
    "import traffic_with_ramps\n",
    "from ipywidgets import interact\n",
    "from exact_solvers import traffic_ramps\n",
    "from utils import riemann_tools"
   ]
  },
  {
   "cell_type": "code",
   "execution_count": null,
   "metadata": {
    "collapsed": true
   },
   "outputs": [],
   "source": [
    "def test_solver(q_l, q_r, xramp, dramp):\n",
    "    #solver = pyclaw.ClawSolver1D(riemann.traffic_1D)\n",
    "    solver = pyclaw.ClawSolver1D(traffic_with_ramps)\n",
    "\n",
    "    solver.bc_lower[0] = pyclaw.BC.extrap\n",
    "    solver.bc_upper[0] = pyclaw.BC.extrap\n",
    "    solver.aux_bc_lower[0] = pyclaw.BC.extrap\n",
    "    solver.aux_bc_upper[0] = pyclaw.BC.extrap\n",
    "    solver.num_eqn = 1\n",
    "    solver.num_waves = 1\n",
    "    \n",
    "    x = pyclaw.Dimension(-1.0,1.0,1000,name='x')\n",
    "    domain = pyclaw.Domain(x)\n",
    "    state = pyclaw.State(domain,solver.num_eqn)\n",
    "\n",
    "    grid = state.grid\n",
    "    xc=grid.p_centers[0]\n",
    "\n",
    "    state.q[0,:] = q_l*(xc<0) + q_r*(xc>=0.)\n",
    "    state.problem_data['dramp'] = dramp\n",
    "    state.problem_data['iramp'] = min(np.where(xc>xramp)[0])\n",
    "    state.problem_data['umax'] = 1.\n",
    "\n",
    "    claw = pyclaw.Controller()\n",
    "    claw.tfinal = 1.0\n",
    "    claw.solution = pyclaw.Solution(state,domain)\n",
    "    claw.solver = solver\n",
    "    claw.keep_copy = True\n",
    "    claw.verbosity = 0\n",
    "\n",
    "    claw.run()\n",
    "    return xc, claw.frames"
   ]
  },
  {
   "cell_type": "markdown",
   "metadata": {},
   "source": [
    "## Light traffic, little inflow"
   ]
  },
  {
   "cell_type": "code",
   "execution_count": null,
   "metadata": {},
   "outputs": [],
   "source": [
    "q_l = 0.2\n",
    "q_r = 0.2\n",
    "xramp = 0.\n",
    "dramp = 0.05\n",
    "\n",
    "xc, frames = test_solver(q_l, q_r, xramp, dramp)\n",
    "\n",
    "def plot_frame(t=0.5):\n",
    "    q = frames[int(t*10)].q[0,:]\n",
    "    plt.plot(xc,q,'-k')\n",
    "    plt.axis((-1,1,-0.1,1.1))\n",
    "    plt.show()\n",
    "\n",
    "interact(plot_frame,t=(0,1,0.1));"
   ]
  },
  {
   "cell_type": "code",
   "execution_count": null,
   "metadata": {},
   "outputs": [],
   "source": [
    "states, speeds, reval, wave_types = traffic_ramps.riemann_traffic_exact(q_l,q_r,dramp)\n",
    "riemann_tools.plot_riemann(states,speeds,reval,wave_types,t=0.5); plt.ylim(0,1);"
   ]
  },
  {
   "cell_type": "markdown",
   "metadata": {},
   "source": [
    "## Light traffic, heavy inflow"
   ]
  },
  {
   "cell_type": "code",
   "execution_count": null,
   "metadata": {},
   "outputs": [],
   "source": [
    "q_l = 0.2\n",
    "q_r = 0.2\n",
    "xramp = 0.\n",
    "dramp = 0.15\n",
    "\n",
    "xc, frames = test_solver(q_l, q_r, xramp, dramp)\n",
    "\n",
    "def plot_frame(t=0.5):\n",
    "    q = frames[int(t*10)].q[0,:]\n",
    "    plt.plot(xc,q,'-k')\n",
    "    plt.axis((-1,1,-0.1,1.1))\n",
    "    plt.show()\n",
    "\n",
    "interact(plot_frame,t=(0,1,0.1));"
   ]
  },
  {
   "cell_type": "code",
   "execution_count": null,
   "metadata": {},
   "outputs": [],
   "source": [
    "states, speeds, reval, wave_types = traffic_ramps.riemann_traffic_exact(q_l,q_r,dramp)\n",
    "riemann_tools.plot_riemann(states,speeds,reval,wave_types,t=0.5); plt.ylim(0,1);"
   ]
  },
  {
   "cell_type": "markdown",
   "metadata": {},
   "source": [
    "## Congested upstream, uncongested downstream"
   ]
  },
  {
   "cell_type": "code",
   "execution_count": null,
   "metadata": {},
   "outputs": [],
   "source": [
    "q_l = 0.6\n",
    "q_r = 0.2\n",
    "xramp = 0.\n",
    "dramp = 0.12\n",
    "\n",
    "xc, frames = test_solver(q_l, q_r, xramp, dramp)\n",
    "\n",
    "def plot_frame(t=0.5):\n",
    "    q = frames[int(t*10)].q[0,:]\n",
    "    plt.plot(xc,q,'-k')\n",
    "    plt.axis((-1,1,-0.1,1.1))\n",
    "    plt.show()\n",
    "\n",
    "interact(plot_frame,t=(0,1,0.1));"
   ]
  },
  {
   "cell_type": "code",
   "execution_count": null,
   "metadata": {},
   "outputs": [],
   "source": [
    "states, speeds, reval, wave_types = traffic_ramps.riemann_traffic_exact(q_l,q_r,dramp)\n",
    "riemann_tools.plot_riemann(states,speeds,reval,wave_types,t=0.5); plt.ylim(0,1);"
   ]
  },
  {
   "cell_type": "markdown",
   "metadata": {},
   "source": [
    "## Congested on both sides"
   ]
  },
  {
   "cell_type": "code",
   "execution_count": null,
   "metadata": {},
   "outputs": [],
   "source": [
    "q_l = 0.6\n",
    "q_r = 0.6\n",
    "xramp = 0.\n",
    "dramp = 0.12\n",
    "\n",
    "xc, frames = test_solver(q_l, q_r, xramp, dramp)\n",
    "\n",
    "def plot_frame(t=0.5):\n",
    "    q = frames[int(t*10)].q[0,:]\n",
    "    plt.plot(xc,q,'-k')\n",
    "    plt.axis((-1,1,-0.1,1.1))\n",
    "    plt.show()\n",
    "\n",
    "interact(plot_frame,t=(0,1,0.1));"
   ]
  },
  {
   "cell_type": "code",
   "execution_count": null,
   "metadata": {},
   "outputs": [],
   "source": [
    "0.6*(1-0.6)+0.12"
   ]
  },
  {
   "cell_type": "code",
   "execution_count": null,
   "metadata": {},
   "outputs": [],
   "source": [
    "states, speeds, reval, wave_types = traffic_ramps.riemann_traffic_exact(q_l,q_r,dramp)\n",
    "riemann_tools.plot_riemann(states,speeds,reval,wave_types,t=0.5); plt.ylim(0,1);"
   ]
  },
  {
   "cell_type": "markdown",
   "metadata": {},
   "source": [
    "## Uncongested upstream, congested downstream\n",
    "Shock moves:\n",
    "- Upstream if ramp + f_l exceeds capacity\n",
    "- Downstream otherwise"
   ]
  },
  {
   "cell_type": "code",
   "execution_count": null,
   "metadata": {},
   "outputs": [],
   "source": [
    "q_l = 0.2\n",
    "q_r = 0.6\n",
    "xramp = 0.\n",
    "dramp = 0.05\n",
    "print(q_l*(1.-q_l)+dramp)\n",
    "xc, frames = test_solver(q_l, q_r, xramp, dramp)\n",
    "\n",
    "def plot_frame(t=0.5):\n",
    "    q = frames[int(t*10)].q[0,:]\n",
    "    plt.plot(xc,q,'-k')\n",
    "    plt.axis((-1,1,-0.1,1.1))\n",
    "    plt.show()\n",
    "\n",
    "interact(plot_frame,t=(0,1,0.1));"
   ]
  },
  {
   "cell_type": "code",
   "execution_count": null,
   "metadata": {
    "collapsed": true
   },
   "outputs": [],
   "source": [
    "states, speeds, reval, wave_types = traffic_ramps.riemann_traffic_exact(q_l,q_r,dramp)\n",
    "riemann_tools.plot_riemann(states,speeds,reval,wave_types,t=0.5); plt.ylim(0,1);"
   ]
  },
  {
   "cell_type": "code",
   "execution_count": null,
   "metadata": {
    "collapsed": true
   },
   "outputs": [],
   "source": [
    "q_l = 0.5\n",
    "q_r = 0.8\n",
    "xramp = 0.\n",
    "dramp = 0.12\n",
    "print q_l*(1-q_l) + dramp\n",
    "print q_r*(1-q_r) + dramp\n",
    "xc, frames = test_solver(q_l, q_r, xramp, dramp)\n",
    "\n",
    "def plot_frame(t=0.5):\n",
    "    q = frames[int(t*10)].q[0,:]\n",
    "    plt.plot(xc,q,'-k')\n",
    "    plt.axis((-1,1,-0.1,1.1))\n",
    "    plt.plot([-1,1],[1,1],'--r')\n",
    "    plt.show()\n",
    "\n",
    "interact(plot_frame,t=(0,1,0.1));"
   ]
  },
  {
   "cell_type": "code",
   "execution_count": null,
   "metadata": {
    "collapsed": true
   },
   "outputs": [],
   "source": [
    "states, speeds, reval, wave_types = traffic_ramps.riemann_traffic_exact(q_l,q_r,dramp)\n",
    "riemann_tools.plot_riemann(states,speeds,reval,wave_types,t=0.5); plt.ylim(0,2);"
   ]
  },
  {
   "cell_type": "code",
   "execution_count": null,
   "metadata": {
    "collapsed": true
   },
   "outputs": [],
   "source": [
    "wave_types"
   ]
  },
  {
   "cell_type": "code",
   "execution_count": null,
   "metadata": {
    "collapsed": true
   },
   "outputs": [],
   "source": [
    "q_l = 0.1\n",
    "q_r = 0.6\n",
    "xramp = 0.\n",
    "dramp = 0.1\n",
    "\n",
    "xc, frames = test_solver(q_l, q_r, xramp, dramp)\n",
    "\n",
    "def plot_frame(t=0.5):\n",
    "    q = frames[int(t*10)].q[0,:]\n",
    "    plt.plot(xc,q,'-k')\n",
    "    plt.axis((-1,1,-0.1,1.1))\n",
    "    plt.show()\n",
    "\n",
    "interact(plot_frame,t=(0,1,0.1));"
   ]
  },
  {
   "cell_type": "code",
   "execution_count": null,
   "metadata": {
    "collapsed": true
   },
   "outputs": [],
   "source": []
  }
 ],
 "metadata": {
  "kernelspec": {
   "display_name": "Python 2",
   "language": "python",
   "name": "python2"
  },
  "language_info": {
   "codemirror_mode": {
    "name": "ipython",
    "version": 2
   },
   "file_extension": ".py",
   "mimetype": "text/x-python",
   "name": "python",
   "nbconvert_exporter": "python",
   "pygments_lexer": "ipython2",
   "version": "2.7.13"
  }
 },
 "nbformat": 4,
 "nbformat_minor": 2
}
