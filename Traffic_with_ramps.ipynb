{
 "cells": [
  {
   "cell_type": "markdown",
   "metadata": {},
   "source": [
    "# Traffic flow with an on-ramp"
   ]
  },
  {
   "cell_type": "markdown",
   "metadata": {},
   "source": [
    "In this chapter we return to the LWR traffic model that we investigated in [an earlier chapter](Traffic_flow.ipynb).  The LWR involves a single length of highway.  On a real highway, there are cars entering and leaving the highway from other roads.  In general, real traffic flow must be modeled on a network of roads.  Here we take a first step in that direction by considering the presence of a single on-ramp, where traffic enters the highway.\n",
    "\n",
    "Let the flux of cars from the on-ramp be denoted by $D$; we assume that $D$ is constant in time but concentrated at a single point ($x=0$ in space).  Our model equation then becomes\n",
    "\n",
    "\\begin{align} \\label{TFR:balance_law}\n",
    "    q_t + f(q)_x & = D \\delta(x),\n",
    "\\end{align}\n",
    "\n",
    "where $\\delta(x)$ is the Dirac delta function.  Equation \\eqref{TFR:balance_law} is our first example of a *balance law*.  The term on the right hand side does not take the form of a flux, and the total mass of cars is not conserved.  We refer to the right-hand-side term as a *source term* -- quite appropriately in the present context, since it represents a source of cars entering the highway.\n",
    "\n",
    "Typically, source terms have only an infinitesimal effect on the Riemann solution over short times, since they are distributed in space.  The term considered here is an example of a *singular* source term; it has a non-negligible effect on the Riemann solution because it is concentrated at $x=0$.\n",
    "\n",
    "Recall that the flux of cars in the LWR model is given by\n",
    "\n",
    "$$f(q) = q(1-q)$$\n",
    "\n",
    "where $0 \\le q \\le 1$.  Thus the maximum flux is $f_\\text{max} = 1/4$, achieved when $q=1/2$.  We assume always that $D \\le 1/4$, so that all the cars arriving from the on-ramp can enter the highway.\n",
    "\n",
    "As discussed already in the [chapter on traffic with a varying speed limit](Traffic_variable_speed.ipynb), the flux of cars must be continuous everywhere, and in particular at $x=0$.  Let $q^-, q^+$ denote the density $q$ in the limit as $\\xi \\to 0$ from the left and right, respectively. Then this condition means that\n",
    "\n",
    "\n",
    "\\begin{align} \\label{TFR:source_balance} \n",
    "    f(q^-) + D = f(q^+).\n",
    "\\end{align}\n",
    "\n",
    "For $D\\ne0$, this condition implies that a stationary jump exists at $x=0$, similar to the stationary jump we found in the case of a varying speed limit."
   ]
  },
  {
   "cell_type": "markdown",
   "metadata": {},
   "source": [
    "## Spatially-varying fluxes and source terms\n",
    "The similarity between the existence of an on-ramp at $x=0$ and a change in the speed limit at $x=0$ can be seen mathematically as follows.  For the varying speed limit, we studied a conservation law of the form\n",
    "\n",
    "$$q_t + f(q,x)_x =0.$$\n",
    "\n",
    "Using the chain rule, this is equivalent to\n",
    "\n",
    "$$q_t + f_q(q,x) q_x = - f_x(q,x).$$\n",
    "\n",
    "Hence the variable-coefficient system can also be viewed as a balance law.  If $f$ is discontinuous at $x=0$, then\n",
    "$f_x$ is a delta function.  Notice that the presence of an on-ramp (positive source term) corresponds to a decrease in the speed limit.  Thus the Riemann solutions we find in this chapter will be similar to those found in the presence of a decrease in speed limit.\n",
    "\n",
    "In the remainder of the chapter, we investigate the solution of the Riemann problem for this balance law."
   ]
  },
  {
   "cell_type": "markdown",
   "metadata": {},
   "source": [
    "## Conditions for existence of a solution\n",
    "In our model, cars entering from the on-ramp are always given priority.  In a real-world scenario, traffic on the on-ramp could also back up and the flux $D$ from the ramp could be decreased.  However, a much more complicated model would be required in order to account for this.\n",
    "\n",
    "The flux $D$ from the on-ramp must cannot raise the density above $q_\\text{max}=1$ (representing bumper-to-bumper traffic).  This leads to some restrictions on the $D$ in order to guarantee existence of a solution to the Riemann problem:\n",
    "\n",
    "1. $D \\le 1/4$.  This condition is necessary since otherwise the flux from the on-ramp would exceed the maximum flux of the highway, even without any other oncoming traffic.\n",
    "2. If $q_r > 1/2$, then  $D \\le f(q_r)$.  The reason for this is as follows: if $q_r > 1/2$, then characteristics to the right of $x=0$ go to the left.  Hence there cannot be any right-going wave (a more detailed analysis shows that a right-going transonic shock is impossible), and it must be that $q^+ = q_r$.  Thus $D = f(q_r) - f(q^-) \\le f(q_r)$.\n",
    "\n",
    "It is not obvious, but true, that these two conditions are also sufficient for the existence of a solution to the Riemann problem."
   ]
  },
  {
   "cell_type": "code",
   "execution_count": null,
   "metadata": {
    "collapsed": true,
    "tags": [
     "hide"
    ]
   },
   "outputs": [],
   "source": [
    "%matplotlib inline\n",
    "import numpy as np\n",
    "import matplotlib.pyplot as plt\n",
    "from clawpack import pyclaw\n",
    "from clawpack import riemann\n",
    "import traffic_with_ramps\n",
    "from ipywidgets import interact, widgets\n",
    "from exact_solvers import traffic_ramps\n",
    "from utils import riemann_tools"
   ]
  },
  {
   "cell_type": "code",
   "execution_count": null,
   "metadata": {
    "collapsed": true
   },
   "outputs": [],
   "source": [
    "def test_solver(q_l, q_r, xramp, dramp):\n",
    "    #solver = pyclaw.ClawSolver1D(riemann.traffic_1D)\n",
    "    solver = pyclaw.ClawSolver1D(traffic_with_ramps)\n",
    "\n",
    "    solver.bc_lower[0] = pyclaw.BC.extrap\n",
    "    solver.bc_upper[0] = pyclaw.BC.extrap\n",
    "    solver.aux_bc_lower[0] = pyclaw.BC.extrap\n",
    "    solver.aux_bc_upper[0] = pyclaw.BC.extrap\n",
    "    solver.num_eqn = 1\n",
    "    solver.num_waves = 1\n",
    "    \n",
    "    x = pyclaw.Dimension(-1.0,1.0,1000,name='x')\n",
    "    domain = pyclaw.Domain(x)\n",
    "    state = pyclaw.State(domain,solver.num_eqn)\n",
    "\n",
    "    grid = state.grid\n",
    "    xc=grid.p_centers[0]\n",
    "\n",
    "    state.q[0,:] = q_l*(xc<0) + q_r*(xc>=0.)\n",
    "    state.problem_data['dramp'] = dramp\n",
    "    state.problem_data['iramp'] = min(np.where(xc>xramp)[0])\n",
    "    state.problem_data['umax'] = 1.\n",
    "\n",
    "    claw = pyclaw.Controller()\n",
    "    claw.tfinal = 1.0\n",
    "    claw.solution = pyclaw.Solution(state,domain)\n",
    "    claw.solver = solver\n",
    "    claw.keep_copy = True\n",
    "    claw.verbosity = 0\n",
    "\n",
    "    claw.run()\n",
    "    return xc, claw.frames"
   ]
  },
  {
   "cell_type": "code",
   "execution_count": null,
   "metadata": {},
   "outputs": [],
   "source": [
    "def c(q, xi):\n",
    "    return (1.-2*q)\n",
    "\n",
    "def make_plot_function(q_l,q_r,D):\n",
    "    states, speeds, reval, wave_types = traffic_ramps.exact_riemann_solution(q_l,q_r,D)\n",
    "    def plot_function(t):\n",
    "        ax = riemann_tools.plot_riemann(states,speeds,reval,wave_types,t=t,t_pointer=0,\n",
    "                                        extra_axes=True,variable_names=['Density']);\n",
    "        # Characteristic plotting isn't working right for this problem\n",
    "        riemann_tools.plot_characteristics(reval,c,None,ax[0])\n",
    "        traffic_ramps.phase_plane_plot(q_l,q_r,D,axes=ax[2])\n",
    "        ax[1].set_ylim(0,1)\n",
    "\n",
    "        plt.show()\n",
    "    return plot_function\n",
    "\n",
    "\n",
    "def riemann_solution(q_l, q_r, D):\n",
    "    plot_function = make_plot_function(q_l,q_r,D)\n",
    "    interact(plot_function, t=widgets.FloatSlider(value=0.1,min=0,max=.9));"
   ]
  },
  {
   "cell_type": "markdown",
   "metadata": {},
   "source": [
    "## Light traffic, little inflow"
   ]
  },
  {
   "cell_type": "markdown",
   "metadata": {},
   "source": [
    "What happens when the on-ramp has a relatively small flux of cars, and the highway around the ramp is not congested?  There will be a region of somewhat higher density starting at the ramp and propagating downstream.  This is demonstrated in the example below."
   ]
  },
  {
   "cell_type": "code",
   "execution_count": null,
   "metadata": {},
   "outputs": [],
   "source": [
    "q_l = 0.2\n",
    "q_r = 0.2\n",
    "D = 0.05\n",
    "\n",
    "riemann_solution(q_l, q_r, D)"
   ]
  },
  {
   "cell_type": "markdown",
   "metadata": {},
   "source": [
    "In contrast to the LWR model without a ramp, here we see three constant states separated by two waves in the Riemann solution.  The first is a stationary wave where the traffic density abruptly increases due to the cars entering from the ramp, as predicted by \\eqref{TFR:source_balance}.  Indeed that condition determines the middle state $q_m$ as the solution of\n",
    "\n",
    "$$f(q_l) + D = f(q_m)$$\n",
    "\n",
    "For given values of $q_l$ and $D$, this is a quadratic equation for $q_m$, with solution\n",
    "\n",
    "\\begin{align} \\label{TFR:qm1}\n",
    "    q_m = \\frac{1 \\pm \\sqrt{1-4(f(q_l)+D)}}{2}.\n",
    "\\end{align}\n",
    "\n",
    "As in the case of varying speed limit, we can choose the physically relevant solution by applying the condition that the characteristic speed not change sign at $x=0$.  This dictates that we choose the minus sign, so that $q_m<1/2$, since $q_l < 1/2$.\n",
    "\n",
    "Downstream, there is a rarefaction as these cars accelerate and again spread out."
   ]
  },
  {
   "cell_type": "markdown",
   "metadata": {},
   "source": [
    "The solution just proposed will break down if either of the following occur:\n",
    "\n",
    "2. If the downstream density $q_r$ is greater than $q_m$, then a shock wave will form rather than a rarefaction.\n",
    "1. If the combined flux from upstream and from the ramp exceeds $f_\\text{max}$, there will be a shock wave moving upstream due to congestion at the mouth of the on-ramp.  This happens if $f(q_l) + D > 1/4$; notice that this is precisely the condition for the value of $q_m$ in \\eqref{TFR:qm1} to become complex.\n",
    "\n",
    "We consider each of these scenarios in the following sections."
   ]
  },
  {
   "cell_type": "markdown",
   "metadata": {},
   "source": [
    "## Uncongested upstream, congested downstream: transonic shock"
   ]
  },
  {
   "cell_type": "markdown",
   "metadata": {},
   "source": [
    "What if upstream traffic and flux from the on-ramp are light, but traffic is significantly heavier just after the on-ramp?  In this case a shock wave will form, since if $q_r > q_m$, characteristics from the middle and right regions must cross.  The shock may move to the left or right, depending on how congested the downstream segment is.  In either case, there will again be a stationary jump at $x=0$ due to the cars entering from the on-ramp."
   ]
  },
  {
   "cell_type": "code",
   "execution_count": null,
   "metadata": {},
   "outputs": [],
   "source": [
    "q_l = 0.2\n",
    "q_r = 0.8\n",
    "D = 0.05\n",
    "\n",
    "riemann_solution(q_l, q_r, D)"
   ]
  },
  {
   "cell_type": "markdown",
   "metadata": {},
   "source": [
    "Experiment with the value of $q_r$ and in the example above.  Can you give a precise condition that determines whether the shock will move left or right?"
   ]
  },
  {
   "cell_type": "markdown",
   "metadata": {},
   "source": [
    "## Light traffic, heavy inflow"
   ]
  },
  {
   "cell_type": "markdown",
   "metadata": {},
   "source": [
    "Now we come to the most interesting case."
   ]
  },
  {
   "cell_type": "code",
   "execution_count": null,
   "metadata": {},
   "outputs": [],
   "source": [
    "q_l = 0.2\n",
    "q_r = 0.2\n",
    "D = 0.15\n",
    "\n",
    "riemann_solution(q_l, q_r, D)"
   ]
  },
  {
   "cell_type": "markdown",
   "metadata": {},
   "source": [
    "## Congested upstream, uncongested downstream"
   ]
  },
  {
   "cell_type": "code",
   "execution_count": null,
   "metadata": {},
   "outputs": [],
   "source": [
    "q_l = 0.6\n",
    "q_r = 0.2\n",
    "D = 0.12\n",
    "\n",
    "riemann_solution(q_l, q_r, D)"
   ]
  },
  {
   "cell_type": "markdown",
   "metadata": {},
   "source": [
    "## Congested on both sides"
   ]
  },
  {
   "cell_type": "code",
   "execution_count": null,
   "metadata": {},
   "outputs": [],
   "source": [
    "q_l = 0.6\n",
    "q_r = 0.8\n",
    "xramp = 0.\n",
    "dramp = 0.12\n",
    "\n",
    "xc, frames = test_solver(q_l, q_r, xramp, dramp)\n",
    "\n",
    "def plot_frame(t=0.5):\n",
    "    q = frames[int(t*10)].q[0,:]\n",
    "    plt.plot(xc,q,'-k')\n",
    "    plt.axis((-1,1,-0.1,1.1))\n",
    "    plt.show()\n",
    "\n",
    "interact(plot_frame,t=(0,1,0.1));"
   ]
  },
  {
   "cell_type": "code",
   "execution_count": null,
   "metadata": {},
   "outputs": [],
   "source": [
    "states, speeds, reval, wave_types = traffic_ramps.exact_riemann_solution(q_l,q_r,dramp)\n",
    "riemann_tools.plot_riemann(states,speeds,reval,wave_types,t=0.5); plt.ylim(0,1);"
   ]
  },
  {
   "cell_type": "markdown",
   "metadata": {},
   "source": [
    "## Another one"
   ]
  },
  {
   "cell_type": "code",
   "execution_count": null,
   "metadata": {},
   "outputs": [],
   "source": [
    "q_l = 0.2\n",
    "q_r = 0.9\n",
    "D = 0.08\n",
    "riemann_solution(q_l, q_r, D)"
   ]
  },
  {
   "cell_type": "code",
   "execution_count": null,
   "metadata": {},
   "outputs": [],
   "source": [
    "q_l = 0.6\n",
    "q_r = 0.9\n",
    "D = 0.12\n",
    "\n",
    "riemann_solution(q_l, q_r, D)"
   ]
  },
  {
   "cell_type": "code",
   "execution_count": null,
   "metadata": {},
   "outputs": [],
   "source": [
    "f = lambda q: q*(1-q)\n",
    "\n",
    "def plot_all(q_l,q_r,D):\n",
    "    states, speeds, reval, wave_types = traffic_ramps.exact_riemann_solution(q_l,q_r,D)\n",
    "    ax = riemann_tools.plot_riemann(states,speeds,reval,wave_types,t=0.5,extra_axes=True);\n",
    "    riemann_tools.plot_characteristics(reval,c,None,ax[0])\n",
    "    traffic_ramps.phase_plane_plot(q_l,q_r,D,axes=ax[2])\n",
    "\n",
    "    #print((q_l>0.5-np.sqrt(D)) and (q_r<0.5))\n",
    "    print(f(q_l)-f(q_r)+D>0)\n",
    "\n",
    "    plt.show()\n",
    "    \n",
    "interact(plot_all,\n",
    "            q_l = widgets.FloatSlider(min=0.,max=1.,step=0.01,value=0.4),\n",
    "            q_r = widgets.FloatSlider(min=0.,max=1.,step=0.01,value=0.7),\n",
    "            D = widgets.FloatSlider(min=0.,max=0.25,step=0.01,value=0.1),\n",
    "        );"
   ]
  },
  {
   "cell_type": "code",
   "execution_count": null,
   "metadata": {},
   "outputs": [],
   "source": [
    "np.sqrt(0.16)"
   ]
  },
  {
   "cell_type": "code",
   "execution_count": null,
   "metadata": {},
   "outputs": [],
   "source": [
    "f(0.95)+0.1"
   ]
  },
  {
   "cell_type": "code",
   "execution_count": null,
   "metadata": {},
   "outputs": [],
   "source": [
    "1-2*0.95+0.1"
   ]
  },
  {
   "cell_type": "code",
   "execution_count": null,
   "metadata": {
    "collapsed": true
   },
   "outputs": [],
   "source": []
  }
 ],
 "metadata": {
  "kernelspec": {
   "display_name": "Python 2",
   "language": "python",
   "name": "python2"
  },
  "language_info": {
   "codemirror_mode": {
    "name": "ipython",
    "version": 2
   },
   "file_extension": ".py",
   "mimetype": "text/x-python",
   "name": "python",
   "nbconvert_exporter": "python",
   "pygments_lexer": "ipython2",
   "version": "2.7.13"
  }
 },
 "nbformat": 4,
 "nbformat_minor": 2
}
