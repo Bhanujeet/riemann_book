{
 "cells": [
  {
   "cell_type": "markdown",
   "metadata": {},
   "source": [
    "# Approximate solvers for the Euler equations of gas dynamics"
   ]
  },
  {
   "cell_type": "markdown",
   "metadata": {},
   "source": [
    "To do:\n",
    "- More pedagogy?\n",
    "- Implement entropy fix for Roe solver (and discuss it?)\n",
    "- Discuss positivity of HLL solver\n",
    "- Fix plotting of multiple solutions so nothing is clipped\n",
    "- Decide what phase plane plots to include and add them"
   ]
  },
  {
   "cell_type": "markdown",
   "metadata": {},
   "source": [
    "In [Part I](Euler_equations.ipynb) we studied the Riemann problem for Euler equations of inviscid, compressible fluid flow .  As we saw, the exact solution of the Riemann problem is computationally expensive, since it requires solving a set of nonlinear algebraic equations.  In the context of finite volume methods, the detailed structure of the Riemann solution is almost immediately discarded -- only its impact on the neighboring cell averages is used.  So it makes sense to consider whether we can approximate the solution with less computation.  In this chapter, we investigate approximate solvers for the Euler equations."
   ]
  },
  {
   "cell_type": "code",
   "execution_count": null,
   "metadata": {
    "collapsed": false,
    "tags": [
     "hide"
    ]
   },
   "outputs": [],
   "source": [
    "%matplotlib inline\n",
    "%config InlineBackend.figure_format = 'svg'\n",
    "import matplotlib as mpl\n",
    "mpl.rcParams['font.size'] = 8\n",
    "figsize =(8,4)\n",
    "mpl.rcParams['figure.figsize'] = figsize\n",
    "\n",
    "import numpy as np\n",
    "from exact_solvers import Euler\n",
    "from clawpack import riemann\n",
    "from utils import riemann_tools\n",
    "import matplotlib.pyplot as plt\n",
    "from collections import namedtuple\n",
    "from ipywidgets import interact\n",
    "from ipywidgets import widgets\n",
    "import matplotlib\n",
    "Primitive_State = namedtuple('State', Euler.primitive_variables)\n",
    "gamma = 1.4\n",
    "problem_data = {}\n",
    "problem_data['gamma'] = gamma\n",
    "problem_data['gamma1'] = gamma - 1.0"
   ]
  },
  {
   "cell_type": "markdown",
   "metadata": {},
   "source": [
    "## Shock tube problem\n",
    "\n",
    "We start with the same simple shock tube problem from [the Euler equations chapter](Euler_equations.ipynb) and recall the structure of its exact solution."
   ]
  },
  {
   "cell_type": "code",
   "execution_count": null,
   "metadata": {
    "collapsed": true
   },
   "outputs": [],
   "source": [
    "def riemann_solution(left_state, right_state):\n",
    "    q_left  = Euler.primitive_to_conservative(*left_state)\n",
    "    q_right = Euler.primitive_to_conservative(*right_state)\n",
    "\n",
    "    ex_states, ex_speeds, reval, wave_types = Euler.exact_riemann_solution(q_left, q_right, gamma)\n",
    "    \n",
    "    plot_function = riemann_tools.make_plot_function(ex_states, ex_speeds, reval, wave_types,\n",
    "                                                     layout='vertical', \n",
    "                                                     variable_names=Euler.primitive_variables,\n",
    "                                                     plot_chars=[Euler.lambda1,Euler.lambda2,Euler.lambda3],\n",
    "                                                     derived_variables=Euler.cons_to_prim)\n",
    "\n",
    "    interact(plot_function, t=widgets.FloatSlider(value=0.1,min=0,max=.9),\n",
    "             which_char=widgets.Dropdown(options=[None,1,2,3],description='Show characteristics'))"
   ]
  },
  {
   "cell_type": "code",
   "execution_count": null,
   "metadata": {
    "collapsed": true
   },
   "outputs": [],
   "source": [
    "from ipywidgets import interact                   # for interactive widgets\n",
    "#from utils.snapshot_widgets import interact      # for static figure that can be viewed online"
   ]
  },
  {
   "cell_type": "code",
   "execution_count": null,
   "metadata": {},
   "outputs": [],
   "source": [
    "left_state  = Primitive_State(Density = 3.,\n",
    "                              Velocity = 0.,\n",
    "                              Pressure = 3.)\n",
    "right_state = Primitive_State(Density = 1.,\n",
    "                              Velocity = 0.,\n",
    "                              Pressure = 1.)\n",
    "\n",
    "q_left  = Euler.primitive_to_conservative(*left_state)\n",
    "q_right = Euler.primitive_to_conservative(*right_state)\n",
    "\n",
    "riemann_solution(left_state,right_state)"
   ]
  },
  {
   "cell_type": "markdown",
   "metadata": {},
   "source": [
    "## HLLE Solver\n",
    "\n",
    "The HLLE solver uses only two waves with a constant state between that is uniquely defined by conservation for any choice of the two wave speeds.  The left-going wave speed is chosen to be the minimum of the Roe speed for the 1-wave and the characterstic speed $\\lambda^1$ in the left state $q_\\ell$.  The right-going wave speed is chosen to be the maximum of the Roe speed for the 3-wave and the characteristic speed $\\lambda^3$ in the right state $q_r$."
   ]
  },
  {
   "cell_type": "code",
   "execution_count": null,
   "metadata": {
    "collapsed": true
   },
   "outputs": [],
   "source": [
    "hll_solver = riemann.euler_1D_py.euler_hll_1D\n",
    "\n",
    "states_hll, s_hll, hll_eval = riemann_tools.riemann_solution(hll_solver,\n",
    "                                            q_left, q_right,\n",
    "                                            problem_data=problem_data)"
   ]
  },
  {
   "cell_type": "code",
   "execution_count": null,
   "metadata": {},
   "outputs": [],
   "source": [
    "ex_states, ex_speeds, reval, ex_wave_types = \\\n",
    "    Euler.exact_riemann_solution(q_left ,q_right, gamma)\n",
    "\n",
    "plot_function = \\\n",
    "    riemann_tools.make_plot_function([ex_states,states_hll],\n",
    "                                     [ex_speeds,s_hll],\n",
    "                                     [reval,hll_eval],\n",
    "                                     [ex_wave_types,['contact']*2],\n",
    "                                     ['Exact','HLLE'],\n",
    "                                     layout='vertical',\n",
    "                                     variable_names=Euler.primitive_variables,\n",
    "                                     derived_variables=Euler.cons_to_prim)\n",
    "    \n",
    "interact(plot_function, t=widgets.FloatSlider(min=0, max=0.9, step=0.1));"
   ]
  },
  {
   "cell_type": "markdown",
   "metadata": {},
   "source": [
    "#### Phase plane plots\n",
    "\n",
    "Need to improve the phase plane plots for Euler equations with 3 variables.  Below is a first attempt.  The axis labels are wrong; these are actually primitive coordinates."
   ]
  },
  {
   "cell_type": "code",
   "execution_count": null,
   "metadata": {},
   "outputs": [],
   "source": [
    "fig, ax = plt.subplots(1,3,figsize=figsize)\n",
    "riemann_tools.plot_phase(states_hll,0,1,ax[0])\n",
    "riemann_tools.plot_phase(states_hll,0,2,ax[1])\n",
    "riemann_tools.plot_phase(states_hll,1,2,ax[2])\n",
    "riemann_tools.plot_phase_3d(states_hll)"
   ]
  },
  {
   "cell_type": "markdown",
   "metadata": {},
   "source": [
    "## Roe solver\n",
    "The Roe solver is an example of a linearized Riemann solver.  It approximates the Riemann problem by considering an approximation of the flux Jacobian: $\\hat{A} \\approx f'(q)$ and exactly solving the Riemann problem for the linear hyperbolic system\n",
    "\n",
    "$$q_t + \\hat{A}q_x = 0.$$\n",
    "\n",
    "The Roe linearization is chosen so that in the case that $(q_l, q_r)$ are related by a single shock, the Roe solver gives the exact solution."
   ]
  },
  {
   "cell_type": "code",
   "execution_count": null,
   "metadata": {
    "collapsed": true
   },
   "outputs": [],
   "source": [
    "roe_solver = riemann.euler_1D_py.euler_roe_1D\n",
    "num_eqn = riemann.euler_1D_py.num_eqn\n",
    "\n",
    "problem_data['efix'] = False\n",
    "\n",
    "states_roe, s_roe, eval_roe = riemann_tools.riemann_solution(roe_solver,\n",
    "                                    q_left,q_right,\n",
    "                                    problem_data=problem_data)"
   ]
  },
  {
   "cell_type": "markdown",
   "metadata": {},
   "source": [
    "#### Phase plane plots"
   ]
  },
  {
   "cell_type": "code",
   "execution_count": null,
   "metadata": {},
   "outputs": [],
   "source": [
    "fig, ax = plt.subplots(1,2,figsize=figsize)\n",
    "riemann_tools.plot_phase(states_roe,0,1,ax[0])\n",
    "riemann_tools.plot_phase(states_roe,0,2,ax[1])\n",
    "riemann_tools.plot_phase_3d(states_roe)"
   ]
  },
  {
   "cell_type": "code",
   "execution_count": null,
   "metadata": {},
   "outputs": [],
   "source": [
    "ex_states, ex_speeds, reval, ex_wave_types = \\\n",
    "    Euler.exact_riemann_solution(q_left ,q_right, gamma)\n",
    "\n",
    "plot_function = \\\n",
    "    riemann_tools.make_plot_function([ex_states, states_roe],\n",
    "                                     [ex_speeds, s_roe],\n",
    "                                     [reval, eval_roe],\n",
    "                                     [ex_wave_types,['contact']*3],\n",
    "                                     ['Exact','Roe'],\n",
    "                                     layout='vertical',\n",
    "                                     variable_names=Euler.primitive_variables,\n",
    "                                     derived_variables=Euler.cons_to_prim)\n",
    "    \n",
    "interact(plot_function, t=widgets.FloatSlider(min=0, max=0.9, step=0.1));"
   ]
  },
  {
   "cell_type": "markdown",
   "metadata": {},
   "source": [
    "## Comparison of two approximate solvers with the exact solution\n"
   ]
  },
  {
   "cell_type": "code",
   "execution_count": null,
   "metadata": {},
   "outputs": [],
   "source": [
    "plot_function = \\\n",
    "    riemann_tools.make_plot_function([ex_states,states_hll,states_roe],\n",
    "                                     [ex_speeds,s_hll,s_roe],\n",
    "                                     [reval,hll_eval,eval_roe],\n",
    "                                     [ex_wave_types,['contact']*2,['contact']*3],\n",
    "                                     ['Exact','HLLE','Roe'],\n",
    "                                     layout='vertical',\n",
    "                                     variable_names=Euler.primitive_variables,\n",
    "                                     derived_variables=Euler.cons_to_prim)\n",
    "    \n",
    "interact(plot_function, t=widgets.FloatSlider(min=0, max=0.9, step=0.1));"
   ]
  },
  {
   "cell_type": "markdown",
   "metadata": {},
   "source": [
    "## Failure of the Roe solver\n",
    "For problems with near-vacuum states or strong expansions, any linearized solver may lead to unphysical states.  This happens for the Roe solver in the symmetric expansion problem considered in [the Euler equations chapter](Euler_equations.ipynb).  Here we revisit the problem and see that the Roe solver predicts a negative density value. (what about the entropy fix here?)"
   ]
  },
  {
   "cell_type": "markdown",
   "metadata": {},
   "source": [
    "(add phase plane plots -- something like Figure 15.3 of the red book)"
   ]
  },
  {
   "cell_type": "code",
   "execution_count": null,
   "metadata": {
    "collapsed": true
   },
   "outputs": [],
   "source": [
    "left_state  = Primitive_State(Density = 1.,\n",
    "                              Velocity = -3.,\n",
    "                              Pressure = 1.)\n",
    "right_state = Primitive_State(Density = 1.,\n",
    "                              Velocity = 3.,\n",
    "                              Pressure = 1.)\n",
    "q_left  = Euler.primitive_to_conservative(*left_state)\n",
    "q_right = Euler.primitive_to_conservative(*right_state)"
   ]
  },
  {
   "cell_type": "code",
   "execution_count": null,
   "metadata": {},
   "outputs": [],
   "source": [
    "ex_states, ex_speeds, reval, ex_wave_types = \\\n",
    "    Euler.exact_riemann_solution(q_left, q_right, gamma)\n",
    "\n",
    "states_hll, s_hll, eval_hll = riemann_tools.riemann_solution(hll_solver,\n",
    "                                            q_left,q_right,\n",
    "                                            problem_data=problem_data)\n",
    "\n",
    "states_roe, s_roe, eval_roe = riemann_tools.riemann_solution(roe_solver,\n",
    "                                    q_left,q_right,\n",
    "                                    problem_data=problem_data,verbose=False)\n",
    "\n",
    "plot_function = \\\n",
    "    riemann_tools.make_plot_function([ex_states,states_hll,states_roe],\n",
    "                                     [ex_speeds,s_hll,s_roe],\n",
    "                                     [reval,eval_hll,eval_roe],\n",
    "                                     [ex_wave_types,['contact']*2,['contact']*3],\n",
    "                                     ['Exact','HLLE','Roe'],\n",
    "                                     layout='vertical',\n",
    "                                     variable_names=Euler.primitive_variables,\n",
    "                                     derived_variables=Euler.cons_to_prim)\n",
    "    \n",
    "interact(plot_function, t=widgets.FloatSlider(min=0, max=0.9, step=0.1));"
   ]
  },
  {
   "cell_type": "markdown",
   "metadata": {},
   "source": [
    "## Colliding flows\n",
    "For this problem, the HLL solver picks the Roe wave speeds and there is no contact wave.  As a result, the HLL solution coincides exactly with the Roe solution."
   ]
  },
  {
   "cell_type": "code",
   "execution_count": null,
   "metadata": {
    "collapsed": true
   },
   "outputs": [],
   "source": [
    "left_state  = Primitive_State(Density = 1.,\n",
    "                              Velocity = 3.,\n",
    "                              Pressure = 1.)\n",
    "right_state = Primitive_State(Density = 1.,\n",
    "                              Velocity = -3.,\n",
    "                              Pressure = 1.)\n",
    "q_left  = Euler.primitive_to_conservative(*left_state)\n",
    "q_right = Euler.primitive_to_conservative(*right_state)"
   ]
  },
  {
   "cell_type": "code",
   "execution_count": null,
   "metadata": {},
   "outputs": [],
   "source": [
    "ex_states, ex_speeds, reval, ex_wave_types = \\\n",
    "    Euler.exact_riemann_solution(q_left ,q_right, gamma)\n",
    "\n",
    "states_hll, s_hll, eval_hll = riemann_tools.riemann_solution(hll_solver,\n",
    "                                            q_left,q_right,\n",
    "                                            problem_data=problem_data)\n",
    "\n",
    "states_roe, s_roe, eval_roe = riemann_tools.riemann_solution(roe_solver,\n",
    "                                    q_left,q_right,\n",
    "                                    problem_data=problem_data,verbose=False)\n",
    "\n",
    "plot_function = \\\n",
    "    riemann_tools.make_plot_function([ex_states,states_hll,states_roe],\n",
    "                                     [ex_speeds,s_hll,s_roe],\n",
    "                                     [reval,eval_hll,eval_roe],\n",
    "                                     [ex_wave_types,['contact']*2,['contact']*3],\n",
    "                                     ['Exact','HLLE','Roe'],\n",
    "                                     layout='vertical',\n",
    "                                     variable_names=Euler.primitive_variables,\n",
    "                                     derived_variables=Euler.cons_to_prim)\n",
    "    \n",
    "interact(plot_function, t=widgets.FloatSlider(min=0, max=0.9, step=0.1));"
   ]
  },
  {
   "cell_type": "markdown",
   "metadata": {},
   "source": [
    "## Vacuum states\n",
    "One of the approximate solvers fails if a density or pressure is set exactly to zero, but both Roe and HLL seem to do fine with near-vacuum initial states.  Of course, they both completely miss the very large velocities generated in the expansion fan.  Notice that HLLE substantially underestimates the 1-wave speed here; is it correct?"
   ]
  },
  {
   "cell_type": "code",
   "execution_count": null,
   "metadata": {
    "collapsed": true
   },
   "outputs": [],
   "source": [
    "left_state  = Primitive_State(Density = 0.0001,\n",
    "                              Velocity = 0.,\n",
    "                              Pressure = 0.0001)\n",
    "right_state = Primitive_State(Density = 1.,\n",
    "                              Velocity = -3.,\n",
    "                              Pressure = 1.)\n",
    "q_left  = Euler.primitive_to_conservative(*left_state)\n",
    "q_right = Euler.primitive_to_conservative(*right_state)"
   ]
  },
  {
   "cell_type": "code",
   "execution_count": null,
   "metadata": {},
   "outputs": [],
   "source": [
    "ex_states, ex_speeds, reval, ex_wave_types = \\\n",
    "    Euler.exact_riemann_solution(q_left ,q_right, gamma)\n",
    "\n",
    "states_hll, s_hll, eval_hll = riemann_tools.riemann_solution(hll_solver,\n",
    "                                            q_left,q_right,\n",
    "                                            problem_data=problem_data)\n",
    "\n",
    "states_roe, s_roe, eval_roe = riemann_tools.riemann_solution(roe_solver,\n",
    "                                    q_left,q_right,\n",
    "                                    problem_data=problem_data,verbose=False)\n",
    "\n",
    "plot_function = \\\n",
    "    riemann_tools.make_plot_function([ex_states,states_hll,states_roe],\n",
    "                                     [ex_speeds,s_hll,s_roe],\n",
    "                                     [reval,eval_hll,eval_roe],\n",
    "                                     [ex_wave_types,['contact']*2,['contact']*3],\n",
    "                                     ['Exact','HLLE','Roe'],\n",
    "                                     layout='vertical',\n",
    "                                     variable_names=Euler.primitive_variables,\n",
    "                                     derived_variables=Euler.cons_to_prim)\n",
    "    \n",
    "interact(plot_function, t=widgets.FloatSlider(min=0, max=0.9, step=0.1));"
   ]
  },
  {
   "cell_type": "code",
   "execution_count": null,
   "metadata": {
    "collapsed": true
   },
   "outputs": [],
   "source": []
  }
 ],
 "metadata": {
  "kernelspec": {
   "display_name": "Python 3",
   "language": "python",
   "name": "python3"
  },
  "language_info": {
   "codemirror_mode": {
    "name": "ipython",
    "version": 3
   },
   "file_extension": ".py",
   "mimetype": "text/x-python",
   "name": "python",
   "nbconvert_exporter": "python",
   "pygments_lexer": "ipython3",
   "version": "3.5.2"
  }
 },
 "nbformat": 4,
 "nbformat_minor": 1
}
