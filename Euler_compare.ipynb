{
 "cells": [
  {
   "cell_type": "markdown",
   "metadata": {},
   "source": [
    "# Comparison of full discretizations using approximate Riemann solvers"
   ]
  },
  {
   "cell_type": "markdown",
   "metadata": {},
   "source": [
    "How do these solvers impact the solution accuracy when used within a finite volume discretization?  To investigate, we will use them within [PyClaw](http://www.clawpack.org/pyclaw/) to solve two standard test problems for one-dimensional compressible flow:\n",
    "\n",
    "  1. The Sod shocktube problem.  This is a Riemann problem, which we have considered previously.\n",
    "  2. The Woodward-Colella blast wave problem.  This initially consists of two Riemann problems, with resulting shock waves of differing strengths.  These shock waves later interact with each other.\n",
    "  \n",
    "In this chapter, unlike previous chapters, we include extensive sections of code in the notebook.  This is meant to more easily allow the reader to use these as templates for setting up other problems.  For more information about the software and algorithms used here, see [this paper](https://peerj.com/articles/cs-68/) and references therein."
   ]
  },
  {
   "cell_type": "code",
   "execution_count": null,
   "metadata": {
    "tags": [
     "hide"
    ]
   },
   "outputs": [],
   "source": [
    "%matplotlib inline\n",
    "import numpy as np\n",
    "from exact_solvers import Euler\n",
    "from clawpack import riemann\n",
    "from utils import riemann_tools\n",
    "import matplotlib.pyplot as plt\n",
    "from collections import namedtuple\n",
    "from ipywidgets import interact\n",
    "from ipywidgets import widgets\n",
    "Primitive_State = namedtuple('State', Euler.primitive_variables)\n",
    "gamma = 1.4\n",
    "problem_data = {}\n",
    "problem_data['gamma'] = gamma\n",
    "problem_data['gamma1'] = gamma - 1.0"
   ]
  },
  {
   "cell_type": "code",
   "execution_count": null,
   "metadata": {},
   "outputs": [],
   "source": [
    "from clawpack.riemann.euler_with_efix_1D_constants import density, momentum, energy, num_eqn\n",
    "\n",
    "def shocktube(q_l, q_r, N=50, riemann_solver='HLL', solver_type='classic'):\n",
    "\n",
    "    from clawpack import pyclaw\n",
    "    from clawpack import riemann\n",
    "\n",
    "    if riemann_solver == 'Roe':\n",
    "        rs = riemann.euler_1D_py.euler_roe_1D\n",
    "    elif riemann_solver == 'HLL':\n",
    "        rs = riemann.euler_1D_py.euler_hll_1D\n",
    "\n",
    "    if solver_type == 'classic':\n",
    "        solver = pyclaw.ClawSolver1D(rs)        \n",
    "    else:\n",
    "        solver = pyclaw.SharpClawSolver1D(rs)\n",
    "\n",
    "    solver.kernel_language = 'Python'\n",
    "    \n",
    "    solver.bc_lower[0]=pyclaw.BC.extrap\n",
    "    solver.bc_upper[0]=pyclaw.BC.extrap\n",
    "\n",
    "    x = pyclaw.Dimension(-1.0,1.0,N,name='x')\n",
    "    domain = pyclaw.Domain([x])\n",
    "    state = pyclaw.State(domain,num_eqn)\n",
    "\n",
    "    gamma = 1.4\n",
    "    state.problem_data['gamma']= gamma\n",
    "    state.problem_data['gamma1']= gamma-1.\n",
    "\n",
    "    state.problem_data['efix'] = False\n",
    "\n",
    "    xc = state.grid.p_centers[0]\n",
    "    \n",
    "    velocity = (xc<=0)*q_l[1] + (xc>0)*q_r[1]\n",
    "    pressure = (xc<=0)*q_l[2] + (xc>0)*q_r[2]\n",
    "\n",
    "    state.q[density ,:] = (xc<=0)*q_l[0] + (xc>0)*q_r[0]\n",
    "    state.q[momentum,:] = velocity * state.q[density,:]\n",
    "    state.q[energy  ,:] = pressure/(gamma - 1.) + 0.5 * state.q[density,:] * velocity**2\n",
    "\n",
    "    claw = pyclaw.Controller()\n",
    "    claw.tfinal = 0.5\n",
    "    claw.solution = pyclaw.Solution(state,domain)\n",
    "    claw.solver = solver\n",
    "    claw.num_output_times = 10\n",
    "    claw.keep_copy = True\n",
    "    claw.verbosity=0\n",
    "\n",
    "    return claw"
   ]
  },
  {
   "cell_type": "code",
   "execution_count": null,
   "metadata": {},
   "outputs": [],
   "source": [
    "from clawpack.riemann.euler_with_efix_1D_constants import density, momentum, energy, num_eqn\n",
    "\n",
    "def blastwave(q_l, q_r, N=400, riemann_solver='HLL', solver_type='classic'):\n",
    "\n",
    "    from clawpack import pyclaw\n",
    "    from clawpack import riemann\n",
    "\n",
    "    if riemann_solver == 'Roe':\n",
    "        rs = riemann.euler_1D_py.euler_roe_1D\n",
    "    elif riemann_solver == 'HLL':\n",
    "        rs = riemann.euler_1D_py.euler_hll_1D\n",
    "\n",
    "    if solver_type == 'classic':\n",
    "        solver = pyclaw.ClawSolver1D(rs)        \n",
    "    else:\n",
    "        solver = pyclaw.SharpClawSolver1D(rs)\n",
    "        solver.time_integrator = 'SSP33'\n",
    "        solver.cfl_max = 0.65\n",
    "        solver.cfl_desired = 0.6\n",
    "        solver.lim_type = 1\n",
    "        #solver.char_decomp = 2\n",
    "\n",
    "    solver.kernel_language = 'Python'\n",
    "    \n",
    "    solver.bc_lower[0]=pyclaw.BC.extrap\n",
    "    solver.bc_upper[0]=pyclaw.BC.extrap\n",
    "\n",
    "    x = pyclaw.Dimension(0.0,1.0,N,name='x')\n",
    "    domain = pyclaw.Domain([x])\n",
    "    state = pyclaw.State(domain,num_eqn)\n",
    "\n",
    "    gamma = 1.4\n",
    "    state.problem_data['gamma']= gamma\n",
    "    state.problem_data['gamma1']= gamma-1.\n",
    "\n",
    "    state.problem_data['efix'] = False\n",
    "\n",
    "    xc = state.grid.p_centers[0]\n",
    "\n",
    "    state.q[density ,:] = 1.\n",
    "    state.q[momentum,:] = 0.\n",
    "    state.q[energy  ,:] = ( (xc<0.1)*1.e3 + (0.1<=xc)*(xc<0.9)*1.e-2 + (0.9<=xc)*1.e2 ) / (gamma - 1.)\n",
    "\n",
    "    claw = pyclaw.Controller()\n",
    "    claw.tfinal = 0.038\n",
    "    claw.solution = pyclaw.Solution(state,domain)\n",
    "    claw.solver = solver\n",
    "    claw.num_output_times = 10\n",
    "    claw.keep_copy = True\n",
    "    claw.verbosity=0\n",
    "\n",
    "    return claw"
   ]
  },
  {
   "cell_type": "markdown",
   "metadata": {},
   "source": [
    "## Classic Clawpack algorithm with HLL versus Roe"
   ]
  },
  {
   "cell_type": "markdown",
   "metadata": {},
   "source": [
    "We compare results obtained with these two solvers within a second-order Lax-Wendroff based scheme with limiters that is the basis of Clawpack.  We start with the Sod shocktube."
   ]
  },
  {
   "cell_type": "code",
   "execution_count": null,
   "metadata": {},
   "outputs": [],
   "source": [
    "q_l = Euler.conservative_to_primitive(1.,0.,1.)\n",
    "q_r = Euler.conservative_to_primitive(1./8,0.,1./10)\n",
    "roe_st = shocktube(q_l,q_r,N=50,riemann_solver='Roe')\n",
    "roe_st.run()\n",
    "hll_st = shocktube(q_l,q_r,N=50,riemann_solver='HLL')\n",
    "hll_st.run()\n",
    "fine_st = shocktube(q_l,q_r,N=1000,riemann_solver='Roe')\n",
    "fine_st.run();\n",
    "xc_st = roe_st.solution.state.grid.p_centers[0]\n",
    "xc_fine_st = fine_st.solution.state.grid.p_centers[0]\n",
    "\n",
    "def plot_frame(i):\n",
    "    fig, ax = plt.subplots(figsize=(12,6))\n",
    "    ax.set_xlim((-1,1)); ax.set_ylim((0,1.1))\n",
    "    ax.plot(xc_fine_st,fine_st.frames[i].q[density,:],'-k',lw=1)\n",
    "    ax.plot(xc_st,hll_st.frames[i].q[density,:],'-ob',lw=2)\n",
    "    ax.plot(xc_st,roe_st.frames[i].q[density,:],'-or',lw=2)\n",
    "    plt.legend(['Fine','HLL','Roe'],loc='best')\n",
    "    plt.show()\n",
    "    \n",
    "interact(plot_frame, i=widgets.IntSlider(min=0, max=10, description='Frame'));"
   ]
  },
  {
   "cell_type": "markdown",
   "metadata": {},
   "source": [
    "The solution labeled \"Fine\" is computed on a very fine grid and can be considered as the exact solution for purposes of plotting.\n",
    "As you might expect, the HLL solver smears the middle wave (contact discontinuity) significantly more than the Roe solver does. Perhaps surprisingly, it captures the shock just as accurately as the Roe solver does."
   ]
  },
  {
   "cell_type": "markdown",
   "metadata": {},
   "source": [
    "Next we consider the Woodward-Colella blast wave problem."
   ]
  },
  {
   "cell_type": "code",
   "execution_count": null,
   "metadata": {},
   "outputs": [],
   "source": [
    "q_l = Euler.conservative_to_primitive(1.,0.,1.)\n",
    "q_r = Euler.conservative_to_primitive(1./8,0.,1./10)\n",
    "roe_bw = blastwave(q_l,q_r,riemann_solver='Roe')\n",
    "roe_bw.run()\n",
    "hll_bw = blastwave(q_l,q_r,riemann_solver='HLL')\n",
    "hll_bw.run()\n",
    "fine_bw = blastwave(q_l,q_r,N=2000,riemann_solver='Roe')\n",
    "fine_bw.run();\n",
    "xc_bw = roe_bw.solution.state.grid.p_centers[0]\n",
    "xc_fine_bw = fine_bw.solution.state.grid.p_centers[0]\n",
    "\n",
    "def plot_frame(i):\n",
    "    fig, ax = plt.subplots(figsize=(12,6))\n",
    "    ax.set_xlim((0.,1)); ax.set_ylim((0,20))\n",
    "    ax.plot(xc_fine_bw,fine_bw.frames[i].q[density,:],'-k',lw=1)\n",
    "    ax.plot(xc_bw,hll_bw.frames[i].q[density,:],'-ob',lw=2)\n",
    "    ax.plot(xc_bw,roe_bw.frames[i].q[density,:],'-or',lw=2)\n",
    "    plt.legend(['Fine','HLL','Roe'],loc='best')\n",
    "    plt.show()\n",
    "    \n",
    "interact(plot_frame, i=widgets.IntSlider(min=0, max=10, description='Frame'));"
   ]
  },
  {
   "cell_type": "markdown",
   "metadata": {},
   "source": [
    "Again the solutions are fairly similar, though the HLL solution is a bit more smeared.\n",
    "\n",
    "One should not conclude from these tests that, for instance, the Roe solver is *better* than the HLL solver.  Many factors besides accuracy should be considered, including cost and robustness.  As we have seen the HLL solver is more robust in the presence of near-vacuum states."
   ]
  },
  {
   "cell_type": "markdown",
   "metadata": {},
   "source": [
    "## High-order WENO + Runge-Kutta"
   ]
  },
  {
   "cell_type": "markdown",
   "metadata": {},
   "source": [
    "Next we look at the difference between the HLL and Roe solution when these solvers are employed within a higher-order method of lines discretization using fifth-order WENO and a 4th-order Runge-Kutta scheme."
   ]
  },
  {
   "cell_type": "code",
   "execution_count": null,
   "metadata": {},
   "outputs": [],
   "source": [
    "q_l = Euler.conservative_to_primitive(1.,0.,1.)\n",
    "q_r = Euler.conservative_to_primitive(1./8,0.,1./10)\n",
    "roe2 = shocktube(q_l,q_r,N=50,riemann_solver='Roe',solver_type='sharpclaw')\n",
    "roe2.run()\n",
    "hll2 = shocktube(q_l,q_r,N=50,riemann_solver='HLL',solver_type='sharpclaw')\n",
    "hll2.run()\n",
    "fine2 = shocktube(q_l,q_r,N=1000,riemann_solver='Roe',solver_type='sharpclaw')\n",
    "fine2.run();\n",
    "xc = roe2.solution.state.grid.p_centers[0]\n",
    "xc_fine2 = fine2.solution.state.grid.p_centers[0]\n",
    "\n",
    "def plot_frame(i):\n",
    "    fig, ax = plt.subplots(figsize=(12,6))\n",
    "    ax.set_xlim((-1,1)); ax.set_ylim((0,1.1))\n",
    "    ax.plot(xc_fine2,fine2.frames[i].q[density,:],'-k',lw=1)\n",
    "    ax.plot(xc,hll2.frames[i].q[density,:],'-ob',lw=2)\n",
    "    ax.plot(xc,roe2.frames[i].q[density,:],'-or',lw=2)\n",
    "    plt.legend(['Fine','HLL','Roe'],loc='best')\n",
    "    plt.show()\n",
    "    \n",
    "interact(plot_frame, i=widgets.IntSlider(min=0, max=10, description='Frame'));"
   ]
  },
  {
   "cell_type": "markdown",
   "metadata": {},
   "source": [
    "With higher-order discretizations, the difference in solutions due to using different Riemann solvers is less significant.  This is partly because these high-order schemes use more accurate values as inputs to the Riemann problem, so that in smooth regions the jump between most cells is very small."
   ]
  }
 ],
 "metadata": {
  "kernelspec": {
   "display_name": "Python 3",
   "language": "python",
   "name": "python3"
  },
  "language_info": {
   "codemirror_mode": {
    "name": "ipython",
    "version": 3
   },
   "file_extension": ".py",
   "mimetype": "text/x-python",
   "name": "python",
   "nbconvert_exporter": "python",
   "pygments_lexer": "ipython3",
   "version": "3.6.5"
  },
  "toc": {
   "base_numbering": 1,
   "nav_menu": {},
   "number_sections": true,
   "sideBar": true,
   "skip_h1_title": false,
   "title_cell": "Table of Contents",
   "title_sidebar": "Contents",
   "toc_cell": false,
   "toc_position": {},
   "toc_section_display": "block",
   "toc_window_display": false
  }
 },
 "nbformat": 4,
 "nbformat_minor": 1
}
