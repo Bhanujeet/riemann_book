{
 "cells": [
  {
   "cell_type": "markdown",
   "metadata": {},
   "source": [
    "# Nonlinear elasticity\n",
    "In this chapter we investigate a nonlinear model of elastic strain in heterogeneous materials.  This system is equivalent to the $p$-system of gas dynamics, although the stress-strain relation we will use here is very different from the pressure-density relation typically used in gas dynamics.  The equations we consider have been investigated numerically in [<cite data-cite=\"leveque2002\"><a href=\"riemann.html#leveque2002\">(LeVeque, 2002)<a></cite>,<cite data-cite=\"leveque2003\"><a href=\"riemann.html#leveque2003\">(LeVeque & Yong, 2003)<a></cite>,<cite data-cite=\"2012_ketchesonleveque_periodic\"><a href=\"riemann.html#2012_ketchesonleveque_periodic\">(Ketcheson & LeVeque, 2012)<a></cite>].\n",
    "\n",
    "The equations are\n",
    "\\begin{align}\n",
    "\\epsilon_t(x,t) - u_x(x,t) & = 0 \\\\\n",
    "(\\rho(x)u(x,t))_t - \\sigma(\\epsilon(x,t),x)_x & = 0.\n",
    "\\end{align}\n",
    "\n",
    "The first equation is a kinematic relation, while the second represents Newton's second law.  This is a nonlinear conservation law with spatially varying flux function, in which\n",
    "\\begin{align}\n",
    "q & = \\begin{bmatrix} \\epsilon \\\\ \\rho u \\end{bmatrix}, & f(q,x) & = \\begin{bmatrix} -{\\mathcal M}/\\rho(x) \\\\ -\\sigma(\\epsilon,x) \\end{bmatrix}\n",
    "\\end{align}\n",
    "\n",
    "Here $\\epsilon$ is the strain, $u$ is the velocity, $\\rho$ is the material density, $\\sigma$ is the stress,\n",
    "and ${\\mathcal M}=\\rho u$ is the momentum.  If we take a linear stress strain relationship $\\sigma(\\epsilon,x)=K(x)\\epsilon$, then this system is equivalent to the acoustics equations that we have\n",
    "studied previously.  Here we consider instead a quadratic stress:\n",
    "\n",
    "\\begin{align}\n",
    "\\sigma(\\epsilon,x) = K_1(x) \\epsilon + K_2(x) \\epsilon^2.\n",
    "\\end{align}\n",
    "\n",
    "We assume that the spatially-varying functions $\\rho, K_1, K_2$ are piecewise constant, taking values\n",
    "$(\\rho_l, K_{1l}, K_{2l})$ for $x<0$ and values $(\\rho_r, K_{1r}, K_{2r})$ for $x>0$."
   ]
  },
  {
   "cell_type": "markdown",
   "metadata": {},
   "source": [
    "## Hyperbolic structure\n",
    "The flux jacobian is\n",
    "\\begin{align}\n",
    "f'(q) = \\begin{bmatrix} 0 & -1/\\rho(x) \\\\ -\\sigma_\\epsilon(\\epsilon,x) & 0 \\end{bmatrix},\n",
    "\\end{align}\n",
    "with eigenvalues (characteristic sound speeds)\n",
    "\\begin{align}\n",
    "\\lambda^\\pm(x) = \\pm \\sqrt{\\frac{\\sigma_\\epsilon(\\epsilon,x)}{\\rho(x)}} = \\pm c(\\epsilon, x).\n",
    "\\end{align}\n",
    "\n",
    "Here for the stress-strain relation we have chosen, $\\sigma_\\epsilon = K_1(x) + 2 K_2(x)\\epsilon$.\n",
    "\n",
    "It's also convenient to define the nonlinear impedance $Z(\\epsilon, x) = \\rho(x) c(\\epsilon,x)$.  Then the eigenvectors of the flux Jacobian are\n",
    "\\begin{align}\n",
    "R & = \\begin{bmatrix} 1 & 1 \\\\ Z & -Z \\end{bmatrix}.\n",
    "\\end{align}\n",
    "Both characteristic fields are genuinely nonlinear.  Furthermore, since the characteristic speeds each have a definite sign, this system does not admit transonic rarefactions."
   ]
  },
  {
   "cell_type": "markdown",
   "metadata": {},
   "source": [
    "### Structure of the Riemann solution\n",
    "Based on the eigenstructure of the flux jacobian above, the Riemann solution will always include a left-going and a right-going wave, each of which may be a shock or rarefaction.  Furthermore, we will see that the jump in $\\rho$ and $K$ at $x=0$ induces a stationary wave there.  Thus the overall structure of the Riemann solution is:\n",
    "\n",
    "![](./figures/nonlinear_elasticity_riemann.png)"
   ]
  },
  {
   "cell_type": "markdown",
   "metadata": {},
   "source": [
    "### Hugoniot loci\n",
    "From the Rankine-Hugoniot jump conditions for the system we obtain the 1-Hugoniot locus for a state $(\\epsilon^*_l, u^*_l)$ connected by a 1-shock to a state $(\\epsilon_l, u_l)$:\n",
    "\\begin{align}\n",
    "u^*_l & = u_l - \\left( \\frac{\\left(\\sigma_l(\\epsilon^*_l)-\\sigma_l(\\epsilon_l)\\right)(\\epsilon^*_l-\\epsilon_l)}{\\rho_l}  \\right)^{1/2}\n",
    "\\end{align}\n",
    "Here $\\sigma_l(\\epsilon)$ is shorthand for the stress relation in the left medium.\n",
    "Similarly, a state $(\\epsilon^*_r,u^*_r)$ that is connected by a 2-shock to a state $(\\epsilon_r, u_r)$ must satisfy\n",
    "\\begin{align}\n",
    "u^*_r & = u_r - \\left( \\frac{\\left(\\sigma_r(\\epsilon^*_r)-\\sigma_r(\\epsilon_r)\\right)(\\epsilon^*_r-\\epsilon_r)}{\\rho_r}  \\right)^{1/2}.\n",
    "\\end{align}"
   ]
  },
  {
   "cell_type": "markdown",
   "metadata": {},
   "source": [
    "### Integral curves\n",
    "The integral curves can be found by writing $\\tilde{q}'(\\xi) = r^{1,2}(\\tilde{q}(\\xi))$ and integrating.  This leads to\n",
    "\\begin{align}\n",
    "u^*_l  & = u_l + \\frac{1}{3 K_{2l} \\sqrt{\\rho_l}} \\left( \\sigma_{l,\\epsilon}(\\epsilon^*_l)^{3/2} - \\sigma_{l,\\epsilon}(\\epsilon)^{3/2} \\right) \\\\\n",
    "u^*_r  & = u_r - \\frac{1}{3 K_{2r} \\sqrt{\\rho_r}} \\left( \\sigma_{r,\\epsilon}(\\epsilon^*_r)^{3/2} - \\sigma_{r,\\epsilon}(\\epsilon)^{3/2} \\right)\n",
    "\\end{align}\n",
    "Here $\\sigma_{l,\\epsilon}$ is the derivative of the stress function w.r.t $\\epsilon$ in the left medium."
   ]
  },
  {
   "cell_type": "markdown",
   "metadata": {},
   "source": [
    "### The entropy condition\n",
    "For a 1-shock, we need that $\\lambda^-(\\epsilon_l,x<0) > \\lambda^-(\\epsilon^*_l,x<0$, which is equivalent to $\\epsilon^*_l>\\epsilon_l$.  Similarly, a 2-shock is entropy-satisfying if $\\epsilon^*_r > \\epsilon_r$."
   ]
  },
  {
   "cell_type": "markdown",
   "metadata": {},
   "source": [
    "### Interface conditions\n",
    "Because the flux depends explicitly on $x$, we do not necessarily have continuity of $q$ at $x=0$; i.e. in general $q^*_l \\ne q^*_r$.  Instead, the flux must be continuous: $f(q^*_l)=f(q^*_r)$.  For the present system, this means that the stress and velocity must be continuous, which makes sense from a physical point of view.  If the velocity were not continuous, the material would fracture (or overlap itself).  Continuity of the stress is required by Newton's laws."
   ]
  },
  {
   "cell_type": "markdown",
   "metadata": {},
   "source": [
    "### Structure of rarefaction waves\n",
    "For this system, the structure of a centered rarefaction wave can be determined very simply.  Since the characteristic velocity must be equal to $\\xi = x/t$ at each point along the wave, we have $\\xi = \\pm\\sqrt{\\sigma_\\epsilon/\\rho}$, or\n",
    "\\begin{align}\n",
    "\\xi^2 = \\frac{K_1 + 2K_2\\epsilon}{\\rho}\n",
    "\\end{align}\n",
    "which leads to $\\epsilon = (\\rho\\xi^2 - K_1)/(2K_2)$.  Once the value of $\\epsilon$ is known, $u$ can be determined using the integral curves above."
   ]
  },
  {
   "cell_type": "code",
   "execution_count": null,
   "metadata": {
    "collapsed": false
   },
   "outputs": [],
   "source": [
    "%matplotlib inline\n",
    "import numpy as np\n",
    "from scipy.optimize import fsolve\n",
    "import matplotlib.pyplot as plt\n",
    "from utils import riemann_tools\n",
    "from ipywidgets import interact, widgets\n",
    "from clawpack import riemann\n",
    "from exact_solvers import nonlinear_elasticity"
   ]
  },
  {
   "cell_type": "code",
   "execution_count": null,
   "metadata": {
    "collapsed": false
   },
   "outputs": [],
   "source": [
    "%load exact_solvers/nonlinear_elasticity.py"
   ]
  },
  {
   "cell_type": "code",
   "execution_count": null,
   "metadata": {
    "collapsed": false
   },
   "outputs": [],
   "source": [
    "aux_l = np.array((1., 5., 1.))\n",
    "aux_r = np.array((1., 2., 1.))\n",
    "q_l = np.array([2.1, 0.])\n",
    "q_r = np.array([0.0, 0.])\n",
    "\n",
    "ex_states, ex_speeds, ex_reval = nonlinear_elasticity.exact_riemann_solution(q_l,q_r,aux_l,aux_r)"
   ]
  },
  {
   "cell_type": "code",
   "execution_count": null,
   "metadata": {
    "collapsed": false
   },
   "outputs": [],
   "source": [
    "plot_function = riemann_tools.make_plot_function(ex_states, ex_speeds, ex_reval, \n",
    "                                                 layout='vertical',conserved_variables=('Strain','Momentum'))\n",
    "interact(plot_function, t=widgets.FloatSlider(value=0.1,min=0,max=.9));"
   ]
  },
  {
   "cell_type": "code",
   "execution_count": null,
   "metadata": {
    "collapsed": false
   },
   "outputs": [],
   "source": [
    "nonlinear_elasticity.phase_plane_plot(q_l, q_r, aux_l, aux_r)"
   ]
  },
  {
   "cell_type": "markdown",
   "metadata": {},
   "source": [
    "# Approximate solution of the Riemann problem using $f$-waves\n",
    "The exact solver above requires a nonlinear iterative solver and is relatively expensive.  A very cheap approximate Riemann solver for this system was developed in <cite data-cite=\"leveque2002\"><a href=\"riemann.html#leveque2002\">(LeVeque, 2002)<a></cite> using the $f$-wave approach.  One simply assumes that both nonlinear waves are shocks, with speeds equal to the characteristic speeds of the left and right states:\n",
    "\\begin{align}\n",
    "s^1 & = - \\sqrt{\\frac{\\sigma_{\\epsilon,l}(\\epsilon_l)}{\\rho_l}} \\\\\n",
    "s^2 & = + \\sqrt{\\frac{\\sigma_{\\epsilon,r}(\\epsilon_r)}{\\rho_r}}.\n",
    "\\end{align}\n",
    "Meanwhile, the waves are obtained by decomposing the jump in the flux $f(q_r,x>0) - f(q_l,x<0)$ in terms of the eigenvectors of the flux jacobian."
   ]
  },
  {
   "cell_type": "code",
   "execution_count": null,
   "metadata": {
    "collapsed": false
   },
   "outputs": [],
   "source": [
    "solver = riemann.nonlinear_elasticity_1D_py.nonlinear_elasticity_1D\n",
    "\n",
    "problem_data = {'stress relation' : 'quadratic'}\n",
    "fwave_states, fwave_speeds, fwave_reval = riemann_tools.riemann_solution(solver,q_l,q_r,aux_l,aux_r,\n",
    "                                                             problem_data=problem_data,verbose=True,\n",
    "                                                             stationary_wave=True,fwave=True)"
   ]
  },
  {
   "cell_type": "code",
   "execution_count": null,
   "metadata": {
    "collapsed": false
   },
   "outputs": [],
   "source": [
    "plot_function = riemann_tools.make_plot_function(fwave_states,fwave_speeds, fwave_reval,\n",
    "                                                 layout='vertical', conserved_variables=('Strain','Momentum'))\n",
    "interact(plot_function, t=widgets.FloatSlider(value=0.1,min=0,max=.9,step=.1));"
   ]
  },
  {
   "cell_type": "markdown",
   "metadata": {},
   "source": [
    "# Comparison of exact and approximate solutions"
   ]
  },
  {
   "cell_type": "code",
   "execution_count": null,
   "metadata": {
    "collapsed": false
   },
   "outputs": [],
   "source": [
    "plot_function = riemann_tools.make_plot_function([ex_states,fwave_states],\n",
    "                                                 [ex_speeds,fwave_speeds],\n",
    "                                                 [ex_reval,fwave_reval],\n",
    "                                                 ['Exact','$f$-wave'],\n",
    "                                                 layout='vertical',conserved_variables=nonlinear_elasticity.conserved_variables)\n",
    "interact(plot_function, t=widgets.FloatSlider(value=0.1,min=0, max=0.9, step=0.1));"
   ]
  },
  {
   "cell_type": "code",
   "execution_count": null,
   "metadata": {
    "collapsed": true
   },
   "outputs": [],
   "source": []
  }
 ],
 "metadata": {
  "kernelspec": {
   "display_name": "Python 2",
   "language": "python",
   "name": "python2"
  },
  "language_info": {
   "codemirror_mode": {
    "name": "ipython",
    "version": 2
   },
   "file_extension": ".py",
   "mimetype": "text/x-python",
   "name": "python",
   "nbconvert_exporter": "python",
   "pygments_lexer": "ipython2",
   "version": "2.7.13"
  },
  "widgets": {
   "application/vnd.jupyter.widget-state+json": {
    "state": {
     "0071baa5241441b2af43b4495b5dbd01": {
      "model_module": "jupyter-js-widgets",
      "model_module_version": "^2.0.20",
      "model_name": "FloatSliderModel",
      "state": {
       "_model_module_version": "^2.0.20",
       "_view_module_version": "^2.0.20",
       "description": "t",
       "layout": "IPY_MODEL_05f01f0b2fa24949a798b7de9f879f52",
       "max": 0.9,
       "step": 0.1,
       "value": 0.1
      }
     },
     "00e3b6f22d5f4d71ac72ac45d8babbf4": {
      "model_module": "jupyter-js-widgets",
      "model_module_version": "^2.0.20",
      "model_name": "FloatSliderModel",
      "state": {
       "_model_module_version": "^2.0.20",
       "_view_module_version": "^2.0.20",
       "description": "t",
       "layout": "IPY_MODEL_885333acb3b4406b8761d584e4fc30a6",
       "max": 0.9,
       "step": 0.1,
       "value": 0.1
      }
     },
     "00fc24dec8b14f869688acea1eedfe0a": {
      "model_module": "jupyter-js-widgets",
      "model_module_version": "^2.0.20",
      "model_name": "LayoutModel",
      "state": {
       "_model_module_version": "^2.0.20",
       "_view_module_version": "^2.0.20"
      }
     },
     "013a77f71e2d4530a4ecabf98b238d79": {
      "model_module": "jupyter-js-widgets",
      "model_module_version": "^2.0.20",
      "model_name": "FloatSliderModel",
      "state": {
       "_model_module_version": "^2.0.20",
       "_view_module_version": "^2.0.20",
       "description": "t",
       "layout": "IPY_MODEL_e7721f06737c40c5b3b7104fcc1bbb99",
       "max": 0.9,
       "step": 0.1,
       "value": 0.1
      }
     },
     "0190c264b7264187b31893f3d86e2008": {
      "model_module": "jupyter-js-widgets",
      "model_module_version": "^2.0.20",
      "model_name": "LayoutModel",
      "state": {
       "_model_module_version": "^2.0.20",
       "_view_module_version": "^2.0.20"
      }
     },
     "01970193d6ae45678783cd2b0def4500": {
      "model_module": "jupyter-js-widgets",
      "model_module_version": "^2.0.20",
      "model_name": "LayoutModel",
      "state": {
       "_model_module_version": "^2.0.20",
       "_view_module_version": "^2.0.20"
      }
     },
     "01e7603c4f5749ef8399a2e133a3b987": {
      "model_module": "jupyter-js-widgets",
      "model_module_version": "^2.0.20",
      "model_name": "LayoutModel",
      "state": {
       "_model_module_version": "^2.0.20",
       "_view_module_version": "^2.0.20"
      }
     },
     "02678f229f48471bbd73772345e4e921": {
      "model_module": "jupyter-js-widgets",
      "model_module_version": "^2.0.20",
      "model_name": "OutputModel",
      "state": {
       "_dom_classes": [],
       "_model_module": "jupyter-js-widgets",
       "_model_module_version": "^2.0.20",
       "_view_module": "jupyter-js-widgets",
       "_view_module_version": "^2.0.20",
       "layout": "IPY_MODEL_bc223a8704ae4c559983abe111e64a76",
       "msg_throttle": 1
      }
     },
     "026a8f77837f44d09dd55504b67b2cb0": {
      "model_module": "jupyter-js-widgets",
      "model_module_version": "^2.0.20",
      "model_name": "VBoxModel",
      "state": {
       "_dom_classes": [
        "widget-interact"
       ],
       "_model_module_version": "^2.0.20",
       "_view_module_version": "^2.0.20",
       "children": [
        "IPY_MODEL_eec490e240054af1ac1226d83cb82b92",
        "IPY_MODEL_d96b433ee98d49f8819c65a1d08af416"
       ],
       "layout": "IPY_MODEL_7c91406943544a06bdadb6a512f3fc20"
      }
     },
     "03d900b2e4b94e148907f14c051d7f19": {
      "model_module": "jupyter-js-widgets",
      "model_module_version": "^2.0.20",
      "model_name": "LayoutModel",
      "state": {
       "_model_module_version": "^2.0.20",
       "_view_module_version": "^2.0.20"
      }
     },
     "04773fb019bc421a9f60c7e9c8764b26": {
      "model_module": "jupyter-js-widgets",
      "model_module_version": "^2.0.20",
      "model_name": "FloatSliderModel",
      "state": {
       "_model_module_version": "^2.0.20",
       "_view_module_version": "^2.0.20",
       "description": "t",
       "layout": "IPY_MODEL_c06cf029f4264aa1a3568606bb951669",
       "max": 0.9,
       "step": 0.1,
       "value": 0.5
      }
     },
     "058b5881ce3441d28901208373c2df22": {
      "model_module": "jupyter-js-widgets",
      "model_module_version": "^2.0.20",
      "model_name": "VBoxModel",
      "state": {
       "_dom_classes": [
        "widget-interact"
       ],
       "_model_module_version": "^2.0.20",
       "_view_module_version": "^2.0.20",
       "children": [
        "IPY_MODEL_70d791ab1bd740649e257042d90e64cf",
        "IPY_MODEL_ab632864de1b49d1a9f6194f9ae9c291"
       ],
       "layout": "IPY_MODEL_6a06b81784f04e6c9404cf1493b8b5c4"
      }
     },
     "05c219f23e9d485f96a7c409cbd7c546": {
      "model_module": "jupyter-js-widgets",
      "model_module_version": "^2.0.20",
      "model_name": "LayoutModel",
      "state": {
       "_model_module_version": "^2.0.20",
       "_view_module_version": "^2.0.20"
      }
     },
     "05f01f0b2fa24949a798b7de9f879f52": {
      "model_module": "jupyter-js-widgets",
      "model_module_version": "^2.0.20",
      "model_name": "LayoutModel",
      "state": {
       "_model_module_version": "^2.0.20",
       "_view_module_version": "^2.0.20"
      }
     },
     "06076a8eb2854164853a9ea20171be92": {
      "model_module": "jupyter-js-widgets",
      "model_module_version": "^2.0.20",
      "model_name": "LayoutModel",
      "state": {
       "_model_module_version": "^2.0.20",
       "_view_module_version": "^2.0.20"
      }
     },
     "062095c673f0460b8e0ac25b29d04895": {
      "model_module": "jupyter-js-widgets",
      "model_module_version": "^2.0.20",
      "model_name": "LayoutModel",
      "state": {
       "_model_module_version": "^2.0.20",
       "_view_module_version": "^2.0.20"
      }
     },
     "06f02703c18040f78dccacfd7a60486c": {
      "model_module": "jupyter-js-widgets",
      "model_module_version": "^2.0.20",
      "model_name": "FloatSliderModel",
      "state": {
       "_model_module_version": "^2.0.20",
       "_view_module_version": "^2.0.20",
       "description": "t",
       "layout": "IPY_MODEL_761ad6c805ab4bf88990567af373c7b9",
       "max": 0.9,
       "step": 0.1,
       "value": 0.1
      }
     },
     "06f5cc364b9f426dad3bc73a4a5b0200": {
      "model_module": "jupyter-js-widgets",
      "model_module_version": "^2.0.20",
      "model_name": "OutputModel",
      "state": {
       "_dom_classes": [],
       "_model_module": "jupyter-js-widgets",
       "_model_module_version": "^2.0.20",
       "_view_module": "jupyter-js-widgets",
       "_view_module_version": "^2.0.20",
       "layout": "IPY_MODEL_7d2bf04279ae436f9f4a1c6b23bd2c8b",
       "msg_throttle": 1
      }
     },
     "07393de6fc274473a55d05ae621bd7a6": {
      "model_module": "jupyter-js-widgets",
      "model_module_version": "^2.0.20",
      "model_name": "OutputModel",
      "state": {
       "_dom_classes": [],
       "_model_module": "jupyter-js-widgets",
       "_model_module_version": "^2.0.20",
       "_view_module": "jupyter-js-widgets",
       "_view_module_version": "^2.0.20",
       "layout": "IPY_MODEL_de2a37e59bf84b199f3e851f51a65a4c",
       "msg_throttle": 1
      }
     },
     "076ac2c86a9e4c41a29ee81ae8fab4d2": {
      "model_module": "jupyter-js-widgets",
      "model_module_version": "^2.0.20",
      "model_name": "LayoutModel",
      "state": {
       "_model_module_version": "^2.0.20",
       "_view_module_version": "^2.0.20"
      }
     },
     "07b00f0bb2134bd1a2030b369c62ceaa": {
      "model_module": "jupyter-js-widgets",
      "model_module_version": "^2.0.20",
      "model_name": "FloatSliderModel",
      "state": {
       "_model_module_version": "^2.0.20",
       "_view_module_version": "^2.0.20",
       "description": "t",
       "layout": "IPY_MODEL_80246ceb1fda4f1993f2471350633143",
       "max": 0.9,
       "step": 0.1,
       "value": 0.1
      }
     },
     "08ef8a95fa5f4d238ad1eeabd22513bc": {
      "model_module": "jupyter-js-widgets",
      "model_module_version": "^2.0.20",
      "model_name": "OutputModel",
      "state": {
       "_dom_classes": [],
       "_model_module": "jupyter-js-widgets",
       "_model_module_version": "^2.0.20",
       "_view_module": "jupyter-js-widgets",
       "_view_module_version": "^2.0.20",
       "layout": "IPY_MODEL_48cdf1b4ae204a59adb36731b3ffa77f",
       "msg_throttle": 1
      }
     },
     "0920097341a24307ba28ec4d8f8593a1": {
      "model_module": "jupyter-js-widgets",
      "model_module_version": "^2.0.20",
      "model_name": "LayoutModel",
      "state": {
       "_model_module_version": "^2.0.20",
       "_view_module_version": "^2.0.20"
      }
     },
     "093a3e46ece44e26bba9c3f7e7c89924": {
      "model_module": "jupyter-js-widgets",
      "model_module_version": "^2.0.20",
      "model_name": "VBoxModel",
      "state": {
       "_dom_classes": [
        "widget-interact"
       ],
       "_model_module_version": "^2.0.20",
       "_view_module_version": "^2.0.20",
       "children": [
        "IPY_MODEL_72a87ad39d5b46fa94b357012ac30f49",
        "IPY_MODEL_5e5eaf7552a64b59ba37b660955df9f6"
       ],
       "layout": "IPY_MODEL_2aba3412bead43048831bdd8296b43f8"
      }
     },
     "093e5047c17e4f15aa2a55a09f4f9ff7": {
      "model_module": "jupyter-js-widgets",
      "model_module_version": "^2.0.20",
      "model_name": "LayoutModel",
      "state": {
       "_model_module_version": "^2.0.20",
       "_view_module_version": "^2.0.20"
      }
     },
     "094c2de6088c462e8aeaac24b956574d": {
      "model_module": "jupyter-js-widgets",
      "model_module_version": "^2.0.20",
      "model_name": "OutputModel",
      "state": {
       "_dom_classes": [],
       "_model_module": "jupyter-js-widgets",
       "_model_module_version": "^2.0.20",
       "_view_module": "jupyter-js-widgets",
       "_view_module_version": "^2.0.20",
       "layout": "IPY_MODEL_c7fe18033f9e48e0a94b8a312f52d644",
       "msg_throttle": 1
      }
     },
     "0a90a095d84e40839083a4d8b915f99f": {
      "model_module": "jupyter-js-widgets",
      "model_module_version": "^2.0.20",
      "model_name": "FloatSliderModel",
      "state": {
       "_model_module_version": "^2.0.20",
       "_view_module_version": "^2.0.20",
       "description": "t",
       "layout": "IPY_MODEL_7e0e6fc9333e43088748e3ef6606cf60",
       "max": 0.9,
       "step": 0.1,
       "value": 0.4
      }
     },
     "0ab2c2c8e5dd47e6a4296edbb9edbd7e": {
      "model_module": "jupyter-js-widgets",
      "model_module_version": "^2.0.20",
      "model_name": "LayoutModel",
      "state": {
       "_model_module_version": "^2.0.20",
       "_view_module_version": "^2.0.20"
      }
     },
     "0b29e9ab481a42398607ef3a01ca1301": {
      "model_module": "jupyter-js-widgets",
      "model_module_version": "^2.0.20",
      "model_name": "VBoxModel",
      "state": {
       "_dom_classes": [
        "widget-interact"
       ],
       "_model_module_version": "^2.0.20",
       "_view_module_version": "^2.0.20",
       "children": [
        "IPY_MODEL_29044dec8d894850836fa173b2a81990",
        "IPY_MODEL_3595677741a4474b9f63a2f5f805811f"
       ],
       "layout": "IPY_MODEL_92507b8d24714099be21dab3cebb1802"
      }
     },
     "0b3363d6ce2c4110955a33c9ca9b71d9": {
      "model_module": "jupyter-js-widgets",
      "model_module_version": "^2.0.20",
      "model_name": "VBoxModel",
      "state": {
       "_dom_classes": [
        "widget-interact"
       ],
       "_model_module_version": "^2.0.20",
       "_view_module_version": "^2.0.20",
       "children": [
        "IPY_MODEL_819657de7fe444ea8ac1c928f109cb79",
        "IPY_MODEL_2360165376b7496faf39e32f8d639fd6"
       ],
       "layout": "IPY_MODEL_2f1baac45bb948f2a6fded38a9d19611"
      }
     },
     "0b4315f97c0c4ad3a7b27264d8db53a6": {
      "model_module": "jupyter-js-widgets",
      "model_module_version": "^2.0.20",
      "model_name": "LayoutModel",
      "state": {
       "_model_module_version": "^2.0.20",
       "_view_module_version": "^2.0.20"
      }
     },
     "0b51ba026c5a4c34b82d2387b5a9bb2c": {
      "model_module": "jupyter-js-widgets",
      "model_module_version": "^2.0.20",
      "model_name": "LayoutModel",
      "state": {
       "_model_module_version": "^2.0.20",
       "_view_module_version": "^2.0.20"
      }
     },
     "0bd32b3c1e2f482684625d9ec045fce8": {
      "model_module": "jupyter-js-widgets",
      "model_module_version": "^2.0.20",
      "model_name": "FloatSliderModel",
      "state": {
       "_model_module_version": "^2.0.20",
       "_view_module_version": "^2.0.20",
       "description": "t",
       "layout": "IPY_MODEL_a0dffdf1caaf4aa5bae6cdb75f4ebd3f",
       "max": 0.9,
       "step": 0.1,
       "value": 0.6
      }
     },
     "0c005142a54f48d6be373f52ce2f6bc9": {
      "model_module": "jupyter-js-widgets",
      "model_module_version": "^2.0.20",
      "model_name": "OutputModel",
      "state": {
       "_dom_classes": [],
       "_model_module": "jupyter-js-widgets",
       "_model_module_version": "^2.0.20",
       "_view_module": "jupyter-js-widgets",
       "_view_module_version": "^2.0.20",
       "layout": "IPY_MODEL_6a3dae3347614db197ca701eb9728442",
       "msg_throttle": 1
      }
     },
     "0d52f4f0df0b4c288268c053e2a70ee5": {
      "model_module": "jupyter-js-widgets",
      "model_module_version": "^2.0.20",
      "model_name": "LayoutModel",
      "state": {
       "_model_module_version": "^2.0.20",
       "_view_module_version": "^2.0.20"
      }
     },
     "0dd6dec65a2b4040b59747060864d66b": {
      "model_module": "jupyter-js-widgets",
      "model_module_version": "^2.0.20",
      "model_name": "OutputModel",
      "state": {
       "_dom_classes": [],
       "_model_module": "jupyter-js-widgets",
       "_model_module_version": "^2.0.20",
       "_view_module": "jupyter-js-widgets",
       "_view_module_version": "^2.0.20",
       "layout": "IPY_MODEL_672e430e72d649e588519dc0a4f49d1b",
       "msg_throttle": 1
      }
     },
     "0df064d8768f46618ec17e06fa91adbd": {
      "model_module": "jupyter-js-widgets",
      "model_module_version": "^2.0.20",
      "model_name": "OutputModel",
      "state": {
       "_dom_classes": [],
       "_model_module": "jupyter-js-widgets",
       "_model_module_version": "^2.0.20",
       "_view_module": "jupyter-js-widgets",
       "_view_module_version": "^2.0.20",
       "layout": "IPY_MODEL_689b19eccccc4adf8b98726abb505a9f",
       "msg_throttle": 1
      }
     },
     "0e843b8af81f497aa7e196b460afdac2": {
      "model_module": "jupyter-js-widgets",
      "model_module_version": "^2.0.20",
      "model_name": "LayoutModel",
      "state": {
       "_model_module_version": "^2.0.20",
       "_view_module_version": "^2.0.20"
      }
     },
     "0ebb048fb6c54451b58d51c939ddda7d": {
      "model_module": "jupyter-js-widgets",
      "model_module_version": "^2.0.20",
      "model_name": "VBoxModel",
      "state": {
       "_dom_classes": [
        "widget-interact"
       ],
       "_model_module_version": "^2.0.20",
       "_view_module_version": "^2.0.20",
       "children": [
        "IPY_MODEL_60ad46b2aa5641a6aeb2d47d7e84565c",
        "IPY_MODEL_06f5cc364b9f426dad3bc73a4a5b0200"
       ],
       "layout": "IPY_MODEL_14108d293adf490f87e6c43d4c8f576d"
      }
     },
     "102523b9bebb4baf927c1ec0c0b64ef2": {
      "model_module": "jupyter-js-widgets",
      "model_module_version": "^2.0.20",
      "model_name": "VBoxModel",
      "state": {
       "_dom_classes": [
        "widget-interact"
       ],
       "_model_module_version": "^2.0.20",
       "_view_module_version": "^2.0.20",
       "children": [
        "IPY_MODEL_a73d800a83c04b03b325ba00026432cb",
        "IPY_MODEL_e5dbb01b5b9e492e8ff6a5bde2d8d776"
       ],
       "layout": "IPY_MODEL_f5c39af94a034f9b8399aee0bdc5ec53"
      }
     },
     "104abdcbac644a478e6319a13fa7b3b4": {
      "model_module": "jupyter-js-widgets",
      "model_module_version": "^2.0.20",
      "model_name": "LayoutModel",
      "state": {
       "_model_module_version": "^2.0.20",
       "_view_module_version": "^2.0.20"
      }
     },
     "10c8c47725e34252a6df51b33fe7605e": {
      "model_module": "jupyter-js-widgets",
      "model_module_version": "^2.0.20",
      "model_name": "LayoutModel",
      "state": {
       "_model_module_version": "^2.0.20",
       "_view_module_version": "^2.0.20"
      }
     },
     "1127eb5b6d3948849977c27ec703509f": {
      "model_module": "jupyter-js-widgets",
      "model_module_version": "^2.0.20",
      "model_name": "FloatSliderModel",
      "state": {
       "_model_module_version": "^2.0.20",
       "_view_module_version": "^2.0.20",
       "description": "t",
       "layout": "IPY_MODEL_861b773b9b124cf89197be8d08caabcb",
       "max": 0.9,
       "step": 0.1,
       "value": 0.1
      }
     },
     "1136eeeb805746e9b21b979880e2e22b": {
      "model_module": "jupyter-js-widgets",
      "model_module_version": "^2.0.20",
      "model_name": "LayoutModel",
      "state": {
       "_model_module_version": "^2.0.20",
       "_view_module_version": "^2.0.20"
      }
     },
     "115f0e45a12045d9b1a8be17939a705a": {
      "model_module": "jupyter-js-widgets",
      "model_module_version": "^2.0.20",
      "model_name": "OutputModel",
      "state": {
       "_dom_classes": [],
       "_model_module": "jupyter-js-widgets",
       "_model_module_version": "^2.0.20",
       "_view_module": "jupyter-js-widgets",
       "_view_module_version": "^2.0.20",
       "layout": "IPY_MODEL_ec9b737443f9400193e67c4d83339267",
       "msg_throttle": 1
      }
     },
     "11d4b0f25cb845ec8c7a44996c537f83": {
      "model_module": "jupyter-js-widgets",
      "model_module_version": "^2.0.20",
      "model_name": "LayoutModel",
      "state": {
       "_model_module_version": "^2.0.20",
       "_view_module_version": "^2.0.20"
      }
     },
     "13887db4872340a590087fd939b9bc22": {
      "model_module": "jupyter-js-widgets",
      "model_module_version": "^2.0.20",
      "model_name": "VBoxModel",
      "state": {
       "_dom_classes": [
        "widget-interact"
       ],
       "_model_module_version": "^2.0.20",
       "_view_module_version": "^2.0.20",
       "children": [
        "IPY_MODEL_213e7faf870a4288ab85086dafdfdc05",
        "IPY_MODEL_07393de6fc274473a55d05ae621bd7a6"
       ],
       "layout": "IPY_MODEL_1d3a7a107f2a4069946ec70313a11f39"
      }
     },
     "13f122daf20f43c99cc0b43ad5c63567": {
      "model_module": "jupyter-js-widgets",
      "model_module_version": "^2.0.20",
      "model_name": "FloatSliderModel",
      "state": {
       "_model_module_version": "^2.0.20",
       "_view_module_version": "^2.0.20",
       "description": "t",
       "layout": "IPY_MODEL_05c219f23e9d485f96a7c409cbd7c546",
       "max": 0.9,
       "step": 0.1,
       "value": 0.1
      }
     },
     "14108d293adf490f87e6c43d4c8f576d": {
      "model_module": "jupyter-js-widgets",
      "model_module_version": "^2.0.20",
      "model_name": "LayoutModel",
      "state": {
       "_model_module_version": "^2.0.20",
       "_view_module_version": "^2.0.20"
      }
     },
     "14d1e95460b447c59ee009c498b4a196": {
      "model_module": "jupyter-js-widgets",
      "model_module_version": "^2.0.20",
      "model_name": "LayoutModel",
      "state": {
       "_model_module_version": "^2.0.20",
       "_view_module_version": "^2.0.20"
      }
     },
     "166466ef77694bb5a725da645a75722c": {
      "model_module": "jupyter-js-widgets",
      "model_module_version": "^2.0.20",
      "model_name": "OutputModel",
      "state": {
       "_dom_classes": [],
       "_model_module": "jupyter-js-widgets",
       "_model_module_version": "^2.0.20",
       "_view_module": "jupyter-js-widgets",
       "_view_module_version": "^2.0.20",
       "layout": "IPY_MODEL_2e846408e7bd4eb1b62efff3624117f5",
       "msg_throttle": 1
      }
     },
     "168ef4473aac4931863f5c0317a356dc": {
      "model_module": "jupyter-js-widgets",
      "model_module_version": "^2.0.20",
      "model_name": "LayoutModel",
      "state": {
       "_model_module_version": "^2.0.20",
       "_view_module_version": "^2.0.20"
      }
     },
     "16960b59e6bb420f970fbb83ccc78cad": {
      "model_module": "jupyter-js-widgets",
      "model_module_version": "^2.0.20",
      "model_name": "LayoutModel",
      "state": {
       "_model_module_version": "^2.0.20",
       "_view_module_version": "^2.0.20"
      }
     },
     "16ea49b70bd740dea4d5c20d6326bb46": {
      "model_module": "jupyter-js-widgets",
      "model_module_version": "^2.0.20",
      "model_name": "OutputModel",
      "state": {
       "_dom_classes": [],
       "_model_module": "jupyter-js-widgets",
       "_model_module_version": "^2.0.20",
       "_view_module": "jupyter-js-widgets",
       "_view_module_version": "^2.0.20",
       "layout": "IPY_MODEL_532b5b4cbbce488bb3297916670dc242",
       "msg_throttle": 1
      }
     },
     "17b36801469540b18a92981ea4ae9887": {
      "model_module": "jupyter-js-widgets",
      "model_module_version": "^2.0.20",
      "model_name": "LayoutModel",
      "state": {
       "_model_module_version": "^2.0.20",
       "_view_module_version": "^2.0.20"
      }
     },
     "17fc3a40d1924368b1f4fc65167ed76c": {
      "model_module": "jupyter-js-widgets",
      "model_module_version": "^2.0.20",
      "model_name": "LayoutModel",
      "state": {
       "_model_module_version": "^2.0.20",
       "_view_module_version": "^2.0.20"
      }
     },
     "1817f26349104497aa942c0113afe7fa": {
      "model_module": "jupyter-js-widgets",
      "model_module_version": "^2.0.20",
      "model_name": "LayoutModel",
      "state": {
       "_model_module_version": "^2.0.20",
       "_view_module_version": "^2.0.20"
      }
     },
     "194ba550885d4973bdcba91bd64c636f": {
      "model_module": "jupyter-js-widgets",
      "model_module_version": "^2.0.20",
      "model_name": "OutputModel",
      "state": {
       "_dom_classes": [],
       "_model_module": "jupyter-js-widgets",
       "_model_module_version": "^2.0.20",
       "_view_module": "jupyter-js-widgets",
       "_view_module_version": "^2.0.20",
       "layout": "IPY_MODEL_fc143e7266e440be993f3ea5a6deb740",
       "msg_throttle": 1
      }
     },
     "1980ae9adebf46c88aa0c9c404306c8c": {
      "model_module": "jupyter-js-widgets",
      "model_module_version": "^2.0.20",
      "model_name": "OutputModel",
      "state": {
       "_dom_classes": [],
       "_model_module": "jupyter-js-widgets",
       "_model_module_version": "^2.0.20",
       "_view_module": "jupyter-js-widgets",
       "_view_module_version": "^2.0.20",
       "layout": "IPY_MODEL_cbcda35633f845fab2a36db9eb4c5af8",
       "msg_throttle": 1
      }
     },
     "19d1f7bb3f9e424ab3612840ed7bd928": {
      "model_module": "jupyter-js-widgets",
      "model_module_version": "^2.0.20",
      "model_name": "LayoutModel",
      "state": {
       "_model_module_version": "^2.0.20",
       "_view_module_version": "^2.0.20"
      }
     },
     "1a2e911c68d64ccf8fb45ffd405c62c8": {
      "model_module": "jupyter-js-widgets",
      "model_module_version": "^2.0.20",
      "model_name": "LayoutModel",
      "state": {
       "_model_module_version": "^2.0.20",
       "_view_module_version": "^2.0.20"
      }
     },
     "1abc32f1004a4557b1e92d9de542868b": {
      "model_module": "jupyter-js-widgets",
      "model_module_version": "^2.0.20",
      "model_name": "OutputModel",
      "state": {
       "_dom_classes": [],
       "_model_module": "jupyter-js-widgets",
       "_model_module_version": "^2.0.20",
       "_view_module": "jupyter-js-widgets",
       "_view_module_version": "^2.0.20",
       "layout": "IPY_MODEL_d2dbc362f0e34e2d84664f0bcb903036",
       "msg_throttle": 1
      }
     },
     "1b1b8ac4dd624b538449ce1780bb28e0": {
      "model_module": "jupyter-js-widgets",
      "model_module_version": "^2.0.20",
      "model_name": "FloatSliderModel",
      "state": {
       "_model_module_version": "^2.0.20",
       "_view_module_version": "^2.0.20",
       "description": "t",
       "layout": "IPY_MODEL_3425ebc94297424593dc8f4f5600fc1d",
       "max": 0.9,
       "step": 0.1,
       "value": 0.1
      }
     },
     "1b2a9f0ac5e8424a915e6b2f51f2e253": {
      "model_module": "jupyter-js-widgets",
      "model_module_version": "^2.0.20",
      "model_name": "LayoutModel",
      "state": {
       "_model_module_version": "^2.0.20",
       "_view_module_version": "^2.0.20"
      }
     },
     "1b9a2a84e25747cd9b91e02455881912": {
      "model_module": "jupyter-js-widgets",
      "model_module_version": "^2.0.20",
      "model_name": "LayoutModel",
      "state": {
       "_model_module_version": "^2.0.20",
       "_view_module_version": "^2.0.20"
      }
     },
     "1b9ed3091ede4329be9c1f9593d00255": {
      "model_module": "jupyter-js-widgets",
      "model_module_version": "^2.0.20",
      "model_name": "LayoutModel",
      "state": {
       "_model_module_version": "^2.0.20",
       "_view_module_version": "^2.0.20"
      }
     },
     "1bb1f01084f048f1b3119252565d6f92": {
      "model_module": "jupyter-js-widgets",
      "model_module_version": "^2.0.20",
      "model_name": "FloatSliderModel",
      "state": {
       "_model_module_version": "^2.0.20",
       "_view_module_version": "^2.0.20",
       "description": "t",
       "layout": "IPY_MODEL_a58181a8fd99463e80a65479ef3cc3bf",
       "max": 0.9,
       "step": 0.1,
       "value": 0.2
      }
     },
     "1d3a7a107f2a4069946ec70313a11f39": {
      "model_module": "jupyter-js-widgets",
      "model_module_version": "^2.0.20",
      "model_name": "LayoutModel",
      "state": {
       "_model_module_version": "^2.0.20",
       "_view_module_version": "^2.0.20"
      }
     },
     "1d9c8c877dfe4002a812dd40c9a73f9e": {
      "model_module": "jupyter-js-widgets",
      "model_module_version": "^2.0.20",
      "model_name": "VBoxModel",
      "state": {
       "_dom_classes": [
        "widget-interact"
       ],
       "_model_module_version": "^2.0.20",
       "_view_module_version": "^2.0.20",
       "children": [
        "IPY_MODEL_00e3b6f22d5f4d71ac72ac45d8babbf4",
        "IPY_MODEL_45e59a664ab644d3bea928b6c6428b74"
       ],
       "layout": "IPY_MODEL_00fc24dec8b14f869688acea1eedfe0a"
      }
     },
     "1ef0dc3600c84678bc3e4a08958ff183": {
      "model_module": "jupyter-js-widgets",
      "model_module_version": "^2.0.20",
      "model_name": "VBoxModel",
      "state": {
       "_dom_classes": [
        "widget-interact"
       ],
       "_model_module_version": "^2.0.20",
       "_view_module_version": "^2.0.20",
       "children": [
        "IPY_MODEL_426f773b36a145719b781ede95ed3513",
        "IPY_MODEL_c93b54ac5b124d80ab53c00bd99e9993"
       ],
       "layout": "IPY_MODEL_8f47c1d0c3ee4eebb596a82e3e5aa17d"
      }
     },
     "1f32bd022a6f40f5b701ebdf6fbad450": {
      "model_module": "jupyter-js-widgets",
      "model_module_version": "^2.0.20",
      "model_name": "VBoxModel",
      "state": {
       "_dom_classes": [
        "widget-interact"
       ],
       "_model_module_version": "^2.0.20",
       "_view_module_version": "^2.0.20",
       "children": [
        "IPY_MODEL_0bd32b3c1e2f482684625d9ec045fce8",
        "IPY_MODEL_0df064d8768f46618ec17e06fa91adbd"
       ],
       "layout": "IPY_MODEL_6965a5c1dd8f477ba9e29fe6e885443c"
      }
     },
     "1f4b9fd73d21478781131fc93ef626a4": {
      "model_module": "jupyter-js-widgets",
      "model_module_version": "^2.0.20",
      "model_name": "LayoutModel",
      "state": {
       "_model_module_version": "^2.0.20",
       "_view_module_version": "^2.0.20"
      }
     },
     "1fad1b59caa44cbe91c00ecc8db418e3": {
      "model_module": "jupyter-js-widgets",
      "model_module_version": "^2.0.20",
      "model_name": "OutputModel",
      "state": {
       "_dom_classes": [],
       "_model_module": "jupyter-js-widgets",
       "_model_module_version": "^2.0.20",
       "_view_module": "jupyter-js-widgets",
       "_view_module_version": "^2.0.20",
       "layout": "IPY_MODEL_d633faadf11f4256898d1ece500cd82f",
       "msg_throttle": 1
      }
     },
     "2007689269e44122a5ec3c3528725272": {
      "model_module": "jupyter-js-widgets",
      "model_module_version": "^2.0.20",
      "model_name": "VBoxModel",
      "state": {
       "_dom_classes": [
        "widget-interact"
       ],
       "_model_module_version": "^2.0.20",
       "_view_module_version": "^2.0.20",
       "children": [
        "IPY_MODEL_86af83d799ca42bc967eea50662f9d69",
        "IPY_MODEL_fe569c514e4c40268102926f4b8da18d"
       ],
       "layout": "IPY_MODEL_19d1f7bb3f9e424ab3612840ed7bd928"
      }
     },
     "213e7faf870a4288ab85086dafdfdc05": {
      "model_module": "jupyter-js-widgets",
      "model_module_version": "^2.0.20",
      "model_name": "FloatSliderModel",
      "state": {
       "_model_module_version": "^2.0.20",
       "_view_module_version": "^2.0.20",
       "description": "t",
       "layout": "IPY_MODEL_40e44c6e07084d4fa4179e5baec54acb",
       "max": 0.9,
       "step": 0.1,
       "value": 0.1
      }
     },
     "217eb41f94cd4185aa4111ecdd070ff2": {
      "model_module": "jupyter-js-widgets",
      "model_module_version": "^2.0.20",
      "model_name": "LayoutModel",
      "state": {
       "_model_module_version": "^2.0.20",
       "_view_module_version": "^2.0.20"
      }
     },
     "21bc2ef4a6364e7d8be49404b073d210": {
      "model_module": "jupyter-js-widgets",
      "model_module_version": "^2.0.20",
      "model_name": "LayoutModel",
      "state": {
       "_model_module_version": "^2.0.20",
       "_view_module_version": "^2.0.20"
      }
     },
     "220263df0c704541ba92d9abf6dbce0a": {
      "model_module": "jupyter-js-widgets",
      "model_module_version": "^2.0.20",
      "model_name": "LayoutModel",
      "state": {
       "_model_module_version": "^2.0.20",
       "_view_module_version": "^2.0.20"
      }
     },
     "229c22815c8445e9b38bff3b12dba7d1": {
      "model_module": "jupyter-js-widgets",
      "model_module_version": "^2.0.20",
      "model_name": "LayoutModel",
      "state": {
       "_model_module_version": "^2.0.20",
       "_view_module_version": "^2.0.20"
      }
     },
     "22bb89a940d44d0e90416fafd4fb7a4c": {
      "model_module": "jupyter-js-widgets",
      "model_module_version": "^2.0.20",
      "model_name": "LayoutModel",
      "state": {
       "_model_module_version": "^2.0.20",
       "_view_module_version": "^2.0.20"
      }
     },
     "22c488ac727f4b98a6f22c65e7da7797": {
      "model_module": "jupyter-js-widgets",
      "model_module_version": "^2.0.20",
      "model_name": "LayoutModel",
      "state": {
       "_model_module_version": "^2.0.20",
       "_view_module_version": "^2.0.20"
      }
     },
     "2360165376b7496faf39e32f8d639fd6": {
      "model_module": "jupyter-js-widgets",
      "model_module_version": "^2.0.20",
      "model_name": "OutputModel",
      "state": {
       "_dom_classes": [],
       "_model_module": "jupyter-js-widgets",
       "_model_module_version": "^2.0.20",
       "_view_module": "jupyter-js-widgets",
       "_view_module_version": "^2.0.20",
       "layout": "IPY_MODEL_a32256aeaf824cfab9c5cd742176dc4f",
       "msg_throttle": 1
      }
     },
     "23971347cfb5488b96b8b2e196aa0f71": {
      "model_module": "jupyter-js-widgets",
      "model_module_version": "^2.0.20",
      "model_name": "FloatSliderModel",
      "state": {
       "_model_module_version": "^2.0.20",
       "_view_module_version": "^2.0.20",
       "description": "t",
       "layout": "IPY_MODEL_c43fb5424c774613afd897654e6563da",
       "max": 0.9,
       "step": 0.1,
       "value": 0.1
      }
     },
     "24130e5af87c4659863f42ce88f64fc6": {
      "model_module": "jupyter-js-widgets",
      "model_module_version": "^2.0.20",
      "model_name": "OutputModel",
      "state": {
       "_dom_classes": [],
       "_model_module": "jupyter-js-widgets",
       "_model_module_version": "^2.0.20",
       "_view_module": "jupyter-js-widgets",
       "_view_module_version": "^2.0.20",
       "layout": "IPY_MODEL_e383457bd6c649039f0ed3b3cb8fc0af",
       "msg_throttle": 1
      }
     },
     "265f703bc3da4684ae4545f1f6647dc1": {
      "model_module": "jupyter-js-widgets",
      "model_module_version": "^2.0.20",
      "model_name": "VBoxModel",
      "state": {
       "_dom_classes": [
        "widget-interact"
       ],
       "_model_module_version": "^2.0.20",
       "_view_module_version": "^2.0.20",
       "children": [
        "IPY_MODEL_830d88278af44c1d84589e828a88cc18",
        "IPY_MODEL_a49850400fc848f2a221e8c6024a75b7"
       ],
       "layout": "IPY_MODEL_7cf155e1ee4f4278a318697a732fcae0"
      }
     },
     "267e52fbbd9846c6ae9a3006ea6325d3": {
      "model_module": "jupyter-js-widgets",
      "model_module_version": "^2.0.20",
      "model_name": "LayoutModel",
      "state": {
       "_model_module_version": "^2.0.20",
       "_view_module_version": "^2.0.20"
      }
     },
     "26e88510cc4045a2995a1ecdf342c009": {
      "model_module": "jupyter-js-widgets",
      "model_module_version": "^2.0.20",
      "model_name": "LayoutModel",
      "state": {
       "_model_module_version": "^2.0.20",
       "_view_module_version": "^2.0.20"
      }
     },
     "26fa1b91bf1942d98d34a786e074ed2b": {
      "model_module": "jupyter-js-widgets",
      "model_module_version": "^2.0.20",
      "model_name": "OutputModel",
      "state": {
       "_dom_classes": [],
       "_model_module": "jupyter-js-widgets",
       "_model_module_version": "^2.0.20",
       "_view_module": "jupyter-js-widgets",
       "_view_module_version": "^2.0.20",
       "layout": "IPY_MODEL_10c8c47725e34252a6df51b33fe7605e",
       "msg_throttle": 1
      }
     },
     "2827c6baf2c546d1ac78369db52db93f": {
      "model_module": "jupyter-js-widgets",
      "model_module_version": "^2.0.20",
      "model_name": "LayoutModel",
      "state": {
       "_model_module_version": "^2.0.20",
       "_view_module_version": "^2.0.20"
      }
     },
     "28b8c38b77834b00a9bdd347c8a973f1": {
      "model_module": "jupyter-js-widgets",
      "model_module_version": "^2.0.20",
      "model_name": "LayoutModel",
      "state": {
       "_model_module_version": "^2.0.20",
       "_view_module_version": "^2.0.20"
      }
     },
     "28cfc9cef788459eb2757ccef311a2bf": {
      "model_module": "jupyter-js-widgets",
      "model_module_version": "^2.0.20",
      "model_name": "LayoutModel",
      "state": {
       "_model_module_version": "^2.0.20",
       "_view_module_version": "^2.0.20"
      }
     },
     "29044dec8d894850836fa173b2a81990": {
      "model_module": "jupyter-js-widgets",
      "model_module_version": "^2.0.20",
      "model_name": "FloatSliderModel",
      "state": {
       "_model_module_version": "^2.0.20",
       "_view_module_version": "^2.0.20",
       "description": "t",
       "layout": "IPY_MODEL_51a3eefe897d4e15a35c8ec3fc377cab",
       "max": 0.9,
       "step": 0.1,
       "value": 0.1
      }
     },
     "2aba3412bead43048831bdd8296b43f8": {
      "model_module": "jupyter-js-widgets",
      "model_module_version": "^2.0.20",
      "model_name": "LayoutModel",
      "state": {
       "_model_module_version": "^2.0.20",
       "_view_module_version": "^2.0.20"
      }
     },
     "2ae3f4792cf44276af825059c5e24122": {
      "model_module": "jupyter-js-widgets",
      "model_module_version": "^2.0.20",
      "model_name": "FloatSliderModel",
      "state": {
       "_model_module_version": "^2.0.20",
       "_view_module_version": "^2.0.20",
       "description": "t",
       "layout": "IPY_MODEL_58b0be3f1e4b404c830b366e07b1c3ce",
       "max": 0.9,
       "step": 0.1,
       "value": 0.6
      }
     },
     "2b3552fe16a64a32b8c406e526d9ac97": {
      "model_module": "jupyter-js-widgets",
      "model_module_version": "^2.0.20",
      "model_name": "FloatSliderModel",
      "state": {
       "_model_module_version": "^2.0.20",
       "_view_module_version": "^2.0.20",
       "description": "t",
       "layout": "IPY_MODEL_076ac2c86a9e4c41a29ee81ae8fab4d2",
       "max": 0.9,
       "step": 0.1,
       "value": 0.1
      }
     },
     "2ba4f641036144c8839a0062f80da283": {
      "model_module": "jupyter-js-widgets",
      "model_module_version": "^2.0.20",
      "model_name": "LayoutModel",
      "state": {
       "_model_module_version": "^2.0.20",
       "_view_module_version": "^2.0.20"
      }
     },
     "2c3fdabb24bb4a07b186085611e14f11": {
      "model_module": "jupyter-js-widgets",
      "model_module_version": "^2.0.20",
      "model_name": "LayoutModel",
      "state": {
       "_model_module_version": "^2.0.20",
       "_view_module_version": "^2.0.20"
      }
     },
     "2c6bdaf51143494b9b20c1340d7f6663": {
      "model_module": "jupyter-js-widgets",
      "model_module_version": "^2.0.20",
      "model_name": "LayoutModel",
      "state": {
       "_model_module_version": "^2.0.20",
       "_view_module_version": "^2.0.20"
      }
     },
     "2ccc21860f784d95b18455a1c50fe7d4": {
      "model_module": "jupyter-js-widgets",
      "model_module_version": "^2.0.20",
      "model_name": "LayoutModel",
      "state": {
       "_model_module_version": "^2.0.20",
       "_view_module_version": "^2.0.20"
      }
     },
     "2d45ba921e804465bdf8f2f639ca7e69": {
      "model_module": "jupyter-js-widgets",
      "model_module_version": "^2.0.20",
      "model_name": "VBoxModel",
      "state": {
       "_dom_classes": [
        "widget-interact"
       ],
       "_model_module_version": "^2.0.20",
       "_view_module_version": "^2.0.20",
       "children": [
        "IPY_MODEL_466d6925a0ce4da59b46322eb2f662a7",
        "IPY_MODEL_ef2e31e70fe34e0fb4601c6470a1dbb1"
       ],
       "layout": "IPY_MODEL_a86de52679b14004affa2de2c5e2bdcf"
      }
     },
     "2e846408e7bd4eb1b62efff3624117f5": {
      "model_module": "jupyter-js-widgets",
      "model_module_version": "^2.0.20",
      "model_name": "LayoutModel",
      "state": {
       "_model_module_version": "^2.0.20",
       "_view_module_version": "^2.0.20"
      }
     },
     "2ed0a95706874674ae6510605dbaee80": {
      "model_module": "jupyter-js-widgets",
      "model_module_version": "^2.0.20",
      "model_name": "LayoutModel",
      "state": {
       "_model_module_version": "^2.0.20",
       "_view_module_version": "^2.0.20"
      }
     },
     "2ee8f5c43df34003be539474e704e735": {
      "model_module": "jupyter-js-widgets",
      "model_module_version": "^2.0.20",
      "model_name": "LayoutModel",
      "state": {
       "_model_module_version": "^2.0.20",
       "_view_module_version": "^2.0.20"
      }
     },
     "2f149f250c404d0c809d2644a54e9c2d": {
      "model_module": "jupyter-js-widgets",
      "model_module_version": "^2.0.20",
      "model_name": "FloatSliderModel",
      "state": {
       "_model_module_version": "^2.0.20",
       "_view_module_version": "^2.0.20",
       "description": "t",
       "layout": "IPY_MODEL_a921d95bee8f4154b19cc0057d0a63d3",
       "max": 0.9,
       "step": 0.1,
       "value": 0.1
      }
     },
     "2f1baac45bb948f2a6fded38a9d19611": {
      "model_module": "jupyter-js-widgets",
      "model_module_version": "^2.0.20",
      "model_name": "LayoutModel",
      "state": {
       "_model_module_version": "^2.0.20",
       "_view_module_version": "^2.0.20"
      }
     },
     "2f614131bd3a467cbccacb6faa4823a4": {
      "model_module": "jupyter-js-widgets",
      "model_module_version": "^2.0.20",
      "model_name": "LayoutModel",
      "state": {
       "_model_module_version": "^2.0.20",
       "_view_module_version": "^2.0.20"
      }
     },
     "2fc8cec965c34ab0a8d7ce56c8c916f2": {
      "model_module": "jupyter-js-widgets",
      "model_module_version": "^2.0.20",
      "model_name": "LayoutModel",
      "state": {
       "_model_module_version": "^2.0.20",
       "_view_module_version": "^2.0.20"
      }
     },
     "2fe60e9cdcff48d0955b0bd8191d5474": {
      "model_module": "jupyter-js-widgets",
      "model_module_version": "^2.0.20",
      "model_name": "LayoutModel",
      "state": {
       "_model_module_version": "^2.0.20",
       "_view_module_version": "^2.0.20"
      }
     },
     "30fe2e4281914f929d6b97ca4d3a16e8": {
      "model_module": "jupyter-js-widgets",
      "model_module_version": "^2.0.20",
      "model_name": "LayoutModel",
      "state": {
       "_model_module_version": "^2.0.20",
       "_view_module_version": "^2.0.20"
      }
     },
     "31771355674645da95888d1ddc18fc28": {
      "model_module": "jupyter-js-widgets",
      "model_module_version": "^2.0.20",
      "model_name": "VBoxModel",
      "state": {
       "_dom_classes": [
        "widget-interact"
       ],
       "_model_module_version": "^2.0.20",
       "_view_module_version": "^2.0.20",
       "children": [
        "IPY_MODEL_bb332d5d8a2448abb9d7c92db605e67f",
        "IPY_MODEL_194ba550885d4973bdcba91bd64c636f"
       ],
       "layout": "IPY_MODEL_b18ce82224a54b6ea330b167dd8e897a"
      }
     },
     "3280ed956ef7447cbe3a4c86d0b37f48": {
      "model_module": "jupyter-js-widgets",
      "model_module_version": "^2.0.20",
      "model_name": "LayoutModel",
      "state": {
       "_model_module_version": "^2.0.20",
       "_view_module_version": "^2.0.20"
      }
     },
     "32a8998fb90345efa5241b4e7738b20f": {
      "model_module": "jupyter-js-widgets",
      "model_module_version": "^2.0.20",
      "model_name": "LayoutModel",
      "state": {
       "_model_module_version": "^2.0.20",
       "_view_module_version": "^2.0.20"
      }
     },
     "33291bb2d8f2477f83d504c41a29d6d8": {
      "model_module": "jupyter-js-widgets",
      "model_module_version": "^2.0.20",
      "model_name": "LayoutModel",
      "state": {
       "_model_module_version": "^2.0.20",
       "_view_module_version": "^2.0.20"
      }
     },
     "336d41cc592e4cb7a840927b85cfc52f": {
      "model_module": "jupyter-js-widgets",
      "model_module_version": "^2.0.20",
      "model_name": "LayoutModel",
      "state": {
       "_model_module_version": "^2.0.20",
       "_view_module_version": "^2.0.20"
      }
     },
     "339c9b5566a34eac923de88844b24893": {
      "model_module": "jupyter-js-widgets",
      "model_module_version": "^2.0.20",
      "model_name": "FloatSliderModel",
      "state": {
       "_model_module_version": "^2.0.20",
       "_view_module_version": "^2.0.20",
       "description": "t",
       "layout": "IPY_MODEL_97206cede1694e03ba117c31f1974bbc",
       "max": 0.9,
       "step": 0.1,
       "value": 0.1
      }
     },
     "3425ebc94297424593dc8f4f5600fc1d": {
      "model_module": "jupyter-js-widgets",
      "model_module_version": "^2.0.20",
      "model_name": "LayoutModel",
      "state": {
       "_model_module_version": "^2.0.20",
       "_view_module_version": "^2.0.20"
      }
     },
     "343d6461d91848739edd8fdbf80ce338": {
      "model_module": "jupyter-js-widgets",
      "model_module_version": "^2.0.20",
      "model_name": "LayoutModel",
      "state": {
       "_model_module_version": "^2.0.20",
       "_view_module_version": "^2.0.20"
      }
     },
     "344d14bd2c274ec2b3cf9b66a4657222": {
      "model_module": "jupyter-js-widgets",
      "model_module_version": "^2.0.20",
      "model_name": "VBoxModel",
      "state": {
       "_dom_classes": [
        "widget-interact"
       ],
       "_model_module_version": "^2.0.20",
       "_view_module_version": "^2.0.20",
       "children": [
        "IPY_MODEL_758c2d4b0e1d4ac1b65b4b0044292f2d",
        "IPY_MODEL_f80f894677964a5b968e7b247ddcf20b"
       ],
       "layout": "IPY_MODEL_be84a442fd1c4dbcbad7c8c81b51407e"
      }
     },
     "3501d29705f849a5bcecb65e21d85140": {
      "model_module": "jupyter-js-widgets",
      "model_module_version": "^2.0.20",
      "model_name": "FloatSliderModel",
      "state": {
       "_model_module_version": "^2.0.20",
       "_view_module_version": "^2.0.20",
       "description": "t",
       "layout": "IPY_MODEL_99579b7bd1f548378a5936cc2a6318bf",
       "max": 0.9,
       "step": 0.1,
       "value": 0.7
      }
     },
     "3579abbe53bd4af4b6e73bb073bdd885": {
      "model_module": "jupyter-js-widgets",
      "model_module_version": "^2.0.20",
      "model_name": "VBoxModel",
      "state": {
       "_dom_classes": [
        "widget-interact"
       ],
       "_model_module_version": "^2.0.20",
       "_view_module_version": "^2.0.20",
       "children": [
        "IPY_MODEL_0071baa5241441b2af43b4495b5dbd01",
        "IPY_MODEL_487ff49bfbfe4b90a1d47bb3e592897d"
       ],
       "layout": "IPY_MODEL_db7b705f8c3d400d8e60e501221101e0"
      }
     },
     "3595677741a4474b9f63a2f5f805811f": {
      "model_module": "jupyter-js-widgets",
      "model_module_version": "^2.0.20",
      "model_name": "OutputModel",
      "state": {
       "_dom_classes": [],
       "_model_module": "jupyter-js-widgets",
       "_model_module_version": "^2.0.20",
       "_view_module": "jupyter-js-widgets",
       "_view_module_version": "^2.0.20",
       "layout": "IPY_MODEL_552a79ddd7a54a9a9bc1d385b33bf8fd",
       "msg_throttle": 1
      }
     },
     "378596a2b2fb4138b6bde8229113d073": {
      "model_module": "jupyter-js-widgets",
      "model_module_version": "^2.0.20",
      "model_name": "LayoutModel",
      "state": {
       "_model_module_version": "^2.0.20",
       "_view_module_version": "^2.0.20"
      }
     },
     "37e8c4ed0c96491b907d5efbc96af9ef": {
      "model_module": "jupyter-js-widgets",
      "model_module_version": "^2.0.20",
      "model_name": "OutputModel",
      "state": {
       "_dom_classes": [],
       "_model_module": "jupyter-js-widgets",
       "_model_module_version": "^2.0.20",
       "_view_module": "jupyter-js-widgets",
       "_view_module_version": "^2.0.20",
       "layout": "IPY_MODEL_3bb2070cf1844799a1cafcd38601dd18",
       "msg_throttle": 1
      }
     },
     "38e6eafda6854628ab04e796da34109a": {
      "model_module": "jupyter-js-widgets",
      "model_module_version": "^2.0.20",
      "model_name": "VBoxModel",
      "state": {
       "_dom_classes": [
        "widget-interact"
       ],
       "_model_module_version": "^2.0.20",
       "_view_module_version": "^2.0.20",
       "children": [
        "IPY_MODEL_e3ca7943ba484df5a205a4848e26af2b",
        "IPY_MODEL_24130e5af87c4659863f42ce88f64fc6"
       ],
       "layout": "IPY_MODEL_57e1f93b4e3c484f9f5b2958252e64bb"
      }
     },
     "390a4c117f1e4c1681595982bef7f23e": {
      "model_module": "jupyter-js-widgets",
      "model_module_version": "^2.0.20",
      "model_name": "LayoutModel",
      "state": {
       "_model_module_version": "^2.0.20",
       "_view_module_version": "^2.0.20"
      }
     },
     "39bee00a407f44e6bc90185da8c393a7": {
      "model_module": "jupyter-js-widgets",
      "model_module_version": "^2.0.20",
      "model_name": "LayoutModel",
      "state": {
       "_model_module_version": "^2.0.20",
       "_view_module_version": "^2.0.20"
      }
     },
     "39d577ad07e5480780c7ef2a4154a69e": {
      "model_module": "jupyter-js-widgets",
      "model_module_version": "^2.0.20",
      "model_name": "LayoutModel",
      "state": {
       "_model_module_version": "^2.0.20",
       "_view_module_version": "^2.0.20"
      }
     },
     "3a28a32f883a468ead7d4fb9cad0665d": {
      "model_module": "jupyter-js-widgets",
      "model_module_version": "^2.0.20",
      "model_name": "OutputModel",
      "state": {
       "_dom_classes": [],
       "_model_module": "jupyter-js-widgets",
       "_model_module_version": "^2.0.20",
       "_view_module": "jupyter-js-widgets",
       "_view_module_version": "^2.0.20",
       "layout": "IPY_MODEL_3c059062166740c8a0987ac382ce7ac1",
       "msg_throttle": 1
      }
     },
     "3ac77de6cb1943f49a7d14f1c6c39918": {
      "model_module": "jupyter-js-widgets",
      "model_module_version": "^2.0.20",
      "model_name": "FloatSliderModel",
      "state": {
       "_model_module_version": "^2.0.20",
       "_view_module_version": "^2.0.20",
       "description": "t",
       "layout": "IPY_MODEL_f025a978c29c4f35b5bc6f2631865e3f",
       "max": 0.9,
       "step": 0.1,
       "value": 0.4
      }
     },
     "3b957b35ae8645558010ad0269049e82": {
      "model_module": "jupyter-js-widgets",
      "model_module_version": "^2.0.20",
      "model_name": "LayoutModel",
      "state": {
       "_model_module_version": "^2.0.20",
       "_view_module_version": "^2.0.20"
      }
     },
     "3ba921d13b934bc8a4a19755bf33a148": {
      "model_module": "jupyter-js-widgets",
      "model_module_version": "^2.0.20",
      "model_name": "FloatSliderModel",
      "state": {
       "_model_module_version": "^2.0.20",
       "_view_module_version": "^2.0.20",
       "description": "t",
       "layout": "IPY_MODEL_80210b6d967944dabaa9052d7acfc1dd",
       "max": 0.9,
       "step": 0.1,
       "value": 0.1
      }
     },
     "3bb2070cf1844799a1cafcd38601dd18": {
      "model_module": "jupyter-js-widgets",
      "model_module_version": "^2.0.20",
      "model_name": "LayoutModel",
      "state": {
       "_model_module_version": "^2.0.20",
       "_view_module_version": "^2.0.20"
      }
     },
     "3bf9d5c8a4504ab9af6effa04c98205a": {
      "model_module": "jupyter-js-widgets",
      "model_module_version": "^2.0.20",
      "model_name": "LayoutModel",
      "state": {
       "_model_module_version": "^2.0.20",
       "_view_module_version": "^2.0.20"
      }
     },
     "3c059062166740c8a0987ac382ce7ac1": {
      "model_module": "jupyter-js-widgets",
      "model_module_version": "^2.0.20",
      "model_name": "LayoutModel",
      "state": {
       "_model_module_version": "^2.0.20",
       "_view_module_version": "^2.0.20"
      }
     },
     "3c87c9c96cd7496298ffc6ff83dd3271": {
      "model_module": "jupyter-js-widgets",
      "model_module_version": "^2.0.20",
      "model_name": "LayoutModel",
      "state": {
       "_model_module_version": "^2.0.20",
       "_view_module_version": "^2.0.20"
      }
     },
     "3cf80d883b864938b60861732c2504ab": {
      "model_module": "jupyter-js-widgets",
      "model_module_version": "^2.0.20",
      "model_name": "LayoutModel",
      "state": {
       "_model_module_version": "^2.0.20",
       "_view_module_version": "^2.0.20"
      }
     },
     "3d4907f47dbe4a9c9bd892c4bc95982f": {
      "model_module": "jupyter-js-widgets",
      "model_module_version": "^2.0.20",
      "model_name": "OutputModel",
      "state": {
       "_dom_classes": [],
       "_model_module": "jupyter-js-widgets",
       "_model_module_version": "^2.0.20",
       "_view_module": "jupyter-js-widgets",
       "_view_module_version": "^2.0.20",
       "layout": "IPY_MODEL_2c3fdabb24bb4a07b186085611e14f11",
       "msg_throttle": 1
      }
     },
     "3dedc3e53a9c4d5198f99b7bd75ccc1e": {
      "model_module": "jupyter-js-widgets",
      "model_module_version": "^2.0.20",
      "model_name": "FloatSliderModel",
      "state": {
       "_model_module_version": "^2.0.20",
       "_view_module_version": "^2.0.20",
       "description": "t",
       "layout": "IPY_MODEL_882394a8af314abdb70581ca95a344e6",
       "max": 0.9,
       "step": 0.1,
       "value": 0.1
      }
     },
     "3f57534d354c4a2a921294020cf72936": {
      "model_module": "jupyter-js-widgets",
      "model_module_version": "^2.0.20",
      "model_name": "LayoutModel",
      "state": {
       "_model_module_version": "^2.0.20",
       "_view_module_version": "^2.0.20"
      }
     },
     "3f6ce67fd28240bfb8f3056f7cf82712": {
      "model_module": "jupyter-js-widgets",
      "model_module_version": "^2.0.20",
      "model_name": "LayoutModel",
      "state": {
       "_model_module_version": "^2.0.20",
       "_view_module_version": "^2.0.20"
      }
     },
     "3f844e6ffda243cb8fab6396a7122dec": {
      "model_module": "jupyter-js-widgets",
      "model_module_version": "^2.0.20",
      "model_name": "LayoutModel",
      "state": {
       "_model_module_version": "^2.0.20",
       "_view_module_version": "^2.0.20"
      }
     },
     "40a6aa8ee7844f2db49da0f83ae944b1": {
      "model_module": "jupyter-js-widgets",
      "model_module_version": "^2.0.20",
      "model_name": "OutputModel",
      "state": {
       "_dom_classes": [],
       "_model_module": "jupyter-js-widgets",
       "_model_module_version": "^2.0.20",
       "_view_module": "jupyter-js-widgets",
       "_view_module_version": "^2.0.20",
       "layout": "IPY_MODEL_799f2d87c1fa46fb886317fea907241d",
       "msg_throttle": 1
      }
     },
     "40b01643b43045b79bae75771125160e": {
      "model_module": "jupyter-js-widgets",
      "model_module_version": "^2.0.20",
      "model_name": "LayoutModel",
      "state": {
       "_model_module_version": "^2.0.20",
       "_view_module_version": "^2.0.20"
      }
     },
     "40c101c62c4b4f348e4e046e616a0832": {
      "model_module": "jupyter-js-widgets",
      "model_module_version": "^2.0.20",
      "model_name": "FloatSliderModel",
      "state": {
       "_model_module_version": "^2.0.20",
       "_view_module_version": "^2.0.20",
       "description": "t",
       "layout": "IPY_MODEL_d929a267087b43f7a6ad5ee565794dc3",
       "max": 0.9,
       "step": 0.1,
       "value": 0.1
      }
     },
     "40e44c6e07084d4fa4179e5baec54acb": {
      "model_module": "jupyter-js-widgets",
      "model_module_version": "^2.0.20",
      "model_name": "LayoutModel",
      "state": {
       "_model_module_version": "^2.0.20",
       "_view_module_version": "^2.0.20"
      }
     },
     "413c507992574319aeb9f78b6973960a": {
      "model_module": "jupyter-js-widgets",
      "model_module_version": "^2.0.20",
      "model_name": "LayoutModel",
      "state": {
       "_model_module_version": "^2.0.20",
       "_view_module_version": "^2.0.20"
      }
     },
     "4185067ac9504a0e90292a108b69a448": {
      "model_module": "jupyter-js-widgets",
      "model_module_version": "^2.0.20",
      "model_name": "VBoxModel",
      "state": {
       "_dom_classes": [
        "widget-interact"
       ],
       "_model_module_version": "^2.0.20",
       "_view_module_version": "^2.0.20",
       "children": [
        "IPY_MODEL_40c101c62c4b4f348e4e046e616a0832",
        "IPY_MODEL_b95f5a2458f64083ae86464a1e90dd0c"
       ],
       "layout": "IPY_MODEL_cd2763067ef446c2b6b59c2672cdadcc"
      }
     },
     "4190f31fe2074ce39e25e9bf454353a6": {
      "model_module": "jupyter-js-widgets",
      "model_module_version": "^2.0.20",
      "model_name": "LayoutModel",
      "state": {
       "_model_module_version": "^2.0.20",
       "_view_module_version": "^2.0.20"
      }
     },
     "41bc551ce94e4f96b9000ce04c13211a": {
      "model_module": "jupyter-js-widgets",
      "model_module_version": "^2.0.20",
      "model_name": "LayoutModel",
      "state": {
       "_model_module_version": "^2.0.20",
       "_view_module_version": "^2.0.20"
      }
     },
     "423d9e72f9a244e2ac141b6b01e744fc": {
      "model_module": "jupyter-js-widgets",
      "model_module_version": "^2.0.20",
      "model_name": "LayoutModel",
      "state": {
       "_model_module_version": "^2.0.20",
       "_view_module_version": "^2.0.20"
      }
     },
     "426f773b36a145719b781ede95ed3513": {
      "model_module": "jupyter-js-widgets",
      "model_module_version": "^2.0.20",
      "model_name": "FloatSliderModel",
      "state": {
       "_model_module_version": "^2.0.20",
       "_view_module_version": "^2.0.20",
       "description": "t",
       "layout": "IPY_MODEL_dd525557ec444eef924fc1d5081fa7bf",
       "max": 0.9,
       "step": 0.1,
       "value": 0.1
      }
     },
     "427354997e12438b90e032bbf271583f": {
      "model_module": "jupyter-js-widgets",
      "model_module_version": "^2.0.20",
      "model_name": "OutputModel",
      "state": {
       "_dom_classes": [],
       "_model_module": "jupyter-js-widgets",
       "_model_module_version": "^2.0.20",
       "_view_module": "jupyter-js-widgets",
       "_view_module_version": "^2.0.20",
       "layout": "IPY_MODEL_f2a913dab4114e5c807965554daba3cd",
       "msg_throttle": 1
      }
     },
     "428c0548f9e34ff890c2973d1a6938c9": {
      "model_module": "jupyter-js-widgets",
      "model_module_version": "^2.0.20",
      "model_name": "LayoutModel",
      "state": {
       "_model_module_version": "^2.0.20",
       "_view_module_version": "^2.0.20"
      }
     },
     "42e75569c4ca441c9030ecb094d9b3eb": {
      "model_module": "jupyter-js-widgets",
      "model_module_version": "^2.0.20",
      "model_name": "LayoutModel",
      "state": {
       "_model_module_version": "^2.0.20",
       "_view_module_version": "^2.0.20"
      }
     },
     "42f7cb03df274915a9ef6c0607f9fee4": {
      "model_module": "jupyter-js-widgets",
      "model_module_version": "^2.0.20",
      "model_name": "LayoutModel",
      "state": {
       "_model_module_version": "^2.0.20",
       "_view_module_version": "^2.0.20"
      }
     },
     "43acc38006c84934aa76cd99c0f52eb4": {
      "model_module": "jupyter-js-widgets",
      "model_module_version": "^2.0.20",
      "model_name": "VBoxModel",
      "state": {
       "_dom_classes": [
        "widget-interact"
       ],
       "_model_module_version": "^2.0.20",
       "_view_module_version": "^2.0.20",
       "children": [
        "IPY_MODEL_670b969ce0df4f4b91f52614b39e6591",
        "IPY_MODEL_094c2de6088c462e8aeaac24b956574d"
       ],
       "layout": "IPY_MODEL_f4099e18f22c4daa99ed848fb4e9c5e5"
      }
     },
     "43b454d637e244878e43ba566be51b48": {
      "model_module": "jupyter-js-widgets",
      "model_module_version": "^2.0.20",
      "model_name": "VBoxModel",
      "state": {
       "_dom_classes": [
        "widget-interact"
       ],
       "_model_module_version": "^2.0.20",
       "_view_module_version": "^2.0.20",
       "children": [
        "IPY_MODEL_7df30573857a47cea17b5906f27adc58",
        "IPY_MODEL_bee479ca07324d0f9c04ebffbfd4858e"
       ],
       "layout": "IPY_MODEL_e13f5ece81344c7fb69162d4b9afb842"
      }
     },
     "44239259b42b4f52970243a56ff9e397": {
      "model_module": "jupyter-js-widgets",
      "model_module_version": "^2.0.20",
      "model_name": "OutputModel",
      "state": {
       "_dom_classes": [],
       "_model_module": "jupyter-js-widgets",
       "_model_module_version": "^2.0.20",
       "_view_module": "jupyter-js-widgets",
       "_view_module_version": "^2.0.20",
       "layout": "IPY_MODEL_ac66a9544e954a2cafcbb1f30f65b229",
       "msg_throttle": 1
      }
     },
     "4430dfe70d2945319191f5401d6e7b46": {
      "model_module": "jupyter-js-widgets",
      "model_module_version": "^2.0.20",
      "model_name": "LayoutModel",
      "state": {
       "_model_module_version": "^2.0.20",
       "_view_module_version": "^2.0.20"
      }
     },
     "44745d6eb2d642dda8e6e20896ff6727": {
      "model_module": "jupyter-js-widgets",
      "model_module_version": "^2.0.20",
      "model_name": "LayoutModel",
      "state": {
       "_model_module_version": "^2.0.20",
       "_view_module_version": "^2.0.20"
      }
     },
     "4486dae85bc546d48e31de2d8c3a4922": {
      "model_module": "jupyter-js-widgets",
      "model_module_version": "^2.0.20",
      "model_name": "FloatSliderModel",
      "state": {
       "_model_module_version": "^2.0.20",
       "_view_module_version": "^2.0.20",
       "description": "t",
       "layout": "IPY_MODEL_63530c61b72445fe9b23a5ddd91e0c2a",
       "max": 0.9,
       "step": 0.1
      }
     },
     "44a10c1781fc4945b50b1f9da02ee540": {
      "model_module": "jupyter-js-widgets",
      "model_module_version": "^2.0.20",
      "model_name": "LayoutModel",
      "state": {
       "_model_module_version": "^2.0.20",
       "_view_module_version": "^2.0.20"
      }
     },
     "44e69e44512346c98d7da2f9c4ffd7ab": {
      "model_module": "jupyter-js-widgets",
      "model_module_version": "^2.0.20",
      "model_name": "LayoutModel",
      "state": {
       "_model_module_version": "^2.0.20",
       "_view_module_version": "^2.0.20"
      }
     },
     "455286b6ba92429987f81346333dbda6": {
      "model_module": "jupyter-js-widgets",
      "model_module_version": "^2.0.20",
      "model_name": "LayoutModel",
      "state": {
       "_model_module_version": "^2.0.20",
       "_view_module_version": "^2.0.20"
      }
     },
     "4569846d677a4566a2b472e44e8a89dd": {
      "model_module": "jupyter-js-widgets",
      "model_module_version": "^2.0.20",
      "model_name": "LayoutModel",
      "state": {
       "_model_module_version": "^2.0.20",
       "_view_module_version": "^2.0.20"
      }
     },
     "45718dcbbaa54365ae5e4420009fe34d": {
      "model_module": "jupyter-js-widgets",
      "model_module_version": "^2.0.20",
      "model_name": "FloatSliderModel",
      "state": {
       "_model_module_version": "^2.0.20",
       "_view_module_version": "^2.0.20",
       "description": "t",
       "layout": "IPY_MODEL_6937f10205094e468e97ff27d9d51d18",
       "max": 0.9,
       "step": 0.1,
       "value": 0.1
      }
     },
     "45e59a664ab644d3bea928b6c6428b74": {
      "model_module": "jupyter-js-widgets",
      "model_module_version": "^2.0.20",
      "model_name": "OutputModel",
      "state": {
       "_dom_classes": [],
       "_model_module": "jupyter-js-widgets",
       "_model_module_version": "^2.0.20",
       "_view_module": "jupyter-js-widgets",
       "_view_module_version": "^2.0.20",
       "layout": "IPY_MODEL_8e391b83bf2c492d9548b2b960241957",
       "msg_throttle": 1
      }
     },
     "466d6925a0ce4da59b46322eb2f662a7": {
      "model_module": "jupyter-js-widgets",
      "model_module_version": "^2.0.20",
      "model_name": "FloatSliderModel",
      "state": {
       "_model_module_version": "^2.0.20",
       "_view_module_version": "^2.0.20",
       "description": "t",
       "layout": "IPY_MODEL_2c6bdaf51143494b9b20c1340d7f6663",
       "max": 0.9,
       "step": 0.1,
       "value": 0.1
      }
     },
     "47067bab644e417891540088b69a2942": {
      "model_module": "jupyter-js-widgets",
      "model_module_version": "^2.0.20",
      "model_name": "VBoxModel",
      "state": {
       "_dom_classes": [
        "widget-interact"
       ],
       "_model_module_version": "^2.0.20",
       "_view_module_version": "^2.0.20",
       "children": [
        "IPY_MODEL_67601bbc29ea4bcda72077aa395c473e",
        "IPY_MODEL_f4256605eb234b8683a9bcf02d6b2041"
       ],
       "layout": "IPY_MODEL_e76b1d6c44a24092b39dc335ee672d52"
      }
     },
     "47fbdf10d1f44753a33cab25f8d79752": {
      "model_module": "jupyter-js-widgets",
      "model_module_version": "^2.0.20",
      "model_name": "LayoutModel",
      "state": {
       "_model_module_version": "^2.0.20",
       "_view_module_version": "^2.0.20"
      }
     },
     "485e54c8e51340aa90c2a29db518f14e": {
      "model_module": "jupyter-js-widgets",
      "model_module_version": "^2.0.20",
      "model_name": "LayoutModel",
      "state": {
       "_model_module_version": "^2.0.20",
       "_view_module_version": "^2.0.20"
      }
     },
     "487ff49bfbfe4b90a1d47bb3e592897d": {
      "model_module": "jupyter-js-widgets",
      "model_module_version": "^2.0.20",
      "model_name": "OutputModel",
      "state": {
       "_dom_classes": [],
       "_model_module": "jupyter-js-widgets",
       "_model_module_version": "^2.0.20",
       "_view_module": "jupyter-js-widgets",
       "_view_module_version": "^2.0.20",
       "layout": "IPY_MODEL_33291bb2d8f2477f83d504c41a29d6d8",
       "msg_throttle": 1
      }
     },
     "48cdf1b4ae204a59adb36731b3ffa77f": {
      "model_module": "jupyter-js-widgets",
      "model_module_version": "^2.0.20",
      "model_name": "LayoutModel",
      "state": {
       "_model_module_version": "^2.0.20",
       "_view_module_version": "^2.0.20"
      }
     },
     "490d1a0c48d141a5851e430d29d71852": {
      "model_module": "jupyter-js-widgets",
      "model_module_version": "^2.0.20",
      "model_name": "FloatSliderModel",
      "state": {
       "_model_module_version": "^2.0.20",
       "_view_module_version": "^2.0.20",
       "description": "t",
       "layout": "IPY_MODEL_2ccc21860f784d95b18455a1c50fe7d4",
       "max": 0.9,
       "step": 0.1,
       "value": 0.8
      }
     },
     "4a48a33693b14d608cc7268d6397f5de": {
      "model_module": "jupyter-js-widgets",
      "model_module_version": "^2.0.20",
      "model_name": "FloatSliderModel",
      "state": {
       "_model_module_version": "^2.0.20",
       "_view_module_version": "^2.0.20",
       "description": "t",
       "layout": "IPY_MODEL_0b4315f97c0c4ad3a7b27264d8db53a6",
       "max": 0.9,
       "step": 0.1,
       "value": 0.1
      }
     },
     "4a63845d5a7b45c491fccde3b6804da1": {
      "model_module": "jupyter-js-widgets",
      "model_module_version": "^2.0.20",
      "model_name": "FloatSliderModel",
      "state": {
       "_model_module_version": "^2.0.20",
       "_view_module_version": "^2.0.20",
       "description": "t",
       "layout": "IPY_MODEL_b6dd2d7b8a7f4a09814ebcdfabe249d7",
       "max": 0.9,
       "step": 0.1,
       "value": 0.6
      }
     },
     "4a7d753795d34d89bc8246f80e0b3e32": {
      "model_module": "jupyter-js-widgets",
      "model_module_version": "^2.0.20",
      "model_name": "LayoutModel",
      "state": {
       "_model_module_version": "^2.0.20",
       "_view_module_version": "^2.0.20"
      }
     },
     "4b98e30f653142a387d5be98e2355849": {
      "model_module": "jupyter-js-widgets",
      "model_module_version": "^2.0.20",
      "model_name": "FloatSliderModel",
      "state": {
       "_model_module_version": "^2.0.20",
       "_view_module_version": "^2.0.20",
       "description": "t",
       "layout": "IPY_MODEL_0ab2c2c8e5dd47e6a4296edbb9edbd7e",
       "max": 0.9,
       "step": 0.1,
       "value": 0.7
      }
     },
     "4b9fdb8aa53b49c1a5525215736e9a11": {
      "model_module": "jupyter-js-widgets",
      "model_module_version": "^2.0.20",
      "model_name": "LayoutModel",
      "state": {
       "_model_module_version": "^2.0.20",
       "_view_module_version": "^2.0.20"
      }
     },
     "4c7783f5b6e94910b945f6318f321fa3": {
      "model_module": "jupyter-js-widgets",
      "model_module_version": "^2.0.20",
      "model_name": "OutputModel",
      "state": {
       "_dom_classes": [],
       "_model_module": "jupyter-js-widgets",
       "_model_module_version": "^2.0.20",
       "_view_module": "jupyter-js-widgets",
       "_view_module_version": "^2.0.20",
       "layout": "IPY_MODEL_267e52fbbd9846c6ae9a3006ea6325d3",
       "msg_throttle": 1
      }
     },
     "4c94e36128934bc49e5a9a8b3cc89890": {
      "model_module": "jupyter-js-widgets",
      "model_module_version": "^2.0.20",
      "model_name": "FloatSliderModel",
      "state": {
       "_model_module_version": "^2.0.20",
       "_view_module_version": "^2.0.20",
       "description": "t",
       "layout": "IPY_MODEL_11d4b0f25cb845ec8c7a44996c537f83",
       "max": 0.9,
       "step": 0.1,
       "value": 0.2
      }
     },
     "4d930512448c446a952552d6dbf1c18c": {
      "model_module": "jupyter-js-widgets",
      "model_module_version": "^2.0.20",
      "model_name": "VBoxModel",
      "state": {
       "_dom_classes": [
        "widget-interact"
       ],
       "_model_module_version": "^2.0.20",
       "_view_module_version": "^2.0.20",
       "children": [
        "IPY_MODEL_db92d0cea58349b3b66d18f02f10712e",
        "IPY_MODEL_d5518f1e3bb4427d9d245d77a329e364"
       ],
       "layout": "IPY_MODEL_1a2e911c68d64ccf8fb45ffd405c62c8"
      }
     },
     "4e7bd75bf4434598989df58ac80a595b": {
      "model_module": "jupyter-js-widgets",
      "model_module_version": "^2.0.20",
      "model_name": "VBoxModel",
      "state": {
       "_dom_classes": [
        "widget-interact"
       ],
       "_model_module_version": "^2.0.20",
       "_view_module_version": "^2.0.20",
       "children": [
        "IPY_MODEL_1bb1f01084f048f1b3119252565d6f92",
        "IPY_MODEL_782cb6808708432a967a460824372e91"
       ],
       "layout": "IPY_MODEL_da5d7d9212a04654a1158cff636a7a99"
      }
     },
     "4fa0f7f9b7db42958a9864e7eb6efbb6": {
      "model_module": "jupyter-js-widgets",
      "model_module_version": "^2.0.20",
      "model_name": "VBoxModel",
      "state": {
       "_dom_classes": [
        "widget-interact"
       ],
       "_model_module_version": "^2.0.20",
       "_view_module_version": "^2.0.20",
       "children": [
        "IPY_MODEL_aceb460cd3c64089b6c64ab93d2f6f43",
        "IPY_MODEL_1980ae9adebf46c88aa0c9c404306c8c"
       ],
       "layout": "IPY_MODEL_f2bfd1140e47455693c8e87d2bd3f37f"
      }
     },
     "4fefb1606b604498ae333aa0930f4472": {
      "model_module": "jupyter-js-widgets",
      "model_module_version": "^2.0.20",
      "model_name": "VBoxModel",
      "state": {
       "_dom_classes": [
        "widget-interact"
       ],
       "_model_module_version": "^2.0.20",
       "_view_module_version": "^2.0.20",
       "children": [
        "IPY_MODEL_a5d59df8b41c4d96a292d66ce0b889e6",
        "IPY_MODEL_847377a9aa1148f79efe0c47207da126"
       ],
       "layout": "IPY_MODEL_9aacb6282cc348c9922280b44b9c848b"
      }
     },
     "50bf217a56ed49d9846ba5e80e3d72ec": {
      "model_module": "jupyter-js-widgets",
      "model_module_version": "^2.0.20",
      "model_name": "VBoxModel",
      "state": {
       "_dom_classes": [
        "widget-interact"
       ],
       "_model_module_version": "^2.0.20",
       "_view_module_version": "^2.0.20",
       "children": [
        "IPY_MODEL_0a90a095d84e40839083a4d8b915f99f",
        "IPY_MODEL_02678f229f48471bbd73772345e4e921"
       ],
       "layout": "IPY_MODEL_64d3cd113752402b899584dd345a77e7"
      }
     },
     "5113ab7b945246aaa68ae810e233dc68": {
      "model_module": "jupyter-js-widgets",
      "model_module_version": "^2.0.20",
      "model_name": "VBoxModel",
      "state": {
       "_dom_classes": [
        "widget-interact"
       ],
       "_model_module_version": "^2.0.20",
       "_view_module_version": "^2.0.20",
       "children": [
        "IPY_MODEL_3ac77de6cb1943f49a7d14f1c6c39918",
        "IPY_MODEL_1abc32f1004a4557b1e92d9de542868b"
       ],
       "layout": "IPY_MODEL_b11fc4c9cfce40c8996a931e0777fda9"
      }
     },
     "51a3eefe897d4e15a35c8ec3fc377cab": {
      "model_module": "jupyter-js-widgets",
      "model_module_version": "^2.0.20",
      "model_name": "LayoutModel",
      "state": {
       "_model_module_version": "^2.0.20",
       "_view_module_version": "^2.0.20"
      }
     },
     "52298d23b9d2406f990741566223f8d3": {
      "model_module": "jupyter-js-widgets",
      "model_module_version": "^2.0.20",
      "model_name": "LayoutModel",
      "state": {
       "_model_module_version": "^2.0.20",
       "_view_module_version": "^2.0.20"
      }
     },
     "532b5b4cbbce488bb3297916670dc242": {
      "model_module": "jupyter-js-widgets",
      "model_module_version": "^2.0.20",
      "model_name": "LayoutModel",
      "state": {
       "_model_module_version": "^2.0.20",
       "_view_module_version": "^2.0.20"
      }
     },
     "532f4c4031c7480daae02341e1708da1": {
      "model_module": "jupyter-js-widgets",
      "model_module_version": "^2.0.20",
      "model_name": "LayoutModel",
      "state": {
       "_model_module_version": "^2.0.20",
       "_view_module_version": "^2.0.20"
      }
     },
     "538ea35766da4af5890e3622a429594e": {
      "model_module": "jupyter-js-widgets",
      "model_module_version": "^2.0.20",
      "model_name": "LayoutModel",
      "state": {
       "_model_module_version": "^2.0.20",
       "_view_module_version": "^2.0.20"
      }
     },
     "544f53abdd4e44f994b996b409ed2b4a": {
      "model_module": "jupyter-js-widgets",
      "model_module_version": "^2.0.20",
      "model_name": "VBoxModel",
      "state": {
       "_dom_classes": [
        "widget-interact"
       ],
       "_model_module_version": "^2.0.20",
       "_view_module_version": "^2.0.20",
       "children": [
        "IPY_MODEL_a58d0ff893ee47ca84f0b04f63bed43d",
        "IPY_MODEL_ec4cef1f80974b2d9de456fd1a3ac017"
       ],
       "layout": "IPY_MODEL_f6d4293cbd104254a808816120b5b3ce"
      }
     },
     "552a79ddd7a54a9a9bc1d385b33bf8fd": {
      "model_module": "jupyter-js-widgets",
      "model_module_version": "^2.0.20",
      "model_name": "LayoutModel",
      "state": {
       "_model_module_version": "^2.0.20",
       "_view_module_version": "^2.0.20"
      }
     },
     "555665d1a2664e4abc535bf6f35b250e": {
      "model_module": "jupyter-js-widgets",
      "model_module_version": "^2.0.20",
      "model_name": "LayoutModel",
      "state": {
       "_model_module_version": "^2.0.20",
       "_view_module_version": "^2.0.20"
      }
     },
     "557622626c0a4461b7d5471886a0c715": {
      "model_module": "jupyter-js-widgets",
      "model_module_version": "^2.0.20",
      "model_name": "LayoutModel",
      "state": {
       "_model_module_version": "^2.0.20",
       "_view_module_version": "^2.0.20"
      }
     },
     "55df525785e54333a021efc3ad270609": {
      "model_module": "jupyter-js-widgets",
      "model_module_version": "^2.0.20",
      "model_name": "FloatSliderModel",
      "state": {
       "_model_module_version": "^2.0.20",
       "_view_module_version": "^2.0.20",
       "description": "t",
       "layout": "IPY_MODEL_4430dfe70d2945319191f5401d6e7b46",
       "max": 0.9,
       "step": 0.1,
       "value": 0.7
      }
     },
     "55e4741ec1c048758dafb8e1f67734c5": {
      "model_module": "jupyter-js-widgets",
      "model_module_version": "^2.0.20",
      "model_name": "LayoutModel",
      "state": {
       "_model_module_version": "^2.0.20",
       "_view_module_version": "^2.0.20"
      }
     },
     "57482f3bc2874e3aa37a28e0862acfe8": {
      "model_module": "jupyter-js-widgets",
      "model_module_version": "^2.0.20",
      "model_name": "LayoutModel",
      "state": {
       "_model_module_version": "^2.0.20",
       "_view_module_version": "^2.0.20"
      }
     },
     "57e1f93b4e3c484f9f5b2958252e64bb": {
      "model_module": "jupyter-js-widgets",
      "model_module_version": "^2.0.20",
      "model_name": "LayoutModel",
      "state": {
       "_model_module_version": "^2.0.20",
       "_view_module_version": "^2.0.20"
      }
     },
     "5869704e9cb240f28b2fe070e29e6e69": {
      "model_module": "jupyter-js-widgets",
      "model_module_version": "^2.0.20",
      "model_name": "VBoxModel",
      "state": {
       "_dom_classes": [
        "widget-interact"
       ],
       "_model_module_version": "^2.0.20",
       "_view_module_version": "^2.0.20",
       "children": [
        "IPY_MODEL_94b61b8164d84b31824f64cf2b1eef72",
        "IPY_MODEL_dee27b26918c4792b1d16694e3c845d6"
       ],
       "layout": "IPY_MODEL_a11b3d9b54514bf2bc81a8c8eef0f320"
      }
     },
     "58b0be3f1e4b404c830b366e07b1c3ce": {
      "model_module": "jupyter-js-widgets",
      "model_module_version": "^2.0.20",
      "model_name": "LayoutModel",
      "state": {
       "_model_module_version": "^2.0.20",
       "_view_module_version": "^2.0.20"
      }
     },
     "596c93f8ce774bae803f9d3e6e8d34f8": {
      "model_module": "jupyter-js-widgets",
      "model_module_version": "^2.0.20",
      "model_name": "LayoutModel",
      "state": {
       "_model_module_version": "^2.0.20",
       "_view_module_version": "^2.0.20"
      }
     },
     "59f2646f61ca4ca1ac7c2c67c73207b8": {
      "model_module": "jupyter-js-widgets",
      "model_module_version": "^2.0.20",
      "model_name": "LayoutModel",
      "state": {
       "_model_module_version": "^2.0.20",
       "_view_module_version": "^2.0.20"
      }
     },
     "5a37ab1f90d04e54a099732dd7b8fbf2": {
      "model_module": "jupyter-js-widgets",
      "model_module_version": "^2.0.20",
      "model_name": "LayoutModel",
      "state": {
       "_model_module_version": "^2.0.20",
       "_view_module_version": "^2.0.20"
      }
     },
     "5a65317878f145aaab08cfc0731d21af": {
      "model_module": "jupyter-js-widgets",
      "model_module_version": "^2.0.20",
      "model_name": "LayoutModel",
      "state": {
       "_model_module_version": "^2.0.20",
       "_view_module_version": "^2.0.20"
      }
     },
     "5afe0bf1723b4d6c858519c6a97ad87d": {
      "model_module": "jupyter-js-widgets",
      "model_module_version": "^2.0.20",
      "model_name": "LayoutModel",
      "state": {
       "_model_module_version": "^2.0.20",
       "_view_module_version": "^2.0.20"
      }
     },
     "5c2e5a388c66475087760b329d1ee5da": {
      "model_module": "jupyter-js-widgets",
      "model_module_version": "^2.0.20",
      "model_name": "VBoxModel",
      "state": {
       "_dom_classes": [
        "widget-interact"
       ],
       "_model_module_version": "^2.0.20",
       "_view_module_version": "^2.0.20",
       "children": [
        "IPY_MODEL_6c5be084010c4a0f9a98e07c79089c35",
        "IPY_MODEL_4c7783f5b6e94910b945f6318f321fa3"
       ],
       "layout": "IPY_MODEL_94f6a012fe014de1a7cd771891ac1808"
      }
     },
     "5cf014ff171f46c49c155b759fac2229": {
      "model_module": "jupyter-js-widgets",
      "model_module_version": "^2.0.20",
      "model_name": "LayoutModel",
      "state": {
       "_model_module_version": "^2.0.20",
       "_view_module_version": "^2.0.20"
      }
     },
     "5d4e3a3e29dc4dfd90db7b67681b2fc7": {
      "model_module": "jupyter-js-widgets",
      "model_module_version": "^2.0.20",
      "model_name": "LayoutModel",
      "state": {
       "_model_module_version": "^2.0.20",
       "_view_module_version": "^2.0.20"
      }
     },
     "5e07fdf22d8d44e4a9910572d66700eb": {
      "model_module": "jupyter-js-widgets",
      "model_module_version": "^2.0.20",
      "model_name": "LayoutModel",
      "state": {
       "_model_module_version": "^2.0.20",
       "_view_module_version": "^2.0.20"
      }
     },
     "5e5eaf7552a64b59ba37b660955df9f6": {
      "model_module": "jupyter-js-widgets",
      "model_module_version": "^2.0.20",
      "model_name": "OutputModel",
      "state": {
       "_dom_classes": [],
       "_model_module": "jupyter-js-widgets",
       "_model_module_version": "^2.0.20",
       "_view_module": "jupyter-js-widgets",
       "_view_module_version": "^2.0.20",
       "layout": "IPY_MODEL_838fc1779e7c4cf897f7bc05be7b2dd6",
       "msg_throttle": 1
      }
     },
     "5e61b26a8b8e4bf3aa8f84028a2232a3": {
      "model_module": "jupyter-js-widgets",
      "model_module_version": "^2.0.20",
      "model_name": "FloatSliderModel",
      "state": {
       "_model_module_version": "^2.0.20",
       "_view_module_version": "^2.0.20",
       "description": "t",
       "layout": "IPY_MODEL_d1c449d47348413ea451c0fc05d9718e",
       "max": 0.9,
       "step": 0.1,
       "value": 0.1
      }
     },
     "5e77c7b924b14719ad8459860184f94b": {
      "model_module": "jupyter-js-widgets",
      "model_module_version": "^2.0.20",
      "model_name": "OutputModel",
      "state": {
       "_dom_classes": [],
       "_model_module": "jupyter-js-widgets",
       "_model_module_version": "^2.0.20",
       "_view_module": "jupyter-js-widgets",
       "_view_module_version": "^2.0.20",
       "layout": "IPY_MODEL_9c4ba6fc0076400b9e3b960fe99a3047",
       "msg_throttle": 1
      }
     },
     "5ef1546afbdb44f9a47fdb3568770649": {
      "model_module": "jupyter-js-widgets",
      "model_module_version": "^2.0.20",
      "model_name": "OutputModel",
      "state": {
       "_dom_classes": [],
       "_model_module": "jupyter-js-widgets",
       "_model_module_version": "^2.0.20",
       "_view_module": "jupyter-js-widgets",
       "_view_module_version": "^2.0.20",
       "layout": "IPY_MODEL_8c5661d4cf234698b7d6dbcfa4b07c70",
       "msg_throttle": 1
      }
     },
     "5f4975f2af434c499a3244c66788f4a3": {
      "model_module": "jupyter-js-widgets",
      "model_module_version": "^2.0.20",
      "model_name": "VBoxModel",
      "state": {
       "_dom_classes": [
        "widget-interact"
       ],
       "_model_module_version": "^2.0.20",
       "_view_module_version": "^2.0.20",
       "children": [
        "IPY_MODEL_4c94e36128934bc49e5a9a8b3cc89890",
        "IPY_MODEL_eb317046fd2a4917927941c39d12cb75"
       ],
       "layout": "IPY_MODEL_dc4a6b7e8747478fadc21096c0e61dd4"
      }
     },
     "5f677641fe16491191fbde40a7686e65": {
      "model_module": "jupyter-js-widgets",
      "model_module_version": "^2.0.20",
      "model_name": "LayoutModel",
      "state": {
       "_model_module_version": "^2.0.20",
       "_view_module_version": "^2.0.20"
      }
     },
     "5ff5b5a08a8941b4bdebf80ca3e57905": {
      "model_module": "jupyter-js-widgets",
      "model_module_version": "^2.0.20",
      "model_name": "VBoxModel",
      "state": {
       "_dom_classes": [
        "widget-interact"
       ],
       "_model_module_version": "^2.0.20",
       "_view_module_version": "^2.0.20",
       "children": [
        "IPY_MODEL_8c8797675b8d4baea63c4024a36aae0c",
        "IPY_MODEL_d6755f9190a542a3a6eeda9355098075"
       ],
       "layout": "IPY_MODEL_428c0548f9e34ff890c2973d1a6938c9"
      }
     },
     "6017d193a21147de9ed89d131ed59193": {
      "model_module": "jupyter-js-widgets",
      "model_module_version": "^2.0.20",
      "model_name": "VBoxModel",
      "state": {
       "_dom_classes": [
        "widget-interact"
       ],
       "_model_module_version": "^2.0.20",
       "_view_module_version": "^2.0.20",
       "children": [
        "IPY_MODEL_f45ec97ea22e4889a6684c9ed67af163",
        "IPY_MODEL_16ea49b70bd740dea4d5c20d6326bb46"
       ],
       "layout": "IPY_MODEL_e61c6845d35f4241b87d5566b1cb53a1"
      }
     },
     "60686636f0c7420ea30fd2add9543ab9": {
      "model_module": "jupyter-js-widgets",
      "model_module_version": "^2.0.20",
      "model_name": "FloatSliderModel",
      "state": {
       "_model_module_version": "^2.0.20",
       "_view_module_version": "^2.0.20",
       "description": "t",
       "layout": "IPY_MODEL_d37c05f7caac4cf4a77331f3d57c502c",
       "max": 0.9,
       "step": 0.1,
       "value": 0.5
      }
     },
     "60ad46b2aa5641a6aeb2d47d7e84565c": {
      "model_module": "jupyter-js-widgets",
      "model_module_version": "^2.0.20",
      "model_name": "FloatSliderModel",
      "state": {
       "_model_module_version": "^2.0.20",
       "_view_module_version": "^2.0.20",
       "description": "t",
       "layout": "IPY_MODEL_a21b17e5e2034516af0b93e66e767334",
       "max": 0.9,
       "step": 0.1,
       "value": 0.1
      }
     },
     "620e72f59d46470cbee5e1cb1d7417a3": {
      "model_module": "jupyter-js-widgets",
      "model_module_version": "^2.0.20",
      "model_name": "OutputModel",
      "state": {
       "_dom_classes": [],
       "_model_module": "jupyter-js-widgets",
       "_model_module_version": "^2.0.20",
       "_view_module": "jupyter-js-widgets",
       "_view_module_version": "^2.0.20",
       "layout": "IPY_MODEL_42e75569c4ca441c9030ecb094d9b3eb",
       "msg_throttle": 1
      }
     },
     "62f97faa8f5942d19e7ba5ff25da38af": {
      "model_module": "jupyter-js-widgets",
      "model_module_version": "^2.0.20",
      "model_name": "FloatSliderModel",
      "state": {
       "_model_module_version": "^2.0.20",
       "_view_module_version": "^2.0.20",
       "description": "t",
       "layout": "IPY_MODEL_fe7dad85fade483ab9a53d0be054f0d9",
       "max": 0.9,
       "step": 0.1,
       "value": 0.4
      }
     },
     "63530c61b72445fe9b23a5ddd91e0c2a": {
      "model_module": "jupyter-js-widgets",
      "model_module_version": "^2.0.20",
      "model_name": "LayoutModel",
      "state": {
       "_model_module_version": "^2.0.20",
       "_view_module_version": "^2.0.20"
      }
     },
     "6356b840a382447eb3271a1faaf59277": {
      "model_module": "jupyter-js-widgets",
      "model_module_version": "^2.0.20",
      "model_name": "FloatSliderModel",
      "state": {
       "_model_module_version": "^2.0.20",
       "_view_module_version": "^2.0.20",
       "description": "t",
       "layout": "IPY_MODEL_a70186bee2714818a3f2202a80ca59dd",
       "max": 0.9,
       "step": 0.1,
       "value": 0.1
      }
     },
     "642b0c6a411346758b27836d9a89756b": {
      "model_module": "jupyter-js-widgets",
      "model_module_version": "^2.0.20",
      "model_name": "LayoutModel",
      "state": {
       "_model_module_version": "^2.0.20",
       "_view_module_version": "^2.0.20"
      }
     },
     "64d3cd113752402b899584dd345a77e7": {
      "model_module": "jupyter-js-widgets",
      "model_module_version": "^2.0.20",
      "model_name": "LayoutModel",
      "state": {
       "_model_module_version": "^2.0.20",
       "_view_module_version": "^2.0.20"
      }
     },
     "650cf2cec4444c62b9bd7c2614266008": {
      "model_module": "jupyter-js-widgets",
      "model_module_version": "^2.0.20",
      "model_name": "OutputModel",
      "state": {
       "_dom_classes": [],
       "_model_module": "jupyter-js-widgets",
       "_model_module_version": "^2.0.20",
       "_view_module": "jupyter-js-widgets",
       "_view_module_version": "^2.0.20",
       "layout": "IPY_MODEL_aeef4594b0ce4ebab29ce08a8df53c43",
       "msg_throttle": 1
      }
     },
     "65b0d685feb845f6b5234051c38d5b13": {
      "model_module": "jupyter-js-widgets",
      "model_module_version": "^2.0.20",
      "model_name": "LayoutModel",
      "state": {
       "_model_module_version": "^2.0.20",
       "_view_module_version": "^2.0.20"
      }
     },
     "670b969ce0df4f4b91f52614b39e6591": {
      "model_module": "jupyter-js-widgets",
      "model_module_version": "^2.0.20",
      "model_name": "FloatSliderModel",
      "state": {
       "_model_module_version": "^2.0.20",
       "_view_module_version": "^2.0.20",
       "description": "t",
       "layout": "IPY_MODEL_104abdcbac644a478e6319a13fa7b3b4",
       "max": 0.9,
       "step": 0.1
      }
     },
     "672e430e72d649e588519dc0a4f49d1b": {
      "model_module": "jupyter-js-widgets",
      "model_module_version": "^2.0.20",
      "model_name": "LayoutModel",
      "state": {
       "_model_module_version": "^2.0.20",
       "_view_module_version": "^2.0.20"
      }
     },
     "67601bbc29ea4bcda72077aa395c473e": {
      "model_module": "jupyter-js-widgets",
      "model_module_version": "^2.0.20",
      "model_name": "FloatSliderModel",
      "state": {
       "_model_module_version": "^2.0.20",
       "_view_module_version": "^2.0.20",
       "description": "t",
       "layout": "IPY_MODEL_17fc3a40d1924368b1f4fc65167ed76c",
       "max": 0.9,
       "step": 0.1,
       "value": 0.5
      }
     },
     "6821ac03fc0c411d89c3d42d4e19fc2e": {
      "model_module": "jupyter-js-widgets",
      "model_module_version": "^2.0.20",
      "model_name": "VBoxModel",
      "state": {
       "_dom_classes": [
        "widget-interact"
       ],
       "_model_module_version": "^2.0.20",
       "_view_module_version": "^2.0.20",
       "children": [
        "IPY_MODEL_5e61b26a8b8e4bf3aa8f84028a2232a3",
        "IPY_MODEL_5e77c7b924b14719ad8459860184f94b"
       ],
       "layout": "IPY_MODEL_5cf014ff171f46c49c155b759fac2229"
      }
     },
     "683a122b9adb44f9a1c38f5bb1ce8295": {
      "model_module": "jupyter-js-widgets",
      "model_module_version": "^2.0.20",
      "model_name": "LayoutModel",
      "state": {
       "_model_module_version": "^2.0.20",
       "_view_module_version": "^2.0.20"
      }
     },
     "685a0c565e5a496ba9017ee9938ee49b": {
      "model_module": "jupyter-js-widgets",
      "model_module_version": "^2.0.20",
      "model_name": "LayoutModel",
      "state": {
       "_model_module_version": "^2.0.20",
       "_view_module_version": "^2.0.20"
      }
     },
     "689b19eccccc4adf8b98726abb505a9f": {
      "model_module": "jupyter-js-widgets",
      "model_module_version": "^2.0.20",
      "model_name": "LayoutModel",
      "state": {
       "_model_module_version": "^2.0.20",
       "_view_module_version": "^2.0.20"
      }
     },
     "6937f10205094e468e97ff27d9d51d18": {
      "model_module": "jupyter-js-widgets",
      "model_module_version": "^2.0.20",
      "model_name": "LayoutModel",
      "state": {
       "_model_module_version": "^2.0.20",
       "_view_module_version": "^2.0.20"
      }
     },
     "6965a5c1dd8f477ba9e29fe6e885443c": {
      "model_module": "jupyter-js-widgets",
      "model_module_version": "^2.0.20",
      "model_name": "LayoutModel",
      "state": {
       "_model_module_version": "^2.0.20",
       "_view_module_version": "^2.0.20"
      }
     },
     "69f6a12effab4d0abbd1747e88b4427a": {
      "model_module": "jupyter-js-widgets",
      "model_module_version": "^2.0.20",
      "model_name": "VBoxModel",
      "state": {
       "_dom_classes": [
        "widget-interact"
       ],
       "_model_module_version": "^2.0.20",
       "_view_module_version": "^2.0.20",
       "children": [
        "IPY_MODEL_bb16919ecebc4ef7811c1cd0a4244fdc",
        "IPY_MODEL_b6291d8712ff410f9f3cfdc1fd636483"
       ],
       "layout": "IPY_MODEL_26e88510cc4045a2995a1ecdf342c009"
      }
     },
     "6a06b81784f04e6c9404cf1493b8b5c4": {
      "model_module": "jupyter-js-widgets",
      "model_module_version": "^2.0.20",
      "model_name": "LayoutModel",
      "state": {
       "_model_module_version": "^2.0.20",
       "_view_module_version": "^2.0.20"
      }
     },
     "6a3dae3347614db197ca701eb9728442": {
      "model_module": "jupyter-js-widgets",
      "model_module_version": "^2.0.20",
      "model_name": "LayoutModel",
      "state": {
       "_model_module_version": "^2.0.20",
       "_view_module_version": "^2.0.20"
      }
     },
     "6c5be084010c4a0f9a98e07c79089c35": {
      "model_module": "jupyter-js-widgets",
      "model_module_version": "^2.0.20",
      "model_name": "FloatSliderModel",
      "state": {
       "_model_module_version": "^2.0.20",
       "_view_module_version": "^2.0.20",
       "description": "t",
       "layout": "IPY_MODEL_6cc130efd222498980fd570be45223c3",
       "max": 0.9,
       "step": 0.1,
       "value": 0.1
      }
     },
     "6cc130efd222498980fd570be45223c3": {
      "model_module": "jupyter-js-widgets",
      "model_module_version": "^2.0.20",
      "model_name": "LayoutModel",
      "state": {
       "_model_module_version": "^2.0.20",
       "_view_module_version": "^2.0.20"
      }
     },
     "6d864b4dfdd44238a44a824500c0355e": {
      "model_module": "jupyter-js-widgets",
      "model_module_version": "^2.0.20",
      "model_name": "LayoutModel",
      "state": {
       "_model_module_version": "^2.0.20",
       "_view_module_version": "^2.0.20"
      }
     },
     "6e681f2001f54dfb90f7d5ffd345b106": {
      "model_module": "jupyter-js-widgets",
      "model_module_version": "^2.0.20",
      "model_name": "OutputModel",
      "state": {
       "_dom_classes": [],
       "_model_module": "jupyter-js-widgets",
       "_model_module_version": "^2.0.20",
       "_view_module": "jupyter-js-widgets",
       "_view_module_version": "^2.0.20",
       "layout": "IPY_MODEL_01970193d6ae45678783cd2b0def4500",
       "msg_throttle": 1
      }
     },
     "6f31c5ef8fb94ba68963a29a56671218": {
      "model_module": "jupyter-js-widgets",
      "model_module_version": "^2.0.20",
      "model_name": "OutputModel",
      "state": {
       "_dom_classes": [],
       "_model_module": "jupyter-js-widgets",
       "_model_module_version": "^2.0.20",
       "_view_module": "jupyter-js-widgets",
       "_view_module_version": "^2.0.20",
       "layout": "IPY_MODEL_f52f9a555cf548299f3e9125c63cc510",
       "msg_throttle": 1
      }
     },
     "6fe0cb3559f045c4841aaa77cd8beb6e": {
      "model_module": "jupyter-js-widgets",
      "model_module_version": "^2.0.20",
      "model_name": "VBoxModel",
      "state": {
       "_dom_classes": [
        "widget-interact"
       ],
       "_model_module_version": "^2.0.20",
       "_view_module_version": "^2.0.20",
       "children": [
        "IPY_MODEL_d5844dead14946f5922523473c2f9967",
        "IPY_MODEL_be17058d561344919cd40a22cb9cdbf2"
       ],
       "layout": "IPY_MODEL_a86b7f58a417424d877fc7c431e319de"
      }
     },
     "6ff5ffebc25543eba631efb62c51c2a5": {
      "model_module": "jupyter-js-widgets",
      "model_module_version": "^2.0.20",
      "model_name": "LayoutModel",
      "state": {
       "_model_module_version": "^2.0.20",
       "_view_module_version": "^2.0.20"
      }
     },
     "70d791ab1bd740649e257042d90e64cf": {
      "model_module": "jupyter-js-widgets",
      "model_module_version": "^2.0.20",
      "model_name": "FloatSliderModel",
      "state": {
       "_model_module_version": "^2.0.20",
       "_view_module_version": "^2.0.20",
       "description": "t",
       "layout": "IPY_MODEL_b6e33ef6a9d34917a4fbbb78bad5542d",
       "max": 0.9,
       "step": 0.1,
       "value": 0.2
      }
     },
     "725ca77451f14ba8acf079a8f8ccf286": {
      "model_module": "jupyter-js-widgets",
      "model_module_version": "^2.0.20",
      "model_name": "VBoxModel",
      "state": {
       "_dom_classes": [
        "widget-interact"
       ],
       "_model_module_version": "^2.0.20",
       "_view_module_version": "^2.0.20",
       "children": [
        "IPY_MODEL_3dedc3e53a9c4d5198f99b7bd75ccc1e",
        "IPY_MODEL_c0f757e7622f4b76b42714acba0e26cf"
       ],
       "layout": "IPY_MODEL_343d6461d91848739edd8fdbf80ce338"
      }
     },
     "72a87ad39d5b46fa94b357012ac30f49": {
      "model_module": "jupyter-js-widgets",
      "model_module_version": "^2.0.20",
      "model_name": "FloatSliderModel",
      "state": {
       "_model_module_version": "^2.0.20",
       "_view_module_version": "^2.0.20",
       "description": "t",
       "layout": "IPY_MODEL_8a33c00456294cd1bbef2ea15d4b27d0",
       "max": 0.9,
       "step": 0.1,
       "value": 0.4
      }
     },
     "7517ed8b035c46d0bb8ea9ebd7cbf942": {
      "model_module": "jupyter-js-widgets",
      "model_module_version": "^2.0.20",
      "model_name": "VBoxModel",
      "state": {
       "_dom_classes": [
        "widget-interact"
       ],
       "_model_module_version": "^2.0.20",
       "_view_module_version": "^2.0.20",
       "children": [
        "IPY_MODEL_77cf03611e34486e8067195c3b0a385a",
        "IPY_MODEL_fe9e521d8be645bfb80ca0a5988a24b0"
       ],
       "layout": "IPY_MODEL_062095c673f0460b8e0ac25b29d04895"
      }
     },
     "7524bfc67cf94bcca3cd8c1f61177b11": {
      "model_module": "jupyter-js-widgets",
      "model_module_version": "^2.0.20",
      "model_name": "VBoxModel",
      "state": {
       "_dom_classes": [
        "widget-interact"
       ],
       "_model_module_version": "^2.0.20",
       "_view_module_version": "^2.0.20",
       "children": [
        "IPY_MODEL_e5da03db1832444ea3d274de9fb8eadc",
        "IPY_MODEL_b4a3498061804a5a86cf11125b2472eb"
       ],
       "layout": "IPY_MODEL_1b9ed3091ede4329be9c1f9593d00255"
      }
     },
     "758c2d4b0e1d4ac1b65b4b0044292f2d": {
      "model_module": "jupyter-js-widgets",
      "model_module_version": "^2.0.20",
      "model_name": "FloatSliderModel",
      "state": {
       "_model_module_version": "^2.0.20",
       "_view_module_version": "^2.0.20",
       "description": "t",
       "layout": "IPY_MODEL_16960b59e6bb420f970fbb83ccc78cad",
       "max": 0.9,
       "step": 0.1,
       "value": 0.1
      }
     },
     "761ad6c805ab4bf88990567af373c7b9": {
      "model_module": "jupyter-js-widgets",
      "model_module_version": "^2.0.20",
      "model_name": "LayoutModel",
      "state": {
       "_model_module_version": "^2.0.20",
       "_view_module_version": "^2.0.20"
      }
     },
     "76343d5916ca40c58cc40b5738c7d171": {
      "model_module": "jupyter-js-widgets",
      "model_module_version": "^2.0.20",
      "model_name": "LayoutModel",
      "state": {
       "_model_module_version": "^2.0.20",
       "_view_module_version": "^2.0.20"
      }
     },
     "76f0253783e745c5be7f07e6553291c0": {
      "model_module": "jupyter-js-widgets",
      "model_module_version": "^2.0.20",
      "model_name": "VBoxModel",
      "state": {
       "_dom_classes": [
        "widget-interact"
       ],
       "_model_module_version": "^2.0.20",
       "_view_module_version": "^2.0.20",
       "children": [
        "IPY_MODEL_2f149f250c404d0c809d2644a54e9c2d",
        "IPY_MODEL_b8a36f0a9e20430e927361383205c989"
       ],
       "layout": "IPY_MODEL_db249e19ed544230bb874e19edf25952"
      }
     },
     "777a0928173e4722990c03e29170527e": {
      "model_module": "jupyter-js-widgets",
      "model_module_version": "^2.0.20",
      "model_name": "OutputModel",
      "state": {
       "_dom_classes": [],
       "_model_module": "jupyter-js-widgets",
       "_model_module_version": "^2.0.20",
       "_view_module": "jupyter-js-widgets",
       "_view_module_version": "^2.0.20",
       "layout": "IPY_MODEL_5a65317878f145aaab08cfc0731d21af",
       "msg_throttle": 1
      }
     },
     "77cf03611e34486e8067195c3b0a385a": {
      "model_module": "jupyter-js-widgets",
      "model_module_version": "^2.0.20",
      "model_name": "FloatSliderModel",
      "state": {
       "_model_module_version": "^2.0.20",
       "_view_module_version": "^2.0.20",
       "description": "t",
       "layout": "IPY_MODEL_ff89d1a179d3436fb96e1f05923b23ad",
       "max": 0.9,
       "step": 0.1,
       "value": 0.1
      }
     },
     "77f9f954f2e94957a6112dacb3f1b24d": {
      "model_module": "jupyter-js-widgets",
      "model_module_version": "^2.0.20",
      "model_name": "LayoutModel",
      "state": {
       "_model_module_version": "^2.0.20",
       "_view_module_version": "^2.0.20"
      }
     },
     "782cb6808708432a967a460824372e91": {
      "model_module": "jupyter-js-widgets",
      "model_module_version": "^2.0.20",
      "model_name": "OutputModel",
      "state": {
       "_dom_classes": [],
       "_model_module": "jupyter-js-widgets",
       "_model_module_version": "^2.0.20",
       "_view_module": "jupyter-js-widgets",
       "_view_module_version": "^2.0.20",
       "layout": "IPY_MODEL_22c488ac727f4b98a6f22c65e7da7797",
       "msg_throttle": 1
      }
     },
     "78369b24ee8f43cf83ec791083ba573b": {
      "model_module": "jupyter-js-widgets",
      "model_module_version": "^2.0.20",
      "model_name": "VBoxModel",
      "state": {
       "_dom_classes": [
        "widget-interact"
       ],
       "_model_module_version": "^2.0.20",
       "_view_module_version": "^2.0.20",
       "children": [
        "IPY_MODEL_13f122daf20f43c99cc0b43ad5c63567",
        "IPY_MODEL_ce3e8adc2419492c88c9f9b113f8f3b4"
       ],
       "layout": "IPY_MODEL_5a37ab1f90d04e54a099732dd7b8fbf2"
      }
     },
     "789407dd71344c3e8712b263f7d94164": {
      "model_module": "jupyter-js-widgets",
      "model_module_version": "^2.0.20",
      "model_name": "LayoutModel",
      "state": {
       "_model_module_version": "^2.0.20",
       "_view_module_version": "^2.0.20"
      }
     },
     "78d2ba6f342f4203b9a57e1fdd6e54d0": {
      "model_module": "jupyter-js-widgets",
      "model_module_version": "^2.0.20",
      "model_name": "OutputModel",
      "state": {
       "_dom_classes": [],
       "_model_module": "jupyter-js-widgets",
       "_model_module_version": "^2.0.20",
       "_view_module": "jupyter-js-widgets",
       "_view_module_version": "^2.0.20",
       "layout": "IPY_MODEL_28b8c38b77834b00a9bdd347c8a973f1",
       "msg_throttle": 1
      }
     },
     "78fdb5cd12b34b6cabf61c40376a1e61": {
      "model_module": "jupyter-js-widgets",
      "model_module_version": "^2.0.20",
      "model_name": "VBoxModel",
      "state": {
       "_dom_classes": [
        "widget-interact"
       ],
       "_model_module_version": "^2.0.20",
       "_view_module_version": "^2.0.20",
       "children": [
        "IPY_MODEL_3501d29705f849a5bcecb65e21d85140",
        "IPY_MODEL_a6add546e55d4291b752a14a83b770ff"
       ],
       "layout": "IPY_MODEL_f4b9e6c19c3a4d18a96fc2b2a3e8a137"
      }
     },
     "7933201b52ee4c43b6ae085c52e2c30b": {
      "model_module": "jupyter-js-widgets",
      "model_module_version": "^2.0.20",
      "model_name": "VBoxModel",
      "state": {
       "_dom_classes": [
        "widget-interact"
       ],
       "_model_module_version": "^2.0.20",
       "_view_module_version": "^2.0.20",
       "children": [
        "IPY_MODEL_8176c89973044955b400379b213ec1ca",
        "IPY_MODEL_79fc9d35e70648629efd6033e86b87dd"
       ],
       "layout": "IPY_MODEL_642b0c6a411346758b27836d9a89756b"
      }
     },
     "799f2d87c1fa46fb886317fea907241d": {
      "model_module": "jupyter-js-widgets",
      "model_module_version": "^2.0.20",
      "model_name": "LayoutModel",
      "state": {
       "_model_module_version": "^2.0.20",
       "_view_module_version": "^2.0.20"
      }
     },
     "79fc9d35e70648629efd6033e86b87dd": {
      "model_module": "jupyter-js-widgets",
      "model_module_version": "^2.0.20",
      "model_name": "OutputModel",
      "state": {
       "_dom_classes": [],
       "_model_module": "jupyter-js-widgets",
       "_model_module_version": "^2.0.20",
       "_view_module": "jupyter-js-widgets",
       "_view_module_version": "^2.0.20",
       "layout": "IPY_MODEL_06076a8eb2854164853a9ea20171be92",
       "msg_throttle": 1
      }
     },
     "7a19780470fc4b87b5ed27959cbce193": {
      "model_module": "jupyter-js-widgets",
      "model_module_version": "^2.0.20",
      "model_name": "FloatSliderModel",
      "state": {
       "_model_module_version": "^2.0.20",
       "_view_module_version": "^2.0.20",
       "description": "t",
       "layout": "IPY_MODEL_52298d23b9d2406f990741566223f8d3",
       "max": 0.9,
       "step": 0.1,
       "value": 0.1
      }
     },
     "7ac5f24bc5de4c40ab3416114751ab5b": {
      "model_module": "jupyter-js-widgets",
      "model_module_version": "^2.0.20",
      "model_name": "LayoutModel",
      "state": {
       "_model_module_version": "^2.0.20",
       "_view_module_version": "^2.0.20"
      }
     },
     "7c03094df9a04d78805b5075448098f3": {
      "model_module": "jupyter-js-widgets",
      "model_module_version": "^2.0.20",
      "model_name": "LayoutModel",
      "state": {
       "_model_module_version": "^2.0.20",
       "_view_module_version": "^2.0.20"
      }
     },
     "7c2c7587a0d24fa4ab6474f9b8258cbd": {
      "model_module": "jupyter-js-widgets",
      "model_module_version": "^2.0.20",
      "model_name": "LayoutModel",
      "state": {
       "_model_module_version": "^2.0.20",
       "_view_module_version": "^2.0.20"
      }
     },
     "7c91406943544a06bdadb6a512f3fc20": {
      "model_module": "jupyter-js-widgets",
      "model_module_version": "^2.0.20",
      "model_name": "LayoutModel",
      "state": {
       "_model_module_version": "^2.0.20",
       "_view_module_version": "^2.0.20"
      }
     },
     "7cf155e1ee4f4278a318697a732fcae0": {
      "model_module": "jupyter-js-widgets",
      "model_module_version": "^2.0.20",
      "model_name": "LayoutModel",
      "state": {
       "_model_module_version": "^2.0.20",
       "_view_module_version": "^2.0.20"
      }
     },
     "7d2bf04279ae436f9f4a1c6b23bd2c8b": {
      "model_module": "jupyter-js-widgets",
      "model_module_version": "^2.0.20",
      "model_name": "LayoutModel",
      "state": {
       "_model_module_version": "^2.0.20",
       "_view_module_version": "^2.0.20"
      }
     },
     "7d749676d3534fa29b7434dc864d8aa8": {
      "model_module": "jupyter-js-widgets",
      "model_module_version": "^2.0.20",
      "model_name": "LayoutModel",
      "state": {
       "_model_module_version": "^2.0.20",
       "_view_module_version": "^2.0.20"
      }
     },
     "7df30573857a47cea17b5906f27adc58": {
      "model_module": "jupyter-js-widgets",
      "model_module_version": "^2.0.20",
      "model_name": "FloatSliderModel",
      "state": {
       "_model_module_version": "^2.0.20",
       "_view_module_version": "^2.0.20",
       "description": "t",
       "layout": "IPY_MODEL_3f6ce67fd28240bfb8f3056f7cf82712",
       "max": 0.9,
       "step": 0.1,
       "value": 0.1
      }
     },
     "7e0e6fc9333e43088748e3ef6606cf60": {
      "model_module": "jupyter-js-widgets",
      "model_module_version": "^2.0.20",
      "model_name": "LayoutModel",
      "state": {
       "_model_module_version": "^2.0.20",
       "_view_module_version": "^2.0.20"
      }
     },
     "80210b6d967944dabaa9052d7acfc1dd": {
      "model_module": "jupyter-js-widgets",
      "model_module_version": "^2.0.20",
      "model_name": "LayoutModel",
      "state": {
       "_model_module_version": "^2.0.20",
       "_view_module_version": "^2.0.20"
      }
     },
     "80246ceb1fda4f1993f2471350633143": {
      "model_module": "jupyter-js-widgets",
      "model_module_version": "^2.0.20",
      "model_name": "LayoutModel",
      "state": {
       "_model_module_version": "^2.0.20",
       "_view_module_version": "^2.0.20"
      }
     },
     "8176c89973044955b400379b213ec1ca": {
      "model_module": "jupyter-js-widgets",
      "model_module_version": "^2.0.20",
      "model_name": "FloatSliderModel",
      "state": {
       "_model_module_version": "^2.0.20",
       "_view_module_version": "^2.0.20",
       "description": "t",
       "layout": "IPY_MODEL_5e07fdf22d8d44e4a9910572d66700eb",
       "max": 0.9,
       "step": 0.1,
       "value": 0.5
      }
     },
     "819657de7fe444ea8ac1c928f109cb79": {
      "model_module": "jupyter-js-widgets",
      "model_module_version": "^2.0.20",
      "model_name": "FloatSliderModel",
      "state": {
       "_model_module_version": "^2.0.20",
       "_view_module_version": "^2.0.20",
       "description": "t",
       "layout": "IPY_MODEL_423d9e72f9a244e2ac141b6b01e744fc",
       "max": 0.9,
       "step": 0.1,
       "value": 0.1
      }
     },
     "823ed6224f7b4f7b84693ae671baa7e7": {
      "model_module": "jupyter-js-widgets",
      "model_module_version": "^2.0.20",
      "model_name": "LayoutModel",
      "state": {
       "_model_module_version": "^2.0.20",
       "_view_module_version": "^2.0.20"
      }
     },
     "826babd8b0284fdcbd1706d779978466": {
      "model_module": "jupyter-js-widgets",
      "model_module_version": "^2.0.20",
      "model_name": "LayoutModel",
      "state": {
       "_model_module_version": "^2.0.20",
       "_view_module_version": "^2.0.20"
      }
     },
     "82e67ba0f74845a3a5a4db215bb02083": {
      "model_module": "jupyter-js-widgets",
      "model_module_version": "^2.0.20",
      "model_name": "FloatSliderModel",
      "state": {
       "_model_module_version": "^2.0.20",
       "_view_module_version": "^2.0.20",
       "description": "t",
       "layout": "IPY_MODEL_30fe2e4281914f929d6b97ca4d3a16e8",
       "max": 0.9,
       "step": 0.1,
       "value": 0.1
      }
     },
     "830d88278af44c1d84589e828a88cc18": {
      "model_module": "jupyter-js-widgets",
      "model_module_version": "^2.0.20",
      "model_name": "FloatSliderModel",
      "state": {
       "_model_module_version": "^2.0.20",
       "_view_module_version": "^2.0.20",
       "description": "t",
       "layout": "IPY_MODEL_d01172656f8b4aa588a0182b7abb54cf",
       "max": 0.9,
       "step": 0.1,
       "value": 0.1
      }
     },
     "8327e2f03a8c40e09c629162440c7d75": {
      "model_module": "jupyter-js-widgets",
      "model_module_version": "^2.0.20",
      "model_name": "VBoxModel",
      "state": {
       "_dom_classes": [
        "widget-interact"
       ],
       "_model_module_version": "^2.0.20",
       "_view_module_version": "^2.0.20",
       "children": [
        "IPY_MODEL_f11e9444aba747f8b55dbde3c2597324",
        "IPY_MODEL_6e681f2001f54dfb90f7d5ffd345b106"
       ],
       "layout": "IPY_MODEL_be891cee8a8549da9b56580d7d17a6ad"
      }
     },
     "838fc1779e7c4cf897f7bc05be7b2dd6": {
      "model_module": "jupyter-js-widgets",
      "model_module_version": "^2.0.20",
      "model_name": "LayoutModel",
      "state": {
       "_model_module_version": "^2.0.20",
       "_view_module_version": "^2.0.20"
      }
     },
     "83c189294948423daac34623e24af407": {
      "model_module": "jupyter-js-widgets",
      "model_module_version": "^2.0.20",
      "model_name": "VBoxModel",
      "state": {
       "_dom_classes": [
        "widget-interact"
       ],
       "_model_module_version": "^2.0.20",
       "_view_module_version": "^2.0.20",
       "children": [
        "IPY_MODEL_c7abbdad60cc451895a7c926e54c6df4",
        "IPY_MODEL_0dd6dec65a2b4040b59747060864d66b"
       ],
       "layout": "IPY_MODEL_eedbdd21ab054d09ab85507480e2afb5"
      }
     },
     "847377a9aa1148f79efe0c47207da126": {
      "model_module": "jupyter-js-widgets",
      "model_module_version": "^2.0.20",
      "model_name": "OutputModel",
      "state": {
       "_dom_classes": [],
       "_model_module": "jupyter-js-widgets",
       "_model_module_version": "^2.0.20",
       "_view_module": "jupyter-js-widgets",
       "_view_module_version": "^2.0.20",
       "layout": "IPY_MODEL_9ae2151d8e984517bb6482227e9e15be",
       "msg_throttle": 1
      }
     },
     "84a6ce94b9944852a63367d34f0539de": {
      "model_module": "jupyter-js-widgets",
      "model_module_version": "^2.0.20",
      "model_name": "LayoutModel",
      "state": {
       "_model_module_version": "^2.0.20",
       "_view_module_version": "^2.0.20"
      }
     },
     "85206295a0374fc0ad75f34da744da7d": {
      "model_module": "jupyter-js-widgets",
      "model_module_version": "^2.0.20",
      "model_name": "FloatSliderModel",
      "state": {
       "_model_module_version": "^2.0.20",
       "_view_module_version": "^2.0.20",
       "description": "t",
       "layout": "IPY_MODEL_17b36801469540b18a92981ea4ae9887",
       "max": 0.9,
       "step": 0.1,
       "value": 0.8
      }
     },
     "861b773b9b124cf89197be8d08caabcb": {
      "model_module": "jupyter-js-widgets",
      "model_module_version": "^2.0.20",
      "model_name": "LayoutModel",
      "state": {
       "_model_module_version": "^2.0.20",
       "_view_module_version": "^2.0.20"
      }
     },
     "86af83d799ca42bc967eea50662f9d69": {
      "model_module": "jupyter-js-widgets",
      "model_module_version": "^2.0.20",
      "model_name": "FloatSliderModel",
      "state": {
       "_model_module_version": "^2.0.20",
       "_view_module_version": "^2.0.20",
       "description": "t",
       "layout": "IPY_MODEL_1f4b9fd73d21478781131fc93ef626a4",
       "max": 0.9,
       "step": 0.1,
       "value": 0.3
      }
     },
     "877f5fb9843340889d42d9d3bf858a60": {
      "model_module": "jupyter-js-widgets",
      "model_module_version": "^2.0.20",
      "model_name": "LayoutModel",
      "state": {
       "_model_module_version": "^2.0.20",
       "_view_module_version": "^2.0.20"
      }
     },
     "882394a8af314abdb70581ca95a344e6": {
      "model_module": "jupyter-js-widgets",
      "model_module_version": "^2.0.20",
      "model_name": "LayoutModel",
      "state": {
       "_model_module_version": "^2.0.20",
       "_view_module_version": "^2.0.20"
      }
     },
     "882d3341d8cc4befb91a7169e775e3b5": {
      "model_module": "jupyter-js-widgets",
      "model_module_version": "^2.0.20",
      "model_name": "OutputModel",
      "state": {
       "_dom_classes": [],
       "_model_module": "jupyter-js-widgets",
       "_model_module_version": "^2.0.20",
       "_view_module": "jupyter-js-widgets",
       "_view_module_version": "^2.0.20",
       "layout": "IPY_MODEL_8b88bbc34f344db6990df9503f8b6b43",
       "msg_throttle": 1
      }
     },
     "885333acb3b4406b8761d584e4fc30a6": {
      "model_module": "jupyter-js-widgets",
      "model_module_version": "^2.0.20",
      "model_name": "LayoutModel",
      "state": {
       "_model_module_version": "^2.0.20",
       "_view_module_version": "^2.0.20"
      }
     },
     "8a26765f20d74b66893f71e97c3c7b36": {
      "model_module": "jupyter-js-widgets",
      "model_module_version": "^2.0.20",
      "model_name": "VBoxModel",
      "state": {
       "_dom_classes": [
        "widget-interact"
       ],
       "_model_module_version": "^2.0.20",
       "_view_module_version": "^2.0.20",
       "children": [
        "IPY_MODEL_23971347cfb5488b96b8b2e196aa0f71",
        "IPY_MODEL_78d2ba6f342f4203b9a57e1fdd6e54d0"
       ],
       "layout": "IPY_MODEL_2f614131bd3a467cbccacb6faa4823a4"
      }
     },
     "8a33c00456294cd1bbef2ea15d4b27d0": {
      "model_module": "jupyter-js-widgets",
      "model_module_version": "^2.0.20",
      "model_name": "LayoutModel",
      "state": {
       "_model_module_version": "^2.0.20",
       "_view_module_version": "^2.0.20"
      }
     },
     "8b88bbc34f344db6990df9503f8b6b43": {
      "model_module": "jupyter-js-widgets",
      "model_module_version": "^2.0.20",
      "model_name": "LayoutModel",
      "state": {
       "_model_module_version": "^2.0.20",
       "_view_module_version": "^2.0.20"
      }
     },
     "8c236b6e8c3546b0aaa8fb79c2b1cadb": {
      "model_module": "jupyter-js-widgets",
      "model_module_version": "^2.0.20",
      "model_name": "OutputModel",
      "state": {
       "_dom_classes": [],
       "_model_module": "jupyter-js-widgets",
       "_model_module_version": "^2.0.20",
       "_view_module": "jupyter-js-widgets",
       "_view_module_version": "^2.0.20",
       "layout": "IPY_MODEL_596c93f8ce774bae803f9d3e6e8d34f8",
       "msg_throttle": 1
      }
     },
     "8c5661d4cf234698b7d6dbcfa4b07c70": {
      "model_module": "jupyter-js-widgets",
      "model_module_version": "^2.0.20",
      "model_name": "LayoutModel",
      "state": {
       "_model_module_version": "^2.0.20",
       "_view_module_version": "^2.0.20"
      }
     },
     "8c8797675b8d4baea63c4024a36aae0c": {
      "model_module": "jupyter-js-widgets",
      "model_module_version": "^2.0.20",
      "model_name": "FloatSliderModel",
      "state": {
       "_model_module_version": "^2.0.20",
       "_view_module_version": "^2.0.20",
       "description": "t",
       "layout": "IPY_MODEL_5d4e3a3e29dc4dfd90db7b67681b2fc7",
       "max": 0.9,
       "step": 0.1,
       "value": 0.1
      }
     },
     "8c9971785a4e4309963810225413a21f": {
      "model_module": "jupyter-js-widgets",
      "model_module_version": "^2.0.20",
      "model_name": "VBoxModel",
      "state": {
       "_dom_classes": [
        "widget-interact"
       ],
       "_model_module_version": "^2.0.20",
       "_view_module_version": "^2.0.20",
       "children": [
        "IPY_MODEL_fe2b76a5147d4ca388e9c4ebddfe4bb2",
        "IPY_MODEL_cf9dbda9c8f14c8f90f2c9e0ff5e7634"
       ],
       "layout": "IPY_MODEL_f4fc13fcf1184c51a606d6e618a24430"
      }
     },
     "8ce68f987eb948c9b3334f4b21051a47": {
      "model_module": "jupyter-js-widgets",
      "model_module_version": "^2.0.20",
      "model_name": "FloatSliderModel",
      "state": {
       "_model_module_version": "^2.0.20",
       "_view_module_version": "^2.0.20",
       "description": "t",
       "layout": "IPY_MODEL_a5de8634431c419e9276da19fa26e907",
       "max": 0.9,
       "step": 0.1,
       "value": 0.1
      }
     },
     "8e391b83bf2c492d9548b2b960241957": {
      "model_module": "jupyter-js-widgets",
      "model_module_version": "^2.0.20",
      "model_name": "LayoutModel",
      "state": {
       "_model_module_version": "^2.0.20",
       "_view_module_version": "^2.0.20"
      }
     },
     "8e62a0f20b454aef97eca6e11d9368ea": {
      "model_module": "jupyter-js-widgets",
      "model_module_version": "^2.0.20",
      "model_name": "LayoutModel",
      "state": {
       "_model_module_version": "^2.0.20",
       "_view_module_version": "^2.0.20"
      }
     },
     "8e65273a801140a4999f37aad25667ae": {
      "model_module": "jupyter-js-widgets",
      "model_module_version": "^2.0.20",
      "model_name": "OutputModel",
      "state": {
       "_dom_classes": [],
       "_model_module": "jupyter-js-widgets",
       "_model_module_version": "^2.0.20",
       "_view_module": "jupyter-js-widgets",
       "_view_module_version": "^2.0.20",
       "layout": "IPY_MODEL_32a8998fb90345efa5241b4e7738b20f",
       "msg_throttle": 1
      }
     },
     "8e910855eb034526a82ebd5df815c360": {
      "model_module": "jupyter-js-widgets",
      "model_module_version": "^2.0.20",
      "model_name": "VBoxModel",
      "state": {
       "_dom_classes": [
        "widget-interact"
       ],
       "_model_module_version": "^2.0.20",
       "_view_module_version": "^2.0.20",
       "children": [
        "IPY_MODEL_f6c1126a5bb84ae8809c4f17e72254cd",
        "IPY_MODEL_97e15921d583409bba0e0f24840cf693"
       ],
       "layout": "IPY_MODEL_e3ce02ef6d2a42a38458e7ccd35ea986"
      }
     },
     "8eb07b2069fe450894df77811a7065ca": {
      "model_module": "jupyter-js-widgets",
      "model_module_version": "^2.0.20",
      "model_name": "FloatSliderModel",
      "state": {
       "_model_module_version": "^2.0.20",
       "_view_module_version": "^2.0.20",
       "description": "t",
       "layout": "IPY_MODEL_a31145492eef4ac0b688caf625e225ca",
       "max": 0.9,
       "step": 0.1,
       "value": 0.1
      }
     },
     "8f47c1d0c3ee4eebb596a82e3e5aa17d": {
      "model_module": "jupyter-js-widgets",
      "model_module_version": "^2.0.20",
      "model_name": "LayoutModel",
      "state": {
       "_model_module_version": "^2.0.20",
       "_view_module_version": "^2.0.20"
      }
     },
     "8fd1b7561cc84ea28401922be732e7eb": {
      "model_module": "jupyter-js-widgets",
      "model_module_version": "^2.0.20",
      "model_name": "VBoxModel",
      "state": {
       "_dom_classes": [
        "widget-interact"
       ],
       "_model_module_version": "^2.0.20",
       "_view_module_version": "^2.0.20",
       "children": [
        "IPY_MODEL_c1075c304a2241d09f39bdedab5746e4",
        "IPY_MODEL_3d4907f47dbe4a9c9bd892c4bc95982f"
       ],
       "layout": "IPY_MODEL_a273116379874c809689dd25768be866"
      }
     },
     "8ff45a1c9f714916ac7555a70884155f": {
      "model_module": "jupyter-js-widgets",
      "model_module_version": "^2.0.20",
      "model_name": "LayoutModel",
      "state": {
       "_model_module_version": "^2.0.20",
       "_view_module_version": "^2.0.20"
      }
     },
     "90607404551747318a2157b71d7e794d": {
      "model_module": "jupyter-js-widgets",
      "model_module_version": "^2.0.20",
      "model_name": "FloatSliderModel",
      "state": {
       "_model_module_version": "^2.0.20",
       "_view_module_version": "^2.0.20",
       "description": "t",
       "layout": "IPY_MODEL_d59b490aadff46f2af0d9794bdb280f9",
       "max": 0.9,
       "step": 0.1,
       "value": 0.1
      }
     },
     "90ce7b75a5ba4aa09c7a7a9da926bfc6": {
      "model_module": "jupyter-js-widgets",
      "model_module_version": "^2.0.20",
      "model_name": "OutputModel",
      "state": {
       "_dom_classes": [],
       "_model_module": "jupyter-js-widgets",
       "_model_module_version": "^2.0.20",
       "_view_module": "jupyter-js-widgets",
       "_view_module_version": "^2.0.20",
       "layout": "IPY_MODEL_a897090093bd474ab1bfa8536a9855ae",
       "msg_throttle": 1
      }
     },
     "92507b8d24714099be21dab3cebb1802": {
      "model_module": "jupyter-js-widgets",
      "model_module_version": "^2.0.20",
      "model_name": "LayoutModel",
      "state": {
       "_model_module_version": "^2.0.20",
       "_view_module_version": "^2.0.20"
      }
     },
     "928f55be88ea4bf5ac793891b6d69b69": {
      "model_module": "jupyter-js-widgets",
      "model_module_version": "^2.0.20",
      "model_name": "LayoutModel",
      "state": {
       "_model_module_version": "^2.0.20",
       "_view_module_version": "^2.0.20"
      }
     },
     "92afad5c09b8419e80110baafc3cd330": {
      "model_module": "jupyter-js-widgets",
      "model_module_version": "^2.0.20",
      "model_name": "LayoutModel",
      "state": {
       "_model_module_version": "^2.0.20",
       "_view_module_version": "^2.0.20"
      }
     },
     "92d5e3e5a64048b7a7a53beff9fc4c6b": {
      "model_module": "jupyter-js-widgets",
      "model_module_version": "^2.0.20",
      "model_name": "OutputModel",
      "state": {
       "_dom_classes": [],
       "_model_module": "jupyter-js-widgets",
       "_model_module_version": "^2.0.20",
       "_view_module": "jupyter-js-widgets",
       "_view_module_version": "^2.0.20",
       "layout": "IPY_MODEL_9501850dffee4e1b80db01c8755c52d6",
       "msg_throttle": 1
      }
     },
     "93461e77f14244b4ab77251cecb7ce38": {
      "model_module": "jupyter-js-widgets",
      "model_module_version": "^2.0.20",
      "model_name": "VBoxModel",
      "state": {
       "_dom_classes": [
        "widget-interact"
       ],
       "_model_module_version": "^2.0.20",
       "_view_module_version": "^2.0.20",
       "children": [
        "IPY_MODEL_cfc104df237a4fb29b7087e4d15a4914",
        "IPY_MODEL_90ce7b75a5ba4aa09c7a7a9da926bfc6"
       ],
       "layout": "IPY_MODEL_ca1c3079324747b7bc7df42d4b4b912e"
      }
     },
     "945a9608838b4a3c9d4031edd71b7311": {
      "model_module": "jupyter-js-widgets",
      "model_module_version": "^2.0.20",
      "model_name": "LayoutModel",
      "state": {
       "_model_module_version": "^2.0.20",
       "_view_module_version": "^2.0.20"
      }
     },
     "94b61b8164d84b31824f64cf2b1eef72": {
      "model_module": "jupyter-js-widgets",
      "model_module_version": "^2.0.20",
      "model_name": "FloatSliderModel",
      "state": {
       "_model_module_version": "^2.0.20",
       "_view_module_version": "^2.0.20",
       "description": "t",
       "layout": "IPY_MODEL_14d1e95460b447c59ee009c498b4a196",
       "max": 0.9,
       "step": 0.1,
       "value": 0.1
      }
     },
     "94f6a012fe014de1a7cd771891ac1808": {
      "model_module": "jupyter-js-widgets",
      "model_module_version": "^2.0.20",
      "model_name": "LayoutModel",
      "state": {
       "_model_module_version": "^2.0.20",
       "_view_module_version": "^2.0.20"
      }
     },
     "9501850dffee4e1b80db01c8755c52d6": {
      "model_module": "jupyter-js-widgets",
      "model_module_version": "^2.0.20",
      "model_name": "LayoutModel",
      "state": {
       "_model_module_version": "^2.0.20",
       "_view_module_version": "^2.0.20"
      }
     },
     "96e9beeda0d8405fb51730b6993434ec": {
      "model_module": "jupyter-js-widgets",
      "model_module_version": "^2.0.20",
      "model_name": "LayoutModel",
      "state": {
       "_model_module_version": "^2.0.20",
       "_view_module_version": "^2.0.20"
      }
     },
     "97206cede1694e03ba117c31f1974bbc": {
      "model_module": "jupyter-js-widgets",
      "model_module_version": "^2.0.20",
      "model_name": "LayoutModel",
      "state": {
       "_model_module_version": "^2.0.20",
       "_view_module_version": "^2.0.20"
      }
     },
     "97e15921d583409bba0e0f24840cf693": {
      "model_module": "jupyter-js-widgets",
      "model_module_version": "^2.0.20",
      "model_name": "OutputModel",
      "state": {
       "_dom_classes": [],
       "_model_module": "jupyter-js-widgets",
       "_model_module_version": "^2.0.20",
       "_view_module": "jupyter-js-widgets",
       "_view_module_version": "^2.0.20",
       "layout": "IPY_MODEL_b952b3cac7324c4aa68440e5f1a31df8",
       "msg_throttle": 1
      }
     },
     "97ecbff922da408889b2d9e6fcab75a0": {
      "model_module": "jupyter-js-widgets",
      "model_module_version": "^2.0.20",
      "model_name": "VBoxModel",
      "state": {
       "_dom_classes": [
        "widget-interact"
       ],
       "_model_module_version": "^2.0.20",
       "_view_module_version": "^2.0.20",
       "children": [
        "IPY_MODEL_490d1a0c48d141a5851e430d29d71852",
        "IPY_MODEL_8e65273a801140a4999f37aad25667ae"
       ],
       "layout": "IPY_MODEL_2ba4f641036144c8839a0062f80da283"
      }
     },
     "99579b7bd1f548378a5936cc2a6318bf": {
      "model_module": "jupyter-js-widgets",
      "model_module_version": "^2.0.20",
      "model_name": "LayoutModel",
      "state": {
       "_model_module_version": "^2.0.20",
       "_view_module_version": "^2.0.20"
      }
     },
     "9aacb6282cc348c9922280b44b9c848b": {
      "model_module": "jupyter-js-widgets",
      "model_module_version": "^2.0.20",
      "model_name": "LayoutModel",
      "state": {
       "_model_module_version": "^2.0.20",
       "_view_module_version": "^2.0.20"
      }
     },
     "9ae2151d8e984517bb6482227e9e15be": {
      "model_module": "jupyter-js-widgets",
      "model_module_version": "^2.0.20",
      "model_name": "LayoutModel",
      "state": {
       "_model_module_version": "^2.0.20",
       "_view_module_version": "^2.0.20"
      }
     },
     "9c4ba6fc0076400b9e3b960fe99a3047": {
      "model_module": "jupyter-js-widgets",
      "model_module_version": "^2.0.20",
      "model_name": "LayoutModel",
      "state": {
       "_model_module_version": "^2.0.20",
       "_view_module_version": "^2.0.20"
      }
     },
     "9cb5bd31088e45b48f3fc3235c9af665": {
      "model_module": "jupyter-js-widgets",
      "model_module_version": "^2.0.20",
      "model_name": "VBoxModel",
      "state": {
       "_dom_classes": [
        "widget-interact"
       ],
       "_model_module_version": "^2.0.20",
       "_view_module_version": "^2.0.20",
       "children": [
        "IPY_MODEL_8eb07b2069fe450894df77811a7065ca",
        "IPY_MODEL_37e8c4ed0c96491b907d5efbc96af9ef"
       ],
       "layout": "IPY_MODEL_b6d64fc66ede410db9ad8a1d87056835"
      }
     },
     "9d055d79543044b199e792a6c87cb709": {
      "model_module": "jupyter-js-widgets",
      "model_module_version": "^2.0.20",
      "model_name": "VBoxModel",
      "state": {
       "_dom_classes": [
        "widget-interact"
       ],
       "_model_module_version": "^2.0.20",
       "_view_module_version": "^2.0.20",
       "children": [
        "IPY_MODEL_07b00f0bb2134bd1a2030b369c62ceaa",
        "IPY_MODEL_d194674527c1427db1ee887e50551f4f"
       ],
       "layout": "IPY_MODEL_7c03094df9a04d78805b5075448098f3"
      }
     },
     "a0c8b590a6494e4b9036fcd181f57ef1": {
      "model_module": "jupyter-js-widgets",
      "model_module_version": "^2.0.20",
      "model_name": "FloatSliderModel",
      "state": {
       "_model_module_version": "^2.0.20",
       "_view_module_version": "^2.0.20",
       "description": "t",
       "layout": "IPY_MODEL_a697c407f574433fbf76b8c5b07660eb",
       "max": 0.9,
       "step": 0.1,
       "value": 0.2
      }
     },
     "a0dffdf1caaf4aa5bae6cdb75f4ebd3f": {
      "model_module": "jupyter-js-widgets",
      "model_module_version": "^2.0.20",
      "model_name": "LayoutModel",
      "state": {
       "_model_module_version": "^2.0.20",
       "_view_module_version": "^2.0.20"
      }
     },
     "a11b3d9b54514bf2bc81a8c8eef0f320": {
      "model_module": "jupyter-js-widgets",
      "model_module_version": "^2.0.20",
      "model_name": "LayoutModel",
      "state": {
       "_model_module_version": "^2.0.20",
       "_view_module_version": "^2.0.20"
      }
     },
     "a1f786f47ade4bada5c0530b3514046f": {
      "model_module": "jupyter-js-widgets",
      "model_module_version": "^2.0.20",
      "model_name": "OutputModel",
      "state": {
       "_dom_classes": [],
       "_model_module": "jupyter-js-widgets",
       "_model_module_version": "^2.0.20",
       "_view_module": "jupyter-js-widgets",
       "_view_module_version": "^2.0.20",
       "layout": "IPY_MODEL_6ff5ffebc25543eba631efb62c51c2a5",
       "msg_throttle": 1
      }
     },
     "a2032cbe6cee45119d82dfd48a73ecd0": {
      "model_module": "jupyter-js-widgets",
      "model_module_version": "^2.0.20",
      "model_name": "FloatSliderModel",
      "state": {
       "_model_module_version": "^2.0.20",
       "_view_module_version": "^2.0.20",
       "description": "t",
       "layout": "IPY_MODEL_823ed6224f7b4f7b84693ae671baa7e7",
       "max": 0.9,
       "step": 0.1,
       "value": 0.1
      }
     },
     "a21b17e5e2034516af0b93e66e767334": {
      "model_module": "jupyter-js-widgets",
      "model_module_version": "^2.0.20",
      "model_name": "LayoutModel",
      "state": {
       "_model_module_version": "^2.0.20",
       "_view_module_version": "^2.0.20"
      }
     },
     "a2569bc6a43a42f5ac7bc2bc7b988843": {
      "model_module": "jupyter-js-widgets",
      "model_module_version": "^2.0.20",
      "model_name": "VBoxModel",
      "state": {
       "_dom_classes": [
        "widget-interact"
       ],
       "_model_module_version": "^2.0.20",
       "_view_module_version": "^2.0.20",
       "children": [
        "IPY_MODEL_45718dcbbaa54365ae5e4420009fe34d",
        "IPY_MODEL_5ef1546afbdb44f9a47fdb3568770649"
       ],
       "layout": "IPY_MODEL_928f55be88ea4bf5ac793891b6d69b69"
      }
     },
     "a273116379874c809689dd25768be866": {
      "model_module": "jupyter-js-widgets",
      "model_module_version": "^2.0.20",
      "model_name": "LayoutModel",
      "state": {
       "_model_module_version": "^2.0.20",
       "_view_module_version": "^2.0.20"
      }
     },
     "a31145492eef4ac0b688caf625e225ca": {
      "model_module": "jupyter-js-widgets",
      "model_module_version": "^2.0.20",
      "model_name": "LayoutModel",
      "state": {
       "_model_module_version": "^2.0.20",
       "_view_module_version": "^2.0.20"
      }
     },
     "a32256aeaf824cfab9c5cd742176dc4f": {
      "model_module": "jupyter-js-widgets",
      "model_module_version": "^2.0.20",
      "model_name": "LayoutModel",
      "state": {
       "_model_module_version": "^2.0.20",
       "_view_module_version": "^2.0.20"
      }
     },
     "a4322e0ea3684f3cbb35e1c331f5f734": {
      "model_module": "jupyter-js-widgets",
      "model_module_version": "^2.0.20",
      "model_name": "LayoutModel",
      "state": {
       "_model_module_version": "^2.0.20",
       "_view_module_version": "^2.0.20"
      }
     },
     "a49850400fc848f2a221e8c6024a75b7": {
      "model_module": "jupyter-js-widgets",
      "model_module_version": "^2.0.20",
      "model_name": "OutputModel",
      "state": {
       "_dom_classes": [],
       "_model_module": "jupyter-js-widgets",
       "_model_module_version": "^2.0.20",
       "_view_module": "jupyter-js-widgets",
       "_view_module_version": "^2.0.20",
       "layout": "IPY_MODEL_4569846d677a4566a2b472e44e8a89dd",
       "msg_throttle": 1
      }
     },
     "a58181a8fd99463e80a65479ef3cc3bf": {
      "model_module": "jupyter-js-widgets",
      "model_module_version": "^2.0.20",
      "model_name": "LayoutModel",
      "state": {
       "_model_module_version": "^2.0.20",
       "_view_module_version": "^2.0.20"
      }
     },
     "a58d0ff893ee47ca84f0b04f63bed43d": {
      "model_module": "jupyter-js-widgets",
      "model_module_version": "^2.0.20",
      "model_name": "FloatSliderModel",
      "state": {
       "_model_module_version": "^2.0.20",
       "_view_module_version": "^2.0.20",
       "description": "t",
       "layout": "IPY_MODEL_8ff45a1c9f714916ac7555a70884155f",
       "max": 0.9,
       "step": 0.1,
       "value": 0.5
      }
     },
     "a5d59df8b41c4d96a292d66ce0b889e6": {
      "model_module": "jupyter-js-widgets",
      "model_module_version": "^2.0.20",
      "model_name": "FloatSliderModel",
      "state": {
       "_model_module_version": "^2.0.20",
       "_view_module_version": "^2.0.20",
       "description": "t",
       "layout": "IPY_MODEL_03d900b2e4b94e148907f14c051d7f19",
       "max": 0.9,
       "step": 0.1,
       "value": 0.4
      }
     },
     "a5de8634431c419e9276da19fa26e907": {
      "model_module": "jupyter-js-widgets",
      "model_module_version": "^2.0.20",
      "model_name": "LayoutModel",
      "state": {
       "_model_module_version": "^2.0.20",
       "_view_module_version": "^2.0.20"
      }
     },
     "a697c407f574433fbf76b8c5b07660eb": {
      "model_module": "jupyter-js-widgets",
      "model_module_version": "^2.0.20",
      "model_name": "LayoutModel",
      "state": {
       "_model_module_version": "^2.0.20",
       "_view_module_version": "^2.0.20"
      }
     },
     "a6add546e55d4291b752a14a83b770ff": {
      "model_module": "jupyter-js-widgets",
      "model_module_version": "^2.0.20",
      "model_name": "OutputModel",
      "state": {
       "_dom_classes": [],
       "_model_module": "jupyter-js-widgets",
       "_model_module_version": "^2.0.20",
       "_view_module": "jupyter-js-widgets",
       "_view_module_version": "^2.0.20",
       "layout": "IPY_MODEL_d60989130263417dbaf8204ee5bd2494",
       "msg_throttle": 1
      }
     },
     "a70186bee2714818a3f2202a80ca59dd": {
      "model_module": "jupyter-js-widgets",
      "model_module_version": "^2.0.20",
      "model_name": "LayoutModel",
      "state": {
       "_model_module_version": "^2.0.20",
       "_view_module_version": "^2.0.20"
      }
     },
     "a73d800a83c04b03b325ba00026432cb": {
      "model_module": "jupyter-js-widgets",
      "model_module_version": "^2.0.20",
      "model_name": "FloatSliderModel",
      "state": {
       "_model_module_version": "^2.0.20",
       "_view_module_version": "^2.0.20",
       "description": "t",
       "layout": "IPY_MODEL_555665d1a2664e4abc535bf6f35b250e",
       "max": 0.9,
       "step": 0.1
      }
     },
     "a86b7f58a417424d877fc7c431e319de": {
      "model_module": "jupyter-js-widgets",
      "model_module_version": "^2.0.20",
      "model_name": "LayoutModel",
      "state": {
       "_model_module_version": "^2.0.20",
       "_view_module_version": "^2.0.20"
      }
     },
     "a86de52679b14004affa2de2c5e2bdcf": {
      "model_module": "jupyter-js-widgets",
      "model_module_version": "^2.0.20",
      "model_name": "LayoutModel",
      "state": {
       "_model_module_version": "^2.0.20",
       "_view_module_version": "^2.0.20"
      }
     },
     "a897090093bd474ab1bfa8536a9855ae": {
      "model_module": "jupyter-js-widgets",
      "model_module_version": "^2.0.20",
      "model_name": "LayoutModel",
      "state": {
       "_model_module_version": "^2.0.20",
       "_view_module_version": "^2.0.20"
      }
     },
     "a921d95bee8f4154b19cc0057d0a63d3": {
      "model_module": "jupyter-js-widgets",
      "model_module_version": "^2.0.20",
      "model_name": "LayoutModel",
      "state": {
       "_model_module_version": "^2.0.20",
       "_view_module_version": "^2.0.20"
      }
     },
     "aad625ab31d946f5950ab83ec6b12e21": {
      "model_module": "jupyter-js-widgets",
      "model_module_version": "^2.0.20",
      "model_name": "VBoxModel",
      "state": {
       "_dom_classes": [
        "widget-interact"
       ],
       "_model_module_version": "^2.0.20",
       "_view_module_version": "^2.0.20",
       "children": [
        "IPY_MODEL_7a19780470fc4b87b5ed27959cbce193",
        "IPY_MODEL_ec7c23d3f51b4226a26558334826daa9"
       ],
       "layout": "IPY_MODEL_b4e19aa607674822b9dfe6b209d2c387"
      }
     },
     "ab0cc5d69caf499ab8e2f32dca2547e5": {
      "model_module": "jupyter-js-widgets",
      "model_module_version": "^2.0.20",
      "model_name": "LayoutModel",
      "state": {
       "_model_module_version": "^2.0.20",
       "_view_module_version": "^2.0.20"
      }
     },
     "ab632864de1b49d1a9f6194f9ae9c291": {
      "model_module": "jupyter-js-widgets",
      "model_module_version": "^2.0.20",
      "model_name": "OutputModel",
      "state": {
       "_dom_classes": [],
       "_model_module": "jupyter-js-widgets",
       "_model_module_version": "^2.0.20",
       "_view_module": "jupyter-js-widgets",
       "_view_module_version": "^2.0.20",
       "layout": "IPY_MODEL_b1b802ba920b449ab09437a7e0a904d5",
       "msg_throttle": 1
      }
     },
     "ac66a9544e954a2cafcbb1f30f65b229": {
      "model_module": "jupyter-js-widgets",
      "model_module_version": "^2.0.20",
      "model_name": "LayoutModel",
      "state": {
       "_model_module_version": "^2.0.20",
       "_view_module_version": "^2.0.20"
      }
     },
     "ac7fd74c463b4872b0d4cdd0d13181c2": {
      "model_module": "jupyter-js-widgets",
      "model_module_version": "^2.0.20",
      "model_name": "VBoxModel",
      "state": {
       "_dom_classes": [
        "widget-interact"
       ],
       "_model_module_version": "^2.0.20",
       "_view_module_version": "^2.0.20",
       "children": [
        "IPY_MODEL_d4640885a8644982b85d26395c53db42",
        "IPY_MODEL_c20ed008ef974a3a8aad2f1fab44a552"
       ],
       "layout": "IPY_MODEL_28cfc9cef788459eb2757ccef311a2bf"
      }
     },
     "aceb460cd3c64089b6c64ab93d2f6f43": {
      "model_module": "jupyter-js-widgets",
      "model_module_version": "^2.0.20",
      "model_name": "FloatSliderModel",
      "state": {
       "_model_module_version": "^2.0.20",
       "_view_module_version": "^2.0.20",
       "description": "t",
       "layout": "IPY_MODEL_daa0f023ebd84fc181e3310736d88561",
       "max": 0.9,
       "step": 0.1,
       "value": 0.1
      }
     },
     "aced1ec9275e4e83a397be48c43ca796": {
      "model_module": "jupyter-js-widgets",
      "model_module_version": "^2.0.20",
      "model_name": "OutputModel",
      "state": {
       "_dom_classes": [],
       "_model_module": "jupyter-js-widgets",
       "_model_module_version": "^2.0.20",
       "_view_module": "jupyter-js-widgets",
       "_view_module_version": "^2.0.20",
       "layout": "IPY_MODEL_7ac5f24bc5de4c40ab3416114751ab5b",
       "msg_throttle": 1
      }
     },
     "ad653a8ae20b42678e2b06d6507570ca": {
      "model_module": "jupyter-js-widgets",
      "model_module_version": "^2.0.20",
      "model_name": "LayoutModel",
      "state": {
       "_model_module_version": "^2.0.20",
       "_view_module_version": "^2.0.20"
      }
     },
     "aeef4594b0ce4ebab29ce08a8df53c43": {
      "model_module": "jupyter-js-widgets",
      "model_module_version": "^2.0.20",
      "model_name": "LayoutModel",
      "state": {
       "_model_module_version": "^2.0.20",
       "_view_module_version": "^2.0.20"
      }
     },
     "b11fc4c9cfce40c8996a931e0777fda9": {
      "model_module": "jupyter-js-widgets",
      "model_module_version": "^2.0.20",
      "model_name": "LayoutModel",
      "state": {
       "_model_module_version": "^2.0.20",
       "_view_module_version": "^2.0.20"
      }
     },
     "b18ce82224a54b6ea330b167dd8e897a": {
      "model_module": "jupyter-js-widgets",
      "model_module_version": "^2.0.20",
      "model_name": "LayoutModel",
      "state": {
       "_model_module_version": "^2.0.20",
       "_view_module_version": "^2.0.20"
      }
     },
     "b1b802ba920b449ab09437a7e0a904d5": {
      "model_module": "jupyter-js-widgets",
      "model_module_version": "^2.0.20",
      "model_name": "LayoutModel",
      "state": {
       "_model_module_version": "^2.0.20",
       "_view_module_version": "^2.0.20"
      }
     },
     "b232868a18c84066ac91a86471f9c515": {
      "model_module": "jupyter-js-widgets",
      "model_module_version": "^2.0.20",
      "model_name": "VBoxModel",
      "state": {
       "_dom_classes": [
        "widget-interact"
       ],
       "_model_module_version": "^2.0.20",
       "_view_module_version": "^2.0.20",
       "children": [
        "IPY_MODEL_e8d36362e8dc4298b83286c87b9628b6",
        "IPY_MODEL_d45165cc90b540159df9a37731a9b423"
       ],
       "layout": "IPY_MODEL_cb8fdf23acd24541812171fd7b081f75"
      }
     },
     "b4a3498061804a5a86cf11125b2472eb": {
      "model_module": "jupyter-js-widgets",
      "model_module_version": "^2.0.20",
      "model_name": "OutputModel",
      "state": {
       "_dom_classes": [],
       "_model_module": "jupyter-js-widgets",
       "_model_module_version": "^2.0.20",
       "_view_module": "jupyter-js-widgets",
       "_view_module_version": "^2.0.20",
       "layout": "IPY_MODEL_3cf80d883b864938b60861732c2504ab",
       "msg_throttle": 1
      }
     },
     "b4e19aa607674822b9dfe6b209d2c387": {
      "model_module": "jupyter-js-widgets",
      "model_module_version": "^2.0.20",
      "model_name": "LayoutModel",
      "state": {
       "_model_module_version": "^2.0.20",
       "_view_module_version": "^2.0.20"
      }
     },
     "b5af6ffa0d664faaa9cc4f419a11d789": {
      "model_module": "jupyter-js-widgets",
      "model_module_version": "^2.0.20",
      "model_name": "LayoutModel",
      "state": {
       "_model_module_version": "^2.0.20",
       "_view_module_version": "^2.0.20"
      }
     },
     "b6291d8712ff410f9f3cfdc1fd636483": {
      "model_module": "jupyter-js-widgets",
      "model_module_version": "^2.0.20",
      "model_name": "OutputModel",
      "state": {
       "_dom_classes": [],
       "_model_module": "jupyter-js-widgets",
       "_model_module_version": "^2.0.20",
       "_view_module": "jupyter-js-widgets",
       "_view_module_version": "^2.0.20",
       "layout": "IPY_MODEL_229c22815c8445e9b38bff3b12dba7d1",
       "msg_throttle": 1
      }
     },
     "b6cc7857f0604e6aabf3c4826d68d3c9": {
      "model_module": "jupyter-js-widgets",
      "model_module_version": "^2.0.20",
      "model_name": "VBoxModel",
      "state": {
       "_dom_classes": [
        "widget-interact"
       ],
       "_model_module_version": "^2.0.20",
       "_view_module_version": "^2.0.20",
       "children": [
        "IPY_MODEL_90607404551747318a2157b71d7e794d",
        "IPY_MODEL_882d3341d8cc4befb91a7169e775e3b5"
       ],
       "layout": "IPY_MODEL_c6964296b61944369a38ebc3c4966774"
      }
     },
     "b6d64fc66ede410db9ad8a1d87056835": {
      "model_module": "jupyter-js-widgets",
      "model_module_version": "^2.0.20",
      "model_name": "LayoutModel",
      "state": {
       "_model_module_version": "^2.0.20",
       "_view_module_version": "^2.0.20"
      }
     },
     "b6dd2d7b8a7f4a09814ebcdfabe249d7": {
      "model_module": "jupyter-js-widgets",
      "model_module_version": "^2.0.20",
      "model_name": "LayoutModel",
      "state": {
       "_model_module_version": "^2.0.20",
       "_view_module_version": "^2.0.20"
      }
     },
     "b6e33ef6a9d34917a4fbbb78bad5542d": {
      "model_module": "jupyter-js-widgets",
      "model_module_version": "^2.0.20",
      "model_name": "LayoutModel",
      "state": {
       "_model_module_version": "^2.0.20",
       "_view_module_version": "^2.0.20"
      }
     },
     "b7a0973904394d38ab231383b003ec8b": {
      "model_module": "jupyter-js-widgets",
      "model_module_version": "^2.0.20",
      "model_name": "LayoutModel",
      "state": {
       "_model_module_version": "^2.0.20",
       "_view_module_version": "^2.0.20"
      }
     },
     "b8a36f0a9e20430e927361383205c989": {
      "model_module": "jupyter-js-widgets",
      "model_module_version": "^2.0.20",
      "model_name": "OutputModel",
      "state": {
       "_dom_classes": [],
       "_model_module": "jupyter-js-widgets",
       "_model_module_version": "^2.0.20",
       "_view_module": "jupyter-js-widgets",
       "_view_module_version": "^2.0.20",
       "layout": "IPY_MODEL_39bee00a407f44e6bc90185da8c393a7",
       "msg_throttle": 1
      }
     },
     "b8fd7a48f764483699a3b552f6646705": {
      "model_module": "jupyter-js-widgets",
      "model_module_version": "^2.0.20",
      "model_name": "VBoxModel",
      "state": {
       "_dom_classes": [
        "widget-interact"
       ],
       "_model_module_version": "^2.0.20",
       "_view_module_version": "^2.0.20",
       "children": [
        "IPY_MODEL_a0c8b590a6494e4b9036fcd181f57ef1",
        "IPY_MODEL_cea83ce4c0b143ddae5e7376b9ca46be"
       ],
       "layout": "IPY_MODEL_6d864b4dfdd44238a44a824500c0355e"
      }
     },
     "b93d7843de7049ce96ea0dad49dfa406": {
      "model_module": "jupyter-js-widgets",
      "model_module_version": "^2.0.20",
      "model_name": "VBoxModel",
      "state": {
       "_dom_classes": [
        "widget-interact"
       ],
       "_model_module_version": "^2.0.20",
       "_view_module_version": "^2.0.20",
       "children": [
        "IPY_MODEL_d7a33738f8264407bc9d2049e17d94d0",
        "IPY_MODEL_777a0928173e4722990c03e29170527e"
       ],
       "layout": "IPY_MODEL_5f677641fe16491191fbde40a7686e65"
      }
     },
     "b952b3cac7324c4aa68440e5f1a31df8": {
      "model_module": "jupyter-js-widgets",
      "model_module_version": "^2.0.20",
      "model_name": "LayoutModel",
      "state": {
       "_model_module_version": "^2.0.20",
       "_view_module_version": "^2.0.20"
      }
     },
     "b95f5a2458f64083ae86464a1e90dd0c": {
      "model_module": "jupyter-js-widgets",
      "model_module_version": "^2.0.20",
      "model_name": "OutputModel",
      "state": {
       "_dom_classes": [],
       "_model_module": "jupyter-js-widgets",
       "_model_module_version": "^2.0.20",
       "_view_module": "jupyter-js-widgets",
       "_view_module_version": "^2.0.20",
       "layout": "IPY_MODEL_fef05eaf44e9413ab8460e2ec39a296a",
       "msg_throttle": 1
      }
     },
     "b9e5950bc2554dda8be3cc6ee7445835": {
      "model_module": "jupyter-js-widgets",
      "model_module_version": "^2.0.20",
      "model_name": "VBoxModel",
      "state": {
       "_dom_classes": [
        "widget-interact"
       ],
       "_model_module_version": "^2.0.20",
       "_view_module_version": "^2.0.20",
       "children": [
        "IPY_MODEL_55df525785e54333a021efc3ad270609",
        "IPY_MODEL_e0bae2595e5244a6958703d591d39641"
       ],
       "layout": "IPY_MODEL_01e7603c4f5749ef8399a2e133a3b987"
      }
     },
     "babad5ae14e343548288693931be4f7c": {
      "model_module": "jupyter-js-widgets",
      "model_module_version": "^2.0.20",
      "model_name": "LayoutModel",
      "state": {
       "_model_module_version": "^2.0.20",
       "_view_module_version": "^2.0.20"
      }
     },
     "bb16919ecebc4ef7811c1cd0a4244fdc": {
      "model_module": "jupyter-js-widgets",
      "model_module_version": "^2.0.20",
      "model_name": "FloatSliderModel",
      "state": {
       "_model_module_version": "^2.0.20",
       "_view_module_version": "^2.0.20",
       "description": "t",
       "layout": "IPY_MODEL_41bc551ce94e4f96b9000ce04c13211a",
       "max": 0.9,
       "step": 0.1,
       "value": 0.3
      }
     },
     "bb332d5d8a2448abb9d7c92db605e67f": {
      "model_module": "jupyter-js-widgets",
      "model_module_version": "^2.0.20",
      "model_name": "FloatSliderModel",
      "state": {
       "_model_module_version": "^2.0.20",
       "_view_module_version": "^2.0.20",
       "description": "t",
       "layout": "IPY_MODEL_538ea35766da4af5890e3622a429594e",
       "max": 0.9,
       "step": 0.1,
       "value": 0.1
      }
     },
     "bbfd7cd4d29442b8a63237a938c1d563": {
      "model_module": "jupyter-js-widgets",
      "model_module_version": "^2.0.20",
      "model_name": "FloatSliderModel",
      "state": {
       "_model_module_version": "^2.0.20",
       "_view_module_version": "^2.0.20",
       "description": "t",
       "layout": "IPY_MODEL_d3cb1b6bb3054fb99bbcdaf3cfab2d79",
       "max": 0.9,
       "step": 0.1,
       "value": 0.7
      }
     },
     "bc223a8704ae4c559983abe111e64a76": {
      "model_module": "jupyter-js-widgets",
      "model_module_version": "^2.0.20",
      "model_name": "LayoutModel",
      "state": {
       "_model_module_version": "^2.0.20",
       "_view_module_version": "^2.0.20"
      }
     },
     "bc32881e35c840a78b4eee55490364aa": {
      "model_module": "jupyter-js-widgets",
      "model_module_version": "^2.0.20",
      "model_name": "LayoutModel",
      "state": {
       "_model_module_version": "^2.0.20",
       "_view_module_version": "^2.0.20"
      }
     },
     "bd9516a6e52f45bea486b14fb145ecc8": {
      "model_module": "jupyter-js-widgets",
      "model_module_version": "^2.0.20",
      "model_name": "OutputModel",
      "state": {
       "_dom_classes": [],
       "_model_module": "jupyter-js-widgets",
       "_model_module_version": "^2.0.20",
       "_view_module": "jupyter-js-widgets",
       "_view_module_version": "^2.0.20",
       "layout": "IPY_MODEL_0d52f4f0df0b4c288268c053e2a70ee5",
       "msg_throttle": 1
      }
     },
     "be17058d561344919cd40a22cb9cdbf2": {
      "model_module": "jupyter-js-widgets",
      "model_module_version": "^2.0.20",
      "model_name": "OutputModel",
      "state": {
       "_dom_classes": [],
       "_model_module": "jupyter-js-widgets",
       "_model_module_version": "^2.0.20",
       "_view_module": "jupyter-js-widgets",
       "_view_module_version": "^2.0.20",
       "layout": "IPY_MODEL_7d749676d3534fa29b7434dc864d8aa8",
       "msg_throttle": 1
      }
     },
     "be49270f45194d08a0cf1656c07246d5": {
      "model_module": "jupyter-js-widgets",
      "model_module_version": "^2.0.20",
      "model_name": "LayoutModel",
      "state": {
       "_model_module_version": "^2.0.20",
       "_view_module_version": "^2.0.20"
      }
     },
     "be84a442fd1c4dbcbad7c8c81b51407e": {
      "model_module": "jupyter-js-widgets",
      "model_module_version": "^2.0.20",
      "model_name": "LayoutModel",
      "state": {
       "_model_module_version": "^2.0.20",
       "_view_module_version": "^2.0.20"
      }
     },
     "be891cee8a8549da9b56580d7d17a6ad": {
      "model_module": "jupyter-js-widgets",
      "model_module_version": "^2.0.20",
      "model_name": "LayoutModel",
      "state": {
       "_model_module_version": "^2.0.20",
       "_view_module_version": "^2.0.20"
      }
     },
     "bee479ca07324d0f9c04ebffbfd4858e": {
      "model_module": "jupyter-js-widgets",
      "model_module_version": "^2.0.20",
      "model_name": "OutputModel",
      "state": {
       "_dom_classes": [],
       "_model_module": "jupyter-js-widgets",
       "_model_module_version": "^2.0.20",
       "_view_module": "jupyter-js-widgets",
       "_view_module_version": "^2.0.20",
       "layout": "IPY_MODEL_485e54c8e51340aa90c2a29db518f14e",
       "msg_throttle": 1
      }
     },
     "bfc19b97a29444499d417cc3a2e5a5af": {
      "model_module": "jupyter-js-widgets",
      "model_module_version": "^2.0.20",
      "model_name": "OutputModel",
      "state": {
       "_dom_classes": [],
       "_model_module": "jupyter-js-widgets",
       "_model_module_version": "^2.0.20",
       "_view_module": "jupyter-js-widgets",
       "_view_module_version": "^2.0.20",
       "layout": "IPY_MODEL_a4322e0ea3684f3cbb35e1c331f5f734",
       "msg_throttle": 1
      }
     },
     "c06cf029f4264aa1a3568606bb951669": {
      "model_module": "jupyter-js-widgets",
      "model_module_version": "^2.0.20",
      "model_name": "LayoutModel",
      "state": {
       "_model_module_version": "^2.0.20",
       "_view_module_version": "^2.0.20"
      }
     },
     "c0a6ce5a4c744b8c9a1969fcee96e460": {
      "model_module": "jupyter-js-widgets",
      "model_module_version": "^2.0.20",
      "model_name": "VBoxModel",
      "state": {
       "_dom_classes": [
        "widget-interact"
       ],
       "_model_module_version": "^2.0.20",
       "_view_module_version": "^2.0.20",
       "children": [
        "IPY_MODEL_df44084e680648699429179dc17dc075",
        "IPY_MODEL_ebce3bad48e64e6ea935aef513552669"
       ],
       "layout": "IPY_MODEL_ad653a8ae20b42678e2b06d6507570ca"
      }
     },
     "c0f757e7622f4b76b42714acba0e26cf": {
      "model_module": "jupyter-js-widgets",
      "model_module_version": "^2.0.20",
      "model_name": "OutputModel",
      "state": {
       "_dom_classes": [],
       "_model_module": "jupyter-js-widgets",
       "_model_module_version": "^2.0.20",
       "_view_module": "jupyter-js-widgets",
       "_view_module_version": "^2.0.20",
       "layout": "IPY_MODEL_40b01643b43045b79bae75771125160e",
       "msg_throttle": 1
      }
     },
     "c1075c304a2241d09f39bdedab5746e4": {
      "model_module": "jupyter-js-widgets",
      "model_module_version": "^2.0.20",
      "model_name": "FloatSliderModel",
      "state": {
       "_model_module_version": "^2.0.20",
       "_view_module_version": "^2.0.20",
       "description": "t",
       "layout": "IPY_MODEL_2827c6baf2c546d1ac78369db52db93f",
       "max": 0.9,
       "step": 0.1,
       "value": 0.1
      }
     },
     "c1877a69173f47a38cbf7e5f82058319": {
      "model_module": "jupyter-js-widgets",
      "model_module_version": "^2.0.20",
      "model_name": "LayoutModel",
      "state": {
       "_model_module_version": "^2.0.20",
       "_view_module_version": "^2.0.20"
      }
     },
     "c199a9f3479b41fab3bb100887051b6a": {
      "model_module": "jupyter-js-widgets",
      "model_module_version": "^2.0.20",
      "model_name": "LayoutModel",
      "state": {
       "_model_module_version": "^2.0.20",
       "_view_module_version": "^2.0.20"
      }
     },
     "c20ed008ef974a3a8aad2f1fab44a552": {
      "model_module": "jupyter-js-widgets",
      "model_module_version": "^2.0.20",
      "model_name": "OutputModel",
      "state": {
       "_dom_classes": [],
       "_model_module": "jupyter-js-widgets",
       "_model_module_version": "^2.0.20",
       "_view_module": "jupyter-js-widgets",
       "_view_module_version": "^2.0.20",
       "layout": "IPY_MODEL_455286b6ba92429987f81346333dbda6",
       "msg_throttle": 1
      }
     },
     "c2971258bbca4a8bbeee5673010f7a13": {
      "model_module": "jupyter-js-widgets",
      "model_module_version": "^2.0.20",
      "model_name": "OutputModel",
      "state": {
       "_dom_classes": [],
       "_model_module": "jupyter-js-widgets",
       "_model_module_version": "^2.0.20",
       "_view_module": "jupyter-js-widgets",
       "_view_module_version": "^2.0.20",
       "layout": "IPY_MODEL_877f5fb9843340889d42d9d3bf858a60",
       "msg_throttle": 1
      }
     },
     "c43fb5424c774613afd897654e6563da": {
      "model_module": "jupyter-js-widgets",
      "model_module_version": "^2.0.20",
      "model_name": "LayoutModel",
      "state": {
       "_model_module_version": "^2.0.20",
       "_view_module_version": "^2.0.20"
      }
     },
     "c4fcb1f4b464474ea67a66732e1a9428": {
      "model_module": "jupyter-js-widgets",
      "model_module_version": "^2.0.20",
      "model_name": "OutputModel",
      "state": {
       "_dom_classes": [],
       "_model_module": "jupyter-js-widgets",
       "_model_module_version": "^2.0.20",
       "_view_module": "jupyter-js-widgets",
       "_view_module_version": "^2.0.20",
       "layout": "IPY_MODEL_ca7bce106bea4c5086319ed1c3db74e2",
       "msg_throttle": 1
      }
     },
     "c53efaea0cca457cb77efa2d74f46edd": {
      "model_module": "jupyter-js-widgets",
      "model_module_version": "^2.0.20",
      "model_name": "LayoutModel",
      "state": {
       "_model_module_version": "^2.0.20",
       "_view_module_version": "^2.0.20"
      }
     },
     "c57ab1d8adc747378610c971bcf42ee6": {
      "model_module": "jupyter-js-widgets",
      "model_module_version": "^2.0.20",
      "model_name": "LayoutModel",
      "state": {
       "_model_module_version": "^2.0.20",
       "_view_module_version": "^2.0.20"
      }
     },
     "c681814ab18f45778dc5e444e2c09b43": {
      "model_module": "jupyter-js-widgets",
      "model_module_version": "^2.0.20",
      "model_name": "LayoutModel",
      "state": {
       "_model_module_version": "^2.0.20",
       "_view_module_version": "^2.0.20"
      }
     },
     "c6964296b61944369a38ebc3c4966774": {
      "model_module": "jupyter-js-widgets",
      "model_module_version": "^2.0.20",
      "model_name": "LayoutModel",
      "state": {
       "_model_module_version": "^2.0.20",
       "_view_module_version": "^2.0.20"
      }
     },
     "c7abbdad60cc451895a7c926e54c6df4": {
      "model_module": "jupyter-js-widgets",
      "model_module_version": "^2.0.20",
      "model_name": "FloatSliderModel",
      "state": {
       "_model_module_version": "^2.0.20",
       "_view_module_version": "^2.0.20",
       "description": "t",
       "layout": "IPY_MODEL_22bb89a940d44d0e90416fafd4fb7a4c",
       "max": 0.9,
       "step": 0.1,
       "value": 0.4
      }
     },
     "c7c5c89e2d1d4a069bafbf35db72b4c3": {
      "model_module": "jupyter-js-widgets",
      "model_module_version": "^2.0.20",
      "model_name": "VBoxModel",
      "state": {
       "_dom_classes": [
        "widget-interact"
       ],
       "_model_module_version": "^2.0.20",
       "_view_module_version": "^2.0.20",
       "children": [
        "IPY_MODEL_6356b840a382447eb3271a1faaf59277",
        "IPY_MODEL_bd9516a6e52f45bea486b14fb145ecc8"
       ],
       "layout": "IPY_MODEL_0920097341a24307ba28ec4d8f8593a1"
      }
     },
     "c7fe18033f9e48e0a94b8a312f52d644": {
      "model_module": "jupyter-js-widgets",
      "model_module_version": "^2.0.20",
      "model_name": "LayoutModel",
      "state": {
       "_model_module_version": "^2.0.20",
       "_view_module_version": "^2.0.20"
      }
     },
     "c93b54ac5b124d80ab53c00bd99e9993": {
      "model_module": "jupyter-js-widgets",
      "model_module_version": "^2.0.20",
      "model_name": "OutputModel",
      "state": {
       "_dom_classes": [],
       "_model_module": "jupyter-js-widgets",
       "_model_module_version": "^2.0.20",
       "_view_module": "jupyter-js-widgets",
       "_view_module_version": "^2.0.20",
       "layout": "IPY_MODEL_d88916481d884511a66ff8a5c83f1338",
       "msg_throttle": 1
      }
     },
     "c9af0efcc81c4eb18405b3472d03a394": {
      "model_module": "jupyter-js-widgets",
      "model_module_version": "^2.0.20",
      "model_name": "VBoxModel",
      "state": {
       "_dom_classes": [
        "widget-interact"
       ],
       "_model_module_version": "^2.0.20",
       "_view_module_version": "^2.0.20",
       "children": [
        "IPY_MODEL_4a48a33693b14d608cc7268d6397f5de",
        "IPY_MODEL_3a28a32f883a468ead7d4fb9cad0665d"
       ],
       "layout": "IPY_MODEL_0e843b8af81f497aa7e196b460afdac2"
      }
     },
     "ca1c3079324747b7bc7df42d4b4b912e": {
      "model_module": "jupyter-js-widgets",
      "model_module_version": "^2.0.20",
      "model_name": "LayoutModel",
      "state": {
       "_model_module_version": "^2.0.20",
       "_view_module_version": "^2.0.20"
      }
     },
     "ca7bce106bea4c5086319ed1c3db74e2": {
      "model_module": "jupyter-js-widgets",
      "model_module_version": "^2.0.20",
      "model_name": "LayoutModel",
      "state": {
       "_model_module_version": "^2.0.20",
       "_view_module_version": "^2.0.20"
      }
     },
     "ca7f4565fd284b4a890cf8c190b55d97": {
      "model_module": "jupyter-js-widgets",
      "model_module_version": "^2.0.20",
      "model_name": "VBoxModel",
      "state": {
       "_dom_classes": [
        "widget-interact"
       ],
       "_model_module_version": "^2.0.20",
       "_view_module_version": "^2.0.20",
       "children": [
        "IPY_MODEL_2ae3f4792cf44276af825059c5e24122",
        "IPY_MODEL_44239259b42b4f52970243a56ff9e397"
       ],
       "layout": "IPY_MODEL_d9ce5b27748b4f89a68a4b45b8dd8d3a"
      }
     },
     "cab554612c894c9a9c1948a1dd45cf6a": {
      "model_module": "jupyter-js-widgets",
      "model_module_version": "^2.0.20",
      "model_name": "VBoxModel",
      "state": {
       "_dom_classes": [
        "widget-interact"
       ],
       "_model_module_version": "^2.0.20",
       "_view_module_version": "^2.0.20",
       "children": [
        "IPY_MODEL_e66348e1cbab4eca97ba5ce604cc50d8",
        "IPY_MODEL_bfc19b97a29444499d417cc3a2e5a5af"
       ],
       "layout": "IPY_MODEL_1817f26349104497aa942c0113afe7fa"
      }
     },
     "cb8fdf23acd24541812171fd7b081f75": {
      "model_module": "jupyter-js-widgets",
      "model_module_version": "^2.0.20",
      "model_name": "LayoutModel",
      "state": {
       "_model_module_version": "^2.0.20",
       "_view_module_version": "^2.0.20"
      }
     },
     "cbcda35633f845fab2a36db9eb4c5af8": {
      "model_module": "jupyter-js-widgets",
      "model_module_version": "^2.0.20",
      "model_name": "LayoutModel",
      "state": {
       "_model_module_version": "^2.0.20",
       "_view_module_version": "^2.0.20"
      }
     },
     "cc9dadd408d646049f7f6ccabc81c427": {
      "model_module": "jupyter-js-widgets",
      "model_module_version": "^2.0.20",
      "model_name": "OutputModel",
      "state": {
       "_dom_classes": [],
       "_model_module": "jupyter-js-widgets",
       "_model_module_version": "^2.0.20",
       "_view_module": "jupyter-js-widgets",
       "_view_module_version": "^2.0.20",
       "layout": "IPY_MODEL_557622626c0a4461b7d5471886a0c715",
       "msg_throttle": 1
      }
     },
     "ccf5da4b03b94322a7d06d0fdc59b2f4": {
      "model_module": "jupyter-js-widgets",
      "model_module_version": "^2.0.20",
      "model_name": "VBoxModel",
      "state": {
       "_dom_classes": [
        "widget-interact"
       ],
       "_model_module_version": "^2.0.20",
       "_view_module_version": "^2.0.20",
       "children": [
        "IPY_MODEL_4b98e30f653142a387d5be98e2355849",
        "IPY_MODEL_a1f786f47ade4bada5c0530b3514046f"
       ],
       "layout": "IPY_MODEL_220263df0c704541ba92d9abf6dbce0a"
      }
     },
     "cd2763067ef446c2b6b59c2672cdadcc": {
      "model_module": "jupyter-js-widgets",
      "model_module_version": "^2.0.20",
      "model_name": "LayoutModel",
      "state": {
       "_model_module_version": "^2.0.20",
       "_view_module_version": "^2.0.20"
      }
     },
     "ce17dba4621647119b1c7cf5deb2873c": {
      "model_module": "jupyter-js-widgets",
      "model_module_version": "^2.0.20",
      "model_name": "OutputModel",
      "state": {
       "_dom_classes": [],
       "_model_module": "jupyter-js-widgets",
       "_model_module_version": "^2.0.20",
       "_view_module": "jupyter-js-widgets",
       "_view_module_version": "^2.0.20",
       "layout": "IPY_MODEL_47fbdf10d1f44753a33cab25f8d79752",
       "msg_throttle": 1
      }
     },
     "ce3e8adc2419492c88c9f9b113f8f3b4": {
      "model_module": "jupyter-js-widgets",
      "model_module_version": "^2.0.20",
      "model_name": "OutputModel",
      "state": {
       "_dom_classes": [],
       "_model_module": "jupyter-js-widgets",
       "_model_module_version": "^2.0.20",
       "_view_module": "jupyter-js-widgets",
       "_view_module_version": "^2.0.20",
       "layout": "IPY_MODEL_42f7cb03df274915a9ef6c0607f9fee4",
       "msg_throttle": 1
      }
     },
     "cea83ce4c0b143ddae5e7376b9ca46be": {
      "model_module": "jupyter-js-widgets",
      "model_module_version": "^2.0.20",
      "model_name": "OutputModel",
      "state": {
       "_dom_classes": [],
       "_model_module": "jupyter-js-widgets",
       "_model_module_version": "^2.0.20",
       "_view_module": "jupyter-js-widgets",
       "_view_module_version": "^2.0.20",
       "layout": "IPY_MODEL_7c2c7587a0d24fa4ab6474f9b8258cbd",
       "msg_throttle": 1
      }
     },
     "cf9dbda9c8f14c8f90f2c9e0ff5e7634": {
      "model_module": "jupyter-js-widgets",
      "model_module_version": "^2.0.20",
      "model_name": "OutputModel",
      "state": {
       "_dom_classes": [],
       "_model_module": "jupyter-js-widgets",
       "_model_module_version": "^2.0.20",
       "_view_module": "jupyter-js-widgets",
       "_view_module_version": "^2.0.20",
       "layout": "IPY_MODEL_413c507992574319aeb9f78b6973960a",
       "msg_throttle": 1
      }
     },
     "cfc104df237a4fb29b7087e4d15a4914": {
      "model_module": "jupyter-js-widgets",
      "model_module_version": "^2.0.20",
      "model_name": "FloatSliderModel",
      "state": {
       "_model_module_version": "^2.0.20",
       "_view_module_version": "^2.0.20",
       "description": "t",
       "layout": "IPY_MODEL_683a122b9adb44f9a1c38f5bb1ce8295",
       "max": 0.9,
       "step": 0.1,
       "value": 0.1
      }
     },
     "d01172656f8b4aa588a0182b7abb54cf": {
      "model_module": "jupyter-js-widgets",
      "model_module_version": "^2.0.20",
      "model_name": "LayoutModel",
      "state": {
       "_model_module_version": "^2.0.20",
       "_view_module_version": "^2.0.20"
      }
     },
     "d194674527c1427db1ee887e50551f4f": {
      "model_module": "jupyter-js-widgets",
      "model_module_version": "^2.0.20",
      "model_name": "OutputModel",
      "state": {
       "_dom_classes": [],
       "_model_module": "jupyter-js-widgets",
       "_model_module_version": "^2.0.20",
       "_view_module": "jupyter-js-widgets",
       "_view_module_version": "^2.0.20",
       "layout": "IPY_MODEL_55e4741ec1c048758dafb8e1f67734c5",
       "msg_throttle": 1
      }
     },
     "d1c449d47348413ea451c0fc05d9718e": {
      "model_module": "jupyter-js-widgets",
      "model_module_version": "^2.0.20",
      "model_name": "LayoutModel",
      "state": {
       "_model_module_version": "^2.0.20",
       "_view_module_version": "^2.0.20"
      }
     },
     "d272f7c863da42138cec6efa1ead74ca": {
      "model_module": "jupyter-js-widgets",
      "model_module_version": "^2.0.20",
      "model_name": "VBoxModel",
      "state": {
       "_dom_classes": [
        "widget-interact"
       ],
       "_model_module_version": "^2.0.20",
       "_view_module_version": "^2.0.20",
       "children": [
        "IPY_MODEL_339c9b5566a34eac923de88844b24893",
        "IPY_MODEL_f95bee63c3c2488797450560f32ef2ae"
       ],
       "layout": "IPY_MODEL_826babd8b0284fdcbd1706d779978466"
      }
     },
     "d2dbc362f0e34e2d84664f0bcb903036": {
      "model_module": "jupyter-js-widgets",
      "model_module_version": "^2.0.20",
      "model_name": "LayoutModel",
      "state": {
       "_model_module_version": "^2.0.20",
       "_view_module_version": "^2.0.20"
      }
     },
     "d37c05f7caac4cf4a77331f3d57c502c": {
      "model_module": "jupyter-js-widgets",
      "model_module_version": "^2.0.20",
      "model_name": "LayoutModel",
      "state": {
       "_model_module_version": "^2.0.20",
       "_view_module_version": "^2.0.20"
      }
     },
     "d3cb1b6bb3054fb99bbcdaf3cfab2d79": {
      "model_module": "jupyter-js-widgets",
      "model_module_version": "^2.0.20",
      "model_name": "LayoutModel",
      "state": {
       "_model_module_version": "^2.0.20",
       "_view_module_version": "^2.0.20"
      }
     },
     "d45165cc90b540159df9a37731a9b423": {
      "model_module": "jupyter-js-widgets",
      "model_module_version": "^2.0.20",
      "model_name": "OutputModel",
      "state": {
       "_dom_classes": [],
       "_model_module": "jupyter-js-widgets",
       "_model_module_version": "^2.0.20",
       "_view_module": "jupyter-js-widgets",
       "_view_module_version": "^2.0.20",
       "layout": "IPY_MODEL_ea9f0fa2f2e24bbb9fd0aafa86feb823",
       "msg_throttle": 1
      }
     },
     "d4640885a8644982b85d26395c53db42": {
      "model_module": "jupyter-js-widgets",
      "model_module_version": "^2.0.20",
      "model_name": "FloatSliderModel",
      "state": {
       "_model_module_version": "^2.0.20",
       "_view_module_version": "^2.0.20",
       "description": "t",
       "layout": "IPY_MODEL_1b2a9f0ac5e8424a915e6b2f51f2e253",
       "max": 0.9,
       "step": 0.1,
       "value": 0.7
      }
     },
     "d5518f1e3bb4427d9d245d77a329e364": {
      "model_module": "jupyter-js-widgets",
      "model_module_version": "^2.0.20",
      "model_name": "OutputModel",
      "state": {
       "_dom_classes": [],
       "_model_module": "jupyter-js-widgets",
       "_model_module_version": "^2.0.20",
       "_view_module": "jupyter-js-widgets",
       "_view_module_version": "^2.0.20",
       "layout": "IPY_MODEL_168ef4473aac4931863f5c0317a356dc",
       "msg_throttle": 1
      }
     },
     "d5844dead14946f5922523473c2f9967": {
      "model_module": "jupyter-js-widgets",
      "model_module_version": "^2.0.20",
      "model_name": "FloatSliderModel",
      "state": {
       "_model_module_version": "^2.0.20",
       "_view_module_version": "^2.0.20",
       "description": "t",
       "layout": "IPY_MODEL_ed544ae0879143b1930fc40d542c7f8d",
       "max": 0.9,
       "step": 0.1,
       "value": 0.1
      }
     },
     "d59b490aadff46f2af0d9794bdb280f9": {
      "model_module": "jupyter-js-widgets",
      "model_module_version": "^2.0.20",
      "model_name": "LayoutModel",
      "state": {
       "_model_module_version": "^2.0.20",
       "_view_module_version": "^2.0.20"
      }
     },
     "d60989130263417dbaf8204ee5bd2494": {
      "model_module": "jupyter-js-widgets",
      "model_module_version": "^2.0.20",
      "model_name": "LayoutModel",
      "state": {
       "_model_module_version": "^2.0.20",
       "_view_module_version": "^2.0.20"
      }
     },
     "d633faadf11f4256898d1ece500cd82f": {
      "model_module": "jupyter-js-widgets",
      "model_module_version": "^2.0.20",
      "model_name": "LayoutModel",
      "state": {
       "_model_module_version": "^2.0.20",
       "_view_module_version": "^2.0.20"
      }
     },
     "d6755f9190a542a3a6eeda9355098075": {
      "model_module": "jupyter-js-widgets",
      "model_module_version": "^2.0.20",
      "model_name": "OutputModel",
      "state": {
       "_dom_classes": [],
       "_model_module": "jupyter-js-widgets",
       "_model_module_version": "^2.0.20",
       "_view_module": "jupyter-js-widgets",
       "_view_module_version": "^2.0.20",
       "layout": "IPY_MODEL_4a7d753795d34d89bc8246f80e0b3e32",
       "msg_throttle": 1
      }
     },
     "d7a33738f8264407bc9d2049e17d94d0": {
      "model_module": "jupyter-js-widgets",
      "model_module_version": "^2.0.20",
      "model_name": "FloatSliderModel",
      "state": {
       "_model_module_version": "^2.0.20",
       "_view_module_version": "^2.0.20",
       "description": "t",
       "layout": "IPY_MODEL_2ee8f5c43df34003be539474e704e735",
       "max": 0.9,
       "step": 0.1
      }
     },
     "d88916481d884511a66ff8a5c83f1338": {
      "model_module": "jupyter-js-widgets",
      "model_module_version": "^2.0.20",
      "model_name": "LayoutModel",
      "state": {
       "_model_module_version": "^2.0.20",
       "_view_module_version": "^2.0.20"
      }
     },
     "d929a267087b43f7a6ad5ee565794dc3": {
      "model_module": "jupyter-js-widgets",
      "model_module_version": "^2.0.20",
      "model_name": "LayoutModel",
      "state": {
       "_model_module_version": "^2.0.20",
       "_view_module_version": "^2.0.20"
      }
     },
     "d96b433ee98d49f8819c65a1d08af416": {
      "model_module": "jupyter-js-widgets",
      "model_module_version": "^2.0.20",
      "model_name": "OutputModel",
      "state": {
       "_dom_classes": [],
       "_model_module": "jupyter-js-widgets",
       "_model_module_version": "^2.0.20",
       "_view_module": "jupyter-js-widgets",
       "_view_module_version": "^2.0.20",
       "layout": "IPY_MODEL_44e69e44512346c98d7da2f9c4ffd7ab",
       "msg_throttle": 1
      }
     },
     "d9a61ce7ec034f84b61b3f4e5aed48db": {
      "model_module": "jupyter-js-widgets",
      "model_module_version": "^2.0.20",
      "model_name": "FloatSliderModel",
      "state": {
       "_model_module_version": "^2.0.20",
       "_view_module_version": "^2.0.20",
       "description": "t",
       "layout": "IPY_MODEL_c57ab1d8adc747378610c971bcf42ee6",
       "max": 0.9,
       "step": 0.1,
       "value": 0.8
      }
     },
     "d9ce5b27748b4f89a68a4b45b8dd8d3a": {
      "model_module": "jupyter-js-widgets",
      "model_module_version": "^2.0.20",
      "model_name": "LayoutModel",
      "state": {
       "_model_module_version": "^2.0.20",
       "_view_module_version": "^2.0.20"
      }
     },
     "da5d7d9212a04654a1158cff636a7a99": {
      "model_module": "jupyter-js-widgets",
      "model_module_version": "^2.0.20",
      "model_name": "LayoutModel",
      "state": {
       "_model_module_version": "^2.0.20",
       "_view_module_version": "^2.0.20"
      }
     },
     "daa0f023ebd84fc181e3310736d88561": {
      "model_module": "jupyter-js-widgets",
      "model_module_version": "^2.0.20",
      "model_name": "LayoutModel",
      "state": {
       "_model_module_version": "^2.0.20",
       "_view_module_version": "^2.0.20"
      }
     },
     "db249e19ed544230bb874e19edf25952": {
      "model_module": "jupyter-js-widgets",
      "model_module_version": "^2.0.20",
      "model_name": "LayoutModel",
      "state": {
       "_model_module_version": "^2.0.20",
       "_view_module_version": "^2.0.20"
      }
     },
     "db7b705f8c3d400d8e60e501221101e0": {
      "model_module": "jupyter-js-widgets",
      "model_module_version": "^2.0.20",
      "model_name": "LayoutModel",
      "state": {
       "_model_module_version": "^2.0.20",
       "_view_module_version": "^2.0.20"
      }
     },
     "db92d0cea58349b3b66d18f02f10712e": {
      "model_module": "jupyter-js-widgets",
      "model_module_version": "^2.0.20",
      "model_name": "FloatSliderModel",
      "state": {
       "_model_module_version": "^2.0.20",
       "_view_module_version": "^2.0.20",
       "description": "t",
       "layout": "IPY_MODEL_c53efaea0cca457cb77efa2d74f46edd",
       "max": 0.9,
       "step": 0.1,
       "value": 0.1
      }
     },
     "dc4a6b7e8747478fadc21096c0e61dd4": {
      "model_module": "jupyter-js-widgets",
      "model_module_version": "^2.0.20",
      "model_name": "LayoutModel",
      "state": {
       "_model_module_version": "^2.0.20",
       "_view_module_version": "^2.0.20"
      }
     },
     "dd1b4a7ed56546468f092b76269c326f": {
      "model_module": "jupyter-js-widgets",
      "model_module_version": "^2.0.20",
      "model_name": "VBoxModel",
      "state": {
       "_dom_classes": [
        "widget-interact"
       ],
       "_model_module_version": "^2.0.20",
       "_view_module_version": "^2.0.20",
       "children": [
        "IPY_MODEL_62f97faa8f5942d19e7ba5ff25da38af",
        "IPY_MODEL_ce17dba4621647119b1c7cf5deb2873c"
       ],
       "layout": "IPY_MODEL_2ed0a95706874674ae6510605dbaee80"
      }
     },
     "dd525557ec444eef924fc1d5081fa7bf": {
      "model_module": "jupyter-js-widgets",
      "model_module_version": "^2.0.20",
      "model_name": "LayoutModel",
      "state": {
       "_model_module_version": "^2.0.20",
       "_view_module_version": "^2.0.20"
      }
     },
     "ddbedf58d2074ff3adfab17c4de780bd": {
      "model_module": "jupyter-js-widgets",
      "model_module_version": "^2.0.20",
      "model_name": "VBoxModel",
      "state": {
       "_dom_classes": [
        "widget-interact"
       ],
       "_model_module_version": "^2.0.20",
       "_view_module_version": "^2.0.20",
       "children": [
        "IPY_MODEL_4a63845d5a7b45c491fccde3b6804da1",
        "IPY_MODEL_c4fcb1f4b464474ea67a66732e1a9428"
       ],
       "layout": "IPY_MODEL_8e62a0f20b454aef97eca6e11d9368ea"
      }
     },
     "dde252ec5663411d855ac97740ee86de": {
      "model_module": "jupyter-js-widgets",
      "model_module_version": "^2.0.20",
      "model_name": "FloatSliderModel",
      "state": {
       "_model_module_version": "^2.0.20",
       "_view_module_version": "^2.0.20",
       "description": "t",
       "layout": "IPY_MODEL_92afad5c09b8419e80110baafc3cd330",
       "max": 0.9,
       "step": 0.1,
       "value": 0.1
      }
     },
     "de2a37e59bf84b199f3e851f51a65a4c": {
      "model_module": "jupyter-js-widgets",
      "model_module_version": "^2.0.20",
      "model_name": "LayoutModel",
      "state": {
       "_model_module_version": "^2.0.20",
       "_view_module_version": "^2.0.20"
      }
     },
     "de5da1483c2f47f0ab272c7f8aae3341": {
      "model_module": "jupyter-js-widgets",
      "model_module_version": "^2.0.20",
      "model_name": "VBoxModel",
      "state": {
       "_dom_classes": [
        "widget-interact"
       ],
       "_model_module_version": "^2.0.20",
       "_view_module_version": "^2.0.20",
       "children": [
        "IPY_MODEL_e6cb1d50ba694b12bfbd4c871332f2f3",
        "IPY_MODEL_40a6aa8ee7844f2db49da0f83ae944b1"
       ],
       "layout": "IPY_MODEL_84a6ce94b9944852a63367d34f0539de"
      }
     },
     "deae5919c3ff43719e83271a09cc0aad": {
      "model_module": "jupyter-js-widgets",
      "model_module_version": "^2.0.20",
      "model_name": "OutputModel",
      "state": {
       "_dom_classes": [],
       "_model_module": "jupyter-js-widgets",
       "_model_module_version": "^2.0.20",
       "_view_module": "jupyter-js-widgets",
       "_view_module_version": "^2.0.20",
       "layout": "IPY_MODEL_59f2646f61ca4ca1ac7c2c67c73207b8",
       "msg_throttle": 1
      }
     },
     "dedf7a35984c4165bd23636c2ade622c": {
      "model_module": "jupyter-js-widgets",
      "model_module_version": "^2.0.20",
      "model_name": "LayoutModel",
      "state": {
       "_model_module_version": "^2.0.20",
       "_view_module_version": "^2.0.20"
      }
     },
     "dee27b26918c4792b1d16694e3c845d6": {
      "model_module": "jupyter-js-widgets",
      "model_module_version": "^2.0.20",
      "model_name": "OutputModel",
      "state": {
       "_dom_classes": [],
       "_model_module": "jupyter-js-widgets",
       "_model_module_version": "^2.0.20",
       "_view_module": "jupyter-js-widgets",
       "_view_module_version": "^2.0.20",
       "layout": "IPY_MODEL_945a9608838b4a3c9d4031edd71b7311",
       "msg_throttle": 1
      }
     },
     "df44084e680648699429179dc17dc075": {
      "model_module": "jupyter-js-widgets",
      "model_module_version": "^2.0.20",
      "model_name": "FloatSliderModel",
      "state": {
       "_model_module_version": "^2.0.20",
       "_view_module_version": "^2.0.20",
       "description": "t",
       "layout": "IPY_MODEL_3f844e6ffda243cb8fab6396a7122dec",
       "max": 0.9,
       "step": 0.1,
       "value": 0.1
      }
     },
     "e08fa95c139c4e2da6b3e49d532c0625": {
      "model_module": "jupyter-js-widgets",
      "model_module_version": "^2.0.20",
      "model_name": "FloatSliderModel",
      "state": {
       "_model_module_version": "^2.0.20",
       "_view_module_version": "^2.0.20",
       "description": "t",
       "layout": "IPY_MODEL_532f4c4031c7480daae02341e1708da1",
       "max": 0.9,
       "step": 0.1,
       "value": 0.1
      }
     },
     "e0bae2595e5244a6958703d591d39641": {
      "model_module": "jupyter-js-widgets",
      "model_module_version": "^2.0.20",
      "model_name": "OutputModel",
      "state": {
       "_dom_classes": [],
       "_model_module": "jupyter-js-widgets",
       "_model_module_version": "^2.0.20",
       "_view_module": "jupyter-js-widgets",
       "_view_module_version": "^2.0.20",
       "layout": "IPY_MODEL_b7a0973904394d38ab231383b003ec8b",
       "msg_throttle": 1
      }
     },
     "e13f5ece81344c7fb69162d4b9afb842": {
      "model_module": "jupyter-js-widgets",
      "model_module_version": "^2.0.20",
      "model_name": "LayoutModel",
      "state": {
       "_model_module_version": "^2.0.20",
       "_view_module_version": "^2.0.20"
      }
     },
     "e17a680dfee74131ac6d0648482991de": {
      "model_module": "jupyter-js-widgets",
      "model_module_version": "^2.0.20",
      "model_name": "VBoxModel",
      "state": {
       "_dom_classes": [
        "widget-interact"
       ],
       "_model_module_version": "^2.0.20",
       "_view_module_version": "^2.0.20",
       "children": [
        "IPY_MODEL_dde252ec5663411d855ac97740ee86de",
        "IPY_MODEL_08ef8a95fa5f4d238ad1eeabd22513bc"
       ],
       "layout": "IPY_MODEL_390a4c117f1e4c1681595982bef7f23e"
      }
     },
     "e1e8e5d4ae7048288867f3b1e69e64a4": {
      "model_module": "jupyter-js-widgets",
      "model_module_version": "^2.0.20",
      "model_name": "VBoxModel",
      "state": {
       "_dom_classes": [
        "widget-interact"
       ],
       "_model_module_version": "^2.0.20",
       "_view_module_version": "^2.0.20",
       "children": [
        "IPY_MODEL_2b3552fe16a64a32b8c406e526d9ac97",
        "IPY_MODEL_0c005142a54f48d6be373f52ce2f6bc9"
       ],
       "layout": "IPY_MODEL_bc32881e35c840a78b4eee55490364aa"
      }
     },
     "e2825653cdd847a19e79adce54977937": {
      "model_module": "jupyter-js-widgets",
      "model_module_version": "^2.0.20",
      "model_name": "VBoxModel",
      "state": {
       "_dom_classes": [
        "widget-interact"
       ],
       "_model_module_version": "^2.0.20",
       "_view_module_version": "^2.0.20",
       "children": [
        "IPY_MODEL_60686636f0c7420ea30fd2add9543ab9",
        "IPY_MODEL_650cf2cec4444c62b9bd7c2614266008"
       ],
       "layout": "IPY_MODEL_217eb41f94cd4185aa4111ecdd070ff2"
      }
     },
     "e383457bd6c649039f0ed3b3cb8fc0af": {
      "model_module": "jupyter-js-widgets",
      "model_module_version": "^2.0.20",
      "model_name": "LayoutModel",
      "state": {
       "_model_module_version": "^2.0.20",
       "_view_module_version": "^2.0.20"
      }
     },
     "e3b045adb4ac415cab0c06c5c1bdfeca": {
      "model_module": "jupyter-js-widgets",
      "model_module_version": "^2.0.20",
      "model_name": "VBoxModel",
      "state": {
       "_dom_classes": [
        "widget-interact"
       ],
       "_model_module_version": "^2.0.20",
       "_view_module_version": "^2.0.20",
       "children": [
        "IPY_MODEL_1127eb5b6d3948849977c27ec703509f",
        "IPY_MODEL_fdc98167539d4743ad528f3fbb89a5f3"
       ],
       "layout": "IPY_MODEL_44a10c1781fc4945b50b1f9da02ee540"
      }
     },
     "e3ca7943ba484df5a205a4848e26af2b": {
      "model_module": "jupyter-js-widgets",
      "model_module_version": "^2.0.20",
      "model_name": "FloatSliderModel",
      "state": {
       "_model_module_version": "^2.0.20",
       "_view_module_version": "^2.0.20",
       "description": "t",
       "layout": "IPY_MODEL_336d41cc592e4cb7a840927b85cfc52f",
       "max": 0.9,
       "step": 0.1,
       "value": 0.1
      }
     },
     "e3ce02ef6d2a42a38458e7ccd35ea986": {
      "model_module": "jupyter-js-widgets",
      "model_module_version": "^2.0.20",
      "model_name": "LayoutModel",
      "state": {
       "_model_module_version": "^2.0.20",
       "_view_module_version": "^2.0.20"
      }
     },
     "e470e53166774bb58b6589a14709697b": {
      "model_module": "jupyter-js-widgets",
      "model_module_version": "^2.0.20",
      "model_name": "LayoutModel",
      "state": {
       "_model_module_version": "^2.0.20",
       "_view_module_version": "^2.0.20"
      }
     },
     "e5b76357b6fa483194a6b60dbcd8a89d": {
      "model_module": "jupyter-js-widgets",
      "model_module_version": "^2.0.20",
      "model_name": "FloatSliderModel",
      "state": {
       "_model_module_version": "^2.0.20",
       "_view_module_version": "^2.0.20",
       "description": "t",
       "layout": "IPY_MODEL_c1877a69173f47a38cbf7e5f82058319",
       "max": 0.9,
       "step": 0.1,
       "value": 0.1
      }
     },
     "e5da03db1832444ea3d274de9fb8eadc": {
      "model_module": "jupyter-js-widgets",
      "model_module_version": "^2.0.20",
      "model_name": "FloatSliderModel",
      "state": {
       "_model_module_version": "^2.0.20",
       "_view_module_version": "^2.0.20",
       "description": "t",
       "layout": "IPY_MODEL_3b957b35ae8645558010ad0269049e82",
       "max": 0.9,
       "step": 0.1,
       "value": 0.1
      }
     },
     "e5dbb01b5b9e492e8ff6a5bde2d8d776": {
      "model_module": "jupyter-js-widgets",
      "model_module_version": "^2.0.20",
      "model_name": "OutputModel",
      "state": {
       "_dom_classes": [],
       "_model_module": "jupyter-js-widgets",
       "_model_module_version": "^2.0.20",
       "_view_module": "jupyter-js-widgets",
       "_view_module_version": "^2.0.20",
       "layout": "IPY_MODEL_be49270f45194d08a0cf1656c07246d5",
       "msg_throttle": 1
      }
     },
     "e61c6845d35f4241b87d5566b1cb53a1": {
      "model_module": "jupyter-js-widgets",
      "model_module_version": "^2.0.20",
      "model_name": "LayoutModel",
      "state": {
       "_model_module_version": "^2.0.20",
       "_view_module_version": "^2.0.20"
      }
     },
     "e66348e1cbab4eca97ba5ce604cc50d8": {
      "model_module": "jupyter-js-widgets",
      "model_module_version": "^2.0.20",
      "model_name": "FloatSliderModel",
      "state": {
       "_model_module_version": "^2.0.20",
       "_view_module_version": "^2.0.20",
       "description": "t",
       "layout": "IPY_MODEL_babad5ae14e343548288693931be4f7c",
       "max": 0.9,
       "step": 0.1
      }
     },
     "e6cb1d50ba694b12bfbd4c871332f2f3": {
      "model_module": "jupyter-js-widgets",
      "model_module_version": "^2.0.20",
      "model_name": "FloatSliderModel",
      "state": {
       "_model_module_version": "^2.0.20",
       "_view_module_version": "^2.0.20",
       "description": "t",
       "layout": "IPY_MODEL_4b9fdb8aa53b49c1a5525215736e9a11",
       "max": 0.9,
       "step": 0.1,
       "value": 0.6
      }
     },
     "e76b1d6c44a24092b39dc335ee672d52": {
      "model_module": "jupyter-js-widgets",
      "model_module_version": "^2.0.20",
      "model_name": "LayoutModel",
      "state": {
       "_model_module_version": "^2.0.20",
       "_view_module_version": "^2.0.20"
      }
     },
     "e7721f06737c40c5b3b7104fcc1bbb99": {
      "model_module": "jupyter-js-widgets",
      "model_module_version": "^2.0.20",
      "model_name": "LayoutModel",
      "state": {
       "_model_module_version": "^2.0.20",
       "_view_module_version": "^2.0.20"
      }
     },
     "e8371f4d0dd34e4b9379b2ea6b16cd11": {
      "model_module": "jupyter-js-widgets",
      "model_module_version": "^2.0.20",
      "model_name": "LayoutModel",
      "state": {
       "_model_module_version": "^2.0.20",
       "_view_module_version": "^2.0.20"
      }
     },
     "e8d36362e8dc4298b83286c87b9628b6": {
      "model_module": "jupyter-js-widgets",
      "model_module_version": "^2.0.20",
      "model_name": "FloatSliderModel",
      "state": {
       "_model_module_version": "^2.0.20",
       "_view_module_version": "^2.0.20",
       "description": "t",
       "layout": "IPY_MODEL_96e9beeda0d8405fb51730b6993434ec",
       "max": 0.9,
       "step": 0.1,
       "value": 0.1
      }
     },
     "e9acad34a8d64e7e93becc1e9bf0506d": {
      "model_module": "jupyter-js-widgets",
      "model_module_version": "^2.0.20",
      "model_name": "VBoxModel",
      "state": {
       "_dom_classes": [
        "widget-interact"
       ],
       "_model_module_version": "^2.0.20",
       "_view_module_version": "^2.0.20",
       "children": [
        "IPY_MODEL_1b1b8ac4dd624b538449ce1780bb28e0",
        "IPY_MODEL_1fad1b59caa44cbe91c00ecc8db418e3"
       ],
       "layout": "IPY_MODEL_4190f31fe2074ce39e25e9bf454353a6"
      }
     },
     "ea9f0fa2f2e24bbb9fd0aafa86feb823": {
      "model_module": "jupyter-js-widgets",
      "model_module_version": "^2.0.20",
      "model_name": "LayoutModel",
      "state": {
       "_model_module_version": "^2.0.20",
       "_view_module_version": "^2.0.20"
      }
     },
     "eb0696b9036a4c50ad3d7d95efa2b3d3": {
      "model_module": "jupyter-js-widgets",
      "model_module_version": "^2.0.20",
      "model_name": "LayoutModel",
      "state": {
       "_model_module_version": "^2.0.20",
       "_view_module_version": "^2.0.20"
      }
     },
     "eb317046fd2a4917927941c39d12cb75": {
      "model_module": "jupyter-js-widgets",
      "model_module_version": "^2.0.20",
      "model_name": "OutputModel",
      "state": {
       "_dom_classes": [],
       "_model_module": "jupyter-js-widgets",
       "_model_module_version": "^2.0.20",
       "_view_module": "jupyter-js-widgets",
       "_view_module_version": "^2.0.20",
       "layout": "IPY_MODEL_2fc8cec965c34ab0a8d7ce56c8c916f2",
       "msg_throttle": 1
      }
     },
     "ebc8df1b23ac464fa04aa4007abb6071": {
      "model_module": "jupyter-js-widgets",
      "model_module_version": "^2.0.20",
      "model_name": "VBoxModel",
      "state": {
       "_dom_classes": [
        "widget-interact"
       ],
       "_model_module_version": "^2.0.20",
       "_view_module_version": "^2.0.20",
       "children": [
        "IPY_MODEL_e08fa95c139c4e2da6b3e49d532c0625",
        "IPY_MODEL_aced1ec9275e4e83a397be48c43ca796"
       ],
       "layout": "IPY_MODEL_0190c264b7264187b31893f3d86e2008"
      }
     },
     "ebce3bad48e64e6ea935aef513552669": {
      "model_module": "jupyter-js-widgets",
      "model_module_version": "^2.0.20",
      "model_name": "OutputModel",
      "state": {
       "_dom_classes": [],
       "_model_module": "jupyter-js-widgets",
       "_model_module_version": "^2.0.20",
       "_view_module": "jupyter-js-widgets",
       "_view_module_version": "^2.0.20",
       "layout": "IPY_MODEL_65b0d685feb845f6b5234051c38d5b13",
       "msg_throttle": 1
      }
     },
     "ec399290ee264b72aa18f5574dcb0d80": {
      "model_module": "jupyter-js-widgets",
      "model_module_version": "^2.0.20",
      "model_name": "OutputModel",
      "state": {
       "_dom_classes": [],
       "_model_module": "jupyter-js-widgets",
       "_model_module_version": "^2.0.20",
       "_view_module": "jupyter-js-widgets",
       "_view_module_version": "^2.0.20",
       "layout": "IPY_MODEL_c199a9f3479b41fab3bb100887051b6a",
       "msg_throttle": 1
      }
     },
     "ec4cef1f80974b2d9de456fd1a3ac017": {
      "model_module": "jupyter-js-widgets",
      "model_module_version": "^2.0.20",
      "model_name": "OutputModel",
      "state": {
       "_dom_classes": [],
       "_model_module": "jupyter-js-widgets",
       "_model_module_version": "^2.0.20",
       "_view_module": "jupyter-js-widgets",
       "_view_module_version": "^2.0.20",
       "layout": "IPY_MODEL_ab0cc5d69caf499ab8e2f32dca2547e5",
       "msg_throttle": 1
      }
     },
     "ec7c23d3f51b4226a26558334826daa9": {
      "model_module": "jupyter-js-widgets",
      "model_module_version": "^2.0.20",
      "model_name": "OutputModel",
      "state": {
       "_dom_classes": [],
       "_model_module": "jupyter-js-widgets",
       "_model_module_version": "^2.0.20",
       "_view_module": "jupyter-js-widgets",
       "_view_module_version": "^2.0.20",
       "layout": "IPY_MODEL_44745d6eb2d642dda8e6e20896ff6727",
       "msg_throttle": 1
      }
     },
     "ec9b737443f9400193e67c4d83339267": {
      "model_module": "jupyter-js-widgets",
      "model_module_version": "^2.0.20",
      "model_name": "LayoutModel",
      "state": {
       "_model_module_version": "^2.0.20",
       "_view_module_version": "^2.0.20"
      }
     },
     "ed544ae0879143b1930fc40d542c7f8d": {
      "model_module": "jupyter-js-widgets",
      "model_module_version": "^2.0.20",
      "model_name": "LayoutModel",
      "state": {
       "_model_module_version": "^2.0.20",
       "_view_module_version": "^2.0.20"
      }
     },
     "edfafa14aa614a8c882ecc3ab8caa493": {
      "model_module": "jupyter-js-widgets",
      "model_module_version": "^2.0.20",
      "model_name": "VBoxModel",
      "state": {
       "_dom_classes": [
        "widget-interact"
       ],
       "_model_module_version": "^2.0.20",
       "_view_module_version": "^2.0.20",
       "children": [
        "IPY_MODEL_82e67ba0f74845a3a5a4db215bb02083",
        "IPY_MODEL_92d5e3e5a64048b7a7a53beff9fc4c6b"
       ],
       "layout": "IPY_MODEL_b5af6ffa0d664faaa9cc4f419a11d789"
      }
     },
     "eec490e240054af1ac1226d83cb82b92": {
      "model_module": "jupyter-js-widgets",
      "model_module_version": "^2.0.20",
      "model_name": "FloatSliderModel",
      "state": {
       "_model_module_version": "^2.0.20",
       "_view_module_version": "^2.0.20",
       "description": "t",
       "layout": "IPY_MODEL_1136eeeb805746e9b21b979880e2e22b",
       "max": 0.9,
       "step": 0.1,
       "value": 0.1
      }
     },
     "eedbdd21ab054d09ab85507480e2afb5": {
      "model_module": "jupyter-js-widgets",
      "model_module_version": "^2.0.20",
      "model_name": "LayoutModel",
      "state": {
       "_model_module_version": "^2.0.20",
       "_view_module_version": "^2.0.20"
      }
     },
     "ef2e31e70fe34e0fb4601c6470a1dbb1": {
      "model_module": "jupyter-js-widgets",
      "model_module_version": "^2.0.20",
      "model_name": "OutputModel",
      "state": {
       "_dom_classes": [],
       "_model_module": "jupyter-js-widgets",
       "_model_module_version": "^2.0.20",
       "_view_module": "jupyter-js-widgets",
       "_view_module_version": "^2.0.20",
       "layout": "IPY_MODEL_dedf7a35984c4165bd23636c2ade622c",
       "msg_throttle": 1
      }
     },
     "ef5aecfedf184dd68993d0c0fe4a405e": {
      "model_module": "jupyter-js-widgets",
      "model_module_version": "^2.0.20",
      "model_name": "VBoxModel",
      "state": {
       "_dom_classes": [
        "widget-interact"
       ],
       "_model_module_version": "^2.0.20",
       "_view_module_version": "^2.0.20",
       "children": [
        "IPY_MODEL_e5b76357b6fa483194a6b60dbcd8a89d",
        "IPY_MODEL_8c236b6e8c3546b0aaa8fb79c2b1cadb"
       ],
       "layout": "IPY_MODEL_eb0696b9036a4c50ad3d7d95efa2b3d3"
      }
     },
     "f025a978c29c4f35b5bc6f2631865e3f": {
      "model_module": "jupyter-js-widgets",
      "model_module_version": "^2.0.20",
      "model_name": "LayoutModel",
      "state": {
       "_model_module_version": "^2.0.20",
       "_view_module_version": "^2.0.20"
      }
     },
     "f033bfd8d6314400a785967c931dc1af": {
      "model_module": "jupyter-js-widgets",
      "model_module_version": "^2.0.20",
      "model_name": "VBoxModel",
      "state": {
       "_dom_classes": [
        "widget-interact"
       ],
       "_model_module_version": "^2.0.20",
       "_view_module_version": "^2.0.20",
       "children": [
        "IPY_MODEL_04773fb019bc421a9f60c7e9c8764b26",
        "IPY_MODEL_620e72f59d46470cbee5e1cb1d7417a3"
       ],
       "layout": "IPY_MODEL_2fe60e9cdcff48d0955b0bd8191d5474"
      }
     },
     "f050536a060c481d8937b0b84190708f": {
      "model_module": "jupyter-js-widgets",
      "model_module_version": "^2.0.20",
      "model_name": "VBoxModel",
      "state": {
       "_dom_classes": [
        "widget-interact"
       ],
       "_model_module_version": "^2.0.20",
       "_view_module_version": "^2.0.20",
       "children": [
        "IPY_MODEL_013a77f71e2d4530a4ecabf98b238d79",
        "IPY_MODEL_c2971258bbca4a8bbeee5673010f7a13"
       ],
       "layout": "IPY_MODEL_0b51ba026c5a4c34b82d2387b5a9bb2c"
      }
     },
     "f0d5af0e3bf94a8892f193f9ffb97f6c": {
      "model_module": "jupyter-js-widgets",
      "model_module_version": "^2.0.20",
      "model_name": "VBoxModel",
      "state": {
       "_dom_classes": [
        "widget-interact"
       ],
       "_model_module_version": "^2.0.20",
       "_view_module_version": "^2.0.20",
       "children": [
        "IPY_MODEL_4486dae85bc546d48e31de2d8c3a4922",
        "IPY_MODEL_6f31c5ef8fb94ba68963a29a56671218"
       ],
       "layout": "IPY_MODEL_1b9a2a84e25747cd9b91e02455881912"
      }
     },
     "f11e9444aba747f8b55dbde3c2597324": {
      "model_module": "jupyter-js-widgets",
      "model_module_version": "^2.0.20",
      "model_name": "FloatSliderModel",
      "state": {
       "_model_module_version": "^2.0.20",
       "_view_module_version": "^2.0.20",
       "description": "t",
       "layout": "IPY_MODEL_76343d5916ca40c58cc40b5738c7d171",
       "max": 0.9,
       "step": 0.1,
       "value": 0.1
      }
     },
     "f20586a58ca945428407bbcef691116f": {
      "model_module": "jupyter-js-widgets",
      "model_module_version": "^2.0.20",
      "model_name": "VBoxModel",
      "state": {
       "_dom_classes": [
        "widget-interact"
       ],
       "_model_module_version": "^2.0.20",
       "_view_module_version": "^2.0.20",
       "children": [
        "IPY_MODEL_3ba921d13b934bc8a4a19755bf33a148",
        "IPY_MODEL_427354997e12438b90e032bbf271583f"
       ],
       "layout": "IPY_MODEL_3bf9d5c8a4504ab9af6effa04c98205a"
      }
     },
     "f2a913dab4114e5c807965554daba3cd": {
      "model_module": "jupyter-js-widgets",
      "model_module_version": "^2.0.20",
      "model_name": "LayoutModel",
      "state": {
       "_model_module_version": "^2.0.20",
       "_view_module_version": "^2.0.20"
      }
     },
     "f2bfd1140e47455693c8e87d2bd3f37f": {
      "model_module": "jupyter-js-widgets",
      "model_module_version": "^2.0.20",
      "model_name": "LayoutModel",
      "state": {
       "_model_module_version": "^2.0.20",
       "_view_module_version": "^2.0.20"
      }
     },
     "f4099e18f22c4daa99ed848fb4e9c5e5": {
      "model_module": "jupyter-js-widgets",
      "model_module_version": "^2.0.20",
      "model_name": "LayoutModel",
      "state": {
       "_model_module_version": "^2.0.20",
       "_view_module_version": "^2.0.20"
      }
     },
     "f4256605eb234b8683a9bcf02d6b2041": {
      "model_module": "jupyter-js-widgets",
      "model_module_version": "^2.0.20",
      "model_name": "OutputModel",
      "state": {
       "_dom_classes": [],
       "_model_module": "jupyter-js-widgets",
       "_model_module_version": "^2.0.20",
       "_view_module": "jupyter-js-widgets",
       "_view_module_version": "^2.0.20",
       "layout": "IPY_MODEL_789407dd71344c3e8712b263f7d94164",
       "msg_throttle": 1
      }
     },
     "f45ec97ea22e4889a6684c9ed67af163": {
      "model_module": "jupyter-js-widgets",
      "model_module_version": "^2.0.20",
      "model_name": "FloatSliderModel",
      "state": {
       "_model_module_version": "^2.0.20",
       "_view_module_version": "^2.0.20",
       "description": "t",
       "layout": "IPY_MODEL_378596a2b2fb4138b6bde8229113d073",
       "max": 0.9,
       "step": 0.1,
       "value": 0.7
      }
     },
     "f4b9e6c19c3a4d18a96fc2b2a3e8a137": {
      "model_module": "jupyter-js-widgets",
      "model_module_version": "^2.0.20",
      "model_name": "LayoutModel",
      "state": {
       "_model_module_version": "^2.0.20",
       "_view_module_version": "^2.0.20"
      }
     },
     "f4fc13fcf1184c51a606d6e618a24430": {
      "model_module": "jupyter-js-widgets",
      "model_module_version": "^2.0.20",
      "model_name": "LayoutModel",
      "state": {
       "_model_module_version": "^2.0.20",
       "_view_module_version": "^2.0.20"
      }
     },
     "f52f9a555cf548299f3e9125c63cc510": {
      "model_module": "jupyter-js-widgets",
      "model_module_version": "^2.0.20",
      "model_name": "LayoutModel",
      "state": {
       "_model_module_version": "^2.0.20",
       "_view_module_version": "^2.0.20"
      }
     },
     "f5c39af94a034f9b8399aee0bdc5ec53": {
      "model_module": "jupyter-js-widgets",
      "model_module_version": "^2.0.20",
      "model_name": "LayoutModel",
      "state": {
       "_model_module_version": "^2.0.20",
       "_view_module_version": "^2.0.20"
      }
     },
     "f6c1126a5bb84ae8809c4f17e72254cd": {
      "model_module": "jupyter-js-widgets",
      "model_module_version": "^2.0.20",
      "model_name": "FloatSliderModel",
      "state": {
       "_model_module_version": "^2.0.20",
       "_view_module_version": "^2.0.20",
       "description": "t",
       "layout": "IPY_MODEL_e470e53166774bb58b6589a14709697b",
       "max": 0.9,
       "step": 0.1,
       "value": 0.1
      }
     },
     "f6d4293cbd104254a808816120b5b3ce": {
      "model_module": "jupyter-js-widgets",
      "model_module_version": "^2.0.20",
      "model_name": "LayoutModel",
      "state": {
       "_model_module_version": "^2.0.20",
       "_view_module_version": "^2.0.20"
      }
     },
     "f76869e77b71402da11e4197931bc5f1": {
      "model_module": "jupyter-js-widgets",
      "model_module_version": "^2.0.20",
      "model_name": "VBoxModel",
      "state": {
       "_dom_classes": [
        "widget-interact"
       ],
       "_model_module_version": "^2.0.20",
       "_view_module_version": "^2.0.20",
       "children": [
        "IPY_MODEL_06f02703c18040f78dccacfd7a60486c",
        "IPY_MODEL_115f0e45a12045d9b1a8be17939a705a"
       ],
       "layout": "IPY_MODEL_5afe0bf1723b4d6c858519c6a97ad87d"
      }
     },
     "f80f894677964a5b968e7b247ddcf20b": {
      "model_module": "jupyter-js-widgets",
      "model_module_version": "^2.0.20",
      "model_name": "OutputModel",
      "state": {
       "_dom_classes": [],
       "_model_module": "jupyter-js-widgets",
       "_model_module_version": "^2.0.20",
       "_view_module": "jupyter-js-widgets",
       "_view_module_version": "^2.0.20",
       "layout": "IPY_MODEL_77f9f954f2e94957a6112dacb3f1b24d",
       "msg_throttle": 1
      }
     },
     "f95bee63c3c2488797450560f32ef2ae": {
      "model_module": "jupyter-js-widgets",
      "model_module_version": "^2.0.20",
      "model_name": "OutputModel",
      "state": {
       "_dom_classes": [],
       "_model_module": "jupyter-js-widgets",
       "_model_module_version": "^2.0.20",
       "_view_module": "jupyter-js-widgets",
       "_view_module_version": "^2.0.20",
       "layout": "IPY_MODEL_3f57534d354c4a2a921294020cf72936",
       "msg_throttle": 1
      }
     },
     "f9a2c1024bcd42e295058b4519b02734": {
      "model_module": "jupyter-js-widgets",
      "model_module_version": "^2.0.20",
      "model_name": "VBoxModel",
      "state": {
       "_dom_classes": [
        "widget-interact"
       ],
       "_model_module_version": "^2.0.20",
       "_view_module_version": "^2.0.20",
       "children": [
        "IPY_MODEL_bbfd7cd4d29442b8a63237a938c1d563",
        "IPY_MODEL_deae5919c3ff43719e83271a09cc0aad"
       ],
       "layout": "IPY_MODEL_21bc2ef4a6364e7d8be49404b073d210"
      }
     },
     "fc143e7266e440be993f3ea5a6deb740": {
      "model_module": "jupyter-js-widgets",
      "model_module_version": "^2.0.20",
      "model_name": "LayoutModel",
      "state": {
       "_model_module_version": "^2.0.20",
       "_view_module_version": "^2.0.20"
      }
     },
     "fc44013f119647b0bf0da88aab686938": {
      "model_module": "jupyter-js-widgets",
      "model_module_version": "^2.0.20",
      "model_name": "VBoxModel",
      "state": {
       "_dom_classes": [
        "widget-interact"
       ],
       "_model_module_version": "^2.0.20",
       "_view_module_version": "^2.0.20",
       "children": [
        "IPY_MODEL_85206295a0374fc0ad75f34da744da7d",
        "IPY_MODEL_166466ef77694bb5a725da645a75722c"
       ],
       "layout": "IPY_MODEL_e8371f4d0dd34e4b9379b2ea6b16cd11"
      }
     },
     "fd205c26a33e438b916e04110184eb43": {
      "model_module": "jupyter-js-widgets",
      "model_module_version": "^2.0.20",
      "model_name": "VBoxModel",
      "state": {
       "_dom_classes": [
        "widget-interact"
       ],
       "_model_module_version": "^2.0.20",
       "_view_module_version": "^2.0.20",
       "children": [
        "IPY_MODEL_8ce68f987eb948c9b3334f4b21051a47",
        "IPY_MODEL_26fa1b91bf1942d98d34a786e074ed2b"
       ],
       "layout": "IPY_MODEL_3c87c9c96cd7496298ffc6ff83dd3271"
      }
     },
     "fdc98167539d4743ad528f3fbb89a5f3": {
      "model_module": "jupyter-js-widgets",
      "model_module_version": "^2.0.20",
      "model_name": "OutputModel",
      "state": {
       "_dom_classes": [],
       "_model_module": "jupyter-js-widgets",
       "_model_module_version": "^2.0.20",
       "_view_module": "jupyter-js-widgets",
       "_view_module_version": "^2.0.20",
       "layout": "IPY_MODEL_39d577ad07e5480780c7ef2a4154a69e",
       "msg_throttle": 1
      }
     },
     "fe0f60106d8b4128980adaa5089bb3be": {
      "model_module": "jupyter-js-widgets",
      "model_module_version": "^2.0.20",
      "model_name": "VBoxModel",
      "state": {
       "_dom_classes": [
        "widget-interact"
       ],
       "_model_module_version": "^2.0.20",
       "_view_module_version": "^2.0.20",
       "children": [
        "IPY_MODEL_d9a61ce7ec034f84b61b3f4e5aed48db",
        "IPY_MODEL_ec399290ee264b72aa18f5574dcb0d80"
       ],
       "layout": "IPY_MODEL_c681814ab18f45778dc5e444e2c09b43"
      }
     },
     "fe24fb6d88b14dfc93f9c43d32934715": {
      "model_module": "jupyter-js-widgets",
      "model_module_version": "^2.0.20",
      "model_name": "VBoxModel",
      "state": {
       "_dom_classes": [
        "widget-interact"
       ],
       "_model_module_version": "^2.0.20",
       "_view_module_version": "^2.0.20",
       "children": [
        "IPY_MODEL_a2032cbe6cee45119d82dfd48a73ecd0",
        "IPY_MODEL_cc9dadd408d646049f7f6ccabc81c427"
       ],
       "layout": "IPY_MODEL_093e5047c17e4f15aa2a55a09f4f9ff7"
      }
     },
     "fe2b76a5147d4ca388e9c4ebddfe4bb2": {
      "model_module": "jupyter-js-widgets",
      "model_module_version": "^2.0.20",
      "model_name": "FloatSliderModel",
      "state": {
       "_model_module_version": "^2.0.20",
       "_view_module_version": "^2.0.20",
       "description": "t",
       "layout": "IPY_MODEL_3280ed956ef7447cbe3a4c86d0b37f48",
       "max": 0.9,
       "step": 0.1,
       "value": 0.1
      }
     },
     "fe569c514e4c40268102926f4b8da18d": {
      "model_module": "jupyter-js-widgets",
      "model_module_version": "^2.0.20",
      "model_name": "OutputModel",
      "state": {
       "_dom_classes": [],
       "_model_module": "jupyter-js-widgets",
       "_model_module_version": "^2.0.20",
       "_view_module": "jupyter-js-widgets",
       "_view_module_version": "^2.0.20",
       "layout": "IPY_MODEL_57482f3bc2874e3aa37a28e0862acfe8",
       "msg_throttle": 1
      }
     },
     "fe7dad85fade483ab9a53d0be054f0d9": {
      "model_module": "jupyter-js-widgets",
      "model_module_version": "^2.0.20",
      "model_name": "LayoutModel",
      "state": {
       "_model_module_version": "^2.0.20",
       "_view_module_version": "^2.0.20"
      }
     },
     "fe9e521d8be645bfb80ca0a5988a24b0": {
      "model_module": "jupyter-js-widgets",
      "model_module_version": "^2.0.20",
      "model_name": "OutputModel",
      "state": {
       "_dom_classes": [],
       "_model_module": "jupyter-js-widgets",
       "_model_module_version": "^2.0.20",
       "_view_module": "jupyter-js-widgets",
       "_view_module_version": "^2.0.20",
       "layout": "IPY_MODEL_685a0c565e5a496ba9017ee9938ee49b",
       "msg_throttle": 1
      }
     },
     "fef05eaf44e9413ab8460e2ec39a296a": {
      "model_module": "jupyter-js-widgets",
      "model_module_version": "^2.0.20",
      "model_name": "LayoutModel",
      "state": {
       "_model_module_version": "^2.0.20",
       "_view_module_version": "^2.0.20"
      }
     },
     "ff89d1a179d3436fb96e1f05923b23ad": {
      "model_module": "jupyter-js-widgets",
      "model_module_version": "^2.0.20",
      "model_name": "LayoutModel",
      "state": {
       "_model_module_version": "^2.0.20",
       "_view_module_version": "^2.0.20"
      }
     }
    },
    "version_major": 1,
    "version_minor": 0
   }
  }
 },
 "nbformat": 4,
 "nbformat_minor": 2
}
