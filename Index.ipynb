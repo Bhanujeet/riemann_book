{
 "cells": [
  {
   "cell_type": "markdown",
   "metadata": {},
   "source": [
    "# Contents\n",
    "\n",
    " - [Nonconvex_Scalar_Osher_Solution.ipynb](Nonconvex_Scalar_Osher_Solution.ipynb)\n",
    " - [Acoustics.ipynb](Acoustics.ipynb)\n",
    " - [Euler_equations.ipynb](Euler_equations.ipynb)\n",
    " - [Euler_approximate_solvers.ipynb](Euler_approximate_solvers.ipynb)\n",
    " "
   ]
  }
 ],
 "metadata": {
  "kernelspec": {
   "display_name": "Python 2",
   "language": "python",
   "name": "python2"
  },
  "language_info": {
   "codemirror_mode": {
    "name": "ipython",
    "version": 2
   },
   "file_extension": ".py",
   "mimetype": "text/x-python",
   "name": "python",
   "nbconvert_exporter": "python",
   "pygments_lexer": "ipython2",
   "version": "2.7.12"
  }
 },
 "nbformat": 4,
 "nbformat_minor": 1
}
