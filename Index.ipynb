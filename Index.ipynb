{
 "cells": [
  {
   "cell_type": "markdown",
   "metadata": {},
   "source": [
    "# Contents\n",
    "\n",
    "The Github repository containing these notebooks is https://github.com/clawpack/riemann_book\n",
    "\n",
    "### Scalar problems\n",
    " - [Traffic_flow.ipynb](Traffic_flow.ipynb)\n",
    " - [Traffic_variable_speed.ipynb](Traffic_variable_speed.ipynb)\n",
    " - [Nonconvex_Scalar_Osher_Solution.ipynb](Nonconvex_Scalar_Osher_Solution.ipynb)\n",
    " \n",
    "### Linear systems\n",
    " - [Acoustics.ipynb](Acoustics.ipynb)\n",
    " \n",
    "### Nonlinear systems\n",
    " - [Nonlinear_elasticity.ipynb](Nonlinear_elasticity.ipynb)\n",
    " - [Euler_equations.ipynb](Euler_equations.ipynb)\n",
    " - [Euler_approximate_solvers.ipynb](Euler_approximate_solvers.ipynb)\n",
    " - [Euler_equations_TammannEOS.ipynb](Euler_equations_TammannEOS.ipynb)\n",
    " - [Shallow_tracer/Shallow_tracer.ipynb](Shallow_tracer/Shallow_tracer.ipynb)\n",
    " "
   ]
  }
 ],
 "metadata": {
  "kernelspec": {
   "display_name": "Python 2",
   "language": "python",
   "name": "python2"
  },
  "language_info": {
   "codemirror_mode": {
    "name": "ipython",
    "version": 2
   },
   "file_extension": ".py",
   "mimetype": "text/x-python",
   "name": "python",
   "nbconvert_exporter": "python",
   "pygments_lexer": "ipython2",
   "version": "2.7.12"
  }
 },
 "nbformat": 4,
 "nbformat_minor": 1
}
