{
 "cells": [
  {
   "cell_type": "markdown",
   "metadata": {
    "deletable": true,
    "editable": true
   },
   "source": [
    "# Burgers' equation"
   ]
  },
  {
   "cell_type": "markdown",
   "metadata": {
    "deletable": true,
    "editable": true
   },
   "source": [
    "Burgers' equation is one of the simplest examples of a nonlinear conservation law given by\n",
    "\n",
    "\\begin{align} \n",
    "q_t + \\left(\\frac{1}{2}q^2\\right)_x = 0.\n",
    "\\label{burgers0}\n",
    "\\end{align}\n",
    "\n",
    "This is actually the invscid Burgers' equation since Burgers originally studied the viscous equation $q_t + \\left(\\frac{1}{2}q^2\\right)_x = \\epsilon q_{xx}$. Rather than modeling a particular physical problem, this equation is the simplest equation that captures some key features of gas dynamics: the nonlinear hyperbolic term and viscosity, and it has been used for developing both theory and numerical methods. In a similar manner, Burgers' inviscid equation, which we will simply refer to as Burgers' equation, will allow us to explore the essentials of the Riemann problem for nonlinear conservation laws.\n",
    "\n",
    "The quasi-linear form of Burgers' equation is obtained by expanding the flux term,\n",
    "\\begin{align*}\n",
    "q_t + qq_x = 0.\n",
    "\\end{align*}\n",
    "\n",
    "The equation looks very similar to an advection equation with the exception that the advection speed depends on the value $q$. This nonlinearity is essentially the same than in the momentum conservation equation in fluid dynamics, and it will have more complex dynamics than its linear counter part.\n",
    "\n",
    "One way to think about this equation is to assume $q$ is the height of an ocean wave as it approaches the beach. In this case the initial condition will be  "
   ]
  },
  {
   "cell_type": "markdown",
   "metadata": {
    "collapsed": true,
    "deletable": true,
    "editable": true
   },
   "source": [
    "![Burgers_bump.](./figures/burgers_bump.png)"
   ]
  },
  {
   "cell_type": "code",
   "execution_count": null,
   "metadata": {
    "collapsed": false,
    "deletable": true,
    "editable": true
   },
   "outputs": [],
   "source": []
  },
  {
   "cell_type": "code",
   "execution_count": null,
   "metadata": {
    "collapsed": false,
    "deletable": true,
    "editable": true
   },
   "outputs": [],
   "source": []
  },
  {
   "cell_type": "code",
   "execution_count": null,
   "metadata": {
    "collapsed": true,
    "deletable": true,
    "editable": true
   },
   "outputs": [],
   "source": [
    "import numpy as np\n",
    "import matplotlib.pyplot as plt\n",
    "\n",
    "plt.figure(figsize=(10,7))\n",
    "x = np.linspace(-13,13,150)\n",
    "y = np.exp(-0.1*x**2)\n",
    "plt.plot(x,y,'--k', lw=1)\n",
    "plt.xlim([-7.5,12.5])\n",
    "plt.show()"
   ]
  }
 ],
 "metadata": {
  "kernelspec": {
   "display_name": "Python 2",
   "language": "python",
   "name": "python2"
  },
  "language_info": {
   "codemirror_mode": {
    "name": "ipython",
    "version": 2
   },
   "file_extension": ".py",
   "mimetype": "text/x-python",
   "name": "python",
   "nbconvert_exporter": "python",
   "pygments_lexer": "ipython2",
   "version": "2.7.12"
  }
 },
 "nbformat": 4,
 "nbformat_minor": 2
}
