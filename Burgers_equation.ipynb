{
 "cells": [
  {
   "cell_type": "markdown",
   "metadata": {
    "deletable": true,
    "editable": true
   },
   "source": [
    "# Burgers' equation"
   ]
  },
  {
   "cell_type": "code",
   "execution_count": null,
   "metadata": {
    "deletable": true,
    "editable": true
   },
   "outputs": [],
   "source": [
    "%matplotlib inline\n",
    "%config InlineBackend.figure_format = 'svg'\n",
    "import matplotlib as mpl\n",
    "mpl.rcParams['font.size'] = 8\n",
    "figsize =(8,4)\n",
    "mpl.rcParams['figure.figsize'] = figsize\n",
    "import matplotlib.pyplot as plt\n",
    "import numpy as np\n",
    "from ipywidgets import interact\n",
    "from ipywidgets import widgets\n",
    "from utils import riemann_tools\n",
    "from exact_solvers import burgers"
   ]
  },
  {
   "cell_type": "markdown",
   "metadata": {
    "deletable": true,
    "editable": true
   },
   "source": [
    "Burgers' equation is one of the simplest examples of a nonlinear conservation law given by\n",
    "\n",
    "\\begin{align} \n",
    "q_t + \\left(\\frac{1}{2}q^2\\right)_x = 0.\n",
    "\\label{burgers0}\n",
    "\\end{align}\n",
    "\n",
    "This is actually the invscid Burgers' equation since Burgers originally studied the viscous equation $q_t + \\left(\\frac{1}{2}q^2\\right)_x = \\epsilon q_{xx}$. Rather than modeling a particular physical problem, this equation is the simplest equation that captures some key features of gas dynamics: the nonlinear hyperbolic term and viscosity, and it has been used for developing both theory and numerical methods. In a similar manner, Burgers' inviscid equation, which we will simply refer to as Burgers' equation, will allow us to explore the essentials of the Riemann problem for nonlinear conservation laws."
   ]
  },
  {
   "cell_type": "markdown",
   "metadata": {
    "deletable": true,
    "editable": true
   },
   "source": [
    "## Shock formation"
   ]
  },
  {
   "cell_type": "markdown",
   "metadata": {
    "deletable": true,
    "editable": true
   },
   "source": [
    "The quasi-linear form of Burgers' equation is obtained by expanding the flux term,\n",
    "\\begin{align*}\n",
    "q_t + qq_x = 0.\n",
    "\\end{align*}\n",
    "\n",
    "The equation looks very similar to an advection equation with the exception that the advection speed depends on the value $q$. This nonlinearity is essentially the same than in the momentum conservation equation in fluid dynamics, and it will have more complex dynamics than its linear counter part.\n",
    "\n",
    "One way to think about this equation is to assume $q$ is the height of an ocean wave as it approaches the beach. Assuming the initial condition is a hump of water, the equation tells us that the taller parts of the bump propagate faster than the lower ones. In the next figure, we show the solution at two different times for the initial bump to illustrate this behavior."
   ]
  },
  {
   "cell_type": "markdown",
   "metadata": {
    "deletable": true,
    "editable": true
   },
   "source": [
    "![Burgers_bump.](./figures/burgers_bump.png)"
   ]
  },
  {
   "cell_type": "markdown",
   "metadata": {
    "deletable": true,
    "editable": true
   },
   "source": [
    "Notice that at first $q$ remains univalued for every $x$. However, as time evolves, the wave keeps propagating, and the top part overtakes the bottom. In this case, we obtain a triple-valued solution, which is unphysical.The first time this overtaking happens is refered to as the breaking time, which refers to the point where the waves break on the beach. It is also the point where the conservation law, in its differential form, breaks down. However, to understand what should physically happen at this point, we can solve the viscid Burgers equation while taking vanishing viscosity. What we observe is that a discontinuity in the form of a shock is formed, as shown below   "
   ]
  },
  {
   "cell_type": "markdown",
   "metadata": {
    "deletable": true,
    "editable": true
   },
   "source": [
    "![Burgers_eqarea.](./figures/burgers_equal_area.png)"
   ]
  },
  {
   "cell_type": "markdown",
   "metadata": {
    "deletable": true,
    "editable": true
   },
   "source": [
    "The question now is where should we place the discontinuity. As we are talking about conservation, it seems sensitive you want to conserve the amount of $q$, so the disconitnuity should be placed such that the areas $A_1$ and $A_2$ are the same. If we zoom in the region where the shock is generated, we can think of the $q$ profile as an specific initial condition for the Riemann problem, where the left and right constant values satisty $q_l>q_r$. Using the integral form of the conservation law, we can find the shock speed such that conservation is enforced. This simply yields the Rankine Hugoniot condition for the Burgers' eq."
   ]
  },
  {
   "cell_type": "markdown",
   "metadata": {
    "deletable": true,
    "editable": true
   },
   "source": [
    "\\begin{align*}\n",
    "s(q_r-q_l) &= \\frac{1}{2} (q_r^2 - q_l^2),\\\\\n",
    "\\Rightarrow \\ \\ \\ \\ s &= \\frac{1}{2}(q_l + q_r).\n",
    "\\end{align*}"
   ]
  },
  {
   "cell_type": "markdown",
   "metadata": {
    "deletable": true,
    "editable": true
   },
   "source": [
    "where $s$ is the speed of the shock. The solution with the shock on the right figure shows the physical solution to the Burgers' equation. In the case of Riemann problems where $q_l>q_r$, we know the solution will be a shock propagating with speed $s$."
   ]
  },
  {
   "cell_type": "markdown",
   "metadata": {},
   "source": [
    "### Shock solution\n",
    "We will now plot the solution of the Burgers' equation when shocks are formed, i.e. when $q_l>q_r$. We first define an interactive plotting function for the exact solver and then we choose the initial conditions for the plot. "
   ]
  },
  {
   "cell_type": "code",
   "execution_count": null,
   "metadata": {},
   "outputs": [],
   "source": [
    "def plot_riemann_solution(ql, qr):\n",
    "    states, speeds, reval, wave_type = burgers.exact_riemann_solution(ql ,qr)\n",
    "\n",
    "    plot_function = riemann_tools.make_plot_function(states, speeds, reval, wave_type, layout='horizontal',\n",
    "                                                    variable_names=['q'],\n",
    "                                                    plot_chars=[burgers.speed])\n",
    "\n",
    "    return interact(plot_function, t=widgets.FloatSlider(value=0.0,min=0,max=1.0),\n",
    "                    which_char=widgets.Checkbox(value=True,description='Show characteristics'));"
   ]
  },
  {
   "cell_type": "code",
   "execution_count": null,
   "metadata": {},
   "outputs": [],
   "source": [
    "ql = 5.0\n",
    "qr = 1.0\n",
    "plot_riemann_solution(ql,qr);"
   ]
  },
  {
   "cell_type": "markdown",
   "metadata": {},
   "source": [
    "One can try different values of $q_l$ and $q_r$, and the solution will always be a shock as long as $q_l>q_r$ (even for negative values). We now how to solve the Riemann problem when $q_l>q_r$; however, we still need to solve the problem when $q_l<q_r$."
   ]
  },
  {
   "cell_type": "markdown",
   "metadata": {
    "deletable": true,
    "editable": true
   },
   "source": [
    "## Rarefaction wave"
   ]
  },
  {
   "cell_type": "markdown",
   "metadata": {
    "deletable": true,
    "editable": true
   },
   "source": [
    "In the previous figures, we observed a shock formed on the right. However, on the left side of the hump the characteristics are spreading out and will never cross, so the solution is extended and rarefied. The solution in this part is therefore a rarefaction wave, and this is the kind of behavior we will observe when $q_l<q_r$.\n",
    "In the next figure, we set the Riemann's problem initial condition (dashed line) as $q_l$ for $x<0$ and $q_r$ for $x>0$. As time evolves, a rarefaction forms following the advection speed $q$ given by the quasi-linear equation. Therefore, for time $t$, the solution must propagate a distance $x=qt$. As $q_l<q_r$, the smallest and largest displacements are given by $q_l t$ and $q_r t$, respectively. The solution along the rarefaction is therefore simply $q = x/t$."
   ]
  },
  {
   "cell_type": "markdown",
   "metadata": {
    "deletable": true,
    "editable": true
   },
   "source": [
    "![Burgers_rarefaction.](./figures/burgers_rar.png)"
   ]
  },
  {
   "cell_type": "markdown",
   "metadata": {
    "deletable": true,
    "editable": true
   },
   "source": [
    "The rarefaction solution for the Burgers' equation is then simply given by \n",
    "\\begin{align*}\n",
    "q(x,t) = \n",
    "\\begin{cases}\n",
    "q_l, \\quad \\text{for} \\ \\ x<q_l t \\\\\n",
    "\\frac{x}{t}, \\quad \\text{for} \\ \\ q_l t \\le x \\le q_r t \\\\\n",
    "q_r, \\quad \\text{for} \\ \\ x>q_r t.\n",
    "\\end{cases}\n",
    "\\end{align*}\n",
    "\n",
    "As we will see in the next chapter, the rarefaction solution is always a self-similar solution. This means that it can be expressed as a function of the ratio between position and time $q(x,t) = \\tilde{q}(x/t)$, so it remains the same when rescaling both $x$ and $t$ by the same factor. This is a consequence of $q$ being the same along the characteristic in the rarefaction fan. In the Burgers' equation, the rarefaction form is particularly simple since the advection speed is simply $q$."
   ]
  },
  {
   "cell_type": "markdown",
   "metadata": {},
   "source": [
    "### Rarefaction solution\n",
    "As an example, we can plot solutions of the Riemann problem with $q_l<q_r$. In these cases, we will always observe a rarefaction as shown below."
   ]
  },
  {
   "cell_type": "code",
   "execution_count": null,
   "metadata": {},
   "outputs": [],
   "source": [
    "ql = 2.0\n",
    "qr = 4.0\n",
    "plot_riemann_solution(ql,qr);"
   ]
  },
  {
   "cell_type": "markdown",
   "metadata": {},
   "source": [
    "## Examples\n",
    "We can now explore a few more examples that are representative of phenomena we will observe in more complicated systems, as well as a full interactive example."
   ]
  },
  {
   "cell_type": "markdown",
   "metadata": {},
   "source": [
    "### Example 1: Centered rarefaction\n",
    "Centered rarefactions happen where the characteristic waves spread equally on opposite directions around the origin, and we will observe them in many of the nonlinear systems presented in other chapters."
   ]
  },
  {
   "cell_type": "code",
   "execution_count": null,
   "metadata": {},
   "outputs": [],
   "source": [
    "ql = -4.0\n",
    "qr = 4.0\n",
    "plot_riemann_solution(ql,qr);"
   ]
  },
  {
   "cell_type": "markdown",
   "metadata": {
    "deletable": true,
    "editable": true
   },
   "source": [
    "### Example 2: Full interactive solution"
   ]
  },
  {
   "cell_type": "code",
   "execution_count": null,
   "metadata": {
    "deletable": true,
    "editable": true
   },
   "outputs": [],
   "source": [
    "def plot_riemann(q_l,q_r,t,x_range=1):\n",
    "    states, speeds, reval, wave_types = \\\n",
    "            burgers.exact_riemann_solution(q_l,q_r)\n",
    "    ax = riemann_tools.plot_riemann(states,speeds,reval,\n",
    "                                    wave_types,t=t,\n",
    "                                    t_pointer=0,extra_axes=True,\n",
    "                                    variable_names=['q']);\n",
    "                                    #xmax=x_range);\n",
    "    riemann_tools.plot_characteristics(reval,burgers.speed,axes=ax[0])\n",
    "    burgers.plot_trajectories(q_l,q_r,ax[2],t=t,xmax=x_range);\n",
    "    ax[1].set_ylim(-0.05,1.05)\n",
    "    for a in ax:\n",
    "        a.set_xlim(-x_range,x_range)\n",
    "    plt.show() "
   ]
  },
  {
   "cell_type": "code",
   "execution_count": null,
   "metadata": {
    "deletable": true,
    "editable": true
   },
   "outputs": [],
   "source": [
    "burgers.plot_interactive_riemann(plot_riemann)"
   ]
  },
  {
   "cell_type": "markdown",
   "metadata": {},
   "source": [
    "### Example 3:Three state solution?"
   ]
  },
  {
   "cell_type": "code",
   "execution_count": null,
   "metadata": {},
   "outputs": [],
   "source": []
  }
 ],
 "metadata": {
  "kernelspec": {
   "display_name": "Python 2",
   "language": "python",
   "name": "python2"
  },
  "language_info": {
   "codemirror_mode": {
    "name": "ipython",
    "version": 2
   },
   "file_extension": ".py",
   "mimetype": "text/x-python",
   "name": "python",
   "nbconvert_exporter": "python",
   "pygments_lexer": "ipython2",
   "version": "2.7.12"
  }
 },
 "nbformat": 4,
 "nbformat_minor": 2
}
