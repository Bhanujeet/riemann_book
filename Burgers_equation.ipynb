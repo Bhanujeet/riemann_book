{
 "cells": [
  {
   "cell_type": "markdown",
   "metadata": {
    "deletable": true,
    "editable": true
   },
   "source": [
    "# Burgers' equation"
   ]
  },
  {
   "cell_type": "code",
   "execution_count": null,
   "metadata": {
    "collapsed": true
   },
   "outputs": [],
   "source": [
    "%matplotlib inline\n",
    "%config InlineBackend.figure_format = 'svg'\n",
    "import matplotlib as mpl\n",
    "mpl.rcParams['font.size'] = 8\n",
    "figsize =(8,4)\n",
    "mpl.rcParams['figure.figsize'] = figsize\n",
    "import matplotlib.pyplot as plt\n",
    "import numpy as np\n",
    "from ipywidgets import interact\n",
    "from ipywidgets import widgets, FloatSlider\n",
    "from utils import riemann_tools\n",
    "from exact_solvers import burgers"
   ]
  },
  {
   "cell_type": "markdown",
   "metadata": {
    "deletable": true,
    "editable": true
   },
   "source": [
    "Burgers' equation is one of the simplest examples of a nonlinear conservation law given by\n",
    "\n",
    "\\begin{align} \n",
    "q_t + \\left(\\frac{1}{2}q^2\\right)_x = 0.\n",
    "\\label{burgers0}\n",
    "\\end{align}\n",
    "\n",
    "This is actually the invscid Burgers' equation since Burgers originally studied the viscous equation $q_t + \\left(\\frac{1}{2}q^2\\right)_x = \\epsilon q_{xx}$. Rather than modeling a particular physical problem, this equation is the simplest equation that captures some key features of gas dynamics: the nonlinear hyperbolic term and viscosity, and it has been used for developing both theory and numerical methods. In a similar manner, Burgers' inviscid equation, which we will simply refer to as Burgers' equation, will allow us to explore the essentials of the Riemann problem for nonlinear conservation laws."
   ]
  },
  {
   "cell_type": "markdown",
   "metadata": {
    "deletable": true,
    "editable": true
   },
   "source": [
    "## Shock formation"
   ]
  },
  {
   "cell_type": "markdown",
   "metadata": {
    "deletable": true,
    "editable": true
   },
   "source": [
    "The quasi-linear form of Burgers' equation is obtained by expanding the flux term,\n",
    "\\begin{align*}\n",
    "q_t + qq_x = 0.\n",
    "\\end{align*}\n",
    "\n",
    "The equation looks very similar to an advection equation with the exception that the advection speed depends on the value $q$. This nonlinearity is essentially the same than in the momentum conservation equation in fluid dynamics, and it will have more complex dynamics than its linear counter part.\n",
    "\n",
    "One way to think about this equation is to assume $q$ is the height of an ocean wave as it approaches the beach. Assuming the initial condition is a hump of water, the equation tells us that the taller parts of the bump propagate faster than the lower ones. In the next figure, we show the solution at two different times for the initial bump to illustrate this behavior."
   ]
  },
  {
   "cell_type": "markdown",
   "metadata": {
    "collapsed": true,
    "deletable": true,
    "editable": true
   },
   "source": [
    "![Burgers_bump.](./figures/burgers_bump.png)"
   ]
  },
  {
   "cell_type": "markdown",
   "metadata": {
    "collapsed": false,
    "deletable": true,
    "editable": true
   },
   "source": [
    "Notice that at first $q$ remains univalued for every $x$. However, as time evolves, the wave keeps propagating, and the top part overtakes the bottom. In this case, we obtain a triple-valued solution, which is unphysical.The first time this overtaking happens is refered to as the breaking time, which refers to the point where the waves break on the beach. It is also the point where the conservation law, in its differential form, breaks down. However, to understand what should physically happen at this point, we can solve the viscid Burgers equation while taking vanishing viscosity. What we observe is that a discontinuity in the form of a shock is formed, as shown below   "
   ]
  },
  {
   "cell_type": "markdown",
   "metadata": {
    "collapsed": false,
    "deletable": true,
    "editable": true
   },
   "source": [
    "![Burgers_eqarea.](./figures/burgers_equal_area.png)"
   ]
  },
  {
   "cell_type": "markdown",
   "metadata": {
    "deletable": true,
    "editable": true
   },
   "source": [
    "The question now is where should we place the discontinuity. As we are talking about conservation, it seems sensitive you want to conserve the amount of $q$, so the disconitnuity should be placed such that the areas $A_1$ and $A_2$ are the same. If we zoom in the region where the shock is generated, we can think of the $q$ profile as an specific initial condition for the Riemann problem, where the left and right constant values satisty $q_l>q_r$. Using the integral form of the conservation law, we can find the shock speed such that conservation is enforced. This simply yields the Rankine Hugoniot condition for the Burgers' eq."
   ]
  },
  {
   "cell_type": "markdown",
   "metadata": {
    "deletable": true,
    "editable": true
   },
   "source": [
    "\\begin{align*}\n",
    "s(q_r-q_l) &= \\frac{1}{2} (q_r^2 - q_l^2),\\\\\n",
    "\\Rightarrow \\ \\ \\ \\ s &= \\frac{1}{2}(q_l + q_r).\n",
    "\\end{align*}"
   ]
  },
  {
   "cell_type": "markdown",
   "metadata": {
    "deletable": true,
    "editable": true
   },
   "source": [
    "where $s$ is the speed of the shock. The solution with the shock on the right figure shows the physical solution to the Burgers' equation. In the case of Riemann problems where $q_l>q_r$, we know the solution will be a shock propagating with speed $s$. However, we still need to solve the problem when $q_l<q_r$."
   ]
  },
  {
   "cell_type": "markdown",
   "metadata": {
    "deletable": true,
    "editable": true
   },
   "source": [
    "## Rarefaction wave"
   ]
  },
  {
   "cell_type": "markdown",
   "metadata": {
    "deletable": true,
    "editable": true
   },
   "source": [
    "In the previous figures, we observed a shock formed on the right. However, we also observed how the left side of the hump extended and rarefied. The solution in this part is a rarefaction wave, and this is the kind of behavior we will observe when $q_l<q_r$."
   ]
  },
  {
   "cell_type": "markdown",
   "metadata": {},
   "source": [
    "## Interactive solution"
   ]
  },
  {
   "cell_type": "code",
   "execution_count": null,
   "metadata": {
    "collapsed": true,
    "deletable": true,
    "editable": true
   },
   "outputs": [],
   "source": [
    "def c(q, xi):\n",
    "    \"Characteristic speed.\"\n",
    "    return q\n",
    "\n",
    "def plot_riemann_burgers(q_l,q_r,t):\n",
    "    states, speeds, reval, wave_types = \\\n",
    "            burgers.exact_riemann_solution(q_l,q_r)\n",
    "    ax = riemann_tools.plot_riemann(states,speeds,reval,\n",
    "                                    wave_types,t=t,\n",
    "                                    t_pointer=0,extra_axes=False,\n",
    "                                    variable_names=['q']);\n",
    "    riemann_tools.plot_characteristics(reval,c,axes=ax[0])\n",
    "    ax[1].set_ylim(-0.05,1.05)\n",
    "    plt.show()    "
   ]
  },
  {
   "cell_type": "code",
   "execution_count": null,
   "metadata": {
    "collapsed": false
   },
   "outputs": [],
   "source": [
    "interact(plot_riemann_burgers,\n",
    "         q_l=FloatSlider(min=0.,max=1.,value=0.5,\n",
    "                           description=r'$q_l$'),\n",
    "         q_r=FloatSlider(min=0.,max=1.,description=r'$q_r$'),\n",
    "         t=FloatSlider(min=0.,max=1.,value=0.1));"
   ]
  },
  {
   "cell_type": "code",
   "execution_count": null,
   "metadata": {
    "collapsed": false,
    "deletable": true,
    "editable": true
   },
   "outputs": [],
   "source": [
    "import numpy as np\n",
    "import matplotlib.pyplot as plt\n",
    "\n",
    "plt.figure(figsize=(10,7))\n",
    "x = np.linspace(-13,13,150)\n",
    "y = np.exp(-0.1*x**2)\n",
    "plt.plot(x,y,'--k', lw=1)\n",
    "plt.xlim([-7.5,12.5])\n",
    "plt.show()"
   ]
  }
 ],
 "metadata": {
  "kernelspec": {
   "display_name": "Python 2",
   "language": "python",
   "name": "python2"
  },
  "language_info": {
   "codemirror_mode": {
    "name": "ipython",
    "version": 2
   },
   "file_extension": ".py",
   "mimetype": "text/x-python",
   "name": "python",
   "nbconvert_exporter": "python",
   "pygments_lexer": "ipython2",
   "version": "2.7.12"
  }
 },
 "nbformat": 4,
 "nbformat_minor": 2
}
