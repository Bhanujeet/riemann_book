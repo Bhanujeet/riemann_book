{
 "cells": [
  {
   "cell_type": "code",
   "execution_count": null,
   "metadata": {
    "collapsed": false
   },
   "outputs": [],
   "source": [
    "%matplotlib inline\n",
    "import matplotlib as mpl\n",
    "#mpl.rcParams['font.size'] = 20\n",
    "import matplotlib.pyplot as plt\n",
    "import numpy as np\n",
    "from ipywidgets import interact, widgets\n",
    "from utils import riemann_tools\n",
    "from exact_solvers import traffic_variable_speed"
   ]
  },
  {
   "cell_type": "markdown",
   "metadata": {},
   "source": [
    "# LWR Traffic flow with varying speed limit"
   ]
  },
  {
   "cell_type": "markdown",
   "metadata": {},
   "source": [
    "In this chapter we again consider the LWR traffic model, but now we introduce a speed limit $u_\\text{max}$:\n",
    "\n",
    "$$\n",
    "q_t + (u_\\text{max}(x) q(1-q))_x = 0.\n",
    "$$\n",
    "\n",
    "In the previous chapter, the speed limit was set to unity everywhere.  The variable-speed-limit case has been considered, for instance, in Chapter 16 of <cite data-cite=\"fvmhp\"><a href=\"riemann.html#fvmhp\">(LeVeque, 2002)<a></cite>.  \n",
    "\n",
    "Now we consider the Riemann problem with different speed limits to the left and right:\n",
    "\n",
    "$$\n",
    "u_\\text{max} = \\begin{cases} v_l & x<0 \\\\ v_r & x>0 \\end{cases}\n",
    "$$\n",
    "\n",
    "\n",
    "Correspondingly, we have a flux function that is different on either side of $x=0$.  Let $f(q,v) = v q (1-q)$ and define\n",
    "\n",
    "\\begin{align}\n",
    "    f_l & = f(q_l,v_l) \\\\\n",
    "    f_r & = f(q_r,v_r).\n",
    "\\end{align}\n",
    "\n",
    "The presence of a discontinuous flux function in the Riemann problem can introduce a host of difficulties, some of which will be illustrated here.  For a more detailed discussion, see <cite data-cite=\"Burger2008\"><a href=\"riemann.html#fvmhp\">(Burger et. al., 2008)<a></cite> and other papers in that special issue.\n",
    "\n",
    "Continuing with the problem at hand, if, say, $v_l=1$ and $v_r=2$ then the two flux functions look like this: "
   ]
  },
  {
   "cell_type": "code",
   "execution_count": null,
   "metadata": {
    "collapsed": false,
    "deletable": true,
    "editable": true
   },
   "outputs": [],
   "source": [
    "q = np.linspace(0,1)\n",
    "f_l = q*(1-q); f_r = 2*q*(1-q)\n",
    "plt.plot(q,f_l,q,f_r); plt.xlim(0,1); plt.ylim(0,0.6);\n",
    "plt.xlabel('q',fontsize=20); plt.ylabel('f(q)',fontsize=20)\n",
    "plt.legend(['$f_l$','$f_r$'],fontsize=20);"
   ]
  },
  {
   "cell_type": "markdown",
   "metadata": {
    "deletable": true,
    "editable": true
   },
   "source": [
    "This leads to a more complicated set of possible Riemann solutions.  As discussed at length in the previous chapter, the flux of vehicles must be continuous everywhere -- and in particular, at $x=0$:\n",
    "$$\n",
    "f(q(0^-,t),v_l)) = f(q(0^+,t),v_r)).\n",
    "$$\n",
    "\n",
    "If the speed limit changes abruptly at $x=0$, then the density must also be discontinuous there.  Since there are two possible values of $q$ corresponding to any given flux, we must carefully determine the intermediate states.  We can think of the discontinuity at $x=0$ as an additional wave with speed zero.\n",
    "\n",
    "Furthermore, in the variable-speed-limit case, the Riemann solution may have a wave (shock or rarefaction) traveling in each direction.  Thus the solution in general may consist of a left-going wave, a stationary jump, and a right-going wave.  This means that in general we may refer to four states:\n",
    "\n",
    "1. $q_l$;\n",
    "2. $q_l^*$, connected to $q_l$ by a left-going shock or rarefaction;\n",
    "3. $q_r^*$, connected to $q_r$ by a right-going shock or rarefaction;\n",
    "4. $q_r$.\n",
    "\n",
    "It often happens that either $q_l^*=q_l$ or $q_r^*=q_r$.  We can have $q_r^*=q_l^*$ only in the fixed speed limit case $v_l=v_r$."
   ]
  },
  {
   "cell_type": "markdown",
   "metadata": {
    "deletable": true,
    "editable": true
   },
   "source": [
    "Since the flux is continuous at $x=0$, the stationary jump there corresponds to a horizontal line in the $q-f(q)$ plane plotted above.  This jump connects a point on one flux curve to a point on the other.  Two things are immediately clear:\n",
    "\n",
    "1. The value of $f_0$ must not lie fully above either of the flux curves; since the maximum flux is $v/4$, this means that $f_0 \\le \\min(v_l,v_r)/4$.  If this condition were violated, it would be impossible to connect the two flux curves with a horizontal line.\n",
    "2. For a given $f_0$ satisfying condition 1, there are always **two** values of $q$ on each curve with flux $f_0$.  This means that if (say) we have determined the value $q(x=0^-,t)$, there are two candidate values of $q(x=0^+,t)$ -- one with positive characteristic velocity, and one with negative characteristic velocity.\n",
    "\n",
    "Physical reasoning can be used to determine which of the values is correct, but there is also a simple rule that tells us which value to choose in most cases:\n",
    "\n",
    "> The sign of the characteristic velocity as one approaches $x=0$ is (in a weak sense) the same from either side.  That is, $f_l'(q(x=0^-,t)) f_r'(q(x=0^+,t)) \\ge 0$.\n",
    "\n",
    "If we know the value of $q$ just to one side of $x=0$, this condition tells us which value of $q$ to choose for the other side, except when the characteristic velocity on the side we know approaches zero (i.e., when $q$ approaches $1/2$.  Geometrically, the condition says that the horizontal line corresponding to the stationary jump must not cross the line $q=1/2$ in the plane $q-f(q)$ plane (though it may start or end on that line).  In the exceptional case, we can still determine which value to jump to by considering the sign of the characteristic velocity near $x=0$.  We  illustrate this further through specific examples below.\n",
    "\n",
    "For now, we illustrate the division of the $q-f(q)$ plane based on the sign of the characteristic velocity."
   ]
  },
  {
   "cell_type": "code",
   "execution_count": null,
   "metadata": {
    "collapsed": false,
    "deletable": true,
    "editable": true
   },
   "outputs": [],
   "source": [
    "q = np.linspace(0,1)\n",
    "f_l = q*(1-q); f_r = 2*q*(1-q)\n",
    "plt.plot(q,f_l,q,f_r); plt.xlim(0,1); plt.ylim(0,0.6);\n",
    "plt.xlabel('q',fontsize=20); plt.ylabel('f(q)',fontsize=20)\n",
    "plt.plot([0.5,0.5],[0,0.6],'--k',lw=1,alpha=0.5);\n",
    "plt.text(0.1,0.5,'$c>0$',fontsize=20);\n",
    "plt.text(0.8,0.5,'$c<0$',fontsize=20);"
   ]
  },
  {
   "cell_type": "markdown",
   "metadata": {
    "deletable": true,
    "editable": true
   },
   "source": [
    "Since the value $q=1/2$ plays such a crucial role, we will say a section of road is *congested* if $q$ is greater than $1/2$ there."
   ]
  },
  {
   "cell_type": "markdown",
   "metadata": {
    "deletable": true,
    "editable": true
   },
   "source": [
    "## Downstream congestion\n",
    "\n",
    "If $q_r>1/2$, we expect a wave traveling to the left.  If we suppose there is only one wave, then conservation can tell us whether it should be a shock or a rarefaction.  In the LWR system, shocks always carry a increase in density (from left to right), while rarefactions always carry a decrease in density.  Hence a left-moving shock corresponds to a local increase in mass and is physical only if $f_l>f_r$.  Meanwhile, a left-moving rarefactions corresponds to a local decrease in mass and makes sense only if $f_r<f_l$.  In either case, in addition to the shock or rarefaction there is a jump in density at $x=0$.\n"
   ]
  },
  {
   "cell_type": "markdown",
   "metadata": {},
   "source": [
    "### Left-going shock"
   ]
  },
  {
   "cell_type": "code",
   "execution_count": null,
   "metadata": {
    "collapsed": false,
    "deletable": true,
    "editable": true
   },
   "outputs": [],
   "source": [
    "def plot_riemann_traffic_vc(q_l,q_r,v_l,v_r):\n",
    "    states, speeds, reval = traffic_variable_speed.exact_riemann_solution(q_l,q_r,v_l,v_r)\n",
    "    plot_function = riemann_tools.make_plot_function(states, speeds, reval, \n",
    "                                                     layout='horizontal')\n",
    "    interact(plot_function, t=widgets.FloatSlider(value=0.5,min=0,max=.9))"
   ]
  },
  {
   "cell_type": "code",
   "execution_count": null,
   "metadata": {
    "collapsed": false,
    "deletable": true,
    "editable": true
   },
   "outputs": [],
   "source": [
    "q_l = 0.7; q_r = 0.7\n",
    "v_l = 1.0; v_r = 0.8\n",
    "plot_riemann_traffic_vc(q_l,q_r,v_l,v_r);"
   ]
  },
  {
   "cell_type": "markdown",
   "metadata": {
    "deletable": true,
    "editable": true
   },
   "source": [
    "It is illustrative to consider this solution in the plane whose axes are $q$ and $f$.  Below we plot the flux functions for the left and right road sections.  The Riemann solution is indicated with a thick black line.  Notice that the jump at the interface corresponds to a horizontal line, since the flux is the same on both sides of the interface.  Notice also that the jump does not cross the dashed line at $q=1/2$."
   ]
  },
  {
   "cell_type": "code",
   "execution_count": null,
   "metadata": {
    "collapsed": false,
    "deletable": true,
    "editable": true
   },
   "outputs": [],
   "source": [
    "traffic_variable_speed.phase_plane_plot(q_l,q_r,v_l,v_r)"
   ]
  },
  {
   "cell_type": "markdown",
   "metadata": {},
   "source": [
    "### Left-going rarefaction"
   ]
  },
  {
   "cell_type": "code",
   "execution_count": null,
   "metadata": {
    "collapsed": false
   },
   "outputs": [],
   "source": [
    "q_l = 0.7; q_r = 0.7\n",
    "v_l = 1.0; v_r = 1.1\n",
    "plot_riemann_traffic_vc(q_l,q_r,v_l,v_r);"
   ]
  },
  {
   "cell_type": "code",
   "execution_count": null,
   "metadata": {
    "collapsed": false
   },
   "outputs": [],
   "source": [
    "traffic_variable_speed.phase_plane_plot(q_l,q_r,v_l,v_r)"
   ]
  },
  {
   "cell_type": "markdown",
   "metadata": {
    "deletable": true,
    "editable": true
   },
   "source": [
    "Again, the jump at the interface does not cross the middle line."
   ]
  },
  {
   "cell_type": "markdown",
   "metadata": {
    "deletable": true,
    "editable": true
   },
   "source": [
    "## Sudden increase in speed limit\n",
    "Looking at the $q-f$ plane plot above, it is natural to ask what happens if we increase the flux $f_r$ far enough that it lies above the maximum of the left-segment flux curve.  Then it becomes impossible to connect $q_r$ to a state on the left-segment flux curve by a horizontal line.  Physically, this corresponds to the situation in which the downstream flux is so high that the influx of cars from upstream cannot possibly keep up.  The downstream density must decrease, and in this case there will be not only a left-going rarefaction but also a right-going shock.\n",
    "\n",
    "This occurs whenever\n",
    "\n",
    "$$\n",
    "f_r > v_l/4.\n",
    "$$\n",
    "\n"
   ]
  },
  {
   "cell_type": "code",
   "execution_count": null,
   "metadata": {
    "collapsed": false
   },
   "outputs": [],
   "source": [
    "q_l = 0.7; q_r = 0.6\n",
    "v_l = 1.0; v_r = 2.\n",
    "plot_riemann_traffic_vc(q_l,q_r,v_l,v_r);"
   ]
  },
  {
   "cell_type": "markdown",
   "metadata": {},
   "source": [
    "As promised, we see three waves: a left-going rarefaction as the upstream congestion decreases since downstream traffic flux is greater; a stationary jump at the interface, where cars instantaneously accelerate due to the higher speed limit; and a right-going shock carrying a drop in density (from right to left) as the road clears out since there is less traffic arriving from upstream."
   ]
  },
  {
   "cell_type": "code",
   "execution_count": null,
   "metadata": {
    "collapsed": false
   },
   "outputs": [],
   "source": [
    "traffic_variable_speed.phase_plane_plot(q_l,q_r,v_l,v_r)"
   ]
  },
  {
   "cell_type": "markdown",
   "metadata": {
    "deletable": true,
    "editable": true
   },
   "source": [
    "In the phase plane we see that the rarefaction raises the density as far as it can go on the lower flux curve.  In other words, the flux from the left at the interface is as high as it can possibly be.  Since the characteristic speed just to the left of $x=0$ approaches zero, the condition introduced in the introduction does not tell us which value on the $f_r$ curve we should jump to.  Instead, we note that if the density increased at $x=0$, then $q^*_r$ would have to be connected to $q_r$ by a (*right-going*) rarefaction in which all characteristics are *left-going*, which makes no sense.\n",
    "\n",
    "Instead, we see that $q^*_r$ and $q_r$ are connected by a *transonic shock*, i.e. a shock for which the impinging characteristic speeds from right and left have opposite signs.  Transonic shocks cannot occur in the fixed speed limit LWR model."
   ]
  },
  {
   "cell_type": "markdown",
   "metadata": {
    "deletable": true,
    "editable": true
   },
   "source": [
    "## Transonic rarefaction\n",
    "As in the fixed-speed-limit case, a transonic rarefaction can only occur if the characteristics on both sides are pointing away from the interface:\n",
    "\n",
    "\\begin{align}\n",
    "s_l & \\le 0 \\\\\n",
    "s_r & \\ge 0.\n",
    "\\end{align}\n",
    "However, in the variable-speed-limit case there are additional conditions that must be satisfied.  Namely, the left and right fluxes cannot be so great as to be impossible to balance with the appropriate flux on the other side; i.e. we require\n",
    "\\begin{align}\n",
    "f_l & \\le v_r/4 \\\\\n",
    "f_r & \\le v_l/4.\n",
    "\\end{align}\n",
    "This guarantees that neither the left nor right state lies above the entire (right or left) flux curve in the phase plane.\n",
    "\n",
    "There is an additional wrinkle: as usualy, we have a stationary jump in $q$ in order to maintain flux continuity at the interface.  Thus the transonic rarefaction is broken into two rarefactions, with an intermediate constant state lying either just to the left or just to the right of $x=0$.  Where this state lies depends on whether the speed limit increases or decreases at the interface."
   ]
  },
  {
   "cell_type": "markdown",
   "metadata": {},
   "source": [
    "### Transonic rarefaction with $v_l > v_r$"
   ]
  },
  {
   "cell_type": "code",
   "execution_count": null,
   "metadata": {
    "collapsed": false
   },
   "outputs": [],
   "source": [
    "q_l = 0.9; q_r = 0.2\n",
    "v_l = 1.0; v_r = 0.8\n",
    "plot_riemann_traffic_vc(q_l,q_r,v_l,v_r);"
   ]
  },
  {
   "cell_type": "code",
   "execution_count": null,
   "metadata": {
    "collapsed": false
   },
   "outputs": [],
   "source": [
    "traffic_variable_speed.phase_plane_plot(q_l,q_r,v_l,v_r)"
   ]
  },
  {
   "cell_type": "markdown",
   "metadata": {
    "deletable": true,
    "editable": true
   },
   "source": [
    "In this case, the characteristic speed approaches zero as we approach $x=0$ from the right.  We can see that $q^*_l$ must lie to the right of the dashed line, since otherwise the characteristic taking the value $q^*_l$ would be traveling to the right!"
   ]
  },
  {
   "cell_type": "markdown",
   "metadata": {
    "deletable": true,
    "editable": true
   },
   "source": [
    "### Transonic rarefaction with v_r > v_l"
   ]
  },
  {
   "cell_type": "code",
   "execution_count": null,
   "metadata": {
    "collapsed": false
   },
   "outputs": [],
   "source": [
    "q_l = 0.9; q_r = 0.2\n",
    "v_l = 1.0; v_r = 1.2\n",
    "plot_riemann_traffic_vc(q_l,q_r,v_l,v_r);"
   ]
  },
  {
   "cell_type": "code",
   "execution_count": null,
   "metadata": {
    "collapsed": false
   },
   "outputs": [],
   "source": [
    "traffic_variable_speed.phase_plane_plot(q_l,q_r,v_l,v_r)"
   ]
  },
  {
   "cell_type": "markdown",
   "metadata": {
    "deletable": true,
    "editable": true
   },
   "source": [
    "## Other solutions\n",
    "The remaining types of solutions are mirror images of those above, including a single right-going shock or rarefaction, or a combination left-going shock and right-going rarefaction.  In total there are 8 possible Riemann solution structures -- twice as many as for a constant-coefficient convex scalar conservation law.  Experiment with the sliders and plot below to find left and right states that lead to these additional possibilities."
   ]
  },
  {
   "cell_type": "code",
   "execution_count": null,
   "metadata": {
    "collapsed": false,
    "deletable": true,
    "editable": true
   },
   "outputs": [],
   "source": [
    "def plot_all(q_l,q_r,v_l,v_r):\n",
    "    states, speeds, reval = traffic_variable_speed.exact_riemann_solution(q_l,q_r,v_l,v_r)\n",
    "    riemann_tools.plot_riemann(states,speeds,reval,t=0.5,extra_axes=True);\n",
    "    traffic_variable_speed.phase_plane_plot(q_l,q_r,v_l,v_r)\n",
    "    \n",
    "interact(plot_all,\n",
    "            q_l = widgets.FloatSlider(min=0.,max=1.,step=0.01,value=0.4),\n",
    "            q_r = widgets.FloatSlider(min=0.,max=1.,step=0.01,value=0.7),\n",
    "            v_l = widgets.FloatSlider(min=0.1,max=2.,value=1.),\n",
    "            v_r = widgets.FloatSlider(min=0.1,max=2.,value=0.4),\n",
    "        );"
   ]
  },
  {
   "cell_type": "markdown",
   "metadata": {
    "deletable": true,
    "editable": true
   },
   "source": [
    "# Approximate solver"
   ]
  },
  {
   "cell_type": "markdown",
   "metadata": {
    "deletable": true,
    "editable": true
   },
   "source": [
    "In order to define a numerical solver, we need to compute fluctuations (for the first-order solver) as well as waves and speeds (for the second-order corrections).\n",
    "\n",
    "### Fluctuations\n",
    "It is straightforward to compute the fluctuations by first determining the flux at the interface (i.e., the Godunov flux) $f_0$.  We can then determine the fluctuations via\n",
    "\n",
    "\\begin{align}\n",
    "    {\\mathcal A}^-\\Delta Q & = f_0 - f_l \\\\\n",
    "    {\\mathcal A}^+\\Delta Q & = f_r - f_0.\n",
    "\\end{align}\n",
    "\n",
    "In fact, $f_0$ is always equal to one of $\\{f_l, f_r, v_l/4, v_r/4\\}$.  We can use the criteria discussed above which of these possibilities is correct.\n",
    "\n",
    "### Second-order corrections\n",
    "The fluctuations above are the exact fluctuations from the true solution of the Riemann problem.  We could take a similar approach and include the exact wave(s) appearing in the Riemann solution in order to form second-order corrections.  This may include one or two waves (we need not include the stationary jump at the interface since it doesn't modify the value of the solution in either cell).  However, a simpler approach discussed in <cite data-cite=\"fvmhp\"><a href=\"riemann.html#fvmhp\">(LeVeque, 2002)<a></cite> seems to work well.  We use a single wave with strength $q_r-q_l$ and speed equal to the Rankine-Hugoniot average speed $(c_r + c_l)/2$."
   ]
  },
  {
   "cell_type": "code",
   "execution_count": null,
   "metadata": {
    "collapsed": false,
    "deletable": true,
    "editable": true
   },
   "outputs": [],
   "source": [
    "from clawpack import pyclaw\n",
    "from clawpack import riemann"
   ]
  },
  {
   "cell_type": "code",
   "execution_count": null,
   "metadata": {
    "collapsed": false
   },
   "outputs": [],
   "source": [
    "def test_solver(q_l, q_r, v_l, v_r, riemann_solver,t=0.5):\n",
    "    solver = pyclaw.ClawSolver1D(riemann_solver)\n",
    "\n",
    "    solver.bc_lower[0] = pyclaw.BC.extrap\n",
    "    solver.bc_upper[0] = pyclaw.BC.extrap\n",
    "    solver.aux_bc_lower[0] = pyclaw.BC.extrap\n",
    "    solver.aux_bc_upper[0] = pyclaw.BC.extrap\n",
    "\n",
    "    x = pyclaw.Dimension(-1.0,1.0,50,name='x')\n",
    "    domain = pyclaw.Domain(x)\n",
    "    num_aux = 1\n",
    "    state = pyclaw.State(domain,solver.num_eqn,num_aux)\n",
    "\n",
    "    grid = state.grid\n",
    "    xc=grid.p_centers[0]\n",
    "\n",
    "    state.q[0,:] = q_l*(xc<0) + q_r*(xc>=0.)\n",
    "    state.aux[0,:] = v_l*(xc<0) + v_r*(xc>=0.)  # Speed limit\n",
    "\n",
    "    claw = pyclaw.Controller()\n",
    "    claw.tfinal = 1.0\n",
    "    claw.solution = pyclaw.Solution(state,domain)\n",
    "    claw.solver = solver\n",
    "    claw.keep_copy = True\n",
    "    claw.verbosity = 0\n",
    "\n",
    "    claw.run()\n",
    "    return xc, claw.frames[int(t*10)].q[0,:]"
   ]
  },
  {
   "cell_type": "code",
   "execution_count": null,
   "metadata": {
    "collapsed": false,
    "deletable": true,
    "editable": true
   },
   "outputs": [],
   "source": [
    "q_l = 0.7; q_r = 0.5\n",
    "v_l = 1.0; v_r = 1.5\n",
    "t = 0.5\n",
    "\n",
    "states, speeds, reval = traffic_variable_speed.exact_riemann_solution(q_l,q_r,v_l,v_r)\n",
    "riemann_tools.plot_riemann(states, speeds, reval, t,layout='horizontal');\n",
    "x, q = test_solver(q_l,q_r,v_l,v_r,riemann.traffic_vc_1D,t)\n",
    "plt.plot(x,q,'-sg')\n",
    "plt.legend(['Exact','Approximate']);"
   ]
  },
  {
   "cell_type": "markdown",
   "metadata": {},
   "source": [
    "### $f$-wave solvers\n",
    "The use of the full jump $q_r-q_l$ in the wave discussed above may seem strange since part of this jump remains stationary at the interface (and part of it may be sent in the opposite direction!)  For systems where the flux depends explicitly on $x$, it is often simplest to use the $f$-wave approach; for a scalar problem this corresponds to using the jump in the flux, $f_r-f_l$ in place of the product $s(q_r-q_l)$.\n",
    "\n",
    "This technique can be used in the present system, but it has a small drawback.  At the center of a transonic rarefaction, the cell average is $1/2$ and the $f$-wave $f_r-f_l$ will be essentially zero.  This causes the limiter to activate and reduce the method locally to first order, with the consequence that the solution is inaccurate near the sonic point.  The first approach discussed above (where the wave strength is $q_r-q_l$) is free from this deficiency."
   ]
  },
  {
   "cell_type": "code",
   "execution_count": null,
   "metadata": {
    "collapsed": false
   },
   "outputs": [],
   "source": [
    "q_l = 0.7; q_r = 0.2\n",
    "v_l = 1.0; v_r = 1.0\n",
    "t = 0.5\n",
    "\n",
    "states, speeds, reval = traffic_variable_speed.exact_riemann_solution(q_l,q_r,v_l,v_r)\n",
    "riemann_tools.plot_riemann(states, speeds, reval, t,layout='vertical');\n",
    "x, q = test_solver(q_l,q_r,v_l,v_r,riemann.traffic_vc_1D,t)\n",
    "plt.plot(x,q,'-sg')\n",
    "x2, q2 = test_solver(q_l,q_r,v_l,v_r,riemann.traffic_vc_fwave_1D,t)\n",
    "plt.plot(x2,q2,'-or')\n",
    "plt.legend(['Exact','Approximate','$f$-wave']);"
   ]
  }
 ],
 "metadata": {
  "kernelspec": {
   "display_name": "Python 2",
   "language": "python",
   "name": "python2"
  },
  "language_info": {
   "codemirror_mode": {
    "name": "ipython",
    "version": 2
   },
   "file_extension": ".py",
   "mimetype": "text/x-python",
   "name": "python",
   "nbconvert_exporter": "python",
   "pygments_lexer": "ipython2",
   "version": "2.7.13"
  }
 },
 "nbformat": 4,
 "nbformat_minor": 2
}
