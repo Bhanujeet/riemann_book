{
 "cells": [
  {
   "cell_type": "markdown",
   "metadata": {
    "deletable": true,
    "editable": true
   },
   "source": [
    "\n",
    "# Acoustics equations\n",
    "\n",
    "This notebook illustrates some features of the exact solution to the 1-dimensional constant coefficient acoustics equations, as described in more detail in Chapter 3 of <cite data-cite=\"fvmhp\"><a href=\"riemann.html#fvmhp\">(LeVeque 2002)<a></cite>. Since acoustic equations are a landmark example of linear wave propagation, we will begin with a brief derivation of the equations. This will also help having a self contained document. "
   ]
  },
  {
   "cell_type": "markdown",
   "metadata": {
    "deletable": true,
    "editable": true
   },
   "source": [
    "## Brief derivation of linear acoustics equations\n",
    "The linear acoustic equations can be obtained by linearizing the conservation of mass and momentum for an element of fluid. The conservation of mass and momentum for a fluid element are given by\n",
    "fo\n",
    "\\begin{align*}\n",
    "\\frac{\\partial \\rho}{\\partial t} + \\nabla \\cdot \\left(\\rho \\bar{u}\\right) = 0 \\\\\n",
    "\\frac{d \\rho \\bar{u}}{dt} = -\\nabla P\n",
    "\\end{align*}\n",
    "\n",
    "where $d/dt$ denotes the material derivative: $\\frac{d}{dt} = \\frac{\\partial}{\\partial t} + \\bar{u} \\cdot \\nabla $. In one dimension, these can be easily rewritten as,\n",
    "\n",
    "\\begin{align*}\n",
    "\\rho_t + (\\rho u)_x = 0, \\\\\n",
    "(\\rho u)_t + (\\rho u^2 + P(\\rho))_x =0,\n",
    "\\end{align*}\n",
    "\n",
    "where we assumed the pressure is a function of the density, which is only accurate for small perturbations\n",
    "around some equilibrium state given by $\\rho_0$ and $u_0$. Linearizing the equation around $\\rho_0$ and $u_0 =0$, we obtain a simpler system for the perturbations,\n",
    "\n",
    "\\begin{align*}\n",
    "\\rho_t + (\\rho u)_x = 0, \\\\\n",
    "(\\rho u)_t + P(\\rho_0)\\rho_x =0.\n",
    "\\end{align*}\n",
    "\n",
    "where, somewhat abusing the notation, $\\rho$ and $u$ are now the perturbations around $\\rho_0$ and $u_0 = 0$. As perturbations on the pressure and density satisfy, \n",
    "\n",
    "\\begin{align*}\n",
    "p\\approx P'(\\rho_0)\\rho, \\\\\n",
    "\\rho u \\approx \\rho_0 u,\n",
    "\\end{align*}\n",
    "\n",
    "we can rewrite the system of linear acoustic equations as\n",
    "\n",
    "\\begin{align*}\n",
    " \\left[ \\begin{array}{c}\n",
    "p \\\\\n",
    "u \n",
    "\\end{array} \\right]_t\n",
    "+  \\underbrace{\\left[ \\begin{array}{cc}\n",
    "0 & K_0 \\\\\n",
    "1/\\rho_0 & 0  \\\\\n",
    "\\end{array} \\right]}_{\\mathbf{A}}\n",
    "\\left[ \\begin{array}{c}\n",
    "p \\\\\n",
    "u \\end{array} \\right]_x = 0,\n",
    "\\end{align*}\n",
    "\n",
    "with $K_0=\\rho_0 P'(\\rho_0)$ the bulk modulus of compressibility for the media where the waves are propagating. It tells us how compressible is a material; a higher value implies less compressibility. The speed of sound in a given medium can be obtained in terms of the density and bulk modulus following the Newton-Laplace equation\n",
    "\n",
    "\\begin{align*}\n",
    "c = \\sqrt{\\frac{K}{\\rho}},\n",
    "\\end{align*}\n",
    "\n",
    "which is consistent with the classical mechanics general equation to obtain the speed of sound from a general equation of state, $c=\\sqrt{(\\partial P)/\\partial \\rho)_s}$."
   ]
  },
  {
   "cell_type": "markdown",
   "metadata": {
    "deletable": true,
    "editable": true
   },
   "source": [
    "## Exact solver\n",
    "\n",
    "In a more general framework, acoustic equations are a linear hyperbolic system of two equations for $q = [p, u]^T$, where $p$ is the pressure perturbation and $u$ is the velocity. As we just derived, the system is $q_t + Aq_x = 0$, where the coefficient matrix is\n",
    "\n",
    "\\begin{align*}\n",
    "A = \\left[\\begin{array}{cc}0&K\\\\1/\\rho&0\\end{array}\\right], \n",
    "\\end{align*}\n",
    "\n",
    "where $\\rho$ is the density and $K$ the bulk modulus (note we dropped the subscripts for simplicity). The sound speed and acoustic impedance are given by $c = \\sqrt{K/\\rho}$ and $Z=\\rho c=$, respectively. The impedance can be understood as the resitance of the medium to the propagation of acoustic waves. In order to solve the Riemann problem, we would like to solve this system subject to the initial condition on $q(x,t)$,\n",
    "\n",
    "\\begin{align*}\n",
    "q(x,0) = \\begin{cases}\n",
    "q_\\ell & \\text{if   } x \\le 0, \\\\\n",
    "q_r & \\text{if   } x > 0.\n",
    "\\end{cases}\n",
    "\\end{align*}\n",
    "\n",
    "The solution can be obtained by transforming the linear system into two uncoupled advection equations, see <cite data-cite=\"fvmhp\"><a href=\"riemann.html#fvmhp\">(LeVeque 2002)<a></cite>. When transformed back to the original coordinates the solution will have the following structure, \n",
    "\n",
    "<img style=\"float: center\" src=\"figures/acoustics_xt_plane.png\" width=\"300\">\n",
    "\n",
    "The structure in the $x-t$ plane shows two waves propagating at velocities $s_1=-c$ and $s_2=c$, which correspond to the two eigenvalues of $A$. At time zero the initial condition remains true, but at times $t>0$ a third state emerges, $q_m$, and it can be calculated from the eigenvectors of the matrix $A$. The corresponding eigenvectors are\n",
    "\n",
    "\\begin{align*}\n",
    "r_1 = \\left[\\begin{array}{c}-Z\\\\1\\end{array}\\right], \\qquad r_2 = \\left[\\begin{array}{c}Z\\\\1\\end{array}\\right].\n",
    "\\end{align*}\n",
    "\n",
    "For arbitrary states $q_\\ell$ and $q_r$, the Riemann solution consists of two waves propagating with velocities $\\pm c$ with an intermediate state $q_m$ that is connected to $q_\\ell$ by a multiple of $r_1$ and to $q_r$ by a multiple of $r_2$. Therefore, the left and right states are connected through a linear combination of $r_1$ and $r_2$,\n",
    "\n",
    "\\begin{align*}\n",
    "q_r-q_\\ell = \\Delta q = \\alpha_1 r_1 + \\alpha_2 r_2,\n",
    "\\end{align*}\n",
    "\n",
    "where $\\Delta q = [\\Delta p, \\Delta u]^T$.\n",
    "We can write this in more general form form as \n",
    "\\begin{align*}\n",
    "R \\alpha = \\Delta q,\n",
    "\\end{align*}\n",
    "\n",
    "where $\\alpha=[\\alpha_1, \\alpha_2]^T$ and $R=[r_1,r_2]$ is the matrix of column eigenvectors,\n",
    "\n",
    "\\begin{align*}\n",
    "R = \\left[\\begin{array}{cc}-Z& Z\\\\1 & 1\\end{array}\\right].\n",
    "\\end{align*}\n",
    "\n",
    "We can solve this linear system for $\\alpha$ to obtain,\n",
    "\n",
    "\\begin{align*}\n",
    "\\alpha_1 = \\frac{-\\Delta p + Z\\Delta u}{2Z}, \\ \\ \\ \\ \\ \\\n",
    "\\alpha_2 = \\frac{\\Delta p + Z\\Delta u}{2Z}.\n",
    "\\end{align*}\n",
    "\n",
    "We can now obtain the value of $q_m$ in terms of $q_\\ell$ or $q_r$\n",
    "\n",
    "\\begin{align*}\n",
    "q_m = q_\\ell + \\alpha_1 r_1 = q_r - \\alpha_2 r_2.\n",
    "\\end{align*}"
   ]
  },
  {
   "cell_type": "markdown",
   "metadata": {},
   "source": [
    "## Examples\n",
    "We will begin by defining a function that calls the exact solver in [exact_solvers/acoustics.py](exact_solvers/acoustics.py) and plots the solution for different interesting examples"
   ]
  },
  {
   "cell_type": "code",
   "execution_count": 1,
   "metadata": {
    "collapsed": false
   },
   "outputs": [],
   "source": [
    "import numpy as np\n",
    "import matplotlib.pyplot as plt\n",
    "from ipywidgets import interact, interactive, widgets\n",
    "from exact_solvers import acoustics, interactive_pplanes\n",
    "from utils import riemann_tools"
   ]
  },
  {
   "cell_type": "code",
   "execution_count": 2,
   "metadata": {
    "collapsed": false
   },
   "outputs": [],
   "source": [
    "def plot_riemann_solution(ql, qr, bulk, rho):\n",
    "    ex_states, ex_speeds, reval = acoustics.exact_riemann_solution(ql ,qr, bulk, rho)\n",
    "\n",
    "    plot_function = riemann_tools.make_plot_function(ex_states, ex_speeds, reval, layout='vertical',\n",
    "                                                    variable_names=['pressure', 'velocity'])\n",
    "\n",
    "    return interact(plot_function, t=widgets.FloatSlider(value=0.0,min=0,max=1.0));"
   ]
  },
  {
   "cell_type": "markdown",
   "metadata": {},
   "source": [
    "### Problem1: Shock tube problem:\n",
    "\n",
    "If the velocity is 0 in both initial states (the shock tube problem) then the resulting Riemann solution consists of pressure jumps of equal magnitude propagating in each direction, with equal and opposite jumps in velocity."
   ]
  },
  {
   "cell_type": "code",
   "execution_count": 11,
   "metadata": {
    "collapsed": false
   },
   "outputs": [
    {
     "data": {
      "application/vnd.jupyter.widget-view+json": {
       "model_id": "10a2ab058fc247f49354b9c2f9654111"
      }
     },
     "metadata": {},
     "output_type": "display_data"
    }
   ],
   "source": [
    "ql = np.array([5,0])\n",
    "qr = np.array([1,0])\n",
    "bulk = 4.0\n",
    "rho = 1.0\n",
    "plot_riemann_solution(ql, qr, bulk, rho);"
   ]
  },
  {
   "cell_type": "markdown",
   "metadata": {},
   "source": [
    "#### Plot the particle trajectories\n",
    "\n",
    "For the acoustics equations, the second component of `q` is the velocity.  By integrating the velocities we can get particle positions.  The following utility function does this for us based on the Riemann solution, solving\n",
    "\n",
    "$$\n",
    "X'(t) = u(X(t), t),\\qquad \\text{for} \\quad t \\geq 0, \\qquad \\text{with initial data} ~ X(0) = x_0\n",
    "$$\n",
    "\n",
    "for a set of 20 initial particle locations $x_0$ evenly distributed along the x-axis at time $=0$.\n",
    "\n",
    "Note that the particles initially have velocity 0 and are accelerated to the right by either acoustic wave.  The velocity is constant between the two waves and positive because the pressure chosen was greater to be greater in the left state than in the right state.  If $p_\\ell < p_r$ the the fluid would be accelerated to the left instead."
   ]
  },
  {
   "cell_type": "code",
   "execution_count": 12,
   "metadata": {
    "collapsed": false
   },
   "outputs": [
    {
     "data": {
      "image/png": "[encoded data removed]",
      "text/plain": [
       "<matplotlib.figure.Figure at 0x7f4795f20610>"
      ]
     },
     "metadata": {},
     "output_type": "display_data"
    }
   ],
   "source": [
    "states, speeds, reval = acoustics.exact_riemann_solution(ql ,qr, bulk, rho)\n",
    "riemann_tools.plot_riemann_trajectories(states,speeds,reval,i_vel=1)\n",
    "plt.show()"
   ]
  },
  {
   "cell_type": "markdown",
   "metadata": {},
   "source": [
    "### Problem 2: Flow into a wall:\n",
    "\n",
    "As another example, suppose the pressure is initially the same in the left and right states, while the velocities are non-zero with $u_r = -u_\\ell > 0$.  Particles are converging from both sides and if the initial states have this symmetry, then the result is a middle state $q_m$ in which the velocity is 0 (and the pressure is higher than on either side)."
   ]
  },
  {
   "cell_type": "code",
   "execution_count": 5,
   "metadata": {
    "collapsed": false
   },
   "outputs": [
    {
     "data": {
      "application/vnd.jupyter.widget-view+json": {
       "model_id": "b8c00766f46b4822bdaf2bad98e90ad3"
      }
     },
     "metadata": {},
     "output_type": "display_data"
    }
   ],
   "source": [
    "ql = np.array([3,2])  \n",
    "qr = np.array([3,-2])  \n",
    "bulk = 20.0\n",
    "rho = 1.0\n",
    "plot_riemann_solution(ql, qr, bulk, rho);"
   ]
  },
  {
   "cell_type": "code",
   "execution_count": 6,
   "metadata": {
    "collapsed": false
   },
   "outputs": [
    {
     "data": {
      "image/png": "[encoded data removed]",
      "text/plain": [
       "<matplotlib.figure.Figure at 0x7f479624c910>"
      ]
     },
     "metadata": {},
     "output_type": "display_data"
    }
   ],
   "source": [
    "# Plot the particle trajectories\n",
    "states, speeds, reval = acoustics.exact_riemann_solution(ql ,qr, bulk, rho)\n",
    "riemann_tools.plot_riemann_trajectories(states,speeds,reval,i_vel=1)\n",
    "plt.show()"
   ]
  },
  {
   "cell_type": "markdown",
   "metadata": {},
   "source": [
    "If you discard half the solution (for $x>0$ or for $x<0$) then what you see can be viewed as the solution to a problem with fluid streaming at constant velocity toward a solid wall.  The result is an acoustic wave that moves away from the wall, and the fluid behind the shock has been decelerated to velocity 0, i.e. it is stationary at the wall.\n",
    "\n",
    "This type of Riemann solution is critical when imposing solid wall boundary conditions in a numerical method. If ghost cells are introduced outside the domain and the state in the ghost cell set by reflecting the interior solution with the symmetry seen here (equal pressure, negated velocity), then the solution to the Riemann problem at the cell interfaces yields a solution that satisfies the desired boundary conditions. "
   ]
  },
  {
   "cell_type": "markdown",
   "metadata": {},
   "source": [
    "## Acoustic propagation in heterogenous materials\n",
    "\n",
    "In theory, we should also be able to model acoustic waves propagation through materials that do not have heterogenous density or bulk modulus, like some layered media or any kind of interface, like walls. In this case, the basic Riemann problem to solve is the acosutic Riemann problem with discontinuous coefficients (discontinuous $\\rho$ and $K$). Once this problem is solved it can be used to approximate discretely a continuous denity varying material or other similar examples. The main difference with the previous example is that the value of $\\rho$ and $K$ will be different on the left side than on the right side. Therefore, the eigenvalues and eigenvectors are modified as follows. The eigenvalues will be given by the sound speed in each of the two mediums,\n",
    "\n",
    "\\begin{align*}\n",
    "s_l = -c_l  \\ \\ \\ \\ \\ s_r = c_r \\ \\ \\ \\ \\ \\mathrm{with:} \\ \\ \\ \\ \\ c_i = \\sqrt{\\frac{K_{i}}{\\rho_{i}}},\n",
    "\\end{align*}\n",
    "\n",
    "and the eigenvalues by the impedances of each medium as well, so we can write the matrix of column eigenvectors $R=[r_1, r_2]$ as,\n",
    "\n",
    "\\begin{align*}\n",
    "R = \n",
    "\\left[ \\begin{array}{ccccc}\n",
    "-Z_{l} & Z_{r} \\\\\n",
    " 1   & 1  \\\\\n",
    "\\end{array} \\right].\n",
    "\\end{align*}\n",
    "\n",
    "Once again, we onlye need to solve $\\mathbf{R} \\bar{\\alpha} = \\Delta \\bar{q}$, which yields the values\n",
    "of $\\alpha$\n",
    "\n",
    "\\begin{align*}\n",
    "\\alpha_1 = \\frac{-\\Delta p + Z_r\\Delta u}{Z_l + Z_r}, \\ \\ \\ \\ \\ \\\n",
    "\\alpha_2 = \\frac{\\Delta p + Z_l\\Delta u}{Z_l + Z_r}.\n",
    "\\end{align*}\n",
    "\n",
    "The middle state is again given simply by $q_m = q_\\ell + \\alpha_1 r_1 = q_r - \\alpha_2 r_2$.\n"
   ]
  },
  {
   "cell_type": "markdown",
   "metadata": {},
   "source": [
    "## Examples\n",
    "We will show some examples of where this Riemann problem becomes relevant. As in the previous case, we will begin by defining a function to do the interactive plotting for the different cases."
   ]
  },
  {
   "cell_type": "code",
   "execution_count": 7,
   "metadata": {
    "collapsed": true
   },
   "outputs": [],
   "source": [
    "def plot_heterogenous_riemann(ql, qr, bulk, rho):\n",
    "    ex_states, ex_speeds, reval = acoustics.exact_riemann_heterogenous(ql ,qr, bulk, rho)\n",
    "\n",
    "    plot_function = riemann_tools.make_plot_function(ex_states, ex_speeds, reval, layout='vertical',\n",
    "                                                    variable_names=['pressure', 'velocity'])\n",
    "\n",
    "    return interact(plot_function, t=widgets.FloatSlider(value=0.0,min=0,max=1.0));"
   ]
  },
  {
   "cell_type": "markdown",
   "metadata": {},
   "source": [
    "### Problem 3: Propagation through a wall\n",
    "In the previous example, we showed the flow into a wall, which basically models the wall as a completely reflective surface. In most cases, this is a good approximation for the reflected waves; however, we could also ask what is the propagated acoustic wave through the wall. We can answer this question by using the air's bulk modulus and density in the right side and the wall's density and bulk modulus on the right. Air actually has density of $\\rho \\approx 1 kg/m^3$ and $K\\approx 100 kPa$, steel on the other hand has $\\rho\\approx 8000 kg/m^3$ and $K=160 GPa$. Considering the atmospheric pressure to be $p_{atm} = 101325 Pa$, and an acoustic wave hitting the steel at $340 m/s$, we have all the parameters. As expected you will notice the acoustic wave\n",
    "on the steel propagates extremely faster than in the air, which is around $5000 m/s$, around 14 times faster than in air."
   ]
  },
  {
   "cell_type": "code",
   "execution_count": 8,
   "metadata": {
    "collapsed": false
   },
   "outputs": [
    {
     "data": {
      "application/vnd.jupyter.widget-view+json": {
       "model_id": "55f0b496575247398b6847a1098eb8ea"
      }
     },
     "metadata": {},
     "output_type": "display_data"
    }
   ],
   "source": [
    "patm = 101325.0\n",
    "ql = np.array([patm,340])  \n",
    "qr = np.array([patm,0])  \n",
    "bulk = [100000.0, 160000000000.0] # left and right bulk modulus\n",
    "rho = [1.0, 8000.0] # left and right density\n",
    "plot_heterogenous_riemann(ql, qr, bulk, rho);"
   ]
  },
  {
   "cell_type": "code",
   "execution_count": 9,
   "metadata": {
    "collapsed": false
   },
   "outputs": [
    {
     "data": {
      "image/png": "[encoded data removed]",
      "text/plain": [
       "<matplotlib.figure.Figure at 0x7f4796474150>"
      ]
     },
     "metadata": {},
     "output_type": "display_data"
    }
   ],
   "source": [
    "# Plot the particle trajectories\n",
    "states, speeds, reval = acoustics.exact_riemann_heterogenous(ql ,qr, bulk, rho)\n",
    "riemann_tools.plot_riemann_trajectories(states,speeds,reval,i_vel=1)\n",
    "plt.show()"
   ]
  },
  {
   "cell_type": "markdown",
   "metadata": {
    "deletable": true,
    "editable": true
   },
   "source": [
    "# OLD STUFF\n",
    "The next cell imports a module containing a function that takes a Riemann problem (left state, right state, and approximate solver), and computes the Riemann solution, as well as functions to plot the solution in various forms.  "
   ]
  },
  {
   "cell_type": "code",
   "execution_count": null,
   "metadata": {
    "collapsed": false,
    "deletable": true,
    "editable": true
   },
   "outputs": [],
   "source": [
    "from clawpack.riemann.acoustics_1D_py import acoustics_1D\n",
    "solver = acoustics_1D"
   ]
  },
  {
   "cell_type": "markdown",
   "metadata": {
    "deletable": true,
    "editable": true
   },
   "source": [
    "### Set some problem data needed by the solver:"
   ]
  },
  {
   "cell_type": "code",
   "execution_count": null,
   "metadata": {
    "collapsed": false,
    "deletable": true,
    "editable": true
   },
   "outputs": [],
   "source": [
    "problem_data = {}\n",
    "\n",
    "rho = 1.            # density\n",
    "K = 4.              # bulk modulus\n",
    "c = np.sqrt(K/rho)  # sound speed\n",
    "Z = np.sqrt(K*rho)  # impedance\n",
    "\n",
    "print(\"Density rho = %g, Bulk modulus K = %g\" % (rho,K))\n",
    "print(\"Sound speed = %g, Impedance = %g\" % (c,Z))\n",
    "\n",
    "problem_data['zz'] = Z \n",
    "problem_data['cc'] = c"
   ]
  },
  {
   "cell_type": "markdown",
   "metadata": {
    "deletable": true,
    "editable": true
   },
   "source": [
    "### Set the left and right states, and solve the Riemann problem"
   ]
  },
  {
   "cell_type": "code",
   "execution_count": null,
   "metadata": {
    "collapsed": false,
    "deletable": true,
    "editable": true
   },
   "outputs": [],
   "source": [
    "q_l = np.array((1,4))  # Left state\n",
    "q_r = np.array((3,7))  # Right state\n",
    "\n",
    "states, s, riemann_eval = riemann_tools.riemann_solution(solver,q_l,q_r,\\\n",
    "                                            problem_data=problem_data, verbose=True)"
   ]
  },
  {
   "cell_type": "markdown",
   "metadata": {
    "deletable": true,
    "editable": true
   },
   "source": [
    "### Plot the states in the phase plane:"
   ]
  },
  {
   "cell_type": "code",
   "execution_count": null,
   "metadata": {
    "collapsed": false,
    "deletable": true,
    "editable": true
   },
   "outputs": [],
   "source": [
    "fig = plt.figure(figsize=(4,3))\n",
    "ax = plt.axes()\n",
    "riemann_tools.plot_phase(states, ax=ax, label_h='pressure', label_v='velocity')"
   ]
  },
  {
   "cell_type": "markdown",
   "metadata": {
    "deletable": true,
    "editable": true
   },
   "source": [
    "### Plot the waves in the x-t plane, and the solution at one particular time:"
   ]
  },
  {
   "cell_type": "code",
   "execution_count": null,
   "metadata": {
    "collapsed": false,
    "deletable": true,
    "editable": true
   },
   "outputs": [],
   "source": [
    "fig = riemann_tools.plot_riemann(states,s,riemann_eval,t=0.5)"
   ]
  },
  {
   "cell_type": "markdown",
   "metadata": {
    "deletable": true,
    "editable": true
   },
   "source": [
    "### Animate the Riemann solution:"
   ]
  },
  {
   "cell_type": "code",
   "execution_count": null,
   "metadata": {
    "collapsed": false,
    "deletable": true,
    "editable": true
   },
   "outputs": [],
   "source": [
    "riemann_tools.JSAnimate_plot_riemann(states,s,riemann_eval)"
   ]
  },
  {
   "cell_type": "markdown",
   "metadata": {},
   "source": [
    "### Shock tube problem:\n",
    "\n",
    "If the velocity is 0 in both initial states (the shock tube problem) then the resulting Riemann solution consists of pressure jumps of equal magnitude propagating in each direction, with equal and opposite jumps in velocity."
   ]
  },
  {
   "cell_type": "code",
   "execution_count": null,
   "metadata": {
    "collapsed": true
   },
   "outputs": [],
   "source": [
    "q_l = np.array((5,0))  # Left state\n",
    "q_r = np.array((4,0))  # Right state\n",
    "\n",
    "states, s, riemann_eval = riemann_tools.riemann_solution(solver,q_l,q_r,\\\n",
    "                                            problem_data=problem_data, verbose=True)"
   ]
  },
  {
   "cell_type": "markdown",
   "metadata": {
    "deletable": true,
    "editable": true
   },
   "source": [
    "### Plot the particle trajectories\n",
    "\n",
    "For the acoustics equations, the second component of `q` is the velocity.  By integrating the velocities we can get particle positions.  The following utility function does this for us based on the Riemann solution, solving\n",
    "\n",
    "$$\n",
    "X'(t) = u(X(t), t),\\qquad \\text{for} \\quad t \\geq 0, \\qquad \\text{with initial data} ~ X(0) = x_0\n",
    "$$\n",
    "\n",
    "for a set of 20 initial particle locations $x_0$ evenly distributed along the x-axis at time $=0$.\n",
    "\n",
    "Note that the particles initially have velocity 0 and are accelerated to the right by either acoustic wave.  The velocity is constant between the two waves and positive because the pressure chosen was greater to be greater in the left state than in the right state.  If $p_\\ell < p_r$ the the fluid would be accelerated to the left instead."
   ]
  },
  {
   "cell_type": "code",
   "execution_count": null,
   "metadata": {
    "collapsed": false,
    "deletable": true,
    "editable": true
   },
   "outputs": [],
   "source": [
    "riemann_tools.plot_riemann_trajectories(states,s,riemann_eval,i_vel=1)"
   ]
  },
  {
   "cell_type": "markdown",
   "metadata": {
    "deletable": true,
    "editable": true
   },
   "source": [
    "## Flow into a wall:\n",
    "\n",
    "As another example, suppose the pressure is initially the same in the left and right states, while the velocities are non-zero with $u_r = -u_\\ell > 0$.  Particles are converging from both sides and if the initial states have this symmetry, then the result is a middle state $q_m$ in which the velocity is 0 (and the pressure is higher than on either side)."
   ]
  },
  {
   "cell_type": "code",
   "execution_count": null,
   "metadata": {
    "collapsed": false,
    "deletable": true,
    "editable": true
   },
   "outputs": [],
   "source": [
    "q_l = np.array((3,2))  # Left state\n",
    "q_r = np.array((3,-2))  # Right state\n",
    "\n",
    "states, s, riemann_eval = riemann_tools.riemann_solution(solver,q_l,q_r,\\\n",
    "                                        problem_data=problem_data, verbose=True)\n",
    "\n",
    "fig = plt.figure(figsize=(4,3))\n",
    "ax = plt.axes()\n",
    "riemann_tools.plot_phase(states, ax=ax, label_h='pressure', label_v='velocity')"
   ]
  },
  {
   "cell_type": "code",
   "execution_count": null,
   "metadata": {
    "collapsed": false,
    "deletable": true,
    "editable": true
   },
   "outputs": [],
   "source": [
    "riemann_tools.JSAnimate_plot_riemann(states,s,riemann_eval)"
   ]
  },
  {
   "cell_type": "code",
   "execution_count": null,
   "metadata": {
    "collapsed": false,
    "deletable": true,
    "editable": true
   },
   "outputs": [],
   "source": [
    "riemann_tools.plot_riemann_trajectories(states,s,riemann_eval,i_vel=1)"
   ]
  },
  {
   "cell_type": "markdown",
   "metadata": {
    "deletable": true,
    "editable": true
   },
   "source": [
    "If you discard half the solution (for $x>0$ or for $x<0$) then what you see can be viewed as the solution to a problem with fluid streaming at constant velocity toward a solid wall.  The result is an acoustic wave that moves away from the wall, and the fluid behind the shock has been decelerated to velocity 0, i.e. it is stationary at the wall.\n",
    "\n",
    "This type of Riemann solution is critical when imposing solid wall boundary conditions in a numerical method. If ghost cells are introduced outside the domain and the state in the ghost cell set by reflecting the interior solution with the symmetry seen here (equal pressure, negated velocity), then the solution to the Riemann problem at the cell interfaces yields a solution that satisfies the desired boundary conditions. "
   ]
  }
 ],
 "metadata": {
  "kernelspec": {
   "display_name": "Python 2",
   "language": "python",
   "name": "python2"
  },
  "language_info": {
   "codemirror_mode": {
    "name": "ipython",
    "version": 2
   },
   "file_extension": ".py",
   "mimetype": "text/x-python",
   "name": "python",
   "nbconvert_exporter": "python",
   "pygments_lexer": "ipython2",
   "version": "2.7.12"
  }
 },
 "nbformat": 4,
 "nbformat_minor": 0
}
