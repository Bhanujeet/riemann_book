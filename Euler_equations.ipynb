{
 "cells": [
  {
   "cell_type": "markdown",
   "metadata": {},
   "source": [
    "This is the first of two notebooks on the Euler equations.  In this notebook, we discuss the equations and the structure of the exact solution to the Riemann problem.  In the next notebook, we investigate approximate Riemann solvers."
   ]
  },
  {
   "cell_type": "markdown",
   "metadata": {},
   "source": [
    "# Table of contents\n",
    "\n",
    "- [Fluid dynamics](#Fluid-dynamics)\n",
    "- [The Euler equations](#The-Euler-equations)\n",
    "- [Hyperbolic structure](#Hyperbolic-structure-of-the-Euler-equations)\n",
    "- [Exact solution of the Riemann problem](#Exact-solution-of-the-Riemann-problem)\n",
    "- [Interactive Riemann solver](#Interactive-Riemann-solver)"
   ]
  },
  {
   "cell_type": "markdown",
   "metadata": {},
   "source": [
    "# Fluid dynamics"
   ]
  },
  {
   "cell_type": "markdown",
   "metadata": {},
   "source": [
    "In this chapter we study the system of hyperbolic PDEs that governs the motions of fluids in the absence of viscosity.  These consist of conservation laws for **mass, momentum**, and **energy**.  Together, they are referred to as the **compressible Euler equations**, or simply the Euler equations.  Our discussion here is fairly brief; for much more detail see <cite data-cite=\"toro2013riemann\"><a href=\"riemann.html#toro2013riemann\">(Toro, 2013)<a></cite>."
   ]
  },
  {
   "cell_type": "markdown",
   "metadata": {},
   "source": [
    "### Mass conservation"
   ]
  },
  {
   "cell_type": "markdown",
   "metadata": {},
   "source": [
    "We will use $\\rho(x,t)$ to denote the fluid density and $u(x,t)$ for its velocity.  Then the equation for conservation of mass is just the **continuity equation**:\n",
    "\n",
    "$$\\rho_t + (\\rho u)_x = 0.$$"
   ]
  },
  {
   "cell_type": "markdown",
   "metadata": {},
   "source": [
    "### Momentum conservation"
   ]
  },
  {
   "cell_type": "markdown",
   "metadata": {},
   "source": [
    "The momentum is given by the product of density and velocity, $\\rho u$.  The momentum flux has two components.  First, the momentum is transported in the same way that the density is; this flux is given by the momentum times the density: $\\rho u^2$.\n",
    "\n",
    "To understand the second term in the momentum flux, we must realize that a fluid is made up of many tiny molecules.  The density and velocity we are modeling are average values over some small region of space.  The individual molecules in that region are not all moving with exactly velocity $u$; that's just their average.  Each molecule also has some additional random velocity component.  These random velocities are what accounts for the **pressure** of the fluid, which we'll denote by $p$.  These velocity components also lead to a net flux of momentum.  Thus the momentum conservation equation is\n",
    "\n",
    "$$(\\rho u)_t + (\\rho u^2 + p)_x = 0.$$"
   ]
  },
  {
   "cell_type": "markdown",
   "metadata": {},
   "source": [
    "### Energy conservation"
   ]
  },
  {
   "cell_type": "markdown",
   "metadata": {},
   "source": [
    "The energy has two components: internal energy $\\rho e$ and kinetic energy $\\rho u^2/2$:\n",
    "\n",
    "$$E = \\rho e + \\frac{1}{2}\\rho u^2.$$\n",
    "\n",
    "Like the momentum flux, the energy flux involves both bulk transport ($Eu$) and transport due to pressure ($pu$):\n",
    "\n",
    "$$E_t + (u(E+p)) = 0.$$"
   ]
  },
  {
   "cell_type": "markdown",
   "metadata": {},
   "source": [
    "### Equation of state"
   ]
  },
  {
   "cell_type": "markdown",
   "metadata": {},
   "source": [
    "You may have noticed that we have 4 unknowns (density, momentum, energy, and pressure) but only 3 conservation laws.  We need one more relation to close the system.  That relation, known as the equation of state, expresses how the pressure is related to the other quantities.  We'll focus on the case of a polytropic ideal gas, for which\n",
    "\n",
    "$$p = \\rho e (\\gamma-1).$$\n",
    "\n",
    "Here $\\gamma$ is the ratio of specific heats, which for air is approximately 1.4."
   ]
  },
  {
   "cell_type": "markdown",
   "metadata": {},
   "source": [
    "## The Euler equations"
   ]
  },
  {
   "cell_type": "markdown",
   "metadata": {},
   "source": [
    "We can write the three conservation laws as a single system $q_t + f(q)_x = 0$ by defining\n",
    "\n",
    "\\begin{align}\n",
    "q & = \\begin{pmatrix} \\rho \\\\ \\rho u \\\\ E\\end{pmatrix}, & \n",
    "f(q) & = \\begin{pmatrix} \\rho u \\\\ \\rho u^2 + p \\\\ u(E+p)\\end{pmatrix}.\n",
    "\\end{align}"
   ]
  },
  {
   "cell_type": "markdown",
   "metadata": {},
   "source": [
    "In three dimensions, the equations are similar.  We have two additional velocity components $v, w$, and their corresponding fluxes.  Additionally, we have to account for fluxes in the $y$ and $z$ directions.  We can write the full system as\n",
    "\n",
    "$$ q_t + f(q)_x + g(q)_y + h(q)_z = 0$$\n",
    "\n",
    "with\n",
    "\n",
    "\\begin{align}\n",
    "q & = \\begin{pmatrix} \\rho \\\\ \\rho u \\\\ \\rho v \\\\ \\rho w \\\\ E\\end{pmatrix}, &\n",
    "f(q) & = \\begin{pmatrix} \\rho u \\\\ \\rho u^2 + p \\\\ \\rho u v \\\\ \\rho u w \\\\ u(E+p)\\end{pmatrix} &\n",
    "g(q) & = \\begin{pmatrix} \\rho v \\\\ \\rho uv \\\\ \\rho v^2 + p \\\\ \\rho v w \\\\ v(E+p)\\end{pmatrix} &\n",
    "h(q) & = \\begin{pmatrix} \\rho w \\\\ \\rho uw \\\\ \\rho vw \\\\ \\rho w^2 + p \\\\ w(E+p)\\end{pmatrix}.\n",
    "\\end{align}"
   ]
  },
  {
   "cell_type": "markdown",
   "metadata": {},
   "source": [
    "## Hyperbolic structure of the 1D Euler equations\n",
    "\n",
    "In our discussion of the structure of these equations, it is convenient to work with the primitive variables $(\\rho, u, p)$ rather than the conserved variables.  In quasilinear form, we have\n",
    "\n",
    "\\begin{align}\n",
    "\\begin{bmatrix} \\rho \\\\ u \\\\ p \\end{bmatrix}_t \n",
    "+ \\begin{bmatrix} u & \\rho & 0 \\\\ 0 & u & 1/\\rho \\\\ 0 & \\gamma \\rho & u \\end{bmatrix} \\begin{bmatrix} \\rho \\\\ u \\\\ p \\end{bmatrix}_x & = 0.\n",
    "\\end{align}"
   ]
  },
  {
   "cell_type": "markdown",
   "metadata": {},
   "source": [
    "### Characteristic velocities\n",
    "In primitive variables, the eigenvalues of the flux Jacobian for the 1D Euler equations are:\n",
    "\n",
    "\\begin{align}\n",
    "\\lambda_1 & = u-c & \\lambda_2 & = u & \\lambda_3 & = u+c\n",
    "\\end{align}\n",
    "\n",
    "Here $c$ is the sound speed:\n",
    "\n",
    "$$ c = \\sqrt{\\frac{\\gamma p}{\\rho}}.$$\n",
    "\n",
    "The eigenvectors of the flux Jacobian are (again in primitive variables):\n",
    "\n",
    "\\begin{align}\n",
    "r_1 & = \\begin{bmatrix} -\\rho/c \\\\ 1 \\\\ - \\rho c \\end{bmatrix} &\n",
    "r_2 & = \\begin{bmatrix} 1 \\\\ 0 \\\\ 0 \\end{bmatrix} &\n",
    "r_3 & = \\begin{bmatrix}  \\rho/c \\\\ 1 \\\\ \\rho c \\end{bmatrix}.\n",
    "\\end{align}\n",
    "\n",
    "Notice that the second characteristic speed, $\\lambda_2$, depends only on $u$ and that $u$ does not change as we move in the direction of $r_2$.  In other words, the 2-characteristic velocity is constant on 2-integral curves.  We say this characteristic field is **linearly degenerate**; it admits neither shocks nor rarefactions.  In a simple 2-wave, all characteristics are parallel.  A jump in this family carries a change only in the density, and is referred to as a **contact discontinuity**.\n",
    "\n",
    "The other two fields have characteristic velocities that **do** vary along the corresponding integral curves; thus the 1-wave and the 3-wave in any Riemann solution will be either a shock or a rarefaction.  We say these characteristic fields are **genuinely nonlinear**.\n",
    "\n",
    "Mathematically, the $p$th field is linearly degenerate if\n",
    "\n",
    "$$\\nabla \\lambda_p(q) \\cdot r_p(q) = 0$$\n",
    "\n",
    "and genuinely nonlinear if\n",
    "\n",
    "$$\\nabla \\lambda_p(q) \\cdot r_p(q) \\ne 0.$$\n"
   ]
  },
  {
   "cell_type": "markdown",
   "metadata": {},
   "source": [
    "### Riemann invariants\n",
    "\n",
    "Since the Euler equations have three components, we expect each integral curve (a 1D set in 3D space) to be defined by two Riemann invariants.  These are:\n",
    "\n",
    "\\begin{align}\n",
    "1 & : s, u+\\frac{2c}{\\gamma-1} \\\\\n",
    "2 & : u, p \\\\\n",
    "3 & : s, u-\\frac{2c}{\\gamma-1}.\n",
    "\\end{align}\n",
    "\n",
    "Here $s$ is the **specific entropy**:\n",
    "\n",
    "$$ s = c_v \\log(p/\\rho^\\gamma) + C.$$"
   ]
  },
  {
   "cell_type": "markdown",
   "metadata": {},
   "source": [
    "### Rankine-Hugoniot jump conditions"
   ]
  },
  {
   "cell_type": "markdown",
   "metadata": {},
   "source": [
    "### Entropy condition"
   ]
  },
  {
   "cell_type": "markdown",
   "metadata": {},
   "source": [
    "## Exact solution of the Riemann problem\n",
    "Executing the cell below loads some subroutines that find the exact solution of the Riemann problem.  In brief, the Riemann solution is found as follows:\n",
    "\n",
    "1. Define a piecewise function giving the middle state velocity $u_m$ that can be connected to the left state by an entropy-satisfying shock or rarefaction, as a function of the middle-state pressure $p_m$.\n",
    "2. Define a piecewise function giving the middle state velocity $u_m$ that can be connected to the right state by an entropy-satisfying shock or rarefaction, as a function of the middle-state pressure $p_m$.\n",
    "3. Use an iterative solver to find the intersection of the two functions defined above.\n",
    "4. Use the Riemann invariants to find the intermediate state densities and the solution structure inside any rarefaction waves."
   ]
  },
  {
   "cell_type": "code",
   "execution_count": null,
   "metadata": {
    "collapsed": false
   },
   "outputs": [],
   "source": [
    "# %load exact_solvers/Euler.py\n",
    "import numpy as np\n",
    "from scipy.optimize import fsolve\n",
    "import matplotlib.pyplot as plt\n",
    "\n",
    "conserved_variables = ('Density', 'Momentum', 'Energy')\n",
    "primitive_variables = ('Density', 'Velocity', 'Pressure')\n",
    "\n",
    "\n",
    "def primitive_to_conservative(rho, u, p, gamma=1.4):\n",
    "    mom = rho*u\n",
    "    E   = p/(gamma-1.) + 0.5*rho*u**2\n",
    "    return rho, mom, E\n",
    "\n",
    "\n",
    "def conservative_to_primitive(rho, mom, E, gamma=1.4):\n",
    "    u = mom/rho\n",
    "    p = (gamma-1.)*(E - 0.5*rho*u**2)\n",
    "    return rho, u, p\n",
    "\n",
    "\n",
    "def exact_riemann_solution(q_l, q_r, gamma=1.4, phase_plane_curves=False):\n",
    "    \"\"\"Return the exact solution to the Riemann problem with initial states\n",
    "       q_l, q_r.  The solution is given in terms of a list of states, a list of\n",
    "       speeds (each of which may be a pair in case of a rarefaction fan), and a\n",
    "       function reval(xi) that gives the solution at a point xi=x/t.\n",
    "\n",
    "       The input and output vectors are the conserved quantities.\n",
    "\n",
    "       If phase_plane_curves==True, then the appropriate Hugoniot Locus and/or\n",
    "       integral curve is returned for the 1- and 3-waves.\n",
    "    \"\"\"\n",
    "\n",
    "    rho_l, u_l, p_l = conservative_to_primitive(*q_l)\n",
    "    rho_r, u_r, p_r = conservative_to_primitive(*q_r)\n",
    "\n",
    "    # Compute left and right state sound speeds\n",
    "    c_l = np.sqrt(gamma*p_l/rho_l)\n",
    "    c_r = np.sqrt(gamma*p_r/rho_r)\n",
    "\n",
    "    beta = (gamma+1.)/(gamma-1.)\n",
    "\n",
    "    # Check for cavitation\n",
    "    if u_l - u_r + 2*(c_l+c_r)/(gamma-1.) < 0:\n",
    "        print 'Cavitation detected!  Exiting.'\n",
    "        return None\n",
    "\n",
    "    # Define the integral curves and hugoniot loci\n",
    "    integral_curve_1   = lambda p : u_l + 2*c_l/(gamma-1.)*(1.-(max(p,0)/p_l)**((gamma-1.)/(2.*gamma)))\n",
    "    integral_curve_3   = lambda p : u_r - 2*c_r/(gamma-1.)*(1.-(max(p,0)/p_r)**((gamma-1.)/(2.*gamma)))\n",
    "    hugoniot_locus_1 = lambda p : u_l + 2*c_l/np.sqrt(2*gamma*(gamma-1.)) * ((1-p/p_l)/np.sqrt(1+beta*p/p_l))\n",
    "    hugoniot_locus_3 = lambda p : u_r - 2*c_r/np.sqrt(2*gamma*(gamma-1.)) * ((1-p/p_r)/np.sqrt(1+beta*p/p_r))\n",
    "\n",
    "    # Check whether the 1-wave is a shock or rarefaction\n",
    "    def phi_l(p):\n",
    "        if p >= p_l: return hugoniot_locus_1(p)\n",
    "        else: return integral_curve_1(p)\n",
    "\n",
    "    # Check whether the 1-wave is a shock or rarefaction\n",
    "    def phi_r(p):\n",
    "        if p >= p_r: return hugoniot_locus_3(p)\n",
    "        else: return integral_curve_3(p)\n",
    "\n",
    "    phi = lambda p : phi_l(p)-phi_r(p)\n",
    "\n",
    "    # Compute middle state p, u by finding curve intersection\n",
    "    p, info, ier, msg = fsolve(phi, (p_l+p_r)/2., full_output=True, xtol=1.e-14)\n",
    "    # For strong rarefactions, sometimes fsolve needs help\n",
    "    if ier != 1:\n",
    "        p, info, ier, msg = fsolve(phi, (p_l+p_r)/2., full_output=True, factor=0.1, xtol=1.e-10)\n",
    "        # This should not happen:\n",
    "        if ier != 1:\n",
    "            print 'Warning: fsolve did not converge.'\n",
    "            print msg\n",
    "\n",
    "    u = phi_l(p)\n",
    "\n",
    "    # Find middle state densities\n",
    "    rho_l_star = (p/p_l)**(1./gamma) * rho_l\n",
    "    rho_r_star = (p/p_r)**(1./gamma) * rho_r\n",
    "\n",
    "    # compute the wave speeds\n",
    "    ws = np.zeros(5)\n",
    "    # The contact speed:\n",
    "    ws[2] = u\n",
    "\n",
    "    # Find shock and rarefaction speeds\n",
    "    if p > p_l:\n",
    "        ws[0] = (rho_l*u_l - rho_l_star*u)/(rho_l - rho_l_star)\n",
    "        ws[1] = ws[0]\n",
    "    else:\n",
    "        c_l_star = np.sqrt(gamma*p/rho_l_star)\n",
    "        ws[0] = u_l - c_l\n",
    "        ws[1] = u - c_l_star\n",
    "\n",
    "    if p > p_r:\n",
    "        ws[4] = (rho_r*u_r - rho_r_star*u)/(rho_r - rho_r_star)\n",
    "        ws[3] = ws[4]\n",
    "    else:\n",
    "        c_r_star = np.sqrt(gamma*p/rho_r_star)\n",
    "        ws[3] = u+c_r_star\n",
    "        ws[4] = u_r + c_r\n",
    "\n",
    "    # Find solution inside rarefaction fans (in primitive variables)\n",
    "    def raref1(xi):\n",
    "        u1 = ((gamma-1.)*u_l + 2*(c_l + xi))/(gamma+1.)\n",
    "        rho1 = (rho_l**gamma*(u1-xi)**2/(gamma*p_l))**(1./(gamma-1.))\n",
    "        p1 = p_l*(rho1/rho_l)**gamma\n",
    "        return rho1, u1, p1\n",
    "\n",
    "    def raref3(xi):\n",
    "        u3 = ((gamma-1.)*u_r - 2*(c_r - xi))/(gamma+1.)\n",
    "        rho3 = (rho_r**gamma*(xi-u3)**2/(gamma*p_r))**(1./(gamma-1.))\n",
    "        p3 = p_r*(rho3/rho_r)**gamma\n",
    "        return rho3, u3, p3\n",
    "\n",
    "    q_l_star = np.squeeze(np.array(primitive_to_conservative(rho_l_star,u,p)))\n",
    "    q_r_star = np.squeeze(np.array(primitive_to_conservative(rho_r_star,u,p)))\n",
    "\n",
    "    states = np.column_stack([q_l,q_l_star,q_r_star,q_r])\n",
    "    speeds = [(ws[0],ws[1]),ws[2],(ws[3],ws[4])]\n",
    "\n",
    "    def reval(xi):\n",
    "        r\"\"\"Returns the Riemann solution in primitive variables for any\n",
    "            value of xi = x/t.\n",
    "        \"\"\"\n",
    "        rar1 = raref1(xi)\n",
    "        rar3 = raref3(xi)\n",
    "        rho_out =  (xi<=speeds[0][0]                  )*rho_l      \\\n",
    "                 + (xi>speeds[0][0])*(xi<=speeds[0][1])*rar1[0]    \\\n",
    "                 + (xi>speeds[0][1])*(xi<=speeds[1]   )*rho_l_star \\\n",
    "                 + (xi>speeds[1])   *(xi<=speeds[2][0])*rho_r_star \\\n",
    "                 + (xi>speeds[2][0])*(xi<=speeds[2][1])*rar3[0]    \\\n",
    "                 + (xi>speeds[2][1]                   )*rho_r\n",
    "\n",
    "        u_out   =  (xi<=speeds[0][0]                  )*u_l     \\\n",
    "                 + (xi>speeds[0][0])*(xi<=speeds[0][1])*rar1[1] \\\n",
    "                 + (xi>speeds[0][1])*(xi<=speeds[1]   )*u       \\\n",
    "                 + (xi>speeds[1]   )*(xi<=speeds[2][0])*u       \\\n",
    "                 + (xi>speeds[2][0])*(xi<=speeds[2][1])*rar3[1] \\\n",
    "                 + (xi>speeds[2][1]                   )*u_r\n",
    "\n",
    "        p_out   =  (xi<=speeds[0][0]                  )*p_l     \\\n",
    "                 + (xi>speeds[0][0])*(xi<=speeds[0][1])*rar1[2] \\\n",
    "                 + (xi>speeds[0][1])*(xi<=speeds[1]   )*p       \\\n",
    "                 + (xi>speeds[1]   )*(xi<=speeds[2][0])*p       \\\n",
    "                 + (xi>speeds[2][0])*(xi<=speeds[2][1])*rar3[2] \\\n",
    "                 + (xi>speeds[2][1]                   )*p_r\n",
    "        return primitive_to_conservative(rho_out,u_out,p_out)\n",
    "\n",
    "    if phase_plane_curves:\n",
    "        return states, speeds, reval, (p, phi_l, phi_r)\n",
    "    else:\n",
    "        return states, speeds, reval\n",
    "\n",
    "\n",
    "def phase_plane_plot(left_state, right_state, gamma=1.4):\n",
    "    r\"\"\"Plot the Hugoniot loci or integral curves in the p-u plane.\"\"\"\n",
    "    # Solve Riemann problem\n",
    "    q_left  = primitive_to_conservative(*left_state)\n",
    "    q_right = primitive_to_conservative(*right_state)\n",
    "    ex_states, ex_speeds, reval, ppc = exact_riemann_solution(q_left,\n",
    "                                                              q_right,\n",
    "                                                              gamma,\n",
    "                                                              phase_plane_curves=True)\n",
    "    pm, w1, w3 = ppc\n",
    "\n",
    "    # Set plot bounds\n",
    "    fig, ax = plt.subplots()\n",
    "    x = (left_state.Pressure, pm, right_state.Pressure)\n",
    "    y = (left_state.Velocity, w1(pm), right_state.Velocity)\n",
    "    xmax, xmin = max(x), min(x)\n",
    "    ymax, ymin = max(y), min(y)\n",
    "    dx, dy = xmax - xmin, ymax - ymin\n",
    "    ax.set_xlim(xmin - 0.1*dx, xmax + 0.1*dx)\n",
    "    ax.set_ylim(ymin - 0.1*dy, ymax + 0.1*dy)\n",
    "    ax.set_xlabel('Pressure (p)')\n",
    "    ax.set_ylabel('Velocity (u)')\n",
    "\n",
    "    # Plot curves\n",
    "    w1v, w3v = (np.vectorize(w1), np.vectorize(w3))\n",
    "    press1 = np.linspace(left_state.Pressure, pm)\n",
    "    press3 = np.linspace(right_state.Pressure, pm)\n",
    "    ax.plot(press1,w1v(press1),'k',lw=2)\n",
    "    ax.plot(press3,w3v(press3),'k',lw=2)\n",
    "    for xp,yp in zip(x,y):\n",
    "        ax.plot(xp,yp,'or',markersize=10)\n",
    "    # Label states\n",
    "    for i,label in enumerate(('Left', 'Middle', 'Right')):\n",
    "        ax.text(x[i] + 0.025*dx,y[i] + 0.025*dy,label)\n"
   ]
  },
  {
   "cell_type": "markdown",
   "metadata": {},
   "source": [
    "### Examples of Riemann solutions"
   ]
  },
  {
   "cell_type": "code",
   "execution_count": null,
   "metadata": {
    "collapsed": false
   },
   "outputs": [],
   "source": [
    "%matplotlib inline\n",
    "from exact_solvers import Euler\n",
    "import matplotlib.pyplot as plt\n",
    "import numpy as np\n",
    "from ipywidgets import interact, widgets\n",
    "from clawpack import riemann\n",
    "from utils import riemann_tools\n",
    "import matplotlib\n",
    "matplotlib.rcParams.update({'font.size': 15})\n",
    "from collections import namedtuple\n",
    "Primitive_State = namedtuple('State', Euler.primitive_variables)\n",
    "gamma = 1.4"
   ]
  },
  {
   "cell_type": "markdown",
   "metadata": {},
   "source": [
    "### Problem 1: Sod shock tube\n",
    "\n",
    "First we consider the classic shock tube problem, with high density and pressure on the left, low density and pressure on the right.  Both sides are initially at rest.  The solution includes a rarefaction, a contact, and a shock."
   ]
  },
  {
   "cell_type": "code",
   "execution_count": null,
   "metadata": {
    "collapsed": false
   },
   "outputs": [],
   "source": [
    "left_state  = Primitive_State(Density = 3.,\n",
    "                              Velocity = 0.,\n",
    "                              Pressure = 3.)\n",
    "right_state = Primitive_State(Density = 1.,\n",
    "                              Velocity = 0.,\n",
    "                              Pressure = 1.)\n",
    "\n",
    "def riemann_solution(left_state, right_state):\n",
    "    q_left  = Euler.primitive_to_conservative(*left_state)\n",
    "    q_right = Euler.primitive_to_conservative(*right_state)\n",
    "\n",
    "    ex_states, ex_speeds, reval = Euler.exact_riemann_solution(q_left ,q_right, gamma)\n",
    "\n",
    "    plot_function = riemann_tools.make_plot_function(ex_states, ex_speeds, reval, \n",
    "                                                     layout='vertical', conserved_variables=Euler.conserved_variables)\n",
    "    interact(plot_function, t=widgets.FloatSlider(value=0.1,min=0,max=.9))\n",
    "\n",
    "riemann_solution(left_state,right_state);"
   ]
  },
  {
   "cell_type": "markdown",
   "metadata": {},
   "source": [
    "Here is a plot of the solution in the phase plane, showing the integral curve connecting the left and middle states, and the Hugoniot locus connecting the middle and right states."
   ]
  },
  {
   "cell_type": "code",
   "execution_count": null,
   "metadata": {
    "collapsed": false
   },
   "outputs": [],
   "source": [
    "Euler.phase_plane_plot(left_state, right_state)"
   ]
  },
  {
   "cell_type": "markdown",
   "metadata": {},
   "source": [
    "### Problem 2: Symmetric expansion\n",
    "\n",
    "Next we consider the case of equal densities and pressures, and equal and opposite velocities, with the initial states moving away from each other.  The result is two rarefaction waves (the contact has zero strength)."
   ]
  },
  {
   "cell_type": "code",
   "execution_count": null,
   "metadata": {
    "collapsed": false
   },
   "outputs": [],
   "source": [
    "left_state  = Primitive_State(Density = 1.,\n",
    "                              Velocity = -3.,\n",
    "                              Pressure = 1.)\n",
    "right_state = Primitive_State(Density = 1.,\n",
    "                              Velocity = 3.,\n",
    "                              Pressure = 1.)\n",
    "\n",
    "riemann_solution(left_state,right_state);"
   ]
  },
  {
   "cell_type": "code",
   "execution_count": null,
   "metadata": {
    "collapsed": false,
    "scrolled": false
   },
   "outputs": [],
   "source": [
    "Euler.phase_plane_plot(left_state, right_state)"
   ]
  },
  {
   "cell_type": "markdown",
   "metadata": {},
   "source": [
    "### Problem 3: Colliding flows\n",
    "\n",
    "Next, consider the case in which the left and right states are moving toward eachother.  This leads to a pair of shocks, with a high-density, high-pressure state in between."
   ]
  },
  {
   "cell_type": "code",
   "execution_count": null,
   "metadata": {
    "collapsed": false
   },
   "outputs": [],
   "source": [
    "left_state  = Primitive_State(Density = 1.,\n",
    "                              Velocity = 3.,\n",
    "                              Pressure = 1.)\n",
    "right_state = Primitive_State(Density = 1.,\n",
    "                              Velocity = -3.,\n",
    "                              Pressure = 1.)\n",
    "\n",
    "riemann_solution(left_state,right_state)"
   ]
  },
  {
   "cell_type": "code",
   "execution_count": null,
   "metadata": {
    "collapsed": false
   },
   "outputs": [],
   "source": [
    "Euler.phase_plane_plot(left_state, right_state)"
   ]
  },
  {
   "cell_type": "code",
   "execution_count": null,
   "metadata": {
    "collapsed": false
   },
   "outputs": [],
   "source": [
    "def plot_exact_riemann_solution(rho_l=3.,u_l=0.,p_l=3.,rho_r=1.,u_r=0.,p_r=1.,t=0.4):    \n",
    "    q_l = Euler.primitive_to_conservative(rho_l,u_l,p_l)\n",
    "    q_r = Euler.primitive_to_conservative(rho_r,u_r,p_r)\n",
    "    \n",
    "    x = np.linspace(-1.,1.,1000)\n",
    "    states, speeds, reval = Euler.exact_riemann_solution(q_l, q_r, gamma=gamma)\n",
    "    q = reval(x/t)\n",
    "    primitive = Euler.conservative_to_primitive(q[0],q[1],q[2])\n",
    "    \n",
    "    fig = plt.figure(figsize=(18,6))\n",
    "    names = ['Density','Velocity','Pressure']\n",
    "    axes = [0]*3\n",
    "    for i in range(3):\n",
    "        axes[i] = fig.add_subplot(1,3,i+1)\n",
    "        q = primitive[i]\n",
    "        plt.plot(x,q,linewidth=3)\n",
    "        plt.title(names[i])\n",
    "        qmax = max(q)\n",
    "        qmin = min(q)\n",
    "        qdiff = qmax - qmin\n",
    "        axes[i].set_ylim((qmin-0.1*qdiff,qmax+0.1*qdiff))"
   ]
  },
  {
   "cell_type": "markdown",
   "metadata": {},
   "source": [
    "##Interactive Riemann solver\n",
    "\n",
    "Here you can set up your own Riemann problem and immediately see the solution.  If you don't want to download and run the notebook, an online interactive version is [here](http://sagecell.sagemath.org/?z=eJytWNtu47YWfQ-Qf2BnHiLJsmzFGeAgqIsCnfaxOCgGpw-DwJAtOiaOLgwviTJf30VSlKjYSgdog8FEIdfeXPvKLbGat0KRRtf8lRSSNPz6irm1ulC8alXF9hl_NU9mn1fq-uoo2prIA-OvWcsVq9k3Snqho2yrZ3p9dX1V0iOhXXFQO8FoXTTNDltasbaJnnZV-rQTabf9vW1oqtyvx6Kui22e3cX311cEPx8-fPiDKi0aok7U6SJeB1GtXf3D6SZctPuK1uSFqRNhDVOsqIhUhaKSmOPwn8icWvx8geSgiUlyaGuuFS1JoQjsoQS2NiXhLWuUJB2JXk5UUDzUxSvZU1KQ_LP3mRDFazyqnpzBGqglz_SgWiEBpZbzoW0kFc847kkXjQJXkNwDaDZbrSDjwF_FqU11yh-ywSHuAeu7imyNZV_XD25NDyv5wyrc-HXYuO1XRiXC7ohAiV-xSkSgxG8YJW7tI_nF-Y1U9Og8JtjjSTm_IyRUSo3_HJpbGpGN8jLP4iQyxJZknX1KrD0JLEiS29jDxRlcBHABuHDw72IjW40VySkte0IHS6jhmXwSyh2UgOTKkok9RlzACIsRcejNouKnYsJ4Fd1mif2rB-6pGhELixjAgRUnevg_ObaCHIpnBu7IUbfHjjbISxulBblNIpiwAMVQEfmRrO-HJEQQkMLk5pdBFSmpQj7S8gcEtUPuNY_ZzYgXruBMQYbWfSSf6ZE1Ln-hkT4K1NdBI4uldfVJP7YNQ4-o2gPr6fawnYXtcixtSVXU-7IgnNxbW4wVMGIVxjnPlhFfIRJxkkQX3RnHF0_YnJ9gMsacIC6eIP72BG_WDmZpCRtmLfA5cus0JKPamCQkivKls2kA5guTD4lbvXzcZt6c7ztOXDxOxPE0ti7l0OMQXWFDnC9fimdqWmNB5KnFLvJRoCcd0YSHhDQtnp_Yrop4fO8zaMwl5Cv_aQvz7n1avXUn5EY4rSQdkG-TZ0D-W5yF4XzOVcxx3Xw31ymy72YnNo2ld9vSczlvYzUry4r6ZpoSTfavBEVYomRd6dmThaSBeTxlzbFNCaMiJbV8xKnuSo5wUEoiRGNh8-I2S4-6qnbuvtl-EZqmnWorXMB0md_Fns1vcKJUosWZgS9lioZaU3NXyv4A0pjWSk604kO7AosftnnYjv4JPXN2K7brLA-YrgNff8Sli_Aj-LoqSYNudCo4p800zj2pIFGDRvlnIRr4994bVTKnCHf2MxWPNOyVoxgs8fHTMMkH168NvkTwpmEtaSPt_R_c6zts2btvaIJ5tnJtCaVtIcEFPkGLS2jxNhk_-nnHlo0tmvBefJHuyvtGRSujT_Eg9cXNLsrOYUbg3gtgKICMvmCtK0R7GY_ZMznOVp5tEiNPaFwbjdEwGKDxjc5JNHq1m4HC5XiiIDcKrCK3bEt2RBxGR7-53ldzGi0lx-XgYxAept2GlfSh760Tb6y7G6yzc0xvhphaN12ectn01t3NWSfes25Wo154yXO6buowE9EQ5POm1bfE56LSJqnHbt220szNdrreFxLDb9tczj-4rDNd3Mwg93i0JlSskbw40AhXXGr-rde-8oFXI14Bv87-k9RFF0Gu2Muoi-NV8OeLnN5_nbSuTBR4_mnIoOHbUUmeF47L6eHNAcVb0klmHwsv1pmO361U3xbM6BDMGomfHcwMh4eOxX6KW9hx0AptzoTcBBAd7MNFIcQ3H0vHjwc6XwKNeXk1Trpx3y2C2WFQsRnz06vo2FJvpirErApuOOCMxCjJ-5m6V9UjNhYhLGLTT9QTxNjlcAsYPt2P286UYexeGOC2qPupX-k3c7eZD3v5uHfrBV1peMTtiNj0CDFFbEbEnUNshr07L-JfoAxXMmWr57nqWaZ6jqCe46WnrLTnxC9x4vOc-CwnPseJz3HiU07cc-r7RB_c1PktdVSB8Algp7WqxTuyyRLAUjMJdX5yOzIzQfBKZXjCq2aEX5J9o9soX6d3Qy4KVuOSRWVvx1dqt9UUZoDB8s1nexO_3qQ3_6PmHcY-_rd_hb3p4UXn0OuHZNMzwHjE0AjQBJpHGm3CmdKgvzLTOkErK8pyJ_XeWBPl6SZlizxowE_GDs8TQsHIBOusUJc-pWiD9IWV6rTdxFMIXFTRyNoD8VAzWh-Umwb4NFkGaSyzZrpcsuPRvOkbqaVFnRmUSap2rxWro8jsLzGQJVYuNVKL4U_vf_u5CAMyxqKD9B-KcGHUv9mgOdD4twni0KBtOwCfPLszt8n11c925kW3HZNjN_OZydb6Vlbo0QIu_5SayRFCha4U_JfqcXf56c32Ok75u8K25uf2c6NcvK_8PWFAxs9g7vsNn7wlo6jefjcJv9PwyQtvAPZfTcIG-2T1f7W6UjKoTM3BDx4iPEQ4iFVkIGLyTenvb-uhjIF85_OgORKFnhI0BfdhMPySEtQE9A2LQ59Agadd_BeW1ABm&lang=python)."
   ]
  },
  {
   "cell_type": "code",
   "execution_count": null,
   "metadata": {
    "collapsed": false
   },
   "outputs": [],
   "source": [
    "interact(plot_exact_riemann_solution,\n",
    "         rho_l=widgets.FloatSlider(min=1.,max=10.,step=0.1,value=3.,description=r'$\\rho_l$'),\n",
    "         u_l=widgets.FloatSlider(min=-5.,max=5.,step=0.1,value=0.,description=r'$u_l$'),\n",
    "         p_l=widgets.FloatSlider(min=1.,max=10.,step=0.1,value=3.,description=r'$p_l$'),\n",
    "         rho_r=widgets.FloatSlider(min=1.,max=10.,step=0.1,value=1.,description=r'$\\rho_r$'),\n",
    "         u_r=widgets.FloatSlider(min=-5.,max=5.,step=0.1,value=0.,description=r'$u_r$'),\n",
    "         p_r=widgets.FloatSlider(min=1.,max=10.,step=0.1,value=1.,description=r'$p_r$'),\n",
    "         t=(0.1,1.,0.1));"
   ]
  },
  {
   "cell_type": "markdown",
   "metadata": {},
   "source": [
    "## Plot particle trajectories"
   ]
  },
  {
   "cell_type": "code",
   "execution_count": null,
   "metadata": {
    "collapsed": false
   },
   "outputs": [],
   "source": [
    "left_state  = Primitive_State(Density = 3.,\n",
    "                              Velocity = 0.,\n",
    "                              Pressure = 3.)\n",
    "right_state = Primitive_State(Density = 1.,\n",
    "                              Velocity = 0.,\n",
    "                              Pressure = 1.)\n",
    "\n",
    "q_left  = Euler.primitive_to_conservative(*left_state)\n",
    "q_right = Euler.primitive_to_conservative(*right_state)\n",
    "\n",
    "ex_states, ex_speeds, reval = Euler.exact_riemann_solution(q_left ,q_right, gamma)\n",
    "\n",
    "def reval_rho_u(x): \n",
    "    q = reval(x)\n",
    "    rho = q[0]\n",
    "    u = q[1]/q[0]\n",
    "    rho_u = np.vstack((rho,u))\n",
    "    return rho_u\n",
    "\n",
    "# Specify density of trajectories to left and right:\n",
    "rho_l = q_left[0] / 5.\n",
    "rho_r = q_right[0] / 5.\n",
    "riemann_tools.plot_riemann_trajectories(ex_states,ex_speeds,reval_rho_u,i_vel=1,\n",
    "                                        rho_left=rho_l, rho_right=rho_r)"
   ]
  },
  {
   "cell_type": "markdown",
   "metadata": {},
   "source": [
    "Note that there is a jump in density across the contact discontinuity."
   ]
  },
  {
   "cell_type": "code",
   "execution_count": null,
   "metadata": {
    "collapsed": false
   },
   "outputs": [],
   "source": []
  }
 ],
 "metadata": {
  "kernelspec": {
   "display_name": "Python 2",
   "language": "python",
   "name": "python2"
  },
  "language_info": {
   "codemirror_mode": {
    "name": "ipython",
    "version": 2
   },
   "file_extension": ".py",
   "mimetype": "text/x-python",
   "name": "python",
   "nbconvert_exporter": "python",
   "pygments_lexer": "ipython2",
   "version": "2.7.12"
  }
 },
 "nbformat": 4,
 "nbformat_minor": 0
}
