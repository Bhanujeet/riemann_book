{
 "cells": [
  {
   "cell_type": "markdown",
   "metadata": {},
   "source": [
    "# Riemann problem for Euler equations with the Tammann EOS\n",
    "We consider the one dimensional Riemann problem for the Euler equations with the Tammann EOS. The Tammann EOS, also known as stiffened gas EOS, is used to model almost incompressible fluids. It can be physically understood as modeling an ideal gas under very high ambient pressures. The Riemann problem we want to solve consists of the one dimensional Euler equations,\n",
    "\n",
    "$$\n",
    "\\begin{align*}\n",
    "    \\left[\\begin{array}{c} \\rho \\\\   \\rho u \\\\    E   \\end{array} \\right]_t +\n",
    "    \\left[\\begin{array}{c} \\rho u \\\\   \\rho u^2 + p \\\\     u(E+p)   \\end{array} \\right]_x\n",
    "=   0,\n",
    "\\end{align*}\n",
    "$$\n",
    "\n",
    "where $\\rho$ is density, $u$ velocity, $E$ the internal energy and $p$ the pressure and the subcripts $x,t$ denote partial derivatives with respect $x$ and $t$. The Tamann EOS is given by \n",
    "\n",
    "$$\n",
    "p=\\rho e(\\gamma -1) - \\gamma p_{\\infty},\n",
    "$$\n",
    "\n",
    "where $e$ the specific internal energy and $k =l,r$ determines which coefficients to use for the EOS. The initial conditions are given by the left and right constant states $q_l=[\\rho_l, \\rho_l u_l, E_l]$ and $q_r=[\\rho_r, \\rho_r u_r, E_r]$. Note that using the equation of state, the state of the system can also be written on the primitive variables $[\\rho, u, p]$. "
   ]
  },
  {
   "cell_type": "markdown",
   "metadata": {},
   "source": [
    "## Exact solution\n",
    "\n",
    "The exact solution to the Riemann problem with a Tammann EOS can be found in <cite data-cite=\"Ivings1998\"><a href=\"riemann.html#Ivings1998\">(Ivings & Toro 1998)<a></cite>. In the supplemental material of the work <cite data-cite=\"delrazo2017\"><a href=\"riemann.html#delrazo2017\">(del Razo, 2017)<a></cite>, the reader can find an extension of the analytic solution to the case where the parameters $\\gamma$ and $p_\\infty$ in the Tammann EOS have a discontinuity. In the following sections, we will focus in the latter since it is a more general case. Although we will not provide here the full derivation of the exact Riemann solver, we will give the outline of how we can solve it.\n",
    "\n",
    "As we know from the previous examples, the solution of the Euler equations will consist of three waves: the 1-wave and 3-wave (rarefactions or shocks), and a 2-wave in between given by a contact discontinuity. The system will have four different solution states, $q_l,q_{*l},q_{*r},q_r$ separated by the three waves. In order to figure out if the 1-wave and 3-wave are rarefactions or shocks, we will need to create a function of the \n",
    "middle state pressure $p_*$ that ensures that the velocity $u_*$ across the contact discontinuity is consistent. As we know the velocity on the left state $u_l$ should be connected by a rarefaction or shock to $u_*$, we can \n",
    "calculate $u_*=u_l + [u]_1$ with $[u]_1$ the jump of the velocity across the 1-wave. In a similar manner, we also \n",
    "know the 3-wave should be a shock or rarefaction, so we can calculate $u_*= u_r - [u]_3$; therefore, it is useful to define\n",
    "\n",
    "$$\n",
    "\\begin{align*}\n",
    "  \\phi_l(p_*) = u_* = u_l - \\mathcal{F}_l(p_*), \\\\\n",
    "  \\phi_r(p_*) = u_* = u_r + \\mathcal{F}_r(p_*).\n",
    "\\end{align*}\n",
    "$$\n",
    "\n",
    "where $\\mathcal{F}_{l,r}(p_*) = -[u]_{1,3}$ will change form depending if it's a shock or a rarefaction (signs were \n",
    "chosen for notation consistency). As we expect these two equations yield the same contact discontinuity \n",
    "velocity $u_*$, then \n",
    "\n",
    "$$\n",
    "\\begin{align*}\n",
    " \\Phi(p_*)= \\phi_r(p_*) - \\phi_l(p_*) = 0.\n",
    "\\end{align*}\n",
    "$$\n",
    "\n",
    "This nonlinear equation for $p_*$ will yield the pressure $p_*$ that provides consistency between the type of waves (rarefactions or shocks), their speeds and the contact discontinuity velocity $u_*$. As we mentioned before, the shape of $\\phi_k(p_*)$ will depend on whether the states are connected by a shock wave or rarefaction. Once \n",
    "the $p_*$ has been found, the contact discontinuity velocity can be found from the expressions just derived. However, it is not yet clear how to calculate the density or the speeds of the 1-wave \n",
    "and 3-wave. How to obtain these quantities becomes obvious once we write the explicit equations for our system. The reader is referred to the supplemental material of <cite data-cite=\"delrazo2017\"><a href=\"riemann.html#delrazo2017\">(del Razo, 2017)<a></cite> for details in the explicit formulas.\n",
    "\n",
    "Before coding the exact solution, we should first note that having a rarefaction or shock in the 1-wave \n",
    "and 3-wave will depend on the pressure $p_*$. How can we know which one, can be answered by simple physical \n",
    "intuition. If the pressure is higher on the side toward which the wave is propagating, it will yield a rarefaction. If the pressure is lower, it will be a shock. In the Euler equations, this yields four possible cases for the value $\\Phi(p_*)$, just as in the solution with an ideal gas EOS:\n",
    "\n",
    " * 1-rarefaction, 3-rarefaction: $p_*< p_l$ and $p_*<p_r$  \n",
    " $\\Phi(p_*)= \\phi_r^R(p_*) - \\phi_l^R(p_*)$,\n",
    " * 1-shock,       3-rarefaction $p_l \\le p_* \\le p_r$  \n",
    " $\\Phi(p_*)= \\phi_r^R(p_*) - \\phi_l^S(p_*)$,\n",
    " * 1-rarefaction,       3-shock $p_r \\le p_* \\le p_l$  \n",
    " $\\Phi(p_*)= \\phi_r^S(p_*) - \\phi_l^R(p_*)$,\n",
    " * 1-shock, 3-shock: $p_* > p_l$ and $p_*>p_r$  \n",
    " $\\Phi(p_*)= \\phi_r^S(p_*) - \\phi_l^S(p_*)$,\n",
    "\n",
    "where the index $S,R$ indicates if the $\\phi$ was obtained by using the Rankine-Hugoniot equations to connect \n",
    "states by shocks or the Riemann invariants to connect them by rarefactions respectively.\n",
    "\n",
    "The functions $\\phi_{k}^{\\mu}$ are derived in supplemental material of <cite data-cite=\"delrazo2017\"><a href=\"riemann.html#delrazo2017\">(del Razo, 2017)<a></cite> for all the four cases with $k=l,r$ and $\\mu=R,S$, and it is also shown how to obtain the density and the missing wave speeds. For reference into the code, we denote the speed of the 1-wave, $s_l$, the 2-wave, $s_*$, and the 3-wave $s_r$.\n",
    "\n",
    "With this, we now provide the code of the function $\\Phi(p_*)$ as a function of $p_*$, the initial left and right states and the paramter values of the Tammann EOS on each side:"
   ]
  },
  {
   "cell_type": "code",
   "execution_count": null,
   "metadata": {
    "collapsed": false,
    "deletable": true,
    "editable": true
   },
   "outputs": [],
   "source": [
    "# %load exact_solvers/euler_tammann.py"
   ]
  },
  {
   "cell_type": "code",
   "execution_count": null,
   "metadata": {
    "collapsed": false
   },
   "outputs": [],
   "source": [
    "%matplotlib inline\n",
    "from ipywidgets import interact, widgets\n",
    "import matplotlib.pyplot as plt\n",
    "from exact_solvers import euler_tammann\n",
    "from utils import riemann_tools"
   ]
  },
  {
   "cell_type": "code",
   "execution_count": null,
   "metadata": {
    "collapsed": false,
    "deletable": true,
    "editable": true
   },
   "outputs": [],
   "source": [
    "ql = [1.0, -3.0, 1.0]\n",
    "qr = [1.0, 3.0, 1.0]\n",
    "gamma = [1.4, 1.4]\n",
    "pinf = [0.0, 0.0]\n",
    "ex_states, ex_speeds, reval, wave_types, varsout = euler_tammann.exact_riemann_solution(ql ,qr, gamma, pinf, \n",
    "                                                              varin = 'primitive', varout = 'conservative')"
   ]
  },
  {
   "cell_type": "code",
   "execution_count": null,
   "metadata": {
    "collapsed": false,
    "deletable": true,
    "editable": true
   },
   "outputs": [],
   "source": [
    "plot_function = riemann_tools.make_plot_function(ex_states, ex_speeds, reval, wave_types,\n",
    "                                                     layout='vertical', conserved_variables=varsout)\n",
    "interact(plot_function, t=widgets.FloatSlider(value=0.0,min=0,max=1.0));"
   ]
  },
  {
   "cell_type": "markdown",
   "metadata": {
    "deletable": true,
    "editable": true
   },
   "source": [
    "Now we need to iterate this function using a Newton method, to find which value of $p_*$ yields $\\Phi(p_*)=0$"
   ]
  },
  {
   "cell_type": "markdown",
   "metadata": {
    "deletable": true,
    "editable": true
   },
   "source": [
    "We just obtained the pressure and velocity middle states $p_*$ and $u_*$ that are continuous across the contact disconitnuity and the middle states for the density $\\rho_{*L}$ and $\\rho_{*R}$ have also been obtained from the function and saved as global variables. We also know the speed the left and right waves are traveling. We can now plot the solution to the Riemann problem. "
   ]
  },
  {
   "cell_type": "code",
   "execution_count": null,
   "metadata": {
    "collapsed": false
   },
   "outputs": [],
   "source": []
  }
 ],
 "metadata": {
  "kernelspec": {
   "display_name": "Python 2",
   "language": "python",
   "name": "python2"
  },
  "language_info": {
   "codemirror_mode": {
    "name": "ipython",
    "version": 2
   },
   "file_extension": ".py",
   "mimetype": "text/x-python",
   "name": "python",
   "nbconvert_exporter": "python",
   "pygments_lexer": "ipython2",
   "version": "2.7.12"
  }
 },
 "nbformat": 4,
 "nbformat_minor": 2
}
