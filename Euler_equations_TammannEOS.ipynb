{
 "cells": [
  {
   "cell_type": "markdown",
   "metadata": {
    "deletable": true,
    "editable": true
   },
   "source": [
    "# Riemann problem for Euler equations with the Tammann EOS\n",
    "We consider the one dimensional Riemann problem for the Euler equations with the Tammann EOS. The Tammann EOS, also known as stiffened gas EOS, is used to model almost incompressible fluids. It can be physically understood as modeling an ideal gas under very high ambient pressures. The Riemann problem we want to solve consists of the one dimensional Euler equations,\n",
    "\n",
    "$$\n",
    "\\begin{align*}\n",
    "    \\left[\\begin{array}{c} \\rho \\\\   \\rho u \\\\    E   \\end{array} \\right]_t +\n",
    "    \\left[\\begin{array}{c} \\rho u \\\\   \\rho u^2 + p \\\\     u(E+p)   \\end{array} \\right]_x\n",
    "=   0,\n",
    "\\end{align*}\n",
    "$$\n",
    "\n",
    "where $\\rho$ is density, $u$ velocity, $E$ the internal energy and $p$ the pressure and the subcripts $x,t$ denote partial derivatives with respect $x$ and $t$. The Tamann EOS is given by \n",
    "\n",
    "$$\n",
    "p=\\rho e(\\gamma -1) - \\gamma p_{\\infty},\n",
    "$$\n",
    "\n",
    "where $e$ the specific internal energy and $k =l,r$ determines which coefficients to use for the EOS. The initial conditions are given by the left and right constant states $q_l=[\\rho_l, \\rho_l u_l, E_l]$ and $q_r=[\\rho_r, \\rho_r u_r, E_r]$. Note that using the equation of state, the state of the system can also be written on the primitive variables $[\\rho, u, p]$. "
   ]
  },
  {
   "cell_type": "markdown",
   "metadata": {
    "deletable": true,
    "editable": true
   },
   "source": [
    "## Exact solution\n",
    "\n",
    "The exact solution to the Riemann problem with a Tammann EOS can be found in <cite data-cite=\"Ivings1998\"><a href=\"riemann.html#Ivings1998\">(Ivings & Toro 1998)<a></cite>. In the supplemental material of the work <cite data-cite=\"delrazo2017\"><a href=\"riemann.html#delrazo2017\">(del Razo, 2017)<a></cite>, the reader can find an extension of the analytic solution to the case where the parameters $\\gamma$ and $p_\\infty$ in the Tammann EOS have a discontinuity. In the following sections, we will focus in the latter since it is a more general case. We will reproduce the derivation of the exact solution while at the same time showing some sricpts and plots to illustrate the structure of the solution. \n",
    "\n",
    "As we know from the previous examples, the solution of the Euler equations will consist of three waves: the 1-wave and 3-wave (rarefactions or shocks), and a 2-wave in between given by a contact discontinuity. The system will have four different solution states, $q_l,q_{*l},q_{*r},q_r$ separated by the three waves. In order to figure out if the 1-wave and 3-wave are rarefactions or shocks, we will need to create a function of the \n",
    "middle state pressure $p_*$ that ensures that the velocity $u_*$ across the contact discontinuity is consistent. As we know the velocity on the left state $u_l$ should be connected by a rarefaction or shock to $u_*$, we can \n",
    "calculate $u_*=u_l + [u]_1$ with $[u]_1$ the jump of the velocity across the 1-wave. In a similar manner, we also \n",
    "know the 3-wave should be a shock or rarefaction, so we can calculate $u_*= u_r - [u]_3$; therefore, it is useful to define\n",
    "\n",
    "$$\n",
    "\\begin{align*}\n",
    "  \\phi_l(p_*) = u_* = u_l - \\mathcal{F}_l(p_*),   \\label{CDvel-1} \\tag{A.1} \\\\\n",
    "  \\phi_r(p_*) = u_* = u_r + \\mathcal{F}_r(p_*).   \\label{CDvel-2} \\tag{A.2}\n",
    "\\end{align*}\n",
    "$$\n",
    "\n",
    "where $\\mathcal{F}_{l,r}(p_*) = -[u]_{1,3}$ will change form depending if it's a shock or a rarefaction (signs were \n",
    "chosen for notation consistency). As we expect these two equations yield the same contact discontinuity \n",
    "velocity $u_*$, then \n",
    "\n",
    "$$\n",
    "\\begin{align*}\n",
    " \\Phi(p_*)= \\phi_r(p_*) - \\phi_l(p_*) = 0.\n",
    " \\label{Phi} \\tag{A.3}\n",
    "\\end{align*}\n",
    "$$\n",
    "\n",
    "This nonlinear equation will yield the pressure $p_*$ that provides consistency between the type of waves (rarefactions or shocks), their speeds and the contact discontinuity velocity $u_*$. As we mentioned before, the shape of $\\phi_k(p_*)$ will depend on whether the states are connected by a shock wave or rarefaction. Once \n",
    "the $p_*$ has been found, the contact discontinuity velocity can be found from the expressions just derived. However, it is not yet clear how to calculate the density or the speeds of the 1-wave \n",
    "and 3-wave. It will become obvious how to obtain these quantities once we write the explicit equations for our system further below.\n",
    "\n",
    "Before coding the exact solution, we should first note that having a rarefaction or shock in the 1-wave \n",
    "and 3-wave will depend on the pressure $p_*$. How can we know which one, can be answered by simple physical \n",
    "intuition. If the pressure is higher on the side toward which the wave is propagating, it will yield a rarefaction. If the pressure is lower, it will be a shock. In the Euler equations, this yields four possible cases for the value $\\Phi(p_*)$, just as in the solution with an ideal gas EOS:\n",
    "\n",
    " * 1-rarefaction, 3-rarefaction: $p_*< p_l$ and $p_*<p_r$  \n",
    " $\\Phi(p_*)= \\phi_r^R(p_*) - \\phi_l^R(p_*)$,\n",
    " * 1-shock,       3-rarefaction $p_l \\le p_* \\le p_r$  \n",
    " $\\Phi(p_*)= \\phi_r^R(p_*) - \\phi_l^S(p_*)$,\n",
    " * 1-rarefaction,       3-shock $p_r \\le p_* \\le p_l$  \n",
    " $\\Phi(p_*)= \\phi_r^S(p_*) - \\phi_l^R(p_*)$,\n",
    " * 1-shock, 3-shock: $p_* > p_l$ and $p_*>p_r$  \n",
    " $\\Phi(p_*)= \\phi_r^S(p_*) - \\phi_l^S(p_*)$,\n",
    "\n",
    "where the index $S,R$ indicates if the $\\phi$ was obtained by using the Rankine-Hugoniot equations to connect \n",
    "states by shocks or the Riemann invariants to connect them by rarefactions respectively.\n",
    "\n",
    "We will now derive the functions $\\phi_{k}^{\\mu}$ for all the four cases with $k=l,r$ (left and right) and $\\mu=R,S$ (rarefation and shock), and we will also show how to obtain the density and the missing wave speeds. We denote the speed of the 1-wave, $s_l$, the 2-wave, $s_*$, and the 3-wave $s_r$.\n",
    "\n"
   ]
  },
  {
   "cell_type": "markdown",
   "metadata": {
    "deletable": true,
    "editable": true
   },
   "source": [
    "### Rankine-Hugoniot conditions for shock waves\n",
    "As we know the 1-wave and the 3-wave could each be a shock. In that case, the velocity of the wave, i.e. the \n",
    "shock, will be given by the Rankine-Hugoniot conditions. These conditions will also allow us to calculate $\\phi_k^S(p_*)$ with $k=l,r$ We will generalize this method for the 1-wave \n",
    "velocity $s_l$ and the 3-wave velocity $s_r$, by employing $s_k$, with $k=l,r$.\n",
    "\n",
    "The Rankine-Hugoniot conditions are in general given by $s_k\\left(q_k - q_{*k}\\right) = f(q_k) - f(q_{*k})$, \n",
    "where $q$ is the vector state variable, $f(q)$ the vector state flux and $S_k$ the shock velocity. For \n",
    "the Euler equations this can be easily rewritten as \\cite{Ivings1998},\n",
    "\n",
    "\\begin{align}\n",
    " \\rho_k \\omega_k = \\rho_{*k} \\omega_*, \\label{RH-mass} \\tag{A.4}\\\\\n",
    " \\rho_k \\omega_k^2 + p_k = \\rho_{*k} \\omega_*^2 + p_{*k}, \\label{RH-mom} \\tag{A.5} \\\\\n",
    " \\frac{1}{2} \\omega_k^2 + h_k = \\frac{1}{2} \\omega_*^2 + h_{*k}, \\label{RH-ene} \\tag{A.6}\n",
    "\\end{align}\n",
    "\n",
    "where $k=l,r$, $\\omega_k = u_k - s_k$ , $\\omega_* = u_* - s_k$ and the specific enthalpy is given \n",
    "by $h = e+(p+p_\\infty)/\\rho$ with $e$ the specific internal energy that relates to the internal energy \n",
    "of our original variables by $E = \\rho e + \\rho u^2/2$. We will use these relations to find $\\phi_K^S(p_*)$ and the wave speeds $s_k$. \\\\\n",
    "\n",
    "#### Finding $\\phi_l^S(p_*)$ and $\\phi_r^S(p_*)$ and $S_l$ and $S_r$: \n",
    "We can start by defining \n",
    "the mass fluxes $Q_k$ for $k=l,r$ as\n",
    "\n",
    "\\begin{align}\n",
    " Q_l = \\rho_l \\omega_l = \\rho_{*l} \\omega_* \\label{Ql} \\tag{A.7}\\\\\n",
    " Q_r = -\\rho_r \\omega_r = -\\rho_{*r} \\omega_*. \\label{Qr} \\tag{A.8}\n",
    "\\end{align}\n",
    "\n",
    "As $\\omega_k = u_k - s_k$, from these two equations we can obtain the wave speeds in terms of $Q_l$ and $Q_r$,\n",
    "\n",
    "\\begin{align}\n",
    " s_l = u_l - \\frac{Q_l}{\\rho_l}, \\  \\  \\\n",
    " s_r = u_r + \\frac{Q_r}{\\rho_r}. \\label{RH-speeds} \\tag{A.7}\n",
    "\\end{align}\n",
    "\n",
    "Though, we still need to find $Q_l$ and $Q_r$, so we substitute equation (\\ref{Ql}) and (\\ref{Qr}) \n",
    "into (\\ref{RH-mom}) to immediately obtain\n",
    "\n",
    "\\begin{align}\n",
    "  Q_l &= \\frac{\\tilde{p}_{*l} -\\tilde{p}_l}{\\omega_l - \\omega_*} = \\frac{p_* -p_l}{u_l - u_*} \\label{Ql-1} \\tag{A.9} \\\\\n",
    "  Q_r &= -\\frac{\\tilde{p}_{*r} -\\tilde{p}_r}{\\omega_r - \\omega_*} = -\\frac{p_* -p_r}{u_r - u_*}, \\label{Qr-1} \\tag{A.10}\n",
    "\\end{align}\n",
    "\n",
    "where $\\tilde{p}_\\kappa = p_\\kappa + p_{\\infty \\kappa}$ is defined to simplify future notation \n",
    "with $\\kappa = l, *l, *r$ and $r$. Note that $\\tilde{p}_{*l} \\neq \\tilde{p}_{*r}$ and \n",
    "that $\\tilde{p}_{*k} -\\tilde{p}_k=p_* -p_k$ since $p_*=p_{*l}=p_{*r}$ and $p_{\\infty k} = p_{\\infty *k}$  ($k=l,r)$.\n",
    "Solving for $u_*$ we obtain the equations,\n",
    "\n",
    "\\begin{align}\n",
    " u_* = u_l - \\frac{\\tilde{p}_{*l} - \\tilde{p}_l}{\\mathcal{Q}_l} = \\phi_l^S(p_*) \\\\\n",
    " u_* = u_r + \\frac{\\tilde{p}_{*r} - \\tilde{p}_r}{\\mathcal{Q}_r} = \\phi_r^S(p_*) \n",
    " \\label{RH-phis} \\tag{A.11}\n",
    "\\end{align}\n",
    "\n",
    "Comparing to equations (\\ref{CDvel-1}, \\ref{CDvel-2}), we notice $\\mathcal{F}_k(p_*) = \\frac{p_* - p_k}{Q_k}$. We also notice we have almost\n",
    "obtained the $\\phi$ functions we are looking for, though we still need to find $Q_l$ and $Q_r$ in terms of known \n",
    "variables.\\\\\n",
    "\n",
    "#### Finding $Q_l$ and $Q_r$: \n",
    "From equations (\\ref{Ql}) and  (\\ref{Ql-1}), we know\n",
    "that\n",
    "\n",
    "\\begin{align*}\n",
    "\\frac{\\tilde{p}_{*l} -\\tilde{p}_l}{\\omega_l - \\omega_*} = \\rho_l \\omega_l.\n",
    "\\end{align*}\n",
    "\n",
    "Solving for $\\omega_*$, substituting the solution into (\\ref{Ql}) and subtituting the $w_l$ for $Q_l/\\rho_l$, \n",
    "we obtain a new equation that we can solve for $Q_l$ that yields,\n",
    "\n",
    "\\begin{align}\n",
    " Q_k = \\sqrt{\\rho_k \\rho_{*k} \\frac{\\tilde{p}_{*k} -\\tilde{p}_k}{\\rho_{*k} - \\rho_k}}. \\label{Qk} \\tag{A.12}\n",
    "\\end{align}\n",
    "\n",
    "with $k=l,r$, since we repeated the same process for $Q_r$ and obtained exactly the same equation. \n",
    "However, we still don't know $\\rho_{*k}$, for this we will need our third Rankine-Hugoniot condition (\\ref{RH-ene}).\\\\\n",
    "\n",
    "#### Finding $\\rho_{*l}$ and $\\rho_{*r}$: \n",
    "From equation (\\ref{RH-ene}), we can obtain\n",
    "\n",
    "\\begin{align}\n",
    " h_{*k} - h_k &= \\frac{1}{2}\\left(w_k^2 - w_*^2\\right) \\nonumber\\\\\n",
    "              &= \\frac{1}{2}\\left(\\pm \\frac{\\mathcal{Q}_k^2}{\\rho_k^2} \\mp \\frac{\\mathcal{Q}_k^2}{\\rho_{*k}^2}\\right) \\nonumber \\\\\n",
    "              &= \\frac{1}{2}\\left(\\frac{1}{\\rho_k} + \\frac{1}{\\rho_{*k}}\\right)(\\tilde{p}_{*k}-\\tilde{p}_k), \\label{delta-h} \n",
    "\\tag{A.13}\n",
    "\\end{align}\n",
    "\n",
    "where the sign above is used for $k=l$ and the one below for $k=r$, and we used equations \n",
    "(\\ref{Ql}) and (\\ref{Qr}) for the second line and (\\ref{Qk}) for the third line. We can now substitute \n",
    "the specific enthalpy $h=\\gamma \\tilde{p}/(\\rho(\\gamma -1))$\n",
    "in equation (\\ref{delta-h}) to obtain,\n",
    "\n",
    "\\begin{align*}\n",
    " \\frac{\\gamma_{*k}}{\\gamma_{*k} - 1}\\frac{\\tilde{p}_{*k}}{\\rho_{*k}} - \\frac{\\gamma_{k}}{\\gamma_{k} - 1}\\frac{\\tilde{p}_k}{\\rho_{k}}\n",
    " =\\frac{1}{2}\\left(\\frac{1}{\\rho_k} + \\frac{1}{\\rho_{*k}}\\right)(\\tilde{p}_{*k}-\\tilde{p}_k).\n",
    "\\end{align*}\n",
    "\n",
    "As the interface is the contact discontinuity, the jump in the parameters is only across the contact discontinuity, so \n",
    "$\\gamma_{*k}=\\gamma_k$. Now we can solve for the unknown\n",
    "density,\n",
    "\n",
    "\\begin{align}\n",
    " \\rho_{*k} = \\rho_k \\left(\\frac{\\frac{\\tilde{p_*}}{\\tilde{p_k}} + \n",
    " \\frac{\\gamma_k-1}{\\gamma_k+1}}{\\frac{\\tilde{p_*}}{\\tilde{p_k}}\\frac{\\gamma_k-1}{\\gamma_k+1}+1}\\right). \n",
    " \\label{rho-k}\n",
    " \\tag{A.14}\n",
    "\\end{align}\n",
    "\n",
    "Replacing this result into equation (\\ref{Qk}), we obtain $Q_k$ in terms of $p_*$ and known variables,'\n",
    "\n",
    "\\begin{align}\n",
    " \\mathcal{Q}_k = \\sqrt{\\rho_k \\frac{\\tilde{p}_{*k} + \\tilde{p}_{k}\\frac{\\gamma_k - 1}{\\gamma_k +1}}{\\frac{2}{\\gamma_k+1}}}.\n",
    "\\label{Qk-f}\n",
    "\\tag{A.15}\n",
    "\\end{align}\n",
    "\n",
    "Subsitituting (\\ref{Qk-f}) into (\\ref{RH-phis}), we can calculate the $\\phi^S_{l,r}$ nonlinear functions of $p_*$\n",
    "in terms of known variables, which yields\n",
    "\n",
    "\\begin{align}\n",
    "\\phi_l^S(p_*) = u_l - (p - pl)\\sqrt{\\frac{\\alpha_l}{p_* + p_{\\infty l} + \\beta_l}} \\\\\n",
    "\\phi_r^S(p_*) = u_r + (p - pr)\\sqrt{\\frac{\\alpha_r}{p_* + p_{\\infty r} + \\beta_r}}\n",
    "\\end{align}\n",
    "\n",
    "with $\\alpha_k = 2.0/((\\gamma_k + 1.0)\\rho_l)$ and $\\beta_k = (p_l + p_{\\infty l})(\\gamma_l - 1.0) / (\\gamma_l + 1.0)$. The \\phi_k^S functions are called the Hugoniot Loci, and they allow us to construct equation (\\ref{Phi}) and solve it using a Newton method or other root finder in order to obtain the value of $p_*$. We can plot these functions:"
   ]
  },
  {
   "cell_type": "code",
   "execution_count": null,
   "metadata": {
    "collapsed": false
   },
   "outputs": [],
   "source": [
    "from exact_solvers import euler_tammann\n",
    "# Initial states [density, velocity, pressure]\n",
    "ql = [600.0, 10.0, 50000.0]\n",
    "qr = [50.0, -10.0, 25000.0]\n",
    "# Tammann EOS parameters [gamma, pinf]\n",
    "paramsl = [1.4, 0.0]\n",
    "paramsr = [7.0, 100.0]\n",
    "\n",
    "euler_tammann.interactive_phase_plane(ql,qr,paramsl,paramsr)"
   ]
  },
  {
   "cell_type": "markdown",
   "metadata": {
    "deletable": true,
    "editable": true
   },
   "source": [
    "Equations (\\ref{RH-phis}) will then yield the contact discontinuity speed $S_*=u_*$ in terms of $p_*$. \n",
    "Further on, we can calculate $Q_l$ and $Q_r$ from (\\ref{Qk-f}), and we can substitute in (\\ref{RH-speeds}) \n",
    "to obtain the corresponding wave speeds. However, this will only solve the 4th case of equation (\\ref{Phi}), 1-shock and 3-shock solution. If any of our waves happens to be a rarefaction, we will also need to calculate the $\\phi^R_{l,r}$ functions. This will be obtained using the Riemann invariants."
   ]
  },
  {
   "cell_type": "markdown",
   "metadata": {
    "deletable": true,
    "editable": true
   },
   "source": [
    "With this, we now provide the code of the function $\\Phi(p_*)$ as a function of $p_*$, the initial left and right states and the paramter values of the Tammann EOS on each side:"
   ]
  },
  {
   "cell_type": "code",
   "execution_count": null,
   "metadata": {
    "collapsed": false,
    "deletable": true,
    "editable": true
   },
   "outputs": [],
   "source": [
    "# %load exact_solvers/euler_tammann.py"
   ]
  },
  {
   "cell_type": "code",
   "execution_count": null,
   "metadata": {
    "collapsed": false,
    "deletable": true,
    "editable": true
   },
   "outputs": [],
   "source": [
    "%matplotlib inline\n",
    "from ipywidgets import interact, widgets\n",
    "import matplotlib.pyplot as plt\n",
    "from exact_solvers import euler_tammann\n",
    "from utils import riemann_tools\n",
    "\n",
    "ql = [1.0, -3.0, 1.0]\n",
    "qr = [1.0, 3.0, 1.0]\n",
    "gamma = [1.4, 1.4]\n",
    "pinf = [0.0, 0.0]\n",
    "ex_states, ex_speeds, reval, wave_types, varsout = euler_tammann.exact_riemann_solution(ql ,qr, gamma, pinf, \n",
    "                                                              varin = 'primitive', varout = 'conservative')"
   ]
  },
  {
   "cell_type": "code",
   "execution_count": null,
   "metadata": {
    "collapsed": false,
    "deletable": true,
    "editable": true
   },
   "outputs": [],
   "source": [
    "plot_function = riemann_tools.make_plot_function(ex_states, ex_speeds, reval, wave_types,\n",
    "                                                     layout='vertical', conserved_variables=varsout)\n",
    "interact(plot_function, t=widgets.FloatSlider(value=0.0,min=0,max=1.0));"
   ]
  },
  {
   "cell_type": "markdown",
   "metadata": {
    "deletable": true,
    "editable": true
   },
   "source": [
    "Now we need to iterate this function using a Newton method, to find which value of $p_*$ yields $\\Phi(p_*)=0$"
   ]
  },
  {
   "cell_type": "markdown",
   "metadata": {
    "deletable": true,
    "editable": true
   },
   "source": [
    "We just obtained the pressure and velocity middle states $p_*$ and $u_*$ that are continuous across the contact disconitnuity and the middle states for the density $\\rho_{*L}$ and $\\rho_{*R}$ have also been obtained from the function and saved as global variables. We also know the speed the left and right waves are traveling. We can now plot the solution to the Riemann problem. "
   ]
  }
 ],
 "metadata": {
  "kernelspec": {
   "display_name": "Python 2",
   "language": "python",
   "name": "python2"
  },
  "language_info": {
   "codemirror_mode": {
    "name": "ipython",
    "version": 2
   },
   "file_extension": ".py",
   "mimetype": "text/x-python",
   "name": "python",
   "nbconvert_exporter": "python",
   "pygments_lexer": "ipython2",
   "version": "2.7.12"
  }
 },
 "nbformat": 4,
 "nbformat_minor": 2
}
